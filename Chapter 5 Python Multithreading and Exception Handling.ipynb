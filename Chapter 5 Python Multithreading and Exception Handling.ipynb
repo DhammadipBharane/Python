{
 "cells": [
  {
   "cell_type": "code",
   "execution_count": null,
   "id": "5ecb1438",
   "metadata": {},
   "outputs": [],
   "source": []
  },
  {
   "cell_type": "code",
   "execution_count": 1,
   "id": "6bb254f0",
   "metadata": {},
   "outputs": [
    {
     "name": "stdout",
     "output_type": "stream",
     "text": [
      "0\n",
      "1\n",
      "2\n",
      "3\n",
      "4\n",
      "5\n",
      "6\n",
      "7\n",
      "8\n",
      "9\n"
     ]
    }
   ],
   "source": [
    "for i in range(10):\n",
    "    print(i)"
   ]
  },
  {
   "cell_type": "code",
   "execution_count": 5,
   "id": "96cac8dd",
   "metadata": {},
   "outputs": [
    {
     "ename": "FileNotFoundError",
     "evalue": "[Errno 2] No such file or directory: 'xyz.txt'",
     "output_type": "error",
     "traceback": [
      "\u001b[1;31m---------------------------------------------------------------------------\u001b[0m",
      "\u001b[1;31mFileNotFoundError\u001b[0m                         Traceback (most recent call last)",
      "Cell \u001b[1;32mIn[5], line 1\u001b[0m\n\u001b[1;32m----> 1\u001b[0m fp \u001b[38;5;241m=\u001b[39m \u001b[38;5;28;43mopen\u001b[39;49m\u001b[43m(\u001b[49m\u001b[38;5;124;43m\"\u001b[39;49m\u001b[38;5;124;43mxyz.txt\u001b[39;49m\u001b[38;5;124;43m\"\u001b[39;49m\u001b[43m,\u001b[49m\u001b[43m \u001b[49m\u001b[38;5;124;43m\"\u001b[39;49m\u001b[38;5;124;43mr\u001b[39;49m\u001b[38;5;124;43m\"\u001b[39;49m\u001b[43m)\u001b[49m\n",
      "File \u001b[1;32mC:\\ProgramData\\anaconda3\\lib\\site-packages\\IPython\\core\\interactiveshell.py:282\u001b[0m, in \u001b[0;36m_modified_open\u001b[1;34m(file, *args, **kwargs)\u001b[0m\n\u001b[0;32m    275\u001b[0m \u001b[38;5;28;01mif\u001b[39;00m file \u001b[38;5;129;01min\u001b[39;00m {\u001b[38;5;241m0\u001b[39m, \u001b[38;5;241m1\u001b[39m, \u001b[38;5;241m2\u001b[39m}:\n\u001b[0;32m    276\u001b[0m     \u001b[38;5;28;01mraise\u001b[39;00m \u001b[38;5;167;01mValueError\u001b[39;00m(\n\u001b[0;32m    277\u001b[0m         \u001b[38;5;124mf\u001b[39m\u001b[38;5;124m\"\u001b[39m\u001b[38;5;124mIPython won\u001b[39m\u001b[38;5;124m'\u001b[39m\u001b[38;5;124mt let you open fd=\u001b[39m\u001b[38;5;132;01m{\u001b[39;00mfile\u001b[38;5;132;01m}\u001b[39;00m\u001b[38;5;124m by default \u001b[39m\u001b[38;5;124m\"\u001b[39m\n\u001b[0;32m    278\u001b[0m         \u001b[38;5;124m\"\u001b[39m\u001b[38;5;124mas it is likely to crash IPython. If you know what you are doing, \u001b[39m\u001b[38;5;124m\"\u001b[39m\n\u001b[0;32m    279\u001b[0m         \u001b[38;5;124m\"\u001b[39m\u001b[38;5;124myou can use builtins\u001b[39m\u001b[38;5;124m'\u001b[39m\u001b[38;5;124m open.\u001b[39m\u001b[38;5;124m\"\u001b[39m\n\u001b[0;32m    280\u001b[0m     )\n\u001b[1;32m--> 282\u001b[0m \u001b[38;5;28;01mreturn\u001b[39;00m io_open(file, \u001b[38;5;241m*\u001b[39margs, \u001b[38;5;241m*\u001b[39m\u001b[38;5;241m*\u001b[39mkwargs)\n",
      "\u001b[1;31mFileNotFoundError\u001b[0m: [Errno 2] No such file or directory: 'xyz.txt'"
     ]
    }
   ],
   "source": [
    "fp = open(\"xyz.txt\", \"r\")"
   ]
  },
  {
   "cell_type": "code",
   "execution_count": null,
   "id": "d10df299",
   "metadata": {},
   "outputs": [],
   "source": []
  },
  {
   "cell_type": "code",
   "execution_count": 9,
   "id": "957771d2",
   "metadata": {},
   "outputs": [
    {
     "ename": "FileNotFoundError",
     "evalue": "[Errno 2] No such file or directory: 'test.txt'",
     "output_type": "error",
     "traceback": [
      "\u001b[1;31m---------------------------------------------------------------------------\u001b[0m",
      "\u001b[1;31mFileNotFoundError\u001b[0m                         Traceback (most recent call last)",
      "Cell \u001b[1;32mIn[9], line 1\u001b[0m\n\u001b[1;32m----> 1\u001b[0m fp \u001b[38;5;241m=\u001b[39m \u001b[38;5;28;43mopen\u001b[39;49m\u001b[43m(\u001b[49m\u001b[38;5;124;43m'\u001b[39;49m\u001b[38;5;124;43mtest.txt\u001b[39;49m\u001b[38;5;124;43m'\u001b[39;49m\u001b[43m,\u001b[49m\u001b[38;5;124;43m'\u001b[39;49m\u001b[38;5;124;43mr\u001b[39;49m\u001b[38;5;124;43m'\u001b[39;49m\u001b[43m)\u001b[49m\n\u001b[0;32m      2\u001b[0m \u001b[38;5;28;01mwhile\u001b[39;00m \u001b[38;5;28;01mTrue\u001b[39;00m:\n\u001b[0;32m      3\u001b[0m     line \u001b[38;5;241m=\u001b[39m \u001b[38;5;28mnext\u001b[39m(fp)\n",
      "File \u001b[1;32mC:\\ProgramData\\anaconda3\\lib\\site-packages\\IPython\\core\\interactiveshell.py:282\u001b[0m, in \u001b[0;36m_modified_open\u001b[1;34m(file, *args, **kwargs)\u001b[0m\n\u001b[0;32m    275\u001b[0m \u001b[38;5;28;01mif\u001b[39;00m file \u001b[38;5;129;01min\u001b[39;00m {\u001b[38;5;241m0\u001b[39m, \u001b[38;5;241m1\u001b[39m, \u001b[38;5;241m2\u001b[39m}:\n\u001b[0;32m    276\u001b[0m     \u001b[38;5;28;01mraise\u001b[39;00m \u001b[38;5;167;01mValueError\u001b[39;00m(\n\u001b[0;32m    277\u001b[0m         \u001b[38;5;124mf\u001b[39m\u001b[38;5;124m\"\u001b[39m\u001b[38;5;124mIPython won\u001b[39m\u001b[38;5;124m'\u001b[39m\u001b[38;5;124mt let you open fd=\u001b[39m\u001b[38;5;132;01m{\u001b[39;00mfile\u001b[38;5;132;01m}\u001b[39;00m\u001b[38;5;124m by default \u001b[39m\u001b[38;5;124m\"\u001b[39m\n\u001b[0;32m    278\u001b[0m         \u001b[38;5;124m\"\u001b[39m\u001b[38;5;124mas it is likely to crash IPython. If you know what you are doing, \u001b[39m\u001b[38;5;124m\"\u001b[39m\n\u001b[0;32m    279\u001b[0m         \u001b[38;5;124m\"\u001b[39m\u001b[38;5;124myou can use builtins\u001b[39m\u001b[38;5;124m'\u001b[39m\u001b[38;5;124m open.\u001b[39m\u001b[38;5;124m\"\u001b[39m\n\u001b[0;32m    280\u001b[0m     )\n\u001b[1;32m--> 282\u001b[0m \u001b[38;5;28;01mreturn\u001b[39;00m io_open(file, \u001b[38;5;241m*\u001b[39margs, \u001b[38;5;241m*\u001b[39m\u001b[38;5;241m*\u001b[39mkwargs)\n",
      "\u001b[1;31mFileNotFoundError\u001b[0m: [Errno 2] No such file or directory: 'test.txt'"
     ]
    }
   ],
   "source": [
    "fp = open('test.txt','r')\n",
    "while True:\n",
    "    line = next(fp)\n",
    "    print(line)\n",
    "    "
   ]
  },
  {
   "cell_type": "code",
   "execution_count": 11,
   "id": "64d9d1b9",
   "metadata": {},
   "outputs": [
    {
     "name": "stdout",
     "output_type": "stream",
     "text": [
      "Value of a = 10\n",
      "Value of b = 0\n",
      "Division by Zero Error\n",
      "division by zero\n"
     ]
    }
   ],
   "source": [
    "try:\n",
    "    a = int(input(\"Value of a = \"))\n",
    "    b = int(input(\"Value of b = \"))\n",
    "    c = a/b\n",
    "except Exception as e:\n",
    "    print(\"Division by Zero Error\")\n",
    "    print(e)"
   ]
  },
  {
   "cell_type": "code",
   "execution_count": null,
   "id": "76786159",
   "metadata": {},
   "outputs": [],
   "source": []
  },
  {
   "cell_type": "code",
   "execution_count": 5,
   "id": "18097bbf",
   "metadata": {},
   "outputs": [
    {
     "name": "stdout",
     "output_type": "stream",
     "text": [
      "Defining a Function\n",
      "\n",
      "\n",
      "\n",
      "A function is a reusable block of programming statements designed to perform a certain task\n",
      "\n",
      "\n",
      "\n",
      "def function_name(parameters):\n",
      "\n",
      "\"\"\"docstring\"\"\"\n",
      "\n",
      "\n",
      "\n",
      "statement1\n",
      "\n",
      "statement2\n",
      "\n",
      "...\n",
      "\n",
      "return[expr]\n",
      "\n",
      "\n",
      "\n",
      "\n",
      "\n",
      "#KEYWORD ARGUMENT **KWARG\n",
      "\n",
      "\n",
      "\n",
      "def person(**person):\n",
      "\n",
      "    print(f\"Hello {person['fname']} {person['lname']} your Age is {person['age']}\")\n",
      "\n",
      "    \n",
      "\n",
      "#With Default Parameter\n",
      "\n",
      "def greet(name, msg='Good Morning'):\n",
      "\n",
      "    print(f'Hello {name} and message for you is : {msg}')\n",
      "\n",
      "    \n",
      "\n",
      "#Function lambda\n",
      "\n",
      "\n",
      "\n",
      "We can declare a lambda function and call it as an \"Anonymous function\", without assigning it to a variable.\n",
      "\n",
      "\n",
      "\n",
      "\n",
      "\n",
      "# GENERATOR FUNCTION\n",
      "\n",
      "\n",
      "\n",
      "1)Python provides a generator to create your own iterator function.\n",
      "\n",
      "2)A generator is a special type of function which does not return a single value, instead, it returns an iterator object with a sequence of values.\n",
      "\n",
      "3)In a generator function a yield statement is used rather than a return statement.\n",
      "\n",
      "4)The difference between yield and return is tht yeild returns a value and pauses the execution while maintaining the internal states, whereas the return statement returns a value and terminates the execution of the function.\n",
      "\n",
      "\n",
      "\n",
      "\n",
      "\n",
      "\n",
      "\n",
      "\n",
      "\n",
      "# DECORATORS IN PYTHON\n",
      "\n",
      "\n",
      "\n",
      "in Programming decorator is a design pattern taht adds additional responsibilities to an object dynamically. In Python, a functin is the first order object. So a decorator in Python adds additional responsibilities / functionalities to a function dynamically without modifying a function.\n",
      "\n"
     ]
    }
   ],
   "source": [
    "fp = open('function1.txt', 'r')\n",
    "while True:\n",
    "    try:\n",
    "        line = next(fp)\n",
    "        print(line)\n",
    "    except StopIteration:\n",
    "        break\n"
   ]
  },
  {
   "cell_type": "code",
   "execution_count": 1,
   "id": "d8093664",
   "metadata": {},
   "outputs": [
    {
     "name": "stdout",
     "output_type": "stream",
     "text": [
      "Value of a = 10\n",
      "Value of b = 5\n",
      "a/b = 2.0\n"
     ]
    }
   ],
   "source": [
    "try:\n",
    "    a = int(input(\"Value of a = \"))\n",
    "    b = int(input(\"Value of b = \"))\n",
    "    c = a/b\n",
    "except Exception as e:\n",
    "    print(\"Division by Zero Error\")\n",
    "    print(e)\n",
    "else:\n",
    "    print(f\"a/b = {c}\")\n",
    "    "
   ]
  },
  {
   "cell_type": "code",
   "execution_count": null,
   "id": "81dc7e90",
   "metadata": {},
   "outputs": [],
   "source": []
  },
  {
   "cell_type": "code",
   "execution_count": 4,
   "id": "cdbd9dd4",
   "metadata": {},
   "outputs": [
    {
     "name": "stdout",
     "output_type": "stream",
     "text": [
      "Value of a = 10\n",
      "Value of b = 0\n",
      "Division by Zero Error\n"
     ]
    }
   ],
   "source": [
    "try:\n",
    "    a = int(input(\"Value of a = \"))\n",
    "    b = int(input(\"Value of b = \"))\n",
    "    c = a/b\n",
    "except:\n",
    "    print(\"Division by Zero Error\")\n",
    "else:\n",
    "    print(f\"a/b = {c}\")"
   ]
  },
  {
   "cell_type": "code",
   "execution_count": null,
   "id": "e4b914da",
   "metadata": {},
   "outputs": [],
   "source": []
  },
  {
   "cell_type": "code",
   "execution_count": 8,
   "id": "505eee2a",
   "metadata": {},
   "outputs": [
    {
     "name": "stdout",
     "output_type": "stream",
     "text": [
      "Specified File is not Found\n",
      "[Errno 2] No such file or directory: 'function.txt'\n"
     ]
    }
   ],
   "source": [
    "import os\n",
    "try:\n",
    "    fp = open('function.txt','r')\n",
    "except Exception as e:\n",
    "    print(\"Specified File is not Found\")\n",
    "    print(e)\n",
    "else:\n",
    "    print(\"File Open Successfully\")\n",
    "    os.startfile('function1.txt')\n",
    "    fp.close()"
   ]
  },
  {
   "cell_type": "code",
   "execution_count": null,
   "id": "617c812e",
   "metadata": {},
   "outputs": [],
   "source": []
  },
  {
   "cell_type": "code",
   "execution_count": 10,
   "id": "7e3bd3a5",
   "metadata": {},
   "outputs": [
    {
     "name": "stdout",
     "output_type": "stream",
     "text": [
      "Arithmetic Exception\n"
     ]
    }
   ],
   "source": [
    "try:\n",
    "    10/0\n",
    "except(ArithmeticError, IOError, TypeError, NameError):\n",
    "    print(\"Arithmetic Exception\")\n",
    "else:\n",
    "    print(\"Successfully Done\")"
   ]
  },
  {
   "cell_type": "code",
   "execution_count": null,
   "id": "123c706c",
   "metadata": {},
   "outputs": [],
   "source": []
  },
  {
   "cell_type": "code",
   "execution_count": 15,
   "id": "af61c78b",
   "metadata": {},
   "outputs": [
    {
     "name": "stdout",
     "output_type": "stream",
     "text": [
      "Variable Name is not defined\n",
      "name 'hi' is not defined\n",
      "Out of try and except blocks\n"
     ]
    }
   ],
   "source": [
    "try:\n",
    "    a = 10\n",
    "    b = hi\n",
    "    print(f'a/b = {c}')\n",
    "except TypeError as e:\n",
    "    print('Unsupported Operation')\n",
    "    print(e)\n",
    "except ZeroDivisionError as e:\n",
    "    print('Division by Zero is not Allowed')\n",
    "    print(e)\n",
    "except NameError as e:\n",
    "    print('Variable Name is not defined')\n",
    "    print(e)\n",
    "\n",
    "print('Out of try and except blocks')"
   ]
  },
  {
   "cell_type": "code",
   "execution_count": null,
   "id": "9c70f468",
   "metadata": {},
   "outputs": [],
   "source": []
  },
  {
   "cell_type": "code",
   "execution_count": 17,
   "id": "3eefa32a",
   "metadata": {},
   "outputs": [
    {
     "name": "stdout",
     "output_type": "stream",
     "text": [
      "File Closed\n",
      "i am in other part\n"
     ]
    }
   ],
   "source": [
    "try:\n",
    "    fp = open('function1.txt', 'w')\n",
    "    try:\n",
    "        fp.write(\"Hi I am Good\")\n",
    "    finally:\n",
    "        fp.close()\n",
    "        print(\"File Closed\")\n",
    "except Exception as e:\n",
    "    print('Error')\n",
    "    print(e)\n",
    "\n",
    "print(\"i am in other part\")"
   ]
  },
  {
   "cell_type": "code",
   "execution_count": null,
   "id": "43c0e288",
   "metadata": {},
   "outputs": [],
   "source": []
  },
  {
   "cell_type": "code",
   "execution_count": 1,
   "id": "fc235b86",
   "metadata": {},
   "outputs": [
    {
     "name": "stdout",
     "output_type": "stream",
     "text": [
      "In -> try block\n",
      "Enter value of x: 10\n",
      "Enter value of y: 0\n",
      "In -> ZeriDivisionError block\n",
      "Division by 0 is not accepted\n",
      "division by zero\n",
      "Out of try, except else and finally block\n"
     ]
    }
   ],
   "source": [
    "try:\n",
    "    print(\"In -> try block\")\n",
    "    x = int(input(\"Enter value of x: \"))\n",
    "    y = int(input(\"Enter value of y: \"))\n",
    "    z = x/y\n",
    "except ZeroDivisionError as e:\n",
    "        print(\"In -> ZeriDivisionError block\")\n",
    "        print(\"Division by 0 is not accepted\")\n",
    "        print(e)\n",
    "except ValueError as e:\n",
    "        print(\"In -> ValueError block\")\n",
    "        print(ve)\n",
    "else:\n",
    "        print(\"In-> else block\")\n",
    "        x = 0\n",
    "        y = 0\n",
    "        print(f' x = {x} and y = {y}')\n",
    "print(\"Out of try, except else and finally block\")"
   ]
  },
  {
   "cell_type": "code",
   "execution_count": null,
   "id": "8bf304cf",
   "metadata": {},
   "outputs": [],
   "source": []
  },
  {
   "cell_type": "code",
   "execution_count": 2,
   "id": "52013557",
   "metadata": {},
   "outputs": [
    {
     "name": "stdout",
     "output_type": "stream",
     "text": [
      "Value of x = 2\n",
      "Variaable y is not deffined...\n",
      "Variable is not defined...\n"
     ]
    }
   ],
   "source": [
    "try:\n",
    "    x = int(input(\"Value of x = \"))\n",
    "    if x != y:\n",
    "        raise NameError(\"Variable is not defined...\")\n",
    "    else:\n",
    "        print(\"In Else Part...\")\n",
    "except NameError as e:\n",
    "    print('Variaable y is not deffined...')\n",
    "    print(e)"
   ]
  },
  {
   "cell_type": "code",
   "execution_count": 4,
   "id": "6ce68e0f",
   "metadata": {},
   "outputs": [
    {
     "name": "stdout",
     "output_type": "stream",
     "text": [
      "Enter your age : 21\n",
      "Age is greater than 18\n"
     ]
    }
   ],
   "source": [
    "try:\n",
    "    age = int(input(\"Enter your age : \"))\n",
    "    if age < 18:\n",
    "        print(\"Invalid Age...\")\n",
    "    else:\n",
    "        print(\"Age is greater than 18\")\n",
    "except ValueError as e:\n",
    "    print(\"Age is Invalid\")\n",
    "    print(e)"
   ]
  },
  {
   "cell_type": "code",
   "execution_count": null,
   "id": "9ac38d90",
   "metadata": {},
   "outputs": [],
   "source": []
  },
  {
   "cell_type": "code",
   "execution_count": 10,
   "id": "72fcd906",
   "metadata": {},
   "outputs": [
    {
     "name": "stdout",
     "output_type": "stream",
     "text": [
      "Enter value of a : 10\n",
      "Enter value of a : 0\n",
      "The value of b can't be zero\n",
      "<class 'Exception'>\n"
     ]
    }
   ],
   "source": [
    "try:\n",
    "    a = int(input(\"Enter value of a : \"))\n",
    "    b = int(input(\"Enter value of a : \"))\n",
    "    if b == 0:\n",
    "        raise ArithmeticError(\"The value of b can't be zero\")\n",
    "    else:\n",
    "        print(f'a/b = {a/b}')\n",
    "except ArithmeticError as e:\n",
    "    print(e)\n",
    "    print(Exception)"
   ]
  },
  {
   "cell_type": "code",
   "execution_count": null,
   "id": "5c78458a",
   "metadata": {},
   "outputs": [],
   "source": []
  },
  {
   "cell_type": "code",
   "execution_count": 6,
   "id": "adcd9862",
   "metadata": {},
   "outputs": [
    {
     "name": "stdout",
     "output_type": "stream",
     "text": [
      "Enter a number upto 100: 101\n",
      "101 is out of allowed range\n"
     ]
    }
   ],
   "source": [
    "try:\n",
    "    x = int(input('Enter a number upto 100: '))\n",
    "    if x > 100:\n",
    "        raise ValueError(x)\n",
    "except ValueError:\n",
    "    print(f'{x} is out of allowed range')\n",
    "else:\n",
    "    print(f'{x} is within the allowed range')"
   ]
  },
  {
   "cell_type": "code",
   "execution_count": null,
   "id": "748dc112",
   "metadata": {},
   "outputs": [],
   "source": []
  },
  {
   "cell_type": "code",
   "execution_count": null,
   "id": "8e3af0ab",
   "metadata": {},
   "outputs": [],
   "source": []
  },
  {
   "cell_type": "code",
   "execution_count": null,
   "id": "447c26b8",
   "metadata": {},
   "outputs": [],
   "source": []
  },
  {
   "cell_type": "code",
   "execution_count": 2,
   "id": "dcbcd725",
   "metadata": {},
   "outputs": [
    {
     "name": "stdout",
     "output_type": "stream",
     "text": [
      "Received error: 505\n"
     ]
    }
   ],
   "source": [
    "class ErrorInCode(Exception):\n",
    "    def _init_(self,data):\n",
    "        self.data = data\n",
    "    def _str_(self):\n",
    "        return repr(self.data)\n",
    "    \n",
    "try:\n",
    "    raise ErrorInCode(505)\n",
    "    \n",
    "except ErrorInCode as ae:\n",
    "    print(f'Received error: {ae}')"
   ]
  },
  {
   "cell_type": "code",
   "execution_count": null,
   "id": "f2f706bf",
   "metadata": {},
   "outputs": [],
   "source": []
  },
  {
   "cell_type": "code",
   "execution_count": null,
   "id": "740765a7",
   "metadata": {},
   "outputs": [],
   "source": []
  },
  {
   "cell_type": "markdown",
   "id": "4a1f4c15",
   "metadata": {},
   "source": [
    "# Multithreading"
   ]
  },
  {
   "cell_type": "code",
   "execution_count": null,
   "id": "9fa7e8e4",
   "metadata": {},
   "outputs": [],
   "source": []
  },
  {
   "cell_type": "markdown",
   "id": "6bca3640",
   "metadata": {},
   "source": [
    "Thread is the smallest unit of a program or process executed independently or scheduled by the os.\n",
    "\n",
    "In the computer system, an os achieves multitasking by dividing the process into threads.\n",
    "\n",
    "a thread is a lightweight process that ensures the execution of the process separately on the system."
   ]
  },
  {
   "cell_type": "code",
   "execution_count": null,
   "id": "6dc5e4b4",
   "metadata": {},
   "outputs": [],
   "source": []
  },
  {
   "cell_type": "markdown",
   "id": "76a52705",
   "metadata": {},
   "source": [
    "How to achieve Multithreading in Python?\n",
    "\n",
    "there are two main modules of multithreading used to handle theads in Python.\n",
    "    1)the thread module \n",
    "    2)the threading module\n"
   ]
  },
  {
   "cell_type": "code",
   "execution_count": null,
   "id": "18460b46",
   "metadata": {},
   "outputs": [],
   "source": []
  },
  {
   "cell_type": "code",
   "execution_count": 2,
   "id": "dbc47b6f",
   "metadata": {},
   "outputs": [
    {
     "name": "stdout",
     "output_type": "stream",
     "text": [
      "Squares of numbers...\n",
      "\n",
      "Square of 1 is 1\n",
      "\n",
      "Square of 2 is 4\n",
      "\n",
      "Square of 3 is 9\n",
      "\n",
      "Square of 4 is 16\n",
      "\n",
      "Square of 5 is 25\n",
      "Cubes of numbers...\n",
      "\n",
      "Cube of 1 is 1\n",
      "\n",
      "Cube of 2 is 8\n",
      "\n",
      "Cube of 3 is 27\n",
      "\n",
      "Cube of 4 is 64\n",
      "\n",
      "Cube of 5 is 125\n",
      "Total time taken by functions = 5.03225564956665\n"
     ]
    }
   ],
   "source": [
    "import time\n",
    "\n",
    "def cal_square(nums):\n",
    "    print(f\"Squares of numbers...\")\n",
    "    for i in nums:\n",
    "        time.sleep(0.5)\n",
    "        print(f\"\\nSquare of {i} is {i*i}\")\n",
    "\n",
    "def cal_cube(nums):\n",
    "    print(f\"Cubes of numbers...\")\n",
    "    for i in nums:\n",
    "        time.sleep(0.5)\n",
    "        print(f\"\\nCube of {i} is {i*i*i}\")\n",
    "        \n",
    "def main():\n",
    "    l = [1, 2, 3, 4, 5]\n",
    "    t = time.time()\n",
    "    cal_square(l)\n",
    "    cal_cube(l)\n",
    "    print(f\"Total time taken by functions = {time.time() - t}\")\n",
    "    \n",
    "if __name__ == '__main__':\n",
    "    main()"
   ]
  },
  {
   "cell_type": "code",
   "execution_count": null,
   "id": "8acee84b",
   "metadata": {},
   "outputs": [],
   "source": []
  },
  {
   "cell_type": "code",
   "execution_count": 4,
   "id": "64210a97",
   "metadata": {},
   "outputs": [
    {
     "name": "stdout",
     "output_type": "stream",
     "text": [
      "Squares of numbers...\n",
      "Cubes of numbers...\n",
      "\n",
      "Cube of 1 is 1\n",
      "Square of 1 is 1\n",
      "\n",
      "\n",
      "Cube of 2 is 8\n",
      "Square of 2 is 4\n",
      "\n",
      "\n",
      "Square of 3 is 9\n",
      "Cube of 3 is 27\n",
      "\n",
      "\n",
      "Square of 4 is 16\n",
      "Cube of 4 is 64\n",
      "\n",
      "\n",
      "Square of 5 is 25\n",
      "Cube of 5 is 125\n",
      "\n",
      "Now I am executing main thread...\n",
      "Total time taken by functions = 2.563957452774048\n"
     ]
    }
   ],
   "source": [
    "import time\n",
    "import threading\n",
    "\n",
    "def cal_square(nums):\n",
    "    print(f\"Squares of numbers...\")\n",
    "    for i in nums:\n",
    "        time.sleep(0.5)\n",
    "        print(f\"\\nSquare of {i} is {i*i}\")\n",
    "\n",
    "def cal_cube(nums):\n",
    "    print(f\"Cubes of numbers...\")\n",
    "    for i in nums:\n",
    "        time.sleep(0.5)\n",
    "        print(f\"\\nCube of {i} is {i*i*i}\")\n",
    "        \n",
    "def main():\n",
    "    l = [1, 2, 3, 4, 5]\n",
    "    t = time.time()\n",
    "    t1 = threading.Thread(target=cal_square, args = (l,))\n",
    "    t2 = threading.Thread(target=cal_cube, args = (l,))\n",
    "    \n",
    "    t1.start()\n",
    "    t2.start()\n",
    "    t1.join()\n",
    "    t2.join()\n",
    "    print(\"Now I am executing main thread...\")\n",
    "    print(f\"Total time taken by functions = {time.time() - t}\")\n",
    "    \n",
    "if __name__ == '__main__':\n",
    "    main()"
   ]
  },
  {
   "cell_type": "code",
   "execution_count": null,
   "id": "2efd4138",
   "metadata": {},
   "outputs": [],
   "source": []
  },
  {
   "cell_type": "code",
   "execution_count": null,
   "id": "7258c1e7",
   "metadata": {},
   "outputs": [],
   "source": []
  },
  {
   "cell_type": "code",
   "execution_count": 8,
   "id": "9b0d8d40",
   "metadata": {},
   "outputs": [
    {
     "name": "stdout",
     "output_type": "stream",
     "text": [
      "Squares of numbers...\n",
      "\n",
      "Square of 1 is 1\n",
      "\n",
      "Square of 2 is 4\n",
      "\n",
      "Square of 3 is 9\n",
      "\n",
      "Square of 4 is 16\n",
      "\n",
      "Square of 5 is 25\n",
      "Cubes of numbers...\n",
      "\n",
      "Cube of 1 is 1\n",
      "\n",
      "Cube of 2 is 8\n",
      "\n",
      "Cube of 3 is 27\n",
      "\n",
      "Cube of 4 is 64\n",
      "\n",
      "Cube of 5 is 125\n",
      "Now I am executing main thread...\n",
      "Total time taken by functions = 5.089247465133667\n"
     ]
    }
   ],
   "source": [
    "import time\n",
    "import threading\n",
    "\n",
    "def cal_square(nums):\n",
    "    print(f\"Squares of numbers...\")\n",
    "    for i in nums:\n",
    "        time.sleep(0.5)\n",
    "        print(f\"\\nSquare of {i} is {i*i}\")\n",
    "\n",
    "def cal_cube(nums):\n",
    "    print(f\"Cubes of numbers...\")\n",
    "    for i in nums:\n",
    "        time.sleep(0.5)\n",
    "        print(f\"\\nCube of {i} is {i*i*i}\")\n",
    "        \n",
    "def main():\n",
    "    l = [1, 2, 3, 4, 5]\n",
    "    t = time.time()\n",
    "    t1 = threading.Thread(target=cal_square, args = (l,))\n",
    "    t2 = threading.Thread(target=cal_cube, args = (l,))\n",
    "    \n",
    "    t1.start()\n",
    "    t1.join()\n",
    "    t2.start()\n",
    "    t2.join()\n",
    "    print(\"Now I am executing main thread...\")\n",
    "    print(f\"Total time taken by functions = {time.time() - t}\")\n",
    "    \n",
    "if __name__ == '__main__':\n",
    "    main()"
   ]
  },
  {
   "cell_type": "code",
   "execution_count": null,
   "id": "e6b46390",
   "metadata": {},
   "outputs": [],
   "source": []
  },
  {
   "cell_type": "code",
   "execution_count": 7,
   "id": "ab231bee",
   "metadata": {},
   "outputs": [
    {
     "name": "stdout",
     "output_type": "stream",
     "text": [
      "Hello, how old are you?\n",
      "I am 22 years old\n",
      "Now Executing main threads part...\n",
      "Thank you\n",
      "Big Thank you\n"
     ]
    }
   ],
   "source": [
    "import threading\n",
    "\n",
    "def print_hello(n):\n",
    "    print(\"Hello, how old are you?\")\n",
    "    print(f\"I am {n} years old\")\n",
    "t1 = threading.Thread(target=print_hello, args = (22,))\n",
    "t1.start()\n",
    "t1.join()\n",
    "\n",
    "print(\"Now Executing main threads part...\")\n",
    "print(\"Thank you\")\n",
    "print(\"Big Thank you\")\n"
   ]
  },
  {
   "cell_type": "code",
   "execution_count": 9,
   "id": "2cd9251c",
   "metadata": {},
   "outputs": [
    {
     "name": "stdout",
     "output_type": "stream",
     "text": [
      "URL List: ['https://google.com', 'https://youtube.com', 'https://microsoft.com', 'https://sinhgad.edu']\n",
      "https://microsoft.com - Request Method: GET\n",
      "https://microsoft.com - Status: 200\n",
      "https://microsoft.com - Encoding method: ISO-8859-1\n",
      "https://google.com - Request Method: GET\n",
      "https://google.com - Status: 200\n",
      "https://google.com - Encoding method: ISO-8859-1\n",
      "https://sinhgad.edu - Request Method: GET\n",
      "https://sinhgad.edu - Status: 404\n",
      "https://sinhgad.edu - Encoding method: us-ascii\n",
      "https://youtube.com - Request Method: GET\n",
      "https://youtube.com - Status: 200\n",
      "https://youtube.com - Encoding method: utf-8\n",
      "I am at the end of the program <- From main\n"
     ]
    }
   ],
   "source": [
    "import threading\n",
    "import requests\n",
    "\n",
    "def connect_to_urls(urls):\n",
    "    for url in urls:\n",
    "        r = requests.get(url)\n",
    "        print(f\"{url} - Request Method: {r.request.method}\")\n",
    "        print(f\"{url} - Status: {r.status_code}\")\n",
    "        print(f\"{url} - Encoding method: {r.encoding}\")\n",
    "\n",
    "def main():\n",
    "    url_list = ['https://google.com', 'https://youtube.com', 'https://microsoft.com', 'https://sinhgad.edu']\n",
    "    print(f\"URL List: {url_list}\")\n",
    "\n",
    "    t1 = threading.Thread(target=connect_to_urls, args=(url_list[:2],))\n",
    "    t2 = threading.Thread(target=connect_to_urls, args=(url_list[2:],))\n",
    "\n",
    "    t1.start()\n",
    "    t2.start()\n",
    "    t1.join()\n",
    "    t2.join()\n",
    "\n",
    "    print(\"I am at the end of the program <- From main\")\n",
    "\n",
    "if __name__ == '__main__':\n",
    "    main()"
   ]
  },
  {
   "cell_type": "code",
   "execution_count": null,
   "id": "cb33c5e9",
   "metadata": {},
   "outputs": [],
   "source": []
  },
  {
   "cell_type": "code",
   "execution_count": 24,
   "id": "a57e61e2",
   "metadata": {},
   "outputs": [
    {
     "name": "stdout",
     "output_type": "stream",
     "text": [
      "URL List: ['https://google.com', 'https://youtube.com', 'https://microsoft.com', 'https://sinhgad.edu']\n",
      "https://google.com - Request Method: GEThttps://google.com - Request Method: GET\n",
      "https://google.com - Status: 200\n",
      "https://google.com - Encoding method: ISO-8859-1\n",
      "\n",
      "https://google.com - Status: 200\n",
      "https://google.com - Encoding method: ISO-8859-1\n",
      "https://google.com - Request Method: GET\n",
      "https://google.com - Status: 200\n",
      "https://google.com - Encoding method: ISO-8859-1\n",
      "https://youtube.com - Request Method: GET\n",
      "https://youtube.com - Status: 200\n",
      "https://youtube.com - Encoding method: utf-8\n",
      "https://youtube.com - Request Method: GET\n",
      "https://youtube.com - Status: 200\n",
      "https://youtube.com - Encoding method: utf-8\n",
      "https://microsoft.com - Request Method: GET\n",
      "https://microsoft.com - Status: 200\n",
      "https://microsoft.com - Encoding method: ISO-8859-1\n",
      "https://sinhgad.edu - Request Method: GET\n",
      "https://sinhgad.edu - Status: 404\n",
      "https://sinhgad.edu - Encoding method: us-ascii\n",
      "I am at the end of the program <- From main\n"
     ]
    }
   ],
   "source": [
    "import threading\n",
    "import requests\n",
    "\n",
    "def connect_to_urls(urls):\n",
    "    for url in urls:\n",
    "        r = requests.get(url)\n",
    "        print(f\"{url} - Request Method: {r.request.method}\")\n",
    "        print(f\"{url} - Status: {r.status_code}\")\n",
    "        print(f\"{url} - Encoding method: {r.encoding}\")\n",
    "\n",
    "def main():\n",
    "    url_list = ['https://google.com', 'https://youtube.com', 'https://microsoft.com','https://sinhgad.edu']\n",
    "    print(f\"URL List: {url_list}\")\n",
    "\n",
    "    t1 = threading.Thread(target=connect_to_urls, args=(url_list[:0],))\n",
    "    t2 = threading.Thread(target=connect_to_urls, args=(url_list[:1],))\n",
    "    t3 = threading.Thread(target=connect_to_urls, args=(url_list[:2],))\n",
    "    t4 = threading.Thread(target=connect_to_urls, args=(url_list[:4],))\n",
    "    t1.start()\n",
    "    t2.start()\n",
    "    t3.start()\n",
    "    t4.start()\n",
    "    t1.join()\n",
    "    t2.join()\n",
    "    t3.join()\n",
    "    t4.join()\n",
    "\n",
    "    print(\"I am at the end of the program <- From main\")\n",
    "\n",
    "if __name__ == '__main__':\n",
    "    main()"
   ]
  },
  {
   "cell_type": "code",
   "execution_count": null,
   "id": "7ac4da4e",
   "metadata": {},
   "outputs": [],
   "source": []
  },
  {
   "cell_type": "code",
   "execution_count": 27,
   "id": "18ca8e06",
   "metadata": {},
   "outputs": [
    {
     "name": "stdout",
     "output_type": "stream",
     "text": [
      "\n",
      " Thread 1 - beginning to sleep 1686569356.4289403\n",
      "\n",
      " Thread 2 - beginning to sleep 1686569356.4289403\n",
      "\n",
      " Thread 3 - beginning to sleep 1686569356.4289403\n",
      "\n",
      " Thread 2 - Complete Sleep at 1686569357.4481559\n",
      "\n",
      " Thread 1 - Complete Sleep at 1686569357.4510055\n",
      "\n",
      " Thread 3 - Complete Sleep at 1686569357.4510055\n",
      "We are at teh end of the program.\n",
      "Total time taken by threads = 1.0220651626586914\n"
     ]
    }
   ],
   "source": [
    "import time\n",
    "import threading\n",
    "\n",
    "def display_time(thread):\n",
    "    print(f\"\\n Thread {thread} - beginning to sleep {time.time()}\")\n",
    "    time.sleep(1)\n",
    "    print(f\"\\n Thread {thread} - Complete Sleep at {time.time()}\")\n",
    "\n",
    "def main():\n",
    "    t1 = threading.Thread(target=display_time, args=[1])\n",
    "    t2 = threading.Thread(target=display_time, args=[2])\n",
    "    t3 = threading.Thread(target=display_time, args=[3])\n",
    "    \n",
    "    start = time.time()\n",
    "    \n",
    "    t1.start()\n",
    "    t2.start()\n",
    "    t3.start()\n",
    "    \n",
    "    t1.join()\n",
    "    t2.join()\n",
    "    t3.join()\n",
    "    \n",
    "    print(f\"We are at teh end of the program.\")\n",
    "    print(f\"Total time taken by threads = {time.time() - start}\")\n",
    "\n",
    "if __name__ == '__main__':\n",
    "    main()"
   ]
  },
  {
   "cell_type": "code",
   "execution_count": null,
   "id": "16e3cd51",
   "metadata": {},
   "outputs": [],
   "source": []
  },
  {
   "cell_type": "code",
   "execution_count": 30,
   "id": "4efc6521",
   "metadata": {},
   "outputs": [
    {
     "name": "stdout",
     "output_type": "stream",
     "text": [
      "\n",
      " ID of process running main program : 16116\n",
      "\n",
      " Main thread name : MainThread\n",
      "\n",
      " Task 1 is assigned to thread : <function current_thread at 0x000001E1ECC3D480>\n",
      "\n",
      " Task 2 is assigned to thread : t2\n",
      "\n",
      " Id of running task 2 : 16116\n",
      " Id of running task 1 : 16116\n",
      "\n"
     ]
    }
   ],
   "source": [
    "import threading\n",
    "import os\n",
    "import time\n",
    "\n",
    "def task1():\n",
    "    print(f\"\\n Task 1 is assigned to thread : {threading.current_thread}\")\n",
    "    time.sleep(1)\n",
    "    print(f\"\\n Id of running task 1 : {os.getpid()}\")\n",
    "\n",
    "def task2():\n",
    "    print(f\"\\n Task 2 is assigned to thread : {threading.current_thread().name}\")\n",
    "    time.sleep(1)\n",
    "    print(f\"\\n Id of running task 2 : {os.getpid()}\")\n",
    "\n",
    "def main():\n",
    "    print(f\"\\n ID of process running main program : {os.getpid()}\")\n",
    "    print(f\"\\n Main thread name : {threading.current_thread().name}\")\n",
    "    \n",
    "    t1 = threading.Thread(target=task1, name='t1')\n",
    "    t2 = threading.Thread(target=task2, name='t2')\n",
    "    \n",
    "    t1.start()\n",
    "    t2.start()\n",
    "    t1.join()\n",
    "    t2.join()\n",
    "    \n",
    "if __name__=='__main__':\n",
    "    main()\n",
    "    "
   ]
  },
  {
   "cell_type": "code",
   "execution_count": null,
   "id": "f6a8dc8b",
   "metadata": {},
   "outputs": [],
   "source": []
  },
  {
   "cell_type": "code",
   "execution_count": null,
   "id": "ac61b143",
   "metadata": {},
   "outputs": [],
   "source": []
  }
 ],
 "metadata": {
  "kernelspec": {
   "display_name": "Python 3 (ipykernel)",
   "language": "python",
   "name": "python3"
  },
  "language_info": {
   "codemirror_mode": {
    "name": "ipython",
    "version": 3
   },
   "file_extension": ".py",
   "mimetype": "text/x-python",
   "name": "python",
   "nbconvert_exporter": "python",
   "pygments_lexer": "ipython3",
   "version": "3.10.9"
  }
 },
 "nbformat": 4,
 "nbformat_minor": 5
}
