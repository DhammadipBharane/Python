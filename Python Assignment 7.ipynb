{
 "cells": [
  {
   "cell_type": "code",
   "execution_count": 22,
   "id": "aefe05eb",
   "metadata": {},
   "outputs": [
    {
     "name": "stdout",
     "output_type": "stream",
     "text": [
      "Data Inserted...\n"
     ]
    }
   ],
   "source": [
    "#6. Write a python program to create a MongoDB database named ‘college’, collection named\n",
    "# ‘student’ and insert one document in the collection ‘student’ having following structure.\n",
    "# {“_id”: 1, “name”: “Ashok Deshpande”, “year”: “MCA-I”, “address”: “Vadgaon - Pune”}\n",
    "# Display the inserted document in the collection ‘student’.\n",
    "\n",
    "\n",
    "import pymongo\n",
    "\n",
    "client = pymongo.MongoClient(\"mongodb://localhost:27017\")\n",
    "\n",
    "\n",
    "mydb = client['college']\n",
    "mycol = mydb['student']\n",
    "\n",
    "s1 = {\n",
    "    \"_id\": 1,\n",
    "    \"name\": \"Ashok Deshpande\",\n",
    "    \"year\": \"MCA-I\",\n",
    "    \"address\": \"Vadgaon - Pune\"\n",
    "}\n",
    "\n",
    "mycol.insert_one(s1)\n",
    "print(\"Data Inserted...\")"
   ]
  },
  {
   "cell_type": "code",
   "execution_count": 23,
   "id": "ccf52f12",
   "metadata": {},
   "outputs": [
    {
     "name": "stdout",
     "output_type": "stream",
     "text": [
      "{'name': 'Ashok Deshpande', 'year': 'MCA-I', 'address': 'Vadgaon - Pune'}\n"
     ]
    }
   ],
   "source": [
    "for doc in mycol.find({},{\"_id\":0}):\n",
    "    print(doc)"
   ]
  },
  {
   "cell_type": "code",
   "execution_count": null,
   "id": "2cb4161c",
   "metadata": {},
   "outputs": [],
   "source": []
  },
  {
   "cell_type": "code",
   "execution_count": null,
   "id": "a2cfe1ad",
   "metadata": {},
   "outputs": [],
   "source": []
  },
  {
   "cell_type": "code",
   "execution_count": null,
   "id": "195c1856",
   "metadata": {},
   "outputs": [],
   "source": []
  },
  {
   "cell_type": "code",
   "execution_count": 24,
   "id": "a9ac0af4",
   "metadata": {},
   "outputs": [
    {
     "name": "stdout",
     "output_type": "stream",
     "text": [
      "{'name': 'Ashok Deshpande', 'year': 'MCA-I', 'address': 'Vadgaon - Pune'}\n",
      "{'name': 'Abhijeet Kulkarni', 'year': 'MCA-I', 'address': 'Malegaon - Nashik'}\n",
      "{'name': 'Usha Shinde', 'year': 'MCA-I', 'address': 'Lasalgaon - Nashik'}\n",
      "{'name': 'Akshay Kumar', 'year': 'MCA-I', 'address': 'Dadar - Mumbai'}\n",
      "{'name': 'Amisha Patel', 'year': 'MCA-I', 'address': 'Lasalgaon - Nashik'}\n"
     ]
    }
   ],
   "source": [
    "#6. Write a python program to insert many documents in a MongoDB collection namedv‘student’.\n",
    "# {“_id”: 2, “name”: “Abhijeet Kulkarni”, “year”: “MCA-I”, “address”: “Malegaon - Nashik”}\n",
    "# {“_id”: 3, “name”: “Usha Shinde”, “year”: “MCA-I”, “address”: “Lasalgaon - Nashik”}\n",
    "# {“_id”: 4, “name”: “Akshay Kumar”, “year”: “MCA-I”, “address”: “Dadar - Mumbai”}\n",
    "# {“_id”: 5, “name”: “Amisha Patel”, “year”: “MCA-I”, “address”: “Lasalgaon - Nashik”}\n",
    "# Display all the documents of the collection ‘student’ after insert operation.\n",
    "\n",
    "import pymongo\n",
    "\n",
    "client = pymongo.MongoClient(\"mongodb://localhost:27017\")\n",
    "\n",
    "mydb = client['college']\n",
    "mycol = mydb['student']\n",
    "\n",
    "s1 = [\n",
    "    {\"_id\": 2, \"name\": \"Abhijeet Kulkarni\", \"year\": \"MCA-I\", \"address\": \"Malegaon - Nashik\"},\n",
    "    {\"_id\": 3, \"name\": \"Usha Shinde\", \"year\": \"MCA-I\", \"address\": \"Lasalgaon - Nashik\"},\n",
    "    {\"_id\": 4, \"name\": \"Akshay Kumar\", \"year\": \"MCA-I\", \"address\": \"Dadar - Mumbai\"},\n",
    "    {\"_id\": 5, \"name\": \"Amisha Patel\", \"year\": \"MCA-I\", \"address\": \"Lasalgaon - Nashik\"}\n",
    "]\n",
    "\n",
    "mycol.insert_many(s1)\n",
    "\n",
    "for doc in mycol.find({},{\"_id\":0}):\n",
    "    print(doc)"
   ]
  },
  {
   "cell_type": "code",
   "execution_count": 17,
   "id": "82f71d9c",
   "metadata": {},
   "outputs": [],
   "source": []
  },
  {
   "cell_type": "code",
   "execution_count": null,
   "id": "907a85a3",
   "metadata": {},
   "outputs": [],
   "source": []
  },
  {
   "cell_type": "code",
   "execution_count": null,
   "id": "38f703fd",
   "metadata": {},
   "outputs": [],
   "source": []
  },
  {
   "cell_type": "code",
   "execution_count": 35,
   "id": "501d1bac",
   "metadata": {},
   "outputs": [
    {
     "name": "stdout",
     "output_type": "stream",
     "text": [
      "{'_id': 1, 'name': 'Ashok Deshpande', 'year': 'MCA-I', 'address': 'Vadgaon - Pune'}\n",
      "{'_id': 2, 'name': 'Abhijeet Kulkarni', 'year': 'MCA-I', 'address': 'Malegaon - Nashik'}\n",
      "{'_id': 3, 'name': 'Usha Shinde', 'year': 'MCA-I', 'address': 'Hadapsar - Pune'}\n",
      "{'_id': 4, 'name': 'Akshay Kumar', 'year': 'MCA-I', 'address': 'Dadar - Mumbai'}\n",
      "{'_id': 5, 'name': 'Amisha Patel', 'year': 'MCA-I', 'address': 'Hadapsar - Pune'}\n"
     ]
    }
   ],
   "source": [
    "#8. Write a python program to update many documents in a MongoDB collection named\n",
    "# ‘student’ having address = “Lasalgaon – Nashik” with new address = “Hadapsar - Pune”.\n",
    "# Display all documents of the collection named ‘student’ before and after updating the documents.\n",
    "\n",
    "import pymongo\n",
    "\n",
    "client = pymongo.MongoClient(\"mongodb://localhost:27017\")\n",
    "\n",
    "mydb = client['college']\n",
    "mycol = mydb['student']\n",
    "\n",
    "myquery = {'address':'Lasalgaon - Nashik'}\n",
    "new_val = {'$set':{'address':'Hadapsar - Pune'}}\n",
    "mycol.update_many(myquery,new_val)\n",
    "for doc in mycol.find({}, {\"id\":0}):\n",
    "    print(doc)\n"
   ]
  },
  {
   "cell_type": "code",
   "execution_count": null,
   "id": "a04473d6",
   "metadata": {},
   "outputs": [],
   "source": []
  },
  {
   "cell_type": "code",
   "execution_count": null,
   "id": "0f357bd0",
   "metadata": {},
   "outputs": [],
   "source": []
  },
  {
   "cell_type": "code",
   "execution_count": null,
   "id": "88694512",
   "metadata": {},
   "outputs": [],
   "source": []
  },
  {
   "cell_type": "code",
   "execution_count": 36,
   "id": "af61227f",
   "metadata": {},
   "outputs": [
    {
     "name": "stdout",
     "output_type": "stream",
     "text": [
      "{'_id': 1, 'name': 'Ashok Deshpande', 'year': 'MCA-I', 'address': 'Vadgaon - Pune'}\n",
      "{'_id': 2, 'name': 'Abhijeet Kulkarni', 'year': 'MCA-I', 'address': 'Malegaon - Nashik'}\n",
      "{'_id': 4, 'name': 'Akshay Kumar', 'year': 'MCA-I', 'address': 'Dadar - Mumbai'}\n",
      "{'_id': 5, 'name': 'Amisha Patel', 'year': 'MCA-I', 'address': 'Hadapsar - Pune'}\n"
     ]
    }
   ],
   "source": [
    "#9. Write a python program to delete documents from a MongoDB collection named ‘student’\n",
    "# having address = “Hadapsar - Pune”.\n",
    "# Display all the documents of the collection named ‘student’ before and after deleting\n",
    "# documents.\n",
    "\n",
    "import pymongo\n",
    "\n",
    "client = pymongo.MongoClient(\"mongodb://localhost:27017\")\n",
    "\n",
    "mydb = client['college']\n",
    "mycol = mydb['student']\n",
    "\n",
    "myquery = {'address':'Hadapsar - Pune'}\n",
    "mycol.delete_one(myquery)\n",
    "for doc in mycol.find({}, {\"id\":0}):\n",
    "    print(doc)"
   ]
  },
  {
   "cell_type": "code",
   "execution_count": null,
   "id": "0a7bf026",
   "metadata": {},
   "outputs": [],
   "source": []
  },
  {
   "cell_type": "code",
   "execution_count": null,
   "id": "089d526e",
   "metadata": {},
   "outputs": [],
   "source": []
  },
  {
   "cell_type": "code",
   "execution_count": null,
   "id": "b28edf04",
   "metadata": {},
   "outputs": [],
   "source": []
  },
  {
   "cell_type": "code",
   "execution_count": 26,
   "id": "f62506ca",
   "metadata": {},
   "outputs": [
    {
     "name": "stdout",
     "output_type": "stream",
     "text": [
      "{'_id': 8, 'name': 'Fish Company', 'rating': 2, 'cuisine': 'Vegetarian'}\n",
      "{'_id': 12, 'name': 'Lazy Corporation', 'rating': 3, 'cuisine': 'Vegetarian'}\n",
      "{'_id': 17, 'name': 'Fun Corporation', 'rating': 3, 'cuisine': 'Vegetarian'}\n",
      "{'_id': 20, 'name': 'Fun Inc', 'rating': 4, 'cuisine': 'Vegetarian'}\n",
      "{'_id': 37, 'name': 'Lazy LLC', 'rating': 4, 'cuisine': 'Vegetarian'}\n",
      "{'_id': 40, 'name': 'State Company', 'rating': 2, 'cuisine': 'Vegetarian'}\n",
      "{'_id': 42, 'name': 'Tastey Company', 'rating': 4, 'cuisine': 'Vegetarian'}\n",
      "{'_id': 53, 'name': 'Sandwich Corporation', 'rating': 5, 'cuisine': 'Vegetarian'}\n",
      "{'_id': 56, 'name': 'Pizza Company', 'rating': 4, 'cuisine': 'Vegetarian'}\n",
      "{'_id': 60, 'name': 'Sandwich LLC', 'rating': 2, 'cuisine': 'Vegetarian'}\n",
      "{'_id': 66, 'name': 'Animal LLC', 'rating': 2, 'cuisine': 'Vegetarian'}\n",
      "{'_id': 75, 'name': 'Pizza Inc', 'rating': 3, 'cuisine': 'Vegetarian'}\n",
      "{'_id': 82, 'name': 'Sandwich Inc', 'rating': 4, 'cuisine': 'Vegetarian'}\n",
      "{'_id': 86, 'name': 'State LLC', 'rating': 1, 'cuisine': 'Vegetarian'}\n",
      "{'_id': 109, 'name': 'Pizza Company', 'rating': 2, 'cuisine': 'Vegetarian'}\n",
      "{'_id': 112, 'name': 'Pizza LLC', 'rating': 2, 'cuisine': 'Vegetarian'}\n",
      "{'_id': 123, 'name': 'Fun LLC', 'rating': 2, 'cuisine': 'Vegetarian'}\n",
      "{'_id': 130, 'name': 'State Inc', 'rating': 1, 'cuisine': 'Vegetarian'}\n",
      "{'_id': 147, 'name': 'Pizza LLC', 'rating': 4, 'cuisine': 'Vegetarian'}\n",
      "{'_id': 149, 'name': 'Sandwich LLC', 'rating': 3, 'cuisine': 'Vegetarian'}\n",
      "{'_id': 150, 'name': 'Kitchen Company', 'rating': 2, 'cuisine': 'Vegetarian'}\n",
      "{'_id': 153, 'name': 'Goat Inc', 'rating': 5, 'cuisine': 'Vegetarian'}\n",
      "{'_id': 155, 'name': 'Kitchen Corporation', 'rating': 1, 'cuisine': 'Vegetarian'}\n",
      "{'_id': 162, 'name': 'State LLC', 'rating': 2, 'cuisine': 'Vegetarian'}\n",
      "{'_id': 170, 'name': 'Kitchen Corporation', 'rating': 1, 'cuisine': 'Vegetarian'}\n",
      "{'_id': 172, 'name': 'Fun Corporation', 'rating': 2, 'cuisine': 'Vegetarian'}\n",
      "{'_id': 179, 'name': 'Tastey Inc', 'rating': 1, 'cuisine': 'Vegetarian'}\n",
      "{'_id': 187, 'name': 'Big Inc', 'rating': 2, 'cuisine': 'Vegetarian'}\n",
      "{'_id': 197, 'name': 'Sandwich Inc', 'rating': 2, 'cuisine': 'Vegetarian'}\n",
      "{'_id': 198, 'name': 'Pizza LLC', 'rating': 3, 'cuisine': 'Vegetarian'}\n",
      "count of documents having cuisine vegetarian = 30\n"
     ]
    }
   ],
   "source": [
    "#10. Import the given collection data file ‘restaurants.json’ in MongoDB database named\n",
    "# ‘business’ and collection named ‘reviews’.\n",
    "\n",
    "# a. Write a python program to display all documents from a MongoDB named ‘business’ \n",
    "# and collection named ‘reviews’ having “cuisine” = “Vegetarian”. Also\n",
    "# display the count of documents having “cuisine” = “Vegetarian”.\n",
    "\n",
    "\n",
    "from pymongo import *\n",
    "myClient=MongoClient(port=27017)\n",
    "mydb=myClient['business']\n",
    "myCol=mydb['reviews']\n",
    "myquery={\"cuisine\" : \"Vegetarian\"}\n",
    "x= myCol.find(myquery)\n",
    "for i in x:\n",
    "    print(i)\n",
    "print(f\"count of documents having cuisine vegetarian = {myCol.count_documents(myquery)}\")"
   ]
  },
  {
   "cell_type": "code",
   "execution_count": null,
   "id": "0dc3e1df",
   "metadata": {},
   "outputs": [],
   "source": []
  },
  {
   "cell_type": "code",
   "execution_count": null,
   "id": "0acba48c",
   "metadata": {},
   "outputs": [],
   "source": []
  },
  {
   "cell_type": "code",
   "execution_count": null,
   "id": "e1ad2c27",
   "metadata": {},
   "outputs": [],
   "source": []
  },
  {
   "cell_type": "code",
   "execution_count": 27,
   "id": "22a7a7fa",
   "metadata": {},
   "outputs": [
    {
     "name": "stdout",
     "output_type": "stream",
     "text": [
      "{'_id': 6, 'name': 'Salty LLC', 'rating': 5, 'cuisine': 'Italian'}\n",
      "{'_id': 26, 'name': 'Animal Inc', 'rating': 5, 'cuisine': 'Fast Food'}\n",
      "{'_id': 34, 'name': 'Tastey LLC', 'rating': 5, 'cuisine': 'American'}\n",
      "{'_id': 41, 'name': 'Lazy Company', 'rating': 5, 'cuisine': 'American'}\n",
      "{'_id': 53, 'name': 'Sandwich Corporation', 'rating': 5, 'cuisine': 'Vegetarian'}\n",
      "{'_id': 57, 'name': 'Animal Company', 'rating': 5, 'cuisine': 'American'}\n",
      "{'_id': 62, 'name': 'Sandwich Company', 'rating': 5, 'cuisine': 'Mexican'}\n",
      "{'_id': 69, 'name': 'Salty Corporation', 'rating': 5, 'cuisine': 'Italian'}\n",
      "{'_id': 74, 'name': 'Animal Inc', 'rating': 5, 'cuisine': 'Fast Food'}\n",
      "{'_id': 78, 'name': 'Sandwich LLC', 'rating': 5, 'cuisine': 'Bar Food'}\n",
      "{'_id': 94, 'name': 'Fish LLC', 'rating': 5, 'cuisine': 'Mexican'}\n",
      "{'_id': 106, 'name': 'Kitchen Corporation', 'rating': 5, 'cuisine': 'American'}\n",
      "{'_id': 114, 'name': 'Fish Company', 'rating': 5, 'cuisine': 'Bar Food'}\n",
      "{'_id': 117, 'name': 'Lazy Corporation', 'rating': 5, 'cuisine': 'Italian'}\n",
      "{'_id': 145, 'name': 'Lazy Corporation', 'rating': 5, 'cuisine': 'Mexican'}\n",
      "{'_id': 153, 'name': 'Goat Inc', 'rating': 5, 'cuisine': 'Vegetarian'}\n",
      "{'_id': 154, 'name': 'Pizza LLC', 'rating': 5, 'cuisine': 'Mexican'}\n",
      "{'_id': 156, 'name': 'Sandwich LLC', 'rating': 5, 'cuisine': 'American'}\n",
      "{'_id': 161, 'name': 'Kitchen Corporation', 'rating': 5, 'cuisine': 'American'}\n",
      "{'_id': 175, 'name': 'Fun Corporation', 'rating': 5, 'cuisine': 'Italian'}\n",
      "{'_id': 185, 'name': 'Sandwich Inc', 'rating': 5, 'cuisine': 'Fast Food'}\n",
      "{'_id': 192, 'name': 'Animal Company', 'rating': 5, 'cuisine': 'Bar Food'}\n",
      "count of documents having rating 5 = 22\n"
     ]
    }
   ],
   "source": [
    "#b. Write a python program to display all documents from a MongoDB named ‘business’ \n",
    "# and collection named ‘reviews’ having “rating” = 5. Also display the count of documents having “rating” = 5.\n",
    "\n",
    "from pymongo import *\n",
    "myClient=MongoClient(port=27017)\n",
    "mydb=myClient['business']\n",
    "myCol=mydb['reviews']\n",
    "myquery={\"rating\": 5}\n",
    "x=myCol.find(myquery)\n",
    "for i in x:\n",
    "    print(i)\n",
    "print(f\"count of documents having rating 5 = {myCol.count_documents(myquery)}\")\n"
   ]
  },
  {
   "cell_type": "code",
   "execution_count": null,
   "id": "3b379b67",
   "metadata": {},
   "outputs": [],
   "source": []
  },
  {
   "cell_type": "code",
   "execution_count": null,
   "id": "6a31db3b",
   "metadata": {},
   "outputs": [],
   "source": []
  },
  {
   "cell_type": "code",
   "execution_count": null,
   "id": "079a87e3",
   "metadata": {},
   "outputs": [],
   "source": []
  },
  {
   "cell_type": "code",
   "execution_count": 28,
   "id": "8356d00e",
   "metadata": {},
   "outputs": [
    {
     "name": "stdout",
     "output_type": "stream",
     "text": [
      "{'_id': 9, 'name': 'Lazy Corporation', 'rating': 3, 'cuisine': 'American'}\n",
      "{'_id': 10, 'name': 'Lazy LLC', 'rating': 3, 'cuisine': 'American'}\n",
      "{'_id': 15, 'name': 'Fish LLC', 'rating': 4, 'cuisine': 'American'}\n",
      "{'_id': 24, 'name': 'State Company', 'rating': 2, 'cuisine': 'American'}\n",
      "{'_id': 30, 'name': 'Goat Company', 'rating': 2, 'cuisine': 'American'}\n",
      "{'_id': 32, 'name': 'Tastey LLC', 'rating': 4, 'cuisine': 'American'}\n",
      "{'_id': 34, 'name': 'Tastey LLC', 'rating': 5, 'cuisine': 'American'}\n",
      "{'_id': 39, 'name': 'City LLC', 'rating': 1, 'cuisine': 'American'}\n",
      "{'_id': 41, 'name': 'Lazy Company', 'rating': 5, 'cuisine': 'American'}\n",
      "{'_id': 43, 'name': 'State Company', 'rating': 1, 'cuisine': 'American'}\n",
      "{'_id': 46, 'name': 'Salty Company', 'rating': 3, 'cuisine': 'American'}\n",
      "{'_id': 47, 'name': 'Lazy Company', 'rating': 4, 'cuisine': 'American'}\n",
      "{'_id': 48, 'name': 'Big Corporation', 'rating': 3, 'cuisine': 'American'}\n",
      "{'_id': 50, 'name': 'City Inc', 'rating': 2, 'cuisine': 'American'}\n",
      "{'_id': 54, 'name': 'Salty LLC', 'rating': 4, 'cuisine': 'American'}\n",
      "{'_id': 57, 'name': 'Animal Company', 'rating': 5, 'cuisine': 'American'}\n",
      "{'_id': 72, 'name': 'Kitchen Corporation', 'rating': 2, 'cuisine': 'American'}\n",
      "{'_id': 81, 'name': 'Pizza LLC', 'rating': 2, 'cuisine': 'American'}\n",
      "{'_id': 88, 'name': 'Animal LLC', 'rating': 4, 'cuisine': 'American'}\n",
      "{'_id': 95, 'name': 'Goat Company', 'rating': 2, 'cuisine': 'American'}\n",
      "{'_id': 97, 'name': 'Fun Inc', 'rating': 2, 'cuisine': 'American'}\n",
      "{'_id': 99, 'name': 'Kitchen Inc', 'rating': 2, 'cuisine': 'American'}\n",
      "{'_id': 106, 'name': 'Kitchen Corporation', 'rating': 5, 'cuisine': 'American'}\n",
      "{'_id': 111, 'name': 'Salty Company', 'rating': 1, 'cuisine': 'American'}\n",
      "{'_id': 115, 'name': 'Fish Corporation', 'rating': 1, 'cuisine': 'American'}\n",
      "{'_id': 136, 'name': 'Lazy LLC', 'rating': 1, 'cuisine': 'American'}\n",
      "{'_id': 156, 'name': 'Sandwich LLC', 'rating': 5, 'cuisine': 'American'}\n",
      "{'_id': 159, 'name': 'Kitchen Company', 'rating': 1, 'cuisine': 'American'}\n",
      "{'_id': 161, 'name': 'Kitchen Corporation', 'rating': 5, 'cuisine': 'American'}\n",
      "{'_id': 186, 'name': 'Sandwich Corporation', 'rating': 1, 'cuisine': 'American'}\n",
      "{'_id': 199, 'name': 'Fish LLC', 'rating': 3, 'cuisine': 'American'}\n",
      "count of documents having cuisine American = 31\n"
     ]
    }
   ],
   "source": [
    "#c. Write a python program to display all documents from a MongoDB named ‘business’ \n",
    "# and collection named ‘reviews’ having “cuisine” = “American”. Also display the \n",
    "# count of documents having “cuisine” = “American”.\n",
    "\n",
    "from pymongo import *\n",
    "myClient=MongoClient(port=27017)\n",
    "mydb=myClient['business']\n",
    "myCol=mydb['reviews']\n",
    "myquery={\"cuisine\" : \"American\"}\n",
    "x=myCol.find(myquery)\n",
    "for i in x:\n",
    "    print(i)\n",
    "print(f\"count of documents having cuisine American = {myCol.count_documents(myquery)}\")"
   ]
  },
  {
   "cell_type": "code",
   "execution_count": null,
   "id": "e9304179",
   "metadata": {},
   "outputs": [],
   "source": []
  },
  {
   "cell_type": "code",
   "execution_count": null,
   "id": "5728ac76",
   "metadata": {},
   "outputs": [],
   "source": []
  },
  {
   "cell_type": "code",
   "execution_count": null,
   "id": "71989e1d",
   "metadata": {},
   "outputs": [],
   "source": []
  },
  {
   "cell_type": "code",
   "execution_count": 29,
   "id": "206206fa",
   "metadata": {},
   "outputs": [
    {
     "name": "stdout",
     "output_type": "stream",
     "text": [
      "{'_id': 1, 'name': 'Tastey Company', 'rating': 2, 'cuisine': 'Fast Food'}\n",
      "{'_id': 26, 'name': 'Animal Inc', 'rating': 5, 'cuisine': 'Fast Food'}\n",
      "{'_id': 67, 'name': 'State Company', 'rating': 1, 'cuisine': 'Fast Food'}\n",
      "{'_id': 73, 'name': 'City Corporation', 'rating': 1, 'cuisine': 'Fast Food'}\n",
      "{'_id': 74, 'name': 'Animal Inc', 'rating': 5, 'cuisine': 'Fast Food'}\n",
      "{'_id': 76, 'name': 'Fun Company', 'rating': 3, 'cuisine': 'Fast Food'}\n",
      "{'_id': 100, 'name': 'Goat Corporation', 'rating': 3, 'cuisine': 'Fast Food'}\n",
      "{'_id': 132, 'name': 'Pizza Corporation', 'rating': 1, 'cuisine': 'Fast Food'}\n",
      "{'_id': 138, 'name': 'Tastey Inc', 'rating': 2, 'cuisine': 'Fast Food'}\n",
      "{'_id': 144, 'name': 'Animal Inc', 'rating': 2, 'cuisine': 'Fast Food'}\n",
      "{'_id': 168, 'name': 'Lazy Inc', 'rating': 3, 'cuisine': 'Fast Food'}\n",
      "{'_id': 181, 'name': 'City Company', 'rating': 3, 'cuisine': 'Fast Food'}\n",
      "{'_id': 183, 'name': 'Fun Inc', 'rating': 4, 'cuisine': 'Fast Food'}\n",
      "{'_id': 185, 'name': 'Sandwich Inc', 'rating': 5, 'cuisine': 'Fast Food'}\n",
      "{'_id': 189, 'name': 'Fish Company', 'rating': 4, 'cuisine': 'Fast Food'}\n",
      "{'_id': 195, 'name': 'State LLC', 'rating': 2, 'cuisine': 'Fast Food'}\n",
      "{'_id': 200, 'name': 'Pizza LLC', 'rating': 2, 'cuisine': 'Fast Food'}\n",
      "count of documents having cuisine Fast Food = 17\n"
     ]
    }
   ],
   "source": [
    "#d. Write a python program to display all documents from a MongoDB named ‘business’ \n",
    "# and collection named ‘reviews’ having “cuisine” = “Fast Food”. Also display the \n",
    "# count of documents having “cuisine” = “Fast Food”.\n",
    "\n",
    "from pymongo import *\n",
    "myClient=MongoClient(port=27017)\n",
    "mydb=myClient['business']\n",
    "myCol=mydb['reviews']\n",
    "myquery={'cuisine' : 'Fast Food'}\n",
    "x=myCol.find(myquery)\n",
    "for i in x:\n",
    "    print(i)\n",
    "print(f'count of documents having cuisine Fast Food = {myCol.count_documents(myquery)}')\n"
   ]
  }
 ],
 "metadata": {
  "kernelspec": {
   "display_name": "Python 3 (ipykernel)",
   "language": "python",
   "name": "python3"
  },
  "language_info": {
   "codemirror_mode": {
    "name": "ipython",
    "version": 3
   },
   "file_extension": ".py",
   "mimetype": "text/x-python",
   "name": "python",
   "nbconvert_exporter": "python",
   "pygments_lexer": "ipython3",
   "version": "3.10.9"
  }
 },
 "nbformat": 4,
 "nbformat_minor": 5
}
