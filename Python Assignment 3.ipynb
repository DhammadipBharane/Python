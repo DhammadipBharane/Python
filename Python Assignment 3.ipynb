{
 "cells": [
  {
   "cell_type": "code",
   "execution_count": 13,
   "id": "cff64feb",
   "metadata": {},
   "outputs": [],
   "source": [
    "#1. Write a Python program to create a class and display the namespace of the said class.\n",
    "\n",
    "class student:\n",
    "    def __init__(self, name, age):\n",
    "        self.name = name\n",
    "        self.age = age\n",
    "    def disply(self):\n",
    "        print(f'name = {self.name} and age = {self.age}')\n",
    "        for name in student.__dict__:\n",
    "            print(name)\n",
    "\n"
   ]
  },
  {
   "cell_type": "code",
   "execution_count": null,
   "id": "3f3c2c6d",
   "metadata": {},
   "outputs": [],
   "source": []
  },
  {
   "cell_type": "code",
   "execution_count": null,
   "id": "512f6cfd",
   "metadata": {},
   "outputs": [],
   "source": []
  },
  {
   "cell_type": "code",
   "execution_count": null,
   "id": "9be41c24",
   "metadata": {},
   "outputs": [],
   "source": []
  },
  {
   "cell_type": "code",
   "execution_count": 14,
   "id": "b960636d",
   "metadata": {},
   "outputs": [
    {
     "name": "stdout",
     "output_type": "stream",
     "text": [
      "{'__module__': '__main__', '__init__': <function student.__init__ at 0x000001B2F45C91B0>, 'disply': <function student.disply at 0x000001B2F45C9360>, '__dict__': <attribute '__dict__' of 'student' objects>, '__weakref__': <attribute '__weakref__' of 'student' objects>, '__doc__': None}\n"
     ]
    }
   ],
   "source": [
    "#2. Write a Python program to create an instance of a specified class and display the\n",
    "# namespace of the said instance.\n",
    "\n",
    "class Student: \n",
    "    def __init__(self, student_id, student_name, class_name):\n",
    "        self.student_id = student_id\n",
    "        self.student_name = student_name\n",
    "        self.class_name = class_name\n",
    "        Student = Student('101', 'Ankush', 'MCA-I A')\n",
    "    print(student.__dict__)\n"
   ]
  },
  {
   "cell_type": "code",
   "execution_count": null,
   "id": "5605a9ba",
   "metadata": {},
   "outputs": [],
   "source": []
  },
  {
   "cell_type": "code",
   "execution_count": null,
   "id": "5d7c374f",
   "metadata": {},
   "outputs": [],
   "source": []
  },
  {
   "cell_type": "code",
   "execution_count": null,
   "id": "d371a037",
   "metadata": {},
   "outputs": [],
   "source": []
  },
  {
   "cell_type": "code",
   "execution_count": 2,
   "id": "77aa9abd",
   "metadata": {},
   "outputs": [
    {
     "name": "stdout",
     "output_type": "stream",
     "text": [
      "Is student_instance an instance of Student class? True\n",
      "Is marks_instance an instance of Marks class? True\n",
      "Is Student class a subclass of object class? True\n",
      "Is Marks class a subclass of object class? True\n"
     ]
    }
   ],
   "source": [
    "#3. Write a Python program to create two empty classes, Student and Marks. Now create some\n",
    "# instances and check whether they are instances of the said classes or not. Also, check\n",
    "# whether the said classes are subclasses of the built-in object class or not.\n",
    "\n",
    "class Student:\n",
    "    pass\n",
    "\n",
    "class Marks:\n",
    "    pass\n",
    "\n",
    "student_instance = Student()\n",
    "marks_instance = Marks()\n",
    "other_instance = object()\n",
    "\n",
    "print(\"Is student_instance an instance of Student class?\", isinstance(student_instance, Student))\n",
    "print(\"Is marks_instance an instance of Marks class?\", isinstance(marks_instance, Marks))\n",
    "\n",
    "print(\"Is Student class a subclass of object class?\", issubclass(Student, object))\n",
    "print(\"Is Marks class a subclass of object class?\", issubclass(Marks, object))\n"
   ]
  },
  {
   "cell_type": "code",
   "execution_count": null,
   "id": "ed5219ff",
   "metadata": {},
   "outputs": [],
   "source": []
  },
  {
   "cell_type": "code",
   "execution_count": null,
   "id": "065c7f6d",
   "metadata": {},
   "outputs": [],
   "source": []
  },
  {
   "cell_type": "code",
   "execution_count": null,
   "id": "51fa7516",
   "metadata": {},
   "outputs": [],
   "source": []
  },
  {
   "cell_type": "code",
   "execution_count": 30,
   "id": "c77df363",
   "metadata": {},
   "outputs": [
    {
     "name": "stdout",
     "output_type": "stream",
     "text": [
      "Student Name: Aniket\n",
      "Marks: 85\n",
      "Modified attribute values:\n",
      "Student Name: Rohit\n",
      "Marks: 92\n"
     ]
    }
   ],
   "source": [
    "#4. Write a Python class named Student with two attributes student_name, marks. Modify the\n",
    "# attribute values of the said class and print the original and modified values of the said\n",
    "# attributes.\n",
    "\n",
    "class Student:\n",
    "    def __init__(self, s_name, marks):\n",
    "        self.s_name = s_name\n",
    "        self.marks = marks\n",
    "\n",
    "std = Student(\"Aniket\", 85)\n",
    "\n",
    "print(\"Student Name:\", std.s_name)\n",
    "print(\"Marks:\", std.marks)\n",
    "\n",
    "Student.s_name = \"Rohit\"\n",
    "Student.marks = 92\n",
    "\n",
    "print(\"Modified attribute values:\")\n",
    "print(\"Student Name:\", Student.s_name)\n",
    "print(\"Marks:\", Student.marks)\n"
   ]
  },
  {
   "cell_type": "code",
   "execution_count": null,
   "id": "acffdfad",
   "metadata": {},
   "outputs": [],
   "source": []
  },
  {
   "cell_type": "code",
   "execution_count": null,
   "id": "c754914e",
   "metadata": {},
   "outputs": [],
   "source": []
  },
  {
   "cell_type": "code",
   "execution_count": null,
   "id": "97ef19d4",
   "metadata": {},
   "outputs": [],
   "source": []
  },
  {
   "cell_type": "code",
   "execution_count": 34,
   "id": "e7a74e3b",
   "metadata": {},
   "outputs": [
    {
     "name": "stdout",
     "output_type": "stream",
     "text": [
      "Student ID: 12345\n",
      "Student Name: Nitesh\n",
      "Student Class: 12th\n"
     ]
    }
   ],
   "source": [
    "#5. Write a Python class named Student with two attributes student_id, student_name. Add a\n",
    "# new attribute student_class. Create a function to display the entire attribute and their values\n",
    "# in Student class.\n",
    "\n",
    "class Student:\n",
    "    def __init__(self, std_id, std_name, std_class):\n",
    "        self.std_id = std_id\n",
    "        self.std_name = std_name\n",
    "        self.std_class = std_class\n",
    "\n",
    "    def display(self):\n",
    "        print(\"Student ID:\", self.std_id)\n",
    "        print(\"Student Name:\", self.std_name)\n",
    "        print(\"Student Class:\", self.std_class)\n",
    "\n",
    "S = Student(12345, \"Nitesh\", \"12th\")\n",
    "\n",
    "S.display()\n"
   ]
  },
  {
   "cell_type": "code",
   "execution_count": null,
   "id": "f53c9a8e",
   "metadata": {},
   "outputs": [],
   "source": []
  },
  {
   "cell_type": "code",
   "execution_count": null,
   "id": "037cc789",
   "metadata": {},
   "outputs": [],
   "source": []
  },
  {
   "cell_type": "code",
   "execution_count": null,
   "id": "42e19baf",
   "metadata": {},
   "outputs": [],
   "source": []
  },
  {
   "cell_type": "code",
   "execution_count": 5,
   "id": "b87698c7",
   "metadata": {},
   "outputs": [
    {
     "name": "stdout",
     "output_type": "stream",
     "text": [
      "Enter Valid Roman Number : III\n",
      "The decimal representation of III is 3.\n"
     ]
    }
   ],
   "source": [
    "#6. Write a Python class to convert a roman numeral to an integer.\n",
    "\n",
    "\n",
    "class RomanConverter:\n",
    "    def __init__(self):\n",
    "        self.roman_to_decimal = {\n",
    "            'I': 1, 'V': 5, 'X': 10, 'L': 50, 'C': 100, 'D': 500, 'M': 1000\n",
    "        }\n",
    "\n",
    "    def convert_to_decimal(self, roman_numeral):\n",
    "        decimal_num = 0\n",
    "        prev_value = 0\n",
    "        for char in roman_numeral[::-1]:\n",
    "            current_value = self.roman_to_decimal[char]\n",
    "            if current_value >= prev_value:\n",
    "                decimal_num += current_value\n",
    "            else:\n",
    "                decimal_num -= current_value\n",
    "            prev_value = current_value\n",
    "        return decimal_num\n",
    "\n",
    "converter = RomanConverter()\n",
    "roman_numeral = input(\"Enter Valid Roman Number : \") #III\n",
    "decimal_num = converter.convert_to_decimal(roman_numeral)\n",
    "print(f\"The decimal representation of {roman_numeral} is {decimal_num}.\")\n"
   ]
  },
  {
   "cell_type": "code",
   "execution_count": null,
   "id": "85c36923",
   "metadata": {},
   "outputs": [],
   "source": []
  },
  {
   "cell_type": "code",
   "execution_count": null,
   "id": "a5e9a5e2",
   "metadata": {},
   "outputs": [],
   "source": []
  },
  {
   "cell_type": "code",
   "execution_count": null,
   "id": "549a4f1a",
   "metadata": {},
   "outputs": [],
   "source": []
  },
  {
   "cell_type": "code",
   "execution_count": 6,
   "id": "7889b96d",
   "metadata": {},
   "outputs": [
    {
     "name": "stdout",
     "output_type": "stream",
     "text": [
      "Enter an Integer : 4\n",
      "Enter the value of raised to : 2\n",
      "4 raised to the power of 2 is: 16\n"
     ]
    }
   ],
   "source": [
    "#7. Write a Python class to implement pow(x, n) by operator overloading.\n",
    "\n",
    "\n",
    "class PowerOperator:\n",
    "    def __init__(self, base):\n",
    "        self.base = base\n",
    "    \n",
    "    def __pow__(self, exponent):\n",
    "        return self.base ** exponent\n",
    "\n",
    "x = int(input(\"Enter an Integer : \"))\n",
    "n = int(input(\"Enter the value of raised to : \"))\n",
    "power = PowerOperator(x)\n",
    "result = power.__pow__(n)  # Alternatively, you can use the ** operator: result = power ** n\n",
    "print(f\"{x} raised to the power of {n} is: {result}\")\n",
    "\n"
   ]
  },
  {
   "cell_type": "code",
   "execution_count": null,
   "id": "cd765e01",
   "metadata": {},
   "outputs": [],
   "source": []
  },
  {
   "cell_type": "code",
   "execution_count": null,
   "id": "2b6e011a",
   "metadata": {},
   "outputs": [],
   "source": []
  },
  {
   "cell_type": "code",
   "execution_count": null,
   "id": "c7076de3",
   "metadata": {},
   "outputs": [],
   "source": []
  },
  {
   "cell_type": "code",
   "execution_count": 85,
   "id": "84d1009b",
   "metadata": {},
   "outputs": [],
   "source": [
    "#8. Write a Python class to reverse a string word by word.\n",
    "\n",
    "class reverse:\n",
    "    def __init__(self,str):\n",
    "        self.str = str\n",
    "    \n",
    "    def display(self):\n",
    "        new = self.str[::-1]\n",
    "        return new\n",
    "\n",
    "    '''\n",
    "        def display(self):\n",
    "        new = self.str.split()\n",
    "        rev = \" \".join(reversed(new))\n",
    "        return rev\n",
    "    '''"
   ]
  },
  {
   "cell_type": "code",
   "execution_count": 99,
   "id": "37a6945a",
   "metadata": {},
   "outputs": [
    {
     "data": {
      "text/plain": [
       "'yaja olleh'"
      ]
     },
     "execution_count": 99,
     "metadata": {},
     "output_type": "execute_result"
    }
   ],
   "source": [
    "c = reverse('hello ajay')\n",
    "c.display()"
   ]
  },
  {
   "cell_type": "code",
   "execution_count": null,
   "id": "c11bb330",
   "metadata": {},
   "outputs": [],
   "source": []
  },
  {
   "cell_type": "code",
   "execution_count": null,
   "id": "469e2aec",
   "metadata": {},
   "outputs": [],
   "source": []
  },
  {
   "cell_type": "code",
   "execution_count": null,
   "id": "8e492b31",
   "metadata": {},
   "outputs": [],
   "source": []
  },
  {
   "cell_type": "code",
   "execution_count": 5,
   "id": "6308da28",
   "metadata": {},
   "outputs": [],
   "source": [
    "#9. Write a Python class which has two methods get_String and print_String. get_String\n",
    "# accept a string from the user and print_String print the string in upper case.\n",
    "\n",
    "class String:\n",
    "    def __init__(self):\n",
    "        self.str = \" \"\n",
    "\n",
    "    def input(self):\n",
    "        self.str = input(\"Enter a string : \")\n",
    "\n",
    "    def display(self):\n",
    "        print(\"String in uppercase:\", self.str.upper())\n"
   ]
  },
  {
   "cell_type": "code",
   "execution_count": 6,
   "id": "e6497520",
   "metadata": {},
   "outputs": [
    {
     "name": "stdout",
     "output_type": "stream",
     "text": [
      "Enter a string : hello\n"
     ]
    }
   ],
   "source": [
    "a = String()\n",
    "a.input()"
   ]
  },
  {
   "cell_type": "code",
   "execution_count": 7,
   "id": "1e5db168",
   "metadata": {},
   "outputs": [
    {
     "name": "stdout",
     "output_type": "stream",
     "text": [
      "String in uppercase: HELLO\n"
     ]
    }
   ],
   "source": [
    "a.display()"
   ]
  },
  {
   "cell_type": "code",
   "execution_count": null,
   "id": "9297f2c0",
   "metadata": {},
   "outputs": [],
   "source": []
  },
  {
   "cell_type": "code",
   "execution_count": null,
   "id": "04a330e1",
   "metadata": {},
   "outputs": [],
   "source": []
  },
  {
   "cell_type": "code",
   "execution_count": null,
   "id": "89627aec",
   "metadata": {},
   "outputs": [],
   "source": []
  },
  {
   "cell_type": "code",
   "execution_count": 5,
   "id": "f6fd5028",
   "metadata": {},
   "outputs": [
    {
     "name": "stdout",
     "output_type": "stream",
     "text": [
      "\n",
      "Account Number: 123456789\n",
      "Account Holder: Deep\n",
      "Balance: 100000\n",
      "\n",
      "5000 Rupees Deposited Successfully...\n",
      "The Total Balanced Remained is 105000\n",
      "\n",
      "2000 Rupees Withdrawn Successfully...\n",
      "The Total Balanced is 103000\n",
      "\n",
      "applied bank fees 5150.0\n",
      "\n",
      "Bank fees applied.\n",
      "\n",
      "Account Number: 123456789\n",
      "Account Holder: Deep\n",
      "Balance: 97850.0\n"
     ]
    }
   ],
   "source": [
    "''' \n",
    "10. Create a Python class called BankAccount which represents a bank account, having as\n",
    "attributes: accountNumber (numeric type), name (name of the account owner as string\n",
    "type), balance.\n",
    " Create a constructor with parameters: accountNumber, name, balance.\n",
    " Create a Deposit() method which manages the deposit actions.\n",
    " Create a Withdrawal() method which manages withdrawals actions.\n",
    " Create an bankFees() method to apply the bank fees with a percentage of\n",
    "5% of the balance account.\n",
    " Create a display() method to display account details.\n",
    " Give the complete code for the BankAccount class.\n",
    "'''\n",
    "\n",
    "class BankAccount:\n",
    "    def __init__(self, accountNumber, name, balance):\n",
    "        self.accountNumber = accountNumber\n",
    "        self.name = name\n",
    "        self.balance = balance\n",
    "\n",
    "    def Deposit(self, amount):\n",
    "        if amount > 0:\n",
    "            self.balance += amount\n",
    "            print(f\"\\n{amount} Rupees Deposited Successfully...\")\n",
    "            print(f\"The Total Balanced Remained is {self.balance}\")\n",
    "        else:\n",
    "            print(\"Invalid deposit amount.\")\n",
    "\n",
    "    def Withdrawal(self, amount):\n",
    "        if amount > 0 and amount <= self.balance:\n",
    "            self.balance -= amount\n",
    "            print(f\"\\n{amount} Rupees Withdrawn Successfully...\")\n",
    "            print(f\"The Total Balanced is {self.balance}\")\n",
    "        else:\n",
    "            print(\"Invalid withdrawal amount or insufficient balance.\")\n",
    "\n",
    "    def bankFees(self):\n",
    "        fees = self.balance * 0.05\n",
    "        self.balance -= fees\n",
    "        print(f\"\\napplied bank fees {fees}\")\n",
    "        print(\"\\nBank fees applied.\")\n",
    "        \n",
    "\n",
    "    def display(self):\n",
    "        print(\"\\nAccount Number:\", self.accountNumber)\n",
    "        print(f\"Account Holder:\", self.name)\n",
    "        print(\"Balance:\", self.balance)\n",
    "\n",
    "\n",
    "account = BankAccount(123456789, \"Deep\", 100000)  \n",
    "account.display()  \n",
    "account.Deposit(5000)  \n",
    "account.Withdrawal(2000)  \n",
    "account.bankFees()  \n",
    "account.display() \n"
   ]
  },
  {
   "cell_type": "code",
   "execution_count": null,
   "id": "032bb546",
   "metadata": {},
   "outputs": [],
   "source": []
  },
  {
   "cell_type": "code",
   "execution_count": null,
   "id": "7e2e1e4c",
   "metadata": {},
   "outputs": [],
   "source": []
  },
  {
   "cell_type": "code",
   "execution_count": null,
   "id": "f08b2b75",
   "metadata": {},
   "outputs": [],
   "source": []
  },
  {
   "cell_type": "code",
   "execution_count": 86,
   "id": "96255013",
   "metadata": {},
   "outputs": [
    {
     "name": "stdout",
     "output_type": "stream",
     "text": [
      "Name: Deep\n",
      "Age: 22\n",
      "Section: A\n"
     ]
    }
   ],
   "source": [
    "'''\n",
    "#11. Create a Python class Person with attributes: name and age of type string.\n",
    " Create a display() method that displays the name and age of an object\n",
    "created via the Person class.\n",
    " Create a child class Student which inherits from the Person class and\n",
    "which also has a section attribute.\n",
    " Create a method displayStudent() that displays the name, age and section\n",
    "of an object created via the Student class.\n",
    " Create a student object via an instantiation on the Student class and then\n",
    "test the displayStudent method.\n",
    "'''\n",
    "\n",
    "class Person:\n",
    "    def __init__(self, name, age):\n",
    "        self.name = name\n",
    "        self.age = age\n",
    "\n",
    "    def display(self):\n",
    "        print(\"Name:\", self.name)\n",
    "        print(\"Age:\", self.age)\n",
    "\n",
    "\n",
    "class Student(Person):\n",
    "    def __init__(self, name, age, section):\n",
    "        super().__init__(name, age)\n",
    "        self.section = section\n",
    "\n",
    "    def displayStudent(self):\n",
    "        self.display()\n",
    "        #super().display()\n",
    "        print(\"Section:\", self.section)\n",
    "\n",
    "\n",
    "std = Student(\"Deep\", \"22\", \"A\")\n",
    "std.displayStudent()\n"
   ]
  },
  {
   "cell_type": "code",
   "execution_count": null,
   "id": "f6ecc814",
   "metadata": {},
   "outputs": [],
   "source": []
  },
  {
   "cell_type": "code",
   "execution_count": null,
   "id": "708ea2b5",
   "metadata": {},
   "outputs": [],
   "source": []
  },
  {
   "cell_type": "code",
   "execution_count": null,
   "id": "c34a2953",
   "metadata": {},
   "outputs": [],
   "source": []
  },
  {
   "cell_type": "code",
   "execution_count": 8,
   "id": "c2ac2f27",
   "metadata": {},
   "outputs": [
    {
     "name": "stdout",
     "output_type": "stream",
     "text": [
      "Name : Deep\n",
      "Age : 22\n",
      "Employee ID: 12345\n"
     ]
    }
   ],
   "source": [
    "#12. Write a Python class program for single inheritance.\n",
    "\n",
    "class Person:\n",
    "    def __init__(self, name, age):\n",
    "        self.name = name\n",
    "        self.age = age\n",
    "\n",
    "    def display(self):\n",
    "        print(f\"Name : {self.name}\")\n",
    "        print(f\"Age : {self.age}\")\n",
    "\n",
    "\n",
    "class Employee(Person):\n",
    "    def __init__(self, name, age, emp_id):\n",
    "        super().__init__(name,age)\n",
    "        self.emp_id = emp_id\n",
    "\n",
    "    def display_employee(self):\n",
    "        super().display()\n",
    "        #self.display()\n",
    "        print(f\"Employee ID: {self.emp_id}\")\n",
    "\n",
    "        \n",
    "emp = Employee(\"Deep\",22, 12345)\n",
    "emp.display_employee()\n"
   ]
  },
  {
   "cell_type": "code",
   "execution_count": null,
   "id": "eae12246",
   "metadata": {},
   "outputs": [],
   "source": []
  },
  {
   "cell_type": "code",
   "execution_count": null,
   "id": "918197fb",
   "metadata": {},
   "outputs": [],
   "source": []
  },
  {
   "cell_type": "code",
   "execution_count": null,
   "id": "ba23f293",
   "metadata": {},
   "outputs": [],
   "source": []
  },
  {
   "cell_type": "code",
   "execution_count": 7,
   "id": "5976d236",
   "metadata": {},
   "outputs": [
    {
     "name": "stdout",
     "output_type": "stream",
     "text": [
      "Sparrow is eating.\n",
      "Flying...\n"
     ]
    }
   ],
   "source": [
    "#13. Write a Python class program for multiple inheritance (in multiple inheritance one child\n",
    "# class can inherit multiple parent classes).\n",
    "\n",
    "class Animal:\n",
    "    def __init__(self, name):\n",
    "        self.name = name\n",
    "\n",
    "    def eat(self):\n",
    "        print(f\"{self.name} is eating.\")\n",
    "\n",
    "\n",
    "class Flyable:\n",
    "    def fly(self):\n",
    "        print(\"Flying...\")\n",
    "\n",
    "\n",
    "class Bird(Animal, Flyable):\n",
    "    def __init__(self, name, species):\n",
    "        super().__init__(name)\n",
    "        self.species = species\n",
    "\n",
    "\n",
    "bird = Bird(\"Sparrow\", \"Passer domesticus\")\n",
    "bird.eat()\n",
    "bird.fly()\n"
   ]
  },
  {
   "cell_type": "code",
   "execution_count": null,
   "id": "a3dfceea",
   "metadata": {},
   "outputs": [],
   "source": []
  },
  {
   "cell_type": "code",
   "execution_count": null,
   "id": "6d66214e",
   "metadata": {},
   "outputs": [],
   "source": []
  },
  {
   "cell_type": "code",
   "execution_count": null,
   "id": "ec11d56e",
   "metadata": {},
   "outputs": [],
   "source": []
  },
  {
   "cell_type": "code",
   "execution_count": 90,
   "id": "757fa51b",
   "metadata": {},
   "outputs": [
    {
     "name": "stdout",
     "output_type": "stream",
     "text": [
      "Name: Ajay\n",
      "Employee ID: 12345\n",
      "Department: Sales\n"
     ]
    }
   ],
   "source": [
    "#14. Write a Python class program for multilevel inheritance (in which, a class can inherit from\n",
    "# a child class or derived class.).\n",
    "\n",
    "\n",
    "class Person:\n",
    "    def __init__(self, name):\n",
    "        self.name = name\n",
    "\n",
    "    def display(self):\n",
    "        print(f\"Name: {self.name}\")\n",
    "\n",
    "class Employee(Person):\n",
    "    def __init__(self, name, emp_id):\n",
    "        super().__init__(name)\n",
    "        self.emp_id = emp_id\n",
    "\n",
    "    def display_employee(self):\n",
    "        self.display()\n",
    "        print(f\"Employee ID: {self.emp_id}\")\n",
    "\n",
    "class Manager(Employee):\n",
    "    def __init__(self, name, emp_id, department):\n",
    "        super().__init__(name, emp_id)\n",
    "        self.department = department\n",
    "\n",
    "    def display_manager(self):\n",
    "        self.display_employee()\n",
    "        print(f\"Department: {self.department}\")\n",
    "\n",
    "\n",
    "manager = Manager(\"Ajay\", 12345, \"Sales\")\n",
    "manager.display_manager()\n"
   ]
  },
  {
   "cell_type": "code",
   "execution_count": null,
   "id": "2cae0128",
   "metadata": {},
   "outputs": [],
   "source": []
  },
  {
   "cell_type": "code",
   "execution_count": null,
   "id": "e9653c4e",
   "metadata": {},
   "outputs": [],
   "source": []
  },
  {
   "cell_type": "code",
   "execution_count": null,
   "id": "98537d18",
   "metadata": {},
   "outputs": [],
   "source": []
  },
  {
   "cell_type": "code",
   "execution_count": 91,
   "id": "81f4811a",
   "metadata": {},
   "outputs": [
    {
     "name": "stdout",
     "output_type": "stream",
     "text": [
      "Triangle:\n",
      "Area: 15.0\n",
      "Perimeter: 15\n",
      "\n",
      "Rhombus:\n",
      "Area: 12.0\n",
      "Perimeter: 16\n",
      "\n",
      "Pentagon:\n",
      "Area: 84.30339262885938\n",
      "Perimeter: 35\n",
      "\n",
      "Hexagon:\n",
      "Area: 166.27687752661222\n",
      "Perimeter: 48\n"
     ]
    }
   ],
   "source": [
    "#15. Write a python program for method overriding in which create four Classes such as\n",
    "# Triangle, Rhombus, Pentagon and Hexagon have the same methods area() and perimeter()\n",
    "# with different implementations:\n",
    "\n",
    "import math\n",
    "\n",
    "class Triangle:\n",
    "    def __init__(self, base, height):\n",
    "        self.base = base\n",
    "        self.height = height\n",
    "\n",
    "    def area(self):\n",
    "        return 0.5 * self.base * self.height\n",
    "\n",
    "    def perimeter(self):\n",
    "        return 3 * self.base\n",
    "\n",
    "class Rhombus:\n",
    "    def __init__(self, side, diagonal):\n",
    "        self.side = side\n",
    "        self.diagonal = diagonal\n",
    "\n",
    "    def area(self):\n",
    "        return 0.5 * self.side * self.diagonal\n",
    "\n",
    "    def perimeter(self):\n",
    "        return 4 * self.side\n",
    "\n",
    "class Pentagon:\n",
    "    def __init__(self, side):\n",
    "        self.side = side\n",
    "\n",
    "    def area(self):\n",
    "        return (0.25 * math.sqrt(5 * (5 + 2 * math.sqrt(5)))) * self.side ** 2\n",
    "\n",
    "    def perimeter(self):\n",
    "        return 5 * self.side\n",
    "\n",
    "class Hexagon:\n",
    "    def __init__(self, side):\n",
    "        self.side = side\n",
    "\n",
    "    def area(self):\n",
    "        return (3 * math.sqrt(3) * self.side ** 2) / 2\n",
    "\n",
    "    def perimeter(self):\n",
    "        return 6 * self.side\n",
    "\n",
    "triangle = Triangle(5, 6)\n",
    "rhombus = Rhombus(4, 6)\n",
    "pentagon = Pentagon(7)\n",
    "hexagon = Hexagon(8)\n",
    "\n",
    "print(\"Triangle:\")\n",
    "print(\"Area:\", triangle.area())\n",
    "print(\"Perimeter:\", triangle.perimeter())\n",
    "\n",
    "print(\"\\nRhombus:\")\n",
    "print(\"Area:\", rhombus.area())\n",
    "print(\"Perimeter:\", rhombus.perimeter())\n",
    "\n",
    "print(\"\\nPentagon:\")\n",
    "print(\"Area:\", pentagon.area())\n",
    "print(\"Perimeter:\", pentagon.perimeter())\n",
    "\n",
    "print(\"\\nHexagon:\")\n",
    "print(\"Area:\", hexagon.area())\n",
    "print(\"Perimeter:\", hexagon.perimeter())\n"
   ]
  }
 ],
 "metadata": {
  "kernelspec": {
   "display_name": "Python 3 (ipykernel)",
   "language": "python",
   "name": "python3"
  },
  "language_info": {
   "codemirror_mode": {
    "name": "ipython",
    "version": 3
   },
   "file_extension": ".py",
   "mimetype": "text/x-python",
   "name": "python",
   "nbconvert_exporter": "python",
   "pygments_lexer": "ipython3",
   "version": "3.10.9"
  }
 },
 "nbformat": 4,
 "nbformat_minor": 5
}
