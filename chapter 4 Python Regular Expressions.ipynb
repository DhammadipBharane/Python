{
 "cells": [
  {
   "cell_type": "markdown",
   "id": "59618775",
   "metadata": {},
   "source": [
    "#### import re"
   ]
  },
  {
   "cell_type": "markdown",
   "id": "2d1064a2",
   "metadata": {},
   "source": [
    "# The term Regular Expressions is popularly shortened as regex.\n",
    "# A regex is a sequence of characters taht defines a search pattern, \n",
    "# used mainly for performing find and replace operations in search engines and text processors."
   ]
  },
  {
   "cell_type": "code",
   "execution_count": 7,
   "id": "62d21360",
   "metadata": {},
   "outputs": [
    {
     "name": "stdout",
     "output_type": "stream",
     "text": [
      "this is /n raw string\n"
     ]
    }
   ],
   "source": [
    "string = R'this is /n raw string'\n",
    "print(string)"
   ]
  },
  {
   "cell_type": "code",
   "execution_count": 6,
   "id": "42be0d28",
   "metadata": {},
   "outputs": [
    {
     "name": "stdout",
     "output_type": "stream",
     "text": [
      "this is /n raw string\n"
     ]
    }
   ],
   "source": [
    "string = 'this is /n raw string'\n",
    "print(string)"
   ]
  },
  {
   "cell_type": "markdown",
   "id": "461be0c6",
   "metadata": {},
   "source": [
    "# Different functions in Python's re module ues raw string as an argument.\n",
    "# A normal string when prefixed with 'r' or 'R' becomes a raw string.\n"
   ]
  },
  {
   "cell_type": "code",
   "execution_count": null,
   "id": "b3914395",
   "metadata": {},
   "outputs": [],
   "source": []
  },
  {
   "cell_type": "markdown",
   "id": "3ad60305",
   "metadata": {},
   "source": [
    "# META CHARACTERS\n",
    "\n",
    "# . ^ $ * + ? [] \\ | ()"
   ]
  },
  {
   "cell_type": "code",
   "execution_count": null,
   "id": "27c66ed4",
   "metadata": {},
   "outputs": [],
   "source": []
  },
  {
   "cell_type": "code",
   "execution_count": 3,
   "id": "95633372",
   "metadata": {},
   "outputs": [],
   "source": [
    "import re"
   ]
  },
  {
   "cell_type": "code",
   "execution_count": 4,
   "id": "c4042e58",
   "metadata": {},
   "outputs": [
    {
     "name": "stdout",
     "output_type": "stream",
     "text": [
      "Help on function match in module re:\n",
      "\n",
      "match(pattern, string, flags=0)\n",
      "    Try to apply the pattern at the start of the string, returning\n",
      "    a Match object, or None if no match was found.\n",
      "\n"
     ]
    }
   ],
   "source": [
    "help(re.match)"
   ]
  },
  {
   "cell_type": "code",
   "execution_count": 5,
   "id": "ca72fe00",
   "metadata": {},
   "outputs": [],
   "source": [
    "from re import match\n"
   ]
  },
  {
   "cell_type": "code",
   "execution_count": 6,
   "id": "5f90c9f8",
   "metadata": {},
   "outputs": [
    {
     "name": "stdout",
     "output_type": "stream",
     "text": [
      "<re.Match object; span=(0, 2), match='We'>\n",
      "None\n"
     ]
    }
   ],
   "source": [
    "mystr = \"Welcome to Sinhgad Institute Pune\"\n",
    "obj1 = match(\"We\", mystr)\n",
    "print(obj1)\n",
    "obj2 = match(\"Pune\", mystr)\n",
    "print(obj2)"
   ]
  },
  {
   "cell_type": "code",
   "execution_count": null,
   "id": "6bdd72dd",
   "metadata": {},
   "outputs": [],
   "source": []
  },
  {
   "cell_type": "code",
   "execution_count": 7,
   "id": "75a00a49",
   "metadata": {},
   "outputs": [
    {
     "name": "stdout",
     "output_type": "stream",
     "text": [
      "Start = {obj1.start()} and End = {obj1.end()}\n",
      "Start = {obj2.start()} and End = {obj2.end()}\n"
     ]
    }
   ],
   "source": [
    "print(\"Start = {obj1.start()} and End = {obj1.end()}\")\n",
    "print(\"Start = {obj2.start()} and End = {obj2.end()}\")"
   ]
  },
  {
   "cell_type": "code",
   "execution_count": null,
   "id": "52053f87",
   "metadata": {},
   "outputs": [],
   "source": []
  },
  {
   "cell_type": "code",
   "execution_count": 9,
   "id": "1943a5b1",
   "metadata": {},
   "outputs": [
    {
     "name": "stdout",
     "output_type": "stream",
     "text": [
      "<re.Match object; span=(0, 2), match='We'>\n",
      "<re.Match object; span=(0, 2), match='We'>\n",
      "<re.Match object; span=(0, 2), match='Wi'>\n",
      "None\n",
      "<re.Match object; span=(0, 2), match='Wo'>\n",
      "<re.Match object; span=(0, 2), match='Wa'>\n",
      "<re.Match object; span=(0, 2), match='Wi'>\n"
     ]
    }
   ],
   "source": [
    "strings = [\"Welcome to Sinhgad Institute\",\"Weather forecast\", \"Winston Churchil\", \"W.G.Grace\", \"Wonders of India\", \"Water Park\", \"Windows10\"]\n",
    "\n",
    "for string in strings:\n",
    "    obj = match(\"W[a-z]\", string)\n",
    "    print(obj)"
   ]
  },
  {
   "cell_type": "code",
   "execution_count": null,
   "id": "e46e4a5d",
   "metadata": {},
   "outputs": [],
   "source": []
  },
  {
   "cell_type": "code",
   "execution_count": 9,
   "id": "113c510f",
   "metadata": {},
   "outputs": [
    {
     "name": "stdout",
     "output_type": "stream",
     "text": [
      "Enter your name: Dhammadip\n",
      "Valid name\n"
     ]
    }
   ],
   "source": [
    "\n",
    "Name = input(\"Enter your name: \")\n",
    "\n",
    "if re.match(r\"[a-zA-Z]+\", Name):\n",
    "    print(\"Valid name\")\n",
    "else:\n",
    "    print(\"Invalid name\")\n",
    "            \n",
    "    "
   ]
  },
  {
   "cell_type": "code",
   "execution_count": null,
   "id": "be75d668",
   "metadata": {},
   "outputs": [],
   "source": []
  },
  {
   "cell_type": "markdown",
   "id": "ae67f07b",
   "metadata": {},
   "source": [
    "re.search() function\n",
    "\n",
    "The re.search() function searches for a sepecified pattern # # # anywhere in the given string and \n",
    "stops the search on the occurrence."
   ]
  },
  {
   "cell_type": "code",
   "execution_count": null,
   "id": "0223882e",
   "metadata": {},
   "outputs": [],
   "source": []
  },
  {
   "cell_type": "code",
   "execution_count": 5,
   "id": "d9d51d85",
   "metadata": {},
   "outputs": [],
   "source": [
    "from re import search"
   ]
  },
  {
   "cell_type": "code",
   "execution_count": 18,
   "id": "e50500ac",
   "metadata": {},
   "outputs": [
    {
     "name": "stdout",
     "output_type": "stream",
     "text": [
      "<re.Match object; span=(7, 11), match='earn'>\n",
      "7 11 earn\n"
     ]
    }
   ],
   "source": [
    "string = \"Try to earn while earn you learn\"\n",
    "obj = search (\"earn\", string)\n",
    "print(obj)\n",
    "print(obj.start(), obj.end(), obj.group())"
   ]
  },
  {
   "cell_type": "code",
   "execution_count": null,
   "id": "5380b6a7",
   "metadata": {},
   "outputs": [],
   "source": []
  },
  {
   "cell_type": "markdown",
   "id": "8c47215c",
   "metadata": {},
   "source": [
    "re.findall() function\n",
    "\n",
    "As against the search() function, the findall continues to search for the pattern till the target string is exhausted.\n"
   ]
  },
  {
   "cell_type": "code",
   "execution_count": 21,
   "id": "e778702d",
   "metadata": {},
   "outputs": [],
   "source": [
    "from re import findall"
   ]
  },
  {
   "cell_type": "code",
   "execution_count": 24,
   "id": "6cf8aef6",
   "metadata": {},
   "outputs": [
    {
     "name": "stdout",
     "output_type": "stream",
     "text": [
      "Help on function findall in module re:\n",
      "\n",
      "findall(pattern, string, flags=0)\n",
      "    Return a list of all non-overlapping matches in the string.\n",
      "    \n",
      "    If one or more capturing groups are present in the pattern, return\n",
      "    a list of groups; this will be a list of tuples if the pattern\n",
      "    has more than one group.\n",
      "    \n",
      "    Empty matches are included in the result.\n",
      "\n"
     ]
    }
   ],
   "source": [
    "help(findall)"
   ]
  },
  {
   "cell_type": "code",
   "execution_count": null,
   "id": "8c9cdec7",
   "metadata": {},
   "outputs": [],
   "source": []
  },
  {
   "cell_type": "code",
   "execution_count": 27,
   "id": "a7b87af7",
   "metadata": {},
   "outputs": [
    {
     "name": "stdout",
     "output_type": "stream",
     "text": [
      "['earn', 'earn', 'earn']\n"
     ]
    }
   ],
   "source": [
    "string = \"Try to earn while earn you learn\"\n",
    "obj = findall (\"earn\", string)\n",
    "print(obj)\n"
   ]
  },
  {
   "cell_type": "code",
   "execution_count": null,
   "id": "15dcec7d",
   "metadata": {},
   "outputs": [],
   "source": []
  },
  {
   "cell_type": "code",
   "execution_count": 29,
   "id": "5fa40311",
   "metadata": {},
   "outputs": [],
   "source": [
    "import re"
   ]
  },
  {
   "cell_type": "code",
   "execution_count": 32,
   "id": "5a929c34",
   "metadata": {},
   "outputs": [
    {
     "name": "stdout",
     "output_type": "stream",
     "text": [
      "['Fly', '', 'in', '', 'the', '', 'sky', '']\n",
      "ob1 = None\n",
      "Fly\n",
      "ob1 = None\n",
      "ob1 = <re.Match object; span=(0, 1), match='i'>\n",
      "ob1 = None\n",
      "ob1 = <re.Match object; span=(2, 3), match='e'>\n",
      "ob1 = None\n",
      "ob1 = None\n",
      "sky\n",
      "ob1 = None\n"
     ]
    }
   ],
   "source": [
    "obj = findall(r\"\\w*\", \"Fly in the sky\")\n",
    "print(obj)\n",
    "              \n",
    "for word in obj:\n",
    "    ob1 = search(r\"[aeiou]\", word)\n",
    "    print(f'ob1 = {ob1}')\n",
    "    if word != '' and ob1 == None:\n",
    "        print(word)"
   ]
  },
  {
   "cell_type": "code",
   "execution_count": null,
   "id": "b3012429",
   "metadata": {},
   "outputs": [],
   "source": []
  },
  {
   "cell_type": "markdown",
   "id": "53ba5b4e",
   "metadata": {},
   "source": [
    "re.finditer() function\n",
    "\n",
    "The re.finditer function return an iterator object of all matches"
   ]
  },
  {
   "cell_type": "code",
   "execution_count": 36,
   "id": "5073a844",
   "metadata": {},
   "outputs": [],
   "source": [
    "from re import finditer"
   ]
  },
  {
   "cell_type": "code",
   "execution_count": 39,
   "id": "2bd72d37",
   "metadata": {},
   "outputs": [
    {
     "name": "stdout",
     "output_type": "stream",
     "text": [
      "Help on function finditer in module re:\n",
      "\n",
      "finditer(pattern, string, flags=0)\n",
      "    Return an iterator over all non-overlapping matches in the\n",
      "    string.  For each match, the iterator returns a Match object.\n",
      "    \n",
      "    Empty matches are included in the result.\n",
      "\n"
     ]
    }
   ],
   "source": [
    "help(finditer)"
   ]
  },
  {
   "cell_type": "code",
   "execution_count": null,
   "id": "b0cc23fe",
   "metadata": {},
   "outputs": [],
   "source": []
  },
  {
   "cell_type": "code",
   "execution_count": 41,
   "id": "08fe738f",
   "metadata": {},
   "outputs": [
    {
     "name": "stdout",
     "output_type": "stream",
     "text": [
      "<callable_iterator object at 0x000001D443C7E3E0>\n",
      "<re.Match object; span=(7, 11), match='earn'>\n",
      "(7, 11)\n",
      "<re.Match object; span=(27, 31), match='earn'>\n",
      "(27, 31)\n"
     ]
    }
   ],
   "source": [
    "from re import finditer\n",
    "\n",
    "string = \"Try to earn while you are learning\"\n",
    "itr = finditer(\"earn\", string)\n",
    "print(itr)\n",
    "\n",
    "for match in itr:\n",
    "    print(match)\n",
    "    print(match.span())"
   ]
  },
  {
   "cell_type": "code",
   "execution_count": null,
   "id": "b8618310",
   "metadata": {},
   "outputs": [],
   "source": []
  },
  {
   "cell_type": "code",
   "execution_count": null,
   "id": "85b6fd18",
   "metadata": {},
   "outputs": [],
   "source": []
  },
  {
   "cell_type": "markdown",
   "id": "dbbff469",
   "metadata": {},
   "source": [
    "re.split() function\n",
    "The re.split() function works similar to the slipt() method of str object in Python"
   ]
  },
  {
   "cell_type": "code",
   "execution_count": 42,
   "id": "db1b588c",
   "metadata": {},
   "outputs": [],
   "source": [
    "from re import split"
   ]
  },
  {
   "cell_type": "code",
   "execution_count": 44,
   "id": "d92d2514",
   "metadata": {},
   "outputs": [
    {
     "name": "stdout",
     "output_type": "stream",
     "text": [
      "Flat is bettern than nested. Sparse is better than dens\n",
      "['Flat', 'is', 'bettern', 'than', 'nested.', 'Sparse', 'is', 'better', 'than', 'dens']\n"
     ]
    }
   ],
   "source": [
    "string = \"Flat is bettern than nested. Sparse is better than dens\"\n",
    "print(string)\n",
    "words = split(r' ', string)\n",
    "print(words)"
   ]
  },
  {
   "cell_type": "code",
   "execution_count": null,
   "id": "a0939955",
   "metadata": {},
   "outputs": [],
   "source": []
  },
  {
   "cell_type": "code",
   "execution_count": null,
   "id": "90fe0438",
   "metadata": {},
   "outputs": [],
   "source": []
  },
  {
   "cell_type": "markdown",
   "id": "068c3ee7",
   "metadata": {},
   "source": [
    "re.compile() function\n",
    "\n",
    "The re.compile() function returns a pattern object which can be repeatedly used in different regex functins.\n"
   ]
  },
  {
   "cell_type": "code",
   "execution_count": 49,
   "id": "973ec462",
   "metadata": {},
   "outputs": [
    {
     "name": "stdout",
     "output_type": "stream",
     "text": [
      "Compiled Pattern is : re.compile('[aeiou]')\n",
      "['Flat', 'is', 'better', 'than', 'nested.', 'Sparse', 'is', 'better', 'than', 'dense.']\n",
      "\n",
      " Using pattern object with match() : \n",
      "Flat None\n",
      "is <re.Match object; span=(0, 1), match='i'>\n",
      "better None\n",
      "than None\n",
      "nested. None\n",
      "Sparse None\n",
      "is <re.Match object; span=(0, 1), match='i'>\n",
      "better None\n",
      "than None\n",
      "dense. None\n",
      "\n",
      " Using pattern object with serach() : \n",
      "Flat <re.Match object; span=(2, 3), match='a'>\n",
      "is <re.Match object; span=(0, 1), match='i'>\n",
      "better <re.Match object; span=(1, 2), match='e'>\n",
      "than <re.Match object; span=(2, 3), match='a'>\n",
      "nested. <re.Match object; span=(1, 2), match='e'>\n",
      "Sparse <re.Match object; span=(2, 3), match='a'>\n",
      "is <re.Match object; span=(0, 1), match='i'>\n",
      "better <re.Match object; span=(1, 2), match='e'>\n",
      "than <re.Match object; span=(2, 3), match='a'>\n",
      "dense. <re.Match object; span=(1, 2), match='e'>\n"
     ]
    }
   ],
   "source": [
    "from re import *\n",
    "\n",
    "pattern = compile(r'[aeiou]')\n",
    "print(f'Compiled Pattern is : {pattern}')\n",
    "\n",
    "string = \"Flat is better than nested. Sparse is better than dense.\"\n",
    "words = split(r' ', string)\n",
    "print(words)\n",
    "\n",
    "# Pattern used with match()\n",
    "\n",
    "print(\"\\n Using pattern object with match() : \")\n",
    "for word in words:\n",
    "    print(word, pattern.match(word))\n",
    "    \n",
    "print(\"\\n Using pattern object with serach() : \")\n",
    "for word in words:\n",
    "    print(word, pattern.search(word))"
   ]
  },
  {
   "cell_type": "code",
   "execution_count": null,
   "id": "1c29d0d1",
   "metadata": {},
   "outputs": [],
   "source": []
  },
  {
   "cell_type": "markdown",
   "id": "a702565e",
   "metadata": {},
   "source": [
    "The sub() function\n",
    "\n",
    "The sub() function replaces the matches with the text of your choice."
   ]
  },
  {
   "cell_type": "code",
   "execution_count": 51,
   "id": "e02f6a20",
   "metadata": {},
   "outputs": [
    {
     "name": "stdout",
     "output_type": "stream",
     "text": [
      "Help on function sub in module re:\n",
      "\n",
      "sub(pattern, repl, string, count=0, flags=0)\n",
      "    Return the string obtained by replacing the leftmost\n",
      "    non-overlapping occurrences of the pattern in string by the\n",
      "    replacement repl.  repl can be either a string or a callable;\n",
      "    if a string, backslash escapes in it are processed.  If it is\n",
      "    a callable, it's passed the Match object and must return\n",
      "    a replacement string to be used.\n",
      "\n"
     ]
    }
   ],
   "source": [
    "from re import sub\n",
    "help(sub)"
   ]
  },
  {
   "cell_type": "code",
   "execution_count": 57,
   "id": "993a881d",
   "metadata": {},
   "outputs": [
    {
     "name": "stdout",
     "output_type": "stream",
     "text": [
      "The ra9 9 Spa9\n"
     ]
    }
   ],
   "source": [
    "import re\n",
    "\n",
    "txt = \"The rain in Spain\"\n",
    "x = re.sub(\"in\", \"9\", txt)\n",
    "print(x)"
   ]
  },
  {
   "cell_type": "code",
   "execution_count": null,
   "id": "36ca59fb",
   "metadata": {},
   "outputs": [],
   "source": []
  },
  {
   "cell_type": "code",
   "execution_count": null,
   "id": "099e9933",
   "metadata": {},
   "outputs": [],
   "source": []
  },
  {
   "cell_type": "markdown",
   "id": "5c3ecc8e",
   "metadata": {},
   "source": [
    "Password Validatin using re\n",
    "\n",
    "Complexity requirement is we need at least one capital letter, one small letter, one number and one special character.\n",
    "We also need the length of the password to be between 8 and 12."
   ]
  },
  {
   "cell_type": "code",
   "execution_count": 1,
   "id": "5a3f1b70",
   "metadata": {},
   "outputs": [
    {
     "name": "stdout",
     "output_type": "stream",
     "text": [
      "Enter a Valid Password : Hello@1234\n",
      "Entered Password is Valid one !!!\n",
      "Do you want to continue? (y or n) : n\n"
     ]
    }
   ],
   "source": [
    "from re import *\n",
    "\n",
    "ch = 'y'\n",
    "while ch == 'y':\n",
    "    pswd = input(\"Enter a Valid Password : \")\n",
    "    reg = \"^(?=.*[a-z])(?=.*[A-Z])(?=.*\\d)(?=.*[@$!%*#?&])[A-Za-z\\d@$!%*#?&]{6,16}$\"\n",
    "    \n",
    "    #compiling regex\n",
    "    \n",
    "    match_reg = compile(reg)\n",
    "    \n",
    "    # searching regex\n",
    "    \n",
    "    result = search(match_reg, pswd)\n",
    "    \n",
    "    # Validating conditions\n",
    "    \n",
    "    if result:\n",
    "        print(\"Entered Password is Valid one !!!\")\n",
    "    else:\n",
    "        print(\"Entered Password is Invalid one !!!\")\n",
    "    \n",
    "    ch = input(\"Do you want to continue? (y or n) : \")\n",
    "    \n",
    "    if ch == 'y' or ch == 'Y':\n",
    "        continue\n",
    "    else:\n",
    "        break"
   ]
  },
  {
   "cell_type": "code",
   "execution_count": null,
   "id": "bd07da38",
   "metadata": {},
   "outputs": [],
   "source": []
  },
  {
   "cell_type": "code",
   "execution_count": null,
   "id": "387ae44d",
   "metadata": {},
   "outputs": [],
   "source": []
  },
  {
   "cell_type": "code",
   "execution_count": 8,
   "id": "30606332",
   "metadata": {},
   "outputs": [
    {
     "name": "stdout",
     "output_type": "stream",
     "text": [
      "Enter a your Name(f_name l_name) : Dhammadip Bharane\n",
      "Valid name !!!\n",
      "Do you want to continue? (y or n) : y\n",
      "Enter a your Name(f_name l_name) : bhatu\n",
      "Invalid name...\n",
      "Do you want to continue? (y or n) : n\n"
     ]
    }
   ],
   "source": [
    "import re\n",
    "\n",
    "ch = 'y'\n",
    "while True:\n",
    "    \n",
    "    name = input(\"Enter a your Name(f_name l_name) : \")\n",
    "    if re.findall('[A-Za-z]{2,25}\\s[A-Za-z]{2,25}',name):\n",
    "        print(\"Valid name !!!\")\n",
    "    else:\n",
    "        print(\"Invalid name...\")\n",
    "    \n",
    "    ch = input(\"Do you want to continue? (y or n) : \")\n",
    "    \n",
    "    if ch == 'y' or ch == 'Y':\n",
    "        continue\n",
    "    else:\n",
    "        break"
   ]
  },
  {
   "cell_type": "code",
   "execution_count": null,
   "id": "e417d7e9",
   "metadata": {},
   "outputs": [],
   "source": []
  },
  {
   "cell_type": "code",
   "execution_count": 1,
   "id": "62cfab04",
   "metadata": {},
   "outputs": [
    {
     "name": "stdout",
     "output_type": "stream",
     "text": [
      "Enter Valid Mobile Number : 7218968234\n",
      "Valid Mobile Number...\n",
      "Do you want to continue? (y or n) : y\n",
      "Enter Valid Mobile Number : 4572189682\n",
      "Invalid Mobile Number...\n",
      "Do you want to continue? (y or n) : y\n",
      "Enter Valid Mobile Number : 917218968234\n",
      "Valid Mobile Number...\n",
      "Do you want to continue? (y or n) : n\n"
     ]
    }
   ],
   "source": [
    "import re\n",
    "\n",
    "def isValid(s):\n",
    "    # 1)Begin with 0 or 91\n",
    "    # 2)Then contains 6, 7 or 8 or 9.\n",
    "    # 3)Then contains 9 digits\n",
    "    pattern = re.compile(\"(0|91)?[6-9][0-9]{9}\")\n",
    "    return pattern.match(s)\n",
    "\n",
    "ch = 'y'\n",
    "while True:\n",
    "    mobile = input(\"Enter Valid Mobile Number : \")\n",
    "    if(isValid(mobile)):\n",
    "        print(\"Valid Mobile Number...\")\n",
    "    else:\n",
    "        print(\"Invalid Mobile Number...\")\n",
    "    \n",
    "    ch = input(\"Do you want to continue? (y or n) : \")\n",
    "    \n",
    "    if ch == 'y' or ch == 'Y':\n",
    "        continue\n",
    "    else:\n",
    "        break"
   ]
  },
  {
   "cell_type": "code",
   "execution_count": null,
   "id": "96f7928d",
   "metadata": {},
   "outputs": [],
   "source": []
  },
  {
   "cell_type": "code",
   "execution_count": null,
   "id": "e8f5846c",
   "metadata": {},
   "outputs": [],
   "source": []
  },
  {
   "cell_type": "code",
   "execution_count": 3,
   "id": "b0b0b139",
   "metadata": {},
   "outputs": [
    {
     "name": "stdout",
     "output_type": "stream",
     "text": [
      "Enter a valid Email : dhammadipbharane77@gmail.com\n",
      "Entered Email is Valid Email...\n",
      "Do you want to continue? (y or n) : y\n",
      "Enter a valid Email : Bhatusonawane@gmail.com\n",
      "Entered Email is Valid Email...\n",
      "Do you want to continue? (y or n) : y\n",
      "Enter a valid Email : dhammadipbharane@sinhgad.edu\n",
      "Entered Email is Valid Email...\n",
      "Do you want to continue? (y or n) : y\n",
      "Enter a valid Email : dhammadipbharane@sinhgad.edu\n",
      "Entered Email is Valid Email...\n",
      "Do you want to continue? (y or n) : y\n",
      "Enter a valid Email : email@123.123.123\n",
      "Entered Email is Valid Email...\n",
      "Do you want to continue? (y or n) : y\n",
      "Enter a valid Email : email@example.museum\n",
      "Entered Email is Valid Email...\n",
      "Do you want to continue? (y or n) : y\n",
      "Enter a valid Email : n\n",
      "Entered Email is not Valid...\n",
      "Do you want to continue? (y or n) : n\n"
     ]
    }
   ],
   "source": [
    "import re\n",
    "\n",
    "regex = r\"(^[a-zA-Z0-9_.+-]+@[a-zA-z0-9-]+\\.[a-zA-z0-9-.]+$)\"\n",
    "\n",
    "def check(email):\n",
    "    if(re.search(regex, email)):\n",
    "        print(\"Entered Email is Valid Email...\")\n",
    "    else:\n",
    "        print(\"Entered Email is not Valid...\")\n",
    "\n",
    "ch = 'y'\n",
    "while ch == 'y':\n",
    "    email = input(\"Enter a valid Email : \")\n",
    "    check(email)\n",
    "    \n",
    "    ch = input(\"Do you want to continue? (y or n) : \")\n",
    "    \n",
    "    if ch == 'y' or ch == 'Y':\n",
    "        continue\n",
    "    else:\n",
    "        break"
   ]
  },
  {
   "cell_type": "code",
   "execution_count": null,
   "id": "dd614866",
   "metadata": {},
   "outputs": [],
   "source": []
  },
  {
   "cell_type": "code",
   "execution_count": 1,
   "id": "04aed109",
   "metadata": {},
   "outputs": [],
   "source": [
    "import getpass"
   ]
  },
  {
   "cell_type": "code",
   "execution_count": 2,
   "id": "a2605274",
   "metadata": {},
   "outputs": [
    {
     "name": "stdout",
     "output_type": "stream",
     "text": [
      "Help on method getpass in module ipykernel.kernelbase:\n",
      "\n",
      "getpass(prompt='', stream=None) method of ipykernel.ipkernel.IPythonKernel instance\n",
      "    Forward getpass to frontends\n",
      "    \n",
      "    Raises\n",
      "    ------\n",
      "    StdinNotImplementedError if active frontend doesn't support stdin.\n",
      "\n"
     ]
    }
   ],
   "source": [
    "help(getpass.getpass)"
   ]
  },
  {
   "cell_type": "code",
   "execution_count": 2,
   "id": "45383bb4",
   "metadata": {},
   "outputs": [
    {
     "name": "stdout",
     "output_type": "stream",
     "text": [
      "Enter your password········\n",
      "Your password = Dhammadip\n"
     ]
    }
   ],
   "source": [
    "password=getpass.getpass(prompt=\"Enter your password\")\n",
    "print(\"Your password =\",password)"
   ]
  },
  {
   "cell_type": "code",
   "execution_count": null,
   "id": "72e58ab6",
   "metadata": {},
   "outputs": [],
   "source": []
  },
  {
   "cell_type": "code",
   "execution_count": null,
   "id": "19bc4cb2",
   "metadata": {},
   "outputs": [],
   "source": [
    "import re\n",
    "\n",
    "ch = 'y'\n",
    "while True:\n",
    "    data = input(\"Enter valid Date(dd-mm-yy) : \")\n",
    "    x = re.search(\"^([1-9]|1[0-9]|2[0-9]|3[0-1])(.|-)([1-9]|1[0-2])(.|-)20[0-9]$\", date)\n",
    "    "
   ]
  },
  {
   "cell_type": "code",
   "execution_count": null,
   "id": "037bd9e4",
   "metadata": {},
   "outputs": [],
   "source": []
  },
  {
   "cell_type": "code",
   "execution_count": null,
   "id": "436870a4",
   "metadata": {},
   "outputs": [
    {
     "name": "stdout",
     "output_type": "stream",
     "text": [
      "Enter Valid Date (dd-mm-yyyy): 12-12-2012\n",
      "Valid date...\n",
      "Do you want to continue?(y/n): y\n",
      "Enter Valid Date (dd-mm-yyyy): 6-7-2023\n",
      "Valid date...\n",
      "Do you want to continue?(y/n): y\n",
      "Enter Valid Date (dd-mm-yyyy): 12/15/23\n",
      "Invalid date...\n",
      "Do you want to continue?(y/n): y\n",
      "Enter Valid Date (dd-mm-yyyy): 12/12/23\n",
      "Invalid date...\n",
      "Do you want to continue?(y/n): y\n",
      "Enter Valid Date (dd-mm-yyyy): 12/12/2023\n",
      "Valid date...\n"
     ]
    }
   ],
   "source": [
    "import re\n",
    "\n",
    "ch = 'y'\n",
    "while True:\n",
    "    date = input(\"Enter Valid Date (dd-mm-yyyy): \")\n",
    "    x = re.search('^([1-9]|1[0-9]|2[0-9]|3[0-1])(.|-)([1-9]|1[0-2])(.|-)20[0-9][0-9]$', date)\n",
    "    \n",
    "    if x:\n",
    "        print(\"Valid date...\")\n",
    "    else:\n",
    "        print(\"Invalid date...\")\n",
    "    ch = input(\"Do you want to continue?(y/n): \")\n",
    "    if ch == 'y' or ch == 'Y':\n",
    "        continue\n",
    "    else:\n",
    "        break"
   ]
  },
  {
   "cell_type": "code",
   "execution_count": null,
   "id": "06eb4fbf",
   "metadata": {},
   "outputs": [],
   "source": []
  },
  {
   "cell_type": "code",
   "execution_count": 1,
   "id": "0edcfda9",
   "metadata": {},
   "outputs": [
    {
     "name": "stdout",
     "output_type": "stream",
     "text": [
      "Enter the URl string: http://www.google.com\n",
      "Input URL is Valid !!!\n",
      "Do you want to continue?(y/n): n\n"
     ]
    }
   ],
   "source": [
    "import re\n",
    "\n",
    "def check_url(ip_url):\n",
    "    #regular Expression for url\n",
    "    \n",
    "    regex = (\"((http|https|ftp)://)(www.)?\" +\n",
    "             \"[a-zA-Z0-9@:%._\\\\+~#?&//=]\" +\n",
    "             \"{2,256}\\\\.[a-z]\" +\n",
    "             \"{2,6}\\\\b([-a-zA-Z0-9@:%\" + \n",
    "             \" ._\\\\+~#?&//=]*)\")\n",
    "    p = re.compile(regex)\n",
    "    \n",
    "    if (ip_url == None):\n",
    "        print(\"Input string is empty !!!\")\n",
    "        \n",
    "    if (re.search(p, ip_url)):\n",
    "        print(\"Input URL is Valid !!!\")\n",
    "    \n",
    "    else:\n",
    "        print(\"Input URL is Invalid !!!\")\n",
    "\n",
    "ch = 'y'\n",
    "while ch == 'y' or ch == 'Y':\n",
    "    ip_url = input(\"Enter the URl string: \")\n",
    "    check_url(ip_url)\n",
    "    ch = input(\"Do you want to continue?(y/n): \")\n",
    "    if ch == 'y' or ch == 'Y':\n",
    "        continue\n",
    "    else:\n",
    "        break"
   ]
  },
  {
   "cell_type": "code",
   "execution_count": null,
   "id": "e3bba764",
   "metadata": {},
   "outputs": [],
   "source": []
  },
  {
   "cell_type": "code",
   "execution_count": null,
   "id": "22d87288",
   "metadata": {},
   "outputs": [],
   "source": []
  }
 ],
 "metadata": {
  "kernelspec": {
   "display_name": "Python 3 (ipykernel)",
   "language": "python",
   "name": "python3"
  },
  "language_info": {
   "codemirror_mode": {
    "name": "ipython",
    "version": 3
   },
   "file_extension": ".py",
   "mimetype": "text/x-python",
   "name": "python",
   "nbconvert_exporter": "python",
   "pygments_lexer": "ipython3",
   "version": "3.10.9"
  }
 },
 "nbformat": 4,
 "nbformat_minor": 5
}
