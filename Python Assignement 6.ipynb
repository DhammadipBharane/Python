{
 "cells": [
  {
   "cell_type": "code",
   "execution_count": 1,
   "id": "7a450d1b",
   "metadata": {},
   "outputs": [
    {
     "name": "stdout",
     "output_type": "stream",
     "text": [
      "user\n"
     ]
    }
   ],
   "source": [
    "#1.Write a Python program that allows you to create a file on desktop called myFile.txt and write on \n",
    "# it the content S=’Python is object oriented programming language’. You must at first retrieve the username via the os.getlogin() method\n",
    "\n",
    "import os\n",
    "os.startfile(\"C:/Users/user/Desktop/myFile.txt\")\n",
    "fp = open(\"C:/Users/user/Desktop/myFile.txt\",\"w\")\n",
    "fp.writelines('Python is object oriented programming language')\n",
    "fp.close()\n",
    "username=os.getlogin()\n",
    "print(username)"
   ]
  },
  {
   "cell_type": "code",
   "execution_count": null,
   "id": "ea5c35eb",
   "metadata": {},
   "outputs": [],
   "source": []
  },
  {
   "cell_type": "code",
   "execution_count": null,
   "id": "0d2b1fa9",
   "metadata": {},
   "outputs": [],
   "source": []
  },
  {
   "cell_type": "code",
   "execution_count": null,
   "id": "ea2b3269",
   "metadata": {},
   "outputs": [],
   "source": []
  },
  {
   "cell_type": "code",
   "execution_count": 3,
   "id": "537102a6",
   "metadata": {},
   "outputs": [],
   "source": [
    "#2.Write a Python program to read the existing file on the desktop myFile.txt.\n",
    "\n",
    "import os\n",
    "os.startfile('C:/Users/user/Desktop/myFile.txt')\n",
    "fp=open('C:/Users/user/Desktop/myFile.txt','r')\n",
    "fp.close()"
   ]
  },
  {
   "cell_type": "code",
   "execution_count": null,
   "id": "399fbb55",
   "metadata": {},
   "outputs": [],
   "source": []
  },
  {
   "cell_type": "code",
   "execution_count": null,
   "id": "483ccf5b",
   "metadata": {},
   "outputs": [],
   "source": []
  },
  {
   "cell_type": "code",
   "execution_count": null,
   "id": "3788f38f",
   "metadata": {},
   "outputs": [],
   "source": []
  },
  {
   "cell_type": "code",
   "execution_count": 4,
   "id": "57ce39a5",
   "metadata": {},
   "outputs": [],
   "source": [
    "#3.Using os.rename() method, create a python program to rename an existing file on the desktop \n",
    "# called myFile.txt to myFile1.txt.\n",
    "\n",
    "import os\n",
    "username = os.getlogin()\n",
    "old = 'C:/Users/user/Desktop/myFile.txt'\n",
    "new = 'C:/Users/user/Desktop/myFile1.txt'\n",
    "os.rename(old, new)\n",
    "os.startfile('C:/Users/user/Desktop/myFile1.txt')\n"
   ]
  },
  {
   "cell_type": "code",
   "execution_count": null,
   "id": "deb68cda",
   "metadata": {},
   "outputs": [],
   "source": []
  },
  {
   "cell_type": "code",
   "execution_count": null,
   "id": "efb0931a",
   "metadata": {},
   "outputs": [],
   "source": []
  },
  {
   "cell_type": "code",
   "execution_count": null,
   "id": "3e3f7ba4",
   "metadata": {},
   "outputs": [],
   "source": []
  },
  {
   "cell_type": "code",
   "execution_count": 6,
   "id": "58ac1057",
   "metadata": {},
   "outputs": [
    {
     "name": "stdout",
     "output_type": "stream",
     "text": [
      "The File is succussfully moved...\n"
     ]
    },
    {
     "data": {
      "text/plain": [
       "'C:/Users/user/Desktop/myDir/myFile.txt'"
      ]
     },
     "execution_count": 6,
     "metadata": {},
     "output_type": "execute_result"
    }
   ],
   "source": [
    "#4.Write a python program that allowing you to create a directory in the desktop called myDir, \n",
    "# also allow you to move myFile.txt into the directory myDir. \n",
    "\n",
    "import os\n",
    "import shutil\n",
    "\n",
    "os.makedirs('C:/Users/user/Desktop/myDir')\n",
    "current = f'C:/Users/user/Desktop/myFile1.txt'\n",
    "print(\"The File is succussfully moved...\")\n",
    "new = f'C:/Users/user/Desktop/myDir/myFile.txt'\n",
    "shutil.move(current, new)\n",
    "\n"
   ]
  },
  {
   "cell_type": "code",
   "execution_count": null,
   "id": "d481e324",
   "metadata": {},
   "outputs": [],
   "source": []
  },
  {
   "cell_type": "code",
   "execution_count": null,
   "id": "d2183c41",
   "metadata": {},
   "outputs": [],
   "source": []
  },
  {
   "cell_type": "code",
   "execution_count": 7,
   "id": "153c2567",
   "metadata": {},
   "outputs": [
    {
     "name": "stdout",
     "output_type": "stream",
     "text": [
      "Line inserted at the third position in each line of the file.\n"
     ]
    }
   ],
   "source": [
    "#5. Write a program in python which allows you to insert at line 3rd position of an existing file \n",
    "# called myfile.txt, the line “This line was inserted via python code!” without changing the existing content file.\n",
    "\n",
    "import os\n",
    "\n",
    "fp = open('C:/Users/user/Desktop/myFile.txt', 'r')\n",
    "contents = fp.readlines()\n",
    "fp.close()\n",
    "\n",
    "line_to_insert = \"This line was inserted via python code!\\n\"\n",
    "\n",
    "for i in range(len(contents)):\n",
    "    line = contents[i].split()\n",
    "    if len(line) >= 3:\n",
    "        line.insert(2, line_to_insert)\n",
    "    contents[i] = ' '.join(line)\n",
    "\n",
    "fp = open('C:/Users/user/Desktop/myFile.txt', 'w')\n",
    "fp.writelines(contents)\n",
    "fp.close()\n",
    "\n",
    "os.startfile('C:/Users/user/Desktop/myFile.txt')\n",
    "\n",
    "print(\"Line inserted at the third position in each line of the file.\")\n"
   ]
  },
  {
   "cell_type": "code",
   "execution_count": null,
   "id": "c961c391",
   "metadata": {},
   "outputs": [],
   "source": []
  },
  {
   "cell_type": "code",
   "execution_count": null,
   "id": "7a1a59eb",
   "metadata": {},
   "outputs": [],
   "source": []
  },
  {
   "cell_type": "code",
   "execution_count": null,
   "id": "a5c45a4d",
   "metadata": {},
   "outputs": [],
   "source": []
  },
  {
   "cell_type": "code",
   "execution_count": 8,
   "id": "8d56582d",
   "metadata": {},
   "outputs": [],
   "source": [
    "#6. Write a Program that removes the 3rd word from this file.\n",
    "\n",
    "import os\n",
    "\n",
    "fp = open('C:/Users/user/Desktop/myFile.txt', 'r')\n",
    "contents = fp.readlines()\n",
    "\n",
    "for i in range(len(contents)):\n",
    "    line = contents[i].split()\n",
    "    if len(line) >= 3:\n",
    "        del line[2]\n",
    "    contents[i] = ' '.join(line)\n",
    "\n",
    "fp = open('C:/Users/user/Desktop/myFile.txt', 'w')\n",
    "fp.writelines(contents)\n",
    "fp.close()\n",
    "\n",
    "os.startfile('C:/Users/user/Desktop/myFile.txt')\n"
   ]
  },
  {
   "cell_type": "code",
   "execution_count": null,
   "id": "9d35f8a6",
   "metadata": {},
   "outputs": [],
   "source": []
  },
  {
   "cell_type": "code",
   "execution_count": null,
   "id": "5234e311",
   "metadata": {},
   "outputs": [],
   "source": []
  },
  {
   "cell_type": "code",
   "execution_count": null,
   "id": "62418933",
   "metadata": {},
   "outputs": [],
   "source": []
  },
  {
   "cell_type": "code",
   "execution_count": 1,
   "id": "f3dd11a8",
   "metadata": {},
   "outputs": [],
   "source": [
    "#7. Given a file called myFile.txt which contains the text: \"Python is the object oriented programming \n",
    "# language.\" Write a program in Python that transforms the content of the file by writing each word in a separate lin.\n",
    "\n",
    "import os\n",
    "\n",
    "fp = open('C:/Users/user/Desktop/myFile.txt', 'r')\n",
    "contents = fp.read()\n",
    "words = contents.split() \n",
    "fp = open('C:/Users/user/Desktop/myFile.txt', 'w')\n",
    "for word in words:\n",
    "    fp.write(word + '\\n')\n",
    "fp.close()\n",
    "os.startfile('C:/Users/user/Desktop/myFile.txt')\n",
    "\n",
    "\n"
   ]
  },
  {
   "cell_type": "code",
   "execution_count": null,
   "id": "23c53c3e",
   "metadata": {},
   "outputs": [],
   "source": []
  },
  {
   "cell_type": "code",
   "execution_count": null,
   "id": "bb70eef3",
   "metadata": {},
   "outputs": [],
   "source": []
  },
  {
   "cell_type": "code",
   "execution_count": null,
   "id": "aa41973e",
   "metadata": {},
   "outputs": [],
   "source": []
  },
  {
   "cell_type": "code",
   "execution_count": 11,
   "id": "dd6f11dd",
   "metadata": {},
   "outputs": [
    {
     "name": "stdout",
     "output_type": "stream",
     "text": [
      "The longest word in the file is :  code!object\n"
     ]
    }
   ],
   "source": [
    "#8. Write a python program that displays the longest word found in a text file.\n",
    "\n",
    "import os\n",
    "\n",
    "fp = open('C:/Users/user/Desktop/myFile.txt', 'r')\n",
    "contents = fp.read()\n",
    "words = contents.split()\n",
    "longest_word = ' '\n",
    "for word in words:\n",
    "    if len(word) > len(longest_word):\n",
    "        longest_word = word\n",
    "print(\"The longest word in the file is : \", longest_word)"
   ]
  },
  {
   "cell_type": "code",
   "execution_count": null,
   "id": "44c7ef7d",
   "metadata": {},
   "outputs": [],
   "source": []
  },
  {
   "cell_type": "code",
   "execution_count": null,
   "id": "9488a598",
   "metadata": {},
   "outputs": [],
   "source": []
  },
  {
   "cell_type": "code",
   "execution_count": null,
   "id": "9c3d4354",
   "metadata": {},
   "outputs": [],
   "source": []
  },
  {
   "cell_type": "code",
   "execution_count": 3,
   "id": "2876836d",
   "metadata": {},
   "outputs": [
    {
     "name": "stdout",
     "output_type": "stream",
     "text": [
      "{'This': 2, 'is': 2, 'a': 2, 'line': 2}\n"
     ]
    }
   ],
   "source": [
    "#9. Write a function in python that allows you to count the frequency of repitition of each word found in a given file\n",
    "\n",
    "\n",
    "def word_frequency(file_path):\n",
    "    word_freq = {}\n",
    "\n",
    "    fp = open('C:/Users/user/Desktop/myFile.txt', 'r')\n",
    "    for line in fp:\n",
    "        words = line.strip().split()\n",
    "        for word in words:\n",
    "            word_freq[word] = word_freq.get(word, 0) + 1\n",
    "    fp.close()\n",
    "\n",
    "    return word_freq\n",
    "\n",
    "\n",
    "\n",
    "file_path = 'C:/Users/user/Desktop/myFile.txt'\n",
    "frequency = word_frequency(file_path)\n",
    "print(frequency)\n"
   ]
  },
  {
   "cell_type": "code",
   "execution_count": null,
   "id": "3ee93780",
   "metadata": {},
   "outputs": [],
   "source": []
  },
  {
   "cell_type": "code",
   "execution_count": null,
   "id": "ac88c225",
   "metadata": {},
   "outputs": [],
   "source": []
  },
  {
   "cell_type": "code",
   "execution_count": null,
   "id": "8b632dd5",
   "metadata": {},
   "outputs": [],
   "source": []
  },
  {
   "cell_type": "code",
   "execution_count": 1,
   "id": "279c61fc",
   "metadata": {},
   "outputs": [],
   "source": [
    "#10. Write a python program which allows you to extract the content of a file from the 3rd line 7th \n",
    "# line and save it in another file called extract_content.txt.\n",
    "\n",
    "import os\n",
    "fp = open('file.txt', 'r')\n",
    "lines = fp.readlines()\n",
    "start = 2\n",
    "end = 7\n",
    "extracted_lines = lines[start : end]\n",
    "fp = open('extracted_lines.txt', 'w')\n",
    "fp.writelines(extracted_lines)\n",
    "fp.close()\n",
    "os.startfile('extracted_lines.txt')\n"
   ]
  }
 ],
 "metadata": {
  "kernelspec": {
   "display_name": "Python 3 (ipykernel)",
   "language": "python",
   "name": "python3"
  },
  "language_info": {
   "codemirror_mode": {
    "name": "ipython",
    "version": 3
   },
   "file_extension": ".py",
   "mimetype": "text/x-python",
   "name": "python",
   "nbconvert_exporter": "python",
   "pygments_lexer": "ipython3",
   "version": "3.10.9"
  }
 },
 "nbformat": 4,
 "nbformat_minor": 5
}
