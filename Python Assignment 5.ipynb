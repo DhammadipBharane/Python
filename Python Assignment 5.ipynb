{
 "cells": [
  {
   "cell_type": "code",
   "execution_count": null,
   "id": "ca53ccb3",
   "metadata": {},
   "outputs": [],
   "source": [
    "\n"
   ]
  },
  {
   "cell_type": "code",
   "execution_count": null,
   "id": "1a082692",
   "metadata": {},
   "outputs": [],
   "source": []
  },
  {
   "cell_type": "code",
   "execution_count": null,
   "id": "d7e1e87e",
   "metadata": {},
   "outputs": [],
   "source": []
  },
  {
   "cell_type": "code",
   "execution_count": null,
   "id": "2ed99dae",
   "metadata": {},
   "outputs": [],
   "source": []
  },
  {
   "cell_type": "code",
   "execution_count": 22,
   "id": "5319363d",
   "metadata": {},
   "outputs": [
    {
     "name": "stdout",
     "output_type": "stream",
     "text": [
      "Enter a number: ab\n",
      "An error occurred: ValueError\n"
     ]
    }
   ],
   "source": [
    "#2. Write a python program to handle multiple exceptions with a single except clause.\n",
    "\n",
    "try:\n",
    "    x = int(input(\"Enter a number: \"))\n",
    "    result = 10 / x\n",
    "except (ValueError, ZeroDivisionError, TypeError) as e:\n",
    "    print(\"An error occurred:\", type(e).__name__)\n",
    "else:\n",
    "    print(\"The result is:\", result)\n"
   ]
  },
  {
   "cell_type": "code",
   "execution_count": null,
   "id": "b5d3ea12",
   "metadata": {},
   "outputs": [],
   "source": []
  },
  {
   "cell_type": "code",
   "execution_count": null,
   "id": "6a081d24",
   "metadata": {},
   "outputs": [],
   "source": []
  },
  {
   "cell_type": "code",
   "execution_count": null,
   "id": "052fc8cf",
   "metadata": {},
   "outputs": [],
   "source": []
  },
  {
   "cell_type": "code",
   "execution_count": 21,
   "id": "7801bd1d",
   "metadata": {},
   "outputs": [
    {
     "name": "stdout",
     "output_type": "stream",
     "text": [
      "Enter a number: 0\n",
      "Error: Division by zero!\n"
     ]
    }
   ],
   "source": [
    "#3. Write a python program which consist of Else statement with try - except block.\n",
    "\n",
    "try:\n",
    "    x = int(input(\"Enter a number: \"))\n",
    "    result = 10 / x\n",
    "except ZeroDivisionError:\n",
    "    print(\"Error: Division by zero!\")\n",
    "else:\n",
    "    print(\"The result is:\", result)\n"
   ]
  },
  {
   "cell_type": "code",
   "execution_count": null,
   "id": "6f45747d",
   "metadata": {},
   "outputs": [],
   "source": []
  },
  {
   "cell_type": "code",
   "execution_count": null,
   "id": "72c26a51",
   "metadata": {},
   "outputs": [],
   "source": []
  },
  {
   "cell_type": "code",
   "execution_count": null,
   "id": "7faf1c8a",
   "metadata": {},
   "outputs": [],
   "source": []
  },
  {
   "cell_type": "code",
   "execution_count": 24,
   "id": "a9334ca5",
   "metadata": {},
   "outputs": [
    {
     "name": "stdout",
     "output_type": "stream",
     "text": [
      "An error occurred!\n"
     ]
    }
   ],
   "source": [
    "#4. Write a python program which consists of except statement with no exception.\n",
    "\n",
    "try:\n",
    "    x = 10 / 0\n",
    "except:\n",
    "    print(\"An error occurred!\")\n"
   ]
  },
  {
   "cell_type": "code",
   "execution_count": null,
   "id": "91451a63",
   "metadata": {},
   "outputs": [],
   "source": []
  },
  {
   "cell_type": "code",
   "execution_count": null,
   "id": "3c51adeb",
   "metadata": {},
   "outputs": [],
   "source": []
  },
  {
   "cell_type": "code",
   "execution_count": null,
   "id": "4cb7d919",
   "metadata": {},
   "outputs": [],
   "source": []
  },
  {
   "cell_type": "code",
   "execution_count": 1,
   "id": "f57c2b13",
   "metadata": {},
   "outputs": [
    {
     "name": "stdout",
     "output_type": "stream",
     "text": [
      "An error occurred: division by zero\n"
     ]
    }
   ],
   "source": [
    "#5. Write a python program which consists of except statement with exception variable.\n",
    "\n",
    "try:\n",
    "    x = 10 / 0\n",
    "except ZeroDivisionError as e:\n",
    "    print(\"An error occurred:\", e)\n"
   ]
  },
  {
   "cell_type": "code",
   "execution_count": null,
   "id": "25ef875c",
   "metadata": {},
   "outputs": [],
   "source": []
  },
  {
   "cell_type": "code",
   "execution_count": null,
   "id": "4bc2b86f",
   "metadata": {},
   "outputs": [],
   "source": []
  },
  {
   "cell_type": "code",
   "execution_count": null,
   "id": "5f9a4104",
   "metadata": {},
   "outputs": [],
   "source": []
  },
  {
   "cell_type": "code",
   "execution_count": 2,
   "id": "b8b89937",
   "metadata": {},
   "outputs": [
    {
     "name": "stdout",
     "output_type": "stream",
     "text": [
      "File not found!\n"
     ]
    }
   ],
   "source": [
    "#6. Write a python program for Safe guarding file operation using exception handling.\n",
    "\n",
    "try:\n",
    "    fp = open('file.txt', 'r')\n",
    "    try:\n",
    "        content = fp.read()\n",
    "        print(\"File contents:\")\n",
    "        print(content)\n",
    "    finally:\n",
    "        file.close()\n",
    "except FileNotFoundError:\n",
    "    print(\"File not found!\")\n",
    "except PermissionError:\n",
    "    print(\"Permission denied to access the file!\")\n",
    "except Exception as e:\n",
    "    print(\"An error occurred:\", e)\n"
   ]
  },
  {
   "cell_type": "code",
   "execution_count": null,
   "id": "686ced36",
   "metadata": {},
   "outputs": [],
   "source": []
  },
  {
   "cell_type": "code",
   "execution_count": null,
   "id": "8dddb926",
   "metadata": {},
   "outputs": [],
   "source": []
  },
  {
   "cell_type": "code",
   "execution_count": null,
   "id": "6019f00a",
   "metadata": {},
   "outputs": [],
   "source": []
  },
  {
   "cell_type": "code",
   "execution_count": 7,
   "id": "cf298a03",
   "metadata": {},
   "outputs": [
    {
     "name": "stdout",
     "output_type": "stream",
     "text": [
      "Enter a number: 10\n",
      "Enter another number: 0\n",
      "Cannot divide by zero.\n",
      "Program execution completed.\n"
     ]
    }
   ],
   "source": [
    "#7. Write a python program which consists of - try, except, else, finally blocks.\n",
    "\n",
    "try:\n",
    "    num1 = int(input(\"Enter a number: \"))\n",
    "    num2 = int(input(\"Enter another number: \"))\n",
    "    result = num1 / num2\n",
    "except ValueError:\n",
    "    print(\"Invalid input. Please enter valid numbers.\")\n",
    "except ZeroDivisionError:\n",
    "    print(\"Cannot divide by zero.\")\n",
    "else:\n",
    "    print(\"Division result:\", result)\n",
    "finally:\n",
    "    print(\"Program execution completed.\")\n"
   ]
  },
  {
   "cell_type": "code",
   "execution_count": null,
   "id": "3a409304",
   "metadata": {},
   "outputs": [],
   "source": []
  },
  {
   "cell_type": "code",
   "execution_count": null,
   "id": "5457fbbf",
   "metadata": {},
   "outputs": [],
   "source": []
  },
  {
   "cell_type": "code",
   "execution_count": null,
   "id": "76181fb6",
   "metadata": {},
   "outputs": [],
   "source": []
  },
  {
   "cell_type": "code",
   "execution_count": 8,
   "id": "114c7b50",
   "metadata": {},
   "outputs": [
    {
     "name": "stdout",
     "output_type": "stream",
     "text": [
      "Enter a number : 10\n",
      "Enter another number : 0\n",
      "Error :  Cannot divide by zero\n"
     ]
    }
   ],
   "source": [
    "#8. Write a python program which raises the exception with message.\n",
    "\n",
    "def divide(num1, num2):\n",
    "    if num2 == 0:\n",
    "        raise ValueError(\"Cannot divide by zero\")\n",
    "    else:\n",
    "        return num1 / num2\n",
    "\n",
    "try:\n",
    "    num1 = int(input(\"Enter a number : \"))\n",
    "    num2 = int(input(\"Enter another number : \"))\n",
    "    result = divide(num1, num2)\n",
    "    print(\"Division result :\", result)\n",
    "except ValueError as error:\n",
    "    print(\"Error : \", str(error))\n"
   ]
  },
  {
   "cell_type": "code",
   "execution_count": null,
   "id": "5f5325a4",
   "metadata": {},
   "outputs": [],
   "source": []
  },
  {
   "cell_type": "code",
   "execution_count": null,
   "id": "18457da7",
   "metadata": {},
   "outputs": [],
   "source": []
  },
  {
   "cell_type": "code",
   "execution_count": null,
   "id": "f38c50cc",
   "metadata": {},
   "outputs": [],
   "source": []
  },
  {
   "cell_type": "markdown",
   "id": "635f3904",
   "metadata": {},
   "source": [
    "## Multithreading"
   ]
  },
  {
   "cell_type": "code",
   "execution_count": 2,
   "id": "1b6a47cd",
   "metadata": {},
   "outputs": [
    {
     "name": "stdout",
     "output_type": "stream",
     "text": [
      "Current date :  2023-07-03\n",
      "Current date :  2023-07-03\n"
     ]
    }
   ],
   "source": [
    "#1. Write a Python multithreading program to print current date.\n",
    "\n",
    "import threading\n",
    "import datetime\n",
    "\n",
    "def current_date():\n",
    "    date = datetime.datetime.now().date()\n",
    "    print(\"Current date : \", date)\n",
    "\n",
    "thread1 = threading.Thread(target=current_date)\n",
    "thread2 = threading.Thread(target=current_date)\n",
    "\n",
    "thread1.start()\n",
    "thread2.start()\n",
    "\n",
    "thread1.join()\n",
    "thread2.join()\n"
   ]
  },
  {
   "cell_type": "code",
   "execution_count": null,
   "id": "e3e87d0b",
   "metadata": {},
   "outputs": [],
   "source": []
  },
  {
   "cell_type": "code",
   "execution_count": null,
   "id": "0e4642e9",
   "metadata": {},
   "outputs": [],
   "source": []
  },
  {
   "cell_type": "code",
   "execution_count": null,
   "id": "adba400a",
   "metadata": {},
   "outputs": [],
   "source": []
  },
  {
   "cell_type": "code",
   "execution_count": 1,
   "id": "3de9c745",
   "metadata": {},
   "outputs": [
    {
     "name": "stdout",
     "output_type": "stream",
     "text": [
      "Task: Task 1, Thread Name: Thread-5 (perform_task), Process ID: 22440\n",
      "Task: Task 2, Thread Name: Thread-6 (perform_task), Process ID: 16404\n",
      "Task: Task 3, Thread Name: Thread-7 (perform_task), Process ID: 8124\n",
      "Task: Task 4, Thread Name: Thread-8 (perform_task), Process ID: 11620\n"
     ]
    }
   ],
   "source": [
    "#2. Write a Python multithreading program to print thread name and corresponding process for\n",
    "# each task (assume that there are four tasks).\n",
    "\n",
    "import threading\n",
    "\n",
    "def print_task_details(task):\n",
    "    process_id = threading.current_thread().native_id\n",
    "    thread_name = threading.current_thread().name\n",
    "    print(f\"Task: {task}, Thread Name: {thread_name}, Process ID: {process_id}\")\n",
    "\n",
    "def perform_task(task):\n",
    "    print_task_details(task)\n",
    "\n",
    "tasks = [\"Task 1\", \"Task 2\", \"Task 3\", \"Task 4\"]\n",
    "\n",
    "threads = []\n",
    "for task in tasks:\n",
    "    thread = threading.Thread(target=perform_task, args=(task,))\n",
    "    threads.append(thread)\n",
    "\n",
    "for thread in threads:\n",
    "    thread.start()\n",
    "\n",
    "for thread in threads:\n",
    "    thread.join()\n"
   ]
  },
  {
   "cell_type": "code",
   "execution_count": null,
   "id": "6d68f3e9",
   "metadata": {},
   "outputs": [],
   "source": []
  },
  {
   "cell_type": "code",
   "execution_count": null,
   "id": "72a769f6",
   "metadata": {},
   "outputs": [],
   "source": []
  },
  {
   "cell_type": "code",
   "execution_count": null,
   "id": "5f6806db",
   "metadata": {},
   "outputs": [],
   "source": []
  },
  {
   "cell_type": "code",
   "execution_count": 2,
   "id": "5ece8b3e",
   "metadata": {},
   "outputs": [
    {
     "name": "stdout",
     "output_type": "stream",
     "text": [
      "Thread Thread-9 (task) started\n",
      "Thread Thread-10 (task) started\n",
      "Thread Thread-11 (task) started\n",
      "Thread Thread-11 (task) completed\n",
      "Thread Thread-9 (task) completed\n",
      "Thread Thread-10 (task) completed\n",
      "Total Time Taken: 1.03 seconds\n"
     ]
    }
   ],
   "source": [
    "#3. Write a Python multithreading program to print Total Time Taken by threads to complete\n",
    "# their execution (consider 3 threads and a function which includes a 1 second sleep).\n",
    "\n",
    "import threading\n",
    "import time\n",
    "\n",
    "def task():\n",
    "    print(f\"Thread {threading.current_thread().name} started\")\n",
    "    time.sleep(1) \n",
    "    print(f\"Thread {threading.current_thread().name} completed\")\n",
    "\n",
    "start_time = time.time()\n",
    "\n",
    "threads = []\n",
    "for i in range(3):\n",
    "    thread = threading.Thread(target=task)\n",
    "    thread.start()\n",
    "    threads.append(thread)\n",
    "\n",
    "for thread in threads:\n",
    "    thread.join()\n",
    "\n",
    "end_time = time.time()\n",
    "total_time = end_time - start_time\n",
    "print(f\"Total Time Taken: {total_time:.2f} seconds\")\n"
   ]
  },
  {
   "cell_type": "code",
   "execution_count": null,
   "id": "f84802ad",
   "metadata": {},
   "outputs": [],
   "source": []
  },
  {
   "cell_type": "code",
   "execution_count": null,
   "id": "20cf8e44",
   "metadata": {},
   "outputs": [],
   "source": []
  },
  {
   "cell_type": "code",
   "execution_count": null,
   "id": "2d4ca6f8",
   "metadata": {},
   "outputs": [],
   "source": []
  },
  {
   "cell_type": "code",
   "execution_count": 3,
   "id": "7265c54a",
   "metadata": {},
   "outputs": [
    {
     "name": "stdout",
     "output_type": "stream",
     "text": [
      "Square of 5 is: 25\n",
      "Cube of 5 is: 125\n"
     ]
    }
   ],
   "source": [
    "#4. Write a Python multithreading program which creates two threads, one for calculating\n",
    "# square of a given number and other for calculating the cube of a given number.\n",
    "\n",
    "import threading\n",
    "\n",
    "def calculate_square(number):\n",
    "    result = number ** 2\n",
    "    print(f\"Square of {number} is: {result}\")\n",
    "\n",
    "def calculate_cube(number):\n",
    "    result = number ** 3\n",
    "    print(f\"Cube of {number} is: {result}\")\n",
    "\n",
    "number = 5\n",
    "\n",
    "square_thread = threading.Thread(target=calculate_square, args=(number,))\n",
    "cube_thread = threading.Thread(target=calculate_cube, args=(number,))\n",
    "\n",
    "square_thread.start()\n",
    "cube_thread.start()\n",
    "\n",
    "square_thread.join()\n",
    "cube_thread.join()\n"
   ]
  },
  {
   "cell_type": "code",
   "execution_count": null,
   "id": "41d2f7ec",
   "metadata": {},
   "outputs": [],
   "source": []
  },
  {
   "cell_type": "code",
   "execution_count": null,
   "id": "297aa1c4",
   "metadata": {},
   "outputs": [],
   "source": []
  },
  {
   "cell_type": "code",
   "execution_count": null,
   "id": "71c94a49",
   "metadata": {},
   "outputs": [],
   "source": []
  },
  {
   "cell_type": "code",
   "execution_count": 4,
   "id": "1775116a",
   "metadata": {},
   "outputs": [
    {
     "name": "stdout",
     "output_type": "stream",
     "text": [
      "Squares: [1, 4, 9, 16, 25]\n",
      "Cubes: [1, 8, 27, 64, 125]\n"
     ]
    }
   ],
   "source": [
    "#5. Write a Python multithreading program which creates two threads, one for calculating\n",
    "# squares of numbers (from list) and other for calculating the cubes of numbers (from list).\n",
    "\n",
    "import threading\n",
    "\n",
    "def calculate_squares(numbers):\n",
    "    squares = [num ** 2 for num in numbers]\n",
    "    print(\"Squares:\", squares)\n",
    "\n",
    "def calculate_cubes(numbers):\n",
    "    cubes = [num ** 3 for num in numbers]\n",
    "    print(\"Cubes:\", cubes)\n",
    "\n",
    "numbers = [1, 2, 3, 4, 5]\n",
    "\n",
    "square_thread = threading.Thread(target=calculate_squares, args=(numbers,))\n",
    "cube_thread = threading.Thread(target=calculate_cubes, args=(numbers,))\n",
    "\n",
    "square_thread.start()\n",
    "cube_thread.start()\n",
    "\n",
    "square_thread.join()\n",
    "cube_thread.join()\n"
   ]
  }
 ],
 "metadata": {
  "kernelspec": {
   "display_name": "Python 3 (ipykernel)",
   "language": "python",
   "name": "python3"
  },
  "language_info": {
   "codemirror_mode": {
    "name": "ipython",
    "version": 3
   },
   "file_extension": ".py",
   "mimetype": "text/x-python",
   "name": "python",
   "nbconvert_exporter": "python",
   "pygments_lexer": "ipython3",
   "version": "3.10.9"
  }
 },
 "nbformat": 4,
 "nbformat_minor": 5
}
