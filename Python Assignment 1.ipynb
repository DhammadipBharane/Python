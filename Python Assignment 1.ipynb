{
 "cells": [
  {
   "cell_type": "code",
   "execution_count": 2,
   "id": "b8f80669",
   "metadata": {},
   "outputs": [
    {
     "name": "stdout",
     "output_type": "stream",
     "text": [
      "Enter a string: dhammadip\n",
      "The length of the string is: 9\n"
     ]
    }
   ],
   "source": [
    "#2.Write a Python program to calculate the length of a string.\n",
    "\n",
    "string = input(\"Enter a string: \")\n",
    "length = len(string)\n",
    "print(\"The length of the string is:\", length)\n",
    "\n"
   ]
  },
  {
   "cell_type": "code",
   "execution_count": null,
   "id": "a9022994",
   "metadata": {},
   "outputs": [],
   "source": []
  },
  {
   "cell_type": "code",
   "execution_count": null,
   "id": "d2042873",
   "metadata": {},
   "outputs": [],
   "source": []
  },
  {
   "cell_type": "code",
   "execution_count": null,
   "id": "f2a5b545",
   "metadata": {},
   "outputs": [],
   "source": []
  },
  {
   "cell_type": "code",
   "execution_count": 3,
   "id": "84761661",
   "metadata": {},
   "outputs": [
    {
     "name": "stdout",
     "output_type": "stream",
     "text": [
      "The sum of the list is: 15\n"
     ]
    }
   ],
   "source": [
    "#3.Write a Python program to sum all the items in a list.\n",
    "\n",
    "l = [1, 2, 3, 4, 5]\n",
    "sum= sum(l)\n",
    "print(\"The sum of the list is:\", sum)\n",
    "\n",
    "\n"
   ]
  },
  {
   "cell_type": "code",
   "execution_count": null,
   "id": "bc94167b",
   "metadata": {},
   "outputs": [],
   "source": []
  },
  {
   "cell_type": "code",
   "execution_count": null,
   "id": "1091a873",
   "metadata": {},
   "outputs": [],
   "source": []
  },
  {
   "cell_type": "code",
   "execution_count": null,
   "id": "543412ee",
   "metadata": {},
   "outputs": [],
   "source": []
  },
  {
   "cell_type": "code",
   "execution_count": 4,
   "id": "aa09c0a3",
   "metadata": {},
   "outputs": [
    {
     "name": "stdout",
     "output_type": "stream",
     "text": [
      "The product of the list is: 120\n"
     ]
    }
   ],
   "source": [
    "#4.Write a Python program to multiply all the items in a list\n",
    "\n",
    "l = [1, 2, 3, 4, 5]\n",
    "p = 1\n",
    "for i in l:\n",
    "    p =p*i\n",
    "print(\"The product of the list is:\", p)\n",
    "\n"
   ]
  },
  {
   "cell_type": "code",
   "execution_count": null,
   "id": "7ef331e3",
   "metadata": {},
   "outputs": [],
   "source": []
  },
  {
   "cell_type": "code",
   "execution_count": null,
   "id": "0a5bba16",
   "metadata": {},
   "outputs": [],
   "source": []
  },
  {
   "cell_type": "code",
   "execution_count": null,
   "id": "f1a9b5b5",
   "metadata": {},
   "outputs": [],
   "source": []
  },
  {
   "cell_type": "code",
   "execution_count": 5,
   "id": "500deb18",
   "metadata": {},
   "outputs": [
    {
     "name": "stdout",
     "output_type": "stream",
     "text": [
      "The largest number in the list is: 8\n"
     ]
    }
   ],
   "source": [
    "#5.Write a Python program to get the largest number from a list.\n",
    "\n",
    "l = [3, 5, 2, 8, 1]\n",
    "largest_num =0\n",
    "for i in l:\n",
    "    if i > largest_num:\n",
    "        largest_num = i\n",
    "\n",
    "print(\"The largest number in the list is:\", largest_num)\n"
   ]
  },
  {
   "cell_type": "code",
   "execution_count": null,
   "id": "967bc974",
   "metadata": {},
   "outputs": [],
   "source": []
  },
  {
   "cell_type": "code",
   "execution_count": null,
   "id": "369c8b44",
   "metadata": {},
   "outputs": [],
   "source": []
  },
  {
   "cell_type": "code",
   "execution_count": null,
   "id": "f163b32d",
   "metadata": {},
   "outputs": [],
   "source": []
  },
  {
   "cell_type": "code",
   "execution_count": 6,
   "id": "d746897d",
   "metadata": {},
   "outputs": [
    {
     "name": "stdout",
     "output_type": "stream",
     "text": [
      "The smallest number in the list is: 1\n"
     ]
    }
   ],
   "source": [
    "#6.Write a Python program to get the smallest number from a list.\n",
    "\n",
    "l = [3, 5, 2, 8, 1]\n",
    "smallest_num =l[0]\n",
    "for i in l:\n",
    "    if i < smallest_num:\n",
    "        smallest_num = i\n",
    "print(\"The smallest number in the list is:\", smallest_num)\n",
    "\n"
   ]
  },
  {
   "cell_type": "code",
   "execution_count": null,
   "id": "fab0ea1c",
   "metadata": {},
   "outputs": [],
   "source": []
  },
  {
   "cell_type": "code",
   "execution_count": null,
   "id": "1d24264a",
   "metadata": {},
   "outputs": [],
   "source": []
  },
  {
   "cell_type": "code",
   "execution_count": null,
   "id": "c67b1ab2",
   "metadata": {},
   "outputs": [],
   "source": []
  },
  {
   "cell_type": "code",
   "execution_count": 10,
   "id": "c0fabd55",
   "metadata": {},
   "outputs": [
    {
     "name": "stdout",
     "output_type": "stream",
     "text": [
      "Character frequency in the string:\n",
      "g: 2\n",
      "o: 3\n",
      "l: 1\n",
      "e: 1\n",
      ".: 1\n",
      "c: 1\n",
      "m: 1\n"
     ]
    }
   ],
   "source": [
    "#7 Write a Python program to count the number of characters (character frequency) in a string.\n",
    "# Sample String: ‘google.com’\n",
    "# Expected Result: {'o': 3, 'g': 2, '.': 1, 'e': 1, 'l': 1, 'm': 1, 'c': 1}\n",
    "\n",
    "\n",
    "def count_character_frequency(string):\n",
    " frequency = {}\n",
    " for char in string:\n",
    "  if char in frequency:\n",
    "   frequency[char] += 1\n",
    "  else:\n",
    "   frequency[char] = 1\n",
    " return frequency\n",
    "sample_string = 'google.com'\n",
    "character_frequency = count_character_frequency(sample_string)\n",
    "print(\"Character frequency in the string:\")\n",
    "for char, count in character_frequency.items():\n",
    "    print(f\"{char}: {count}\")\n"
   ]
  },
  {
   "cell_type": "code",
   "execution_count": null,
   "id": "cf1d0b5f",
   "metadata": {},
   "outputs": [],
   "source": []
  },
  {
   "cell_type": "code",
   "execution_count": null,
   "id": "b2cf82c8",
   "metadata": {},
   "outputs": [],
   "source": []
  },
  {
   "cell_type": "code",
   "execution_count": null,
   "id": "fde3bad2",
   "metadata": {},
   "outputs": [],
   "source": []
  },
  {
   "cell_type": "code",
   "execution_count": 11,
   "id": "1f28c720",
   "metadata": {},
   "outputs": [
    {
     "name": "stdout",
     "output_type": "stream",
     "text": [
      "2\n"
     ]
    }
   ],
   "source": [
    "#8.Write a Python program to count the number of strings where the string length is 2 or more and the\n",
    "# first and last character are same from a given list of stringsSample List: [abe, 'xyz''aba', 1221'.\n",
    "\n",
    "def count_strings(list_of_strings):\n",
    "    \n",
    "    count = 0\n",
    "\n",
    "    \n",
    "    for string in list_of_strings:\n",
    "       \n",
    "        if len(string) >= 2 and string[0] == string[-1]:\n",
    "            \n",
    "            count += 1\n",
    "\n",
    "\n",
    "    return count\n",
    "\n",
    "list_of_strings = ['abe', 'xyz', 'aba', '1221']\n",
    "print(count_strings(list_of_strings))\n",
    "\n",
    "\n"
   ]
  },
  {
   "cell_type": "code",
   "execution_count": null,
   "id": "8fd0a586",
   "metadata": {},
   "outputs": [],
   "source": []
  },
  {
   "cell_type": "code",
   "execution_count": null,
   "id": "17d2a1de",
   "metadata": {},
   "outputs": [],
   "source": []
  },
  {
   "cell_type": "code",
   "execution_count": null,
   "id": "0c015f6f",
   "metadata": {},
   "outputs": [],
   "source": []
  },
  {
   "cell_type": "code",
   "execution_count": 12,
   "id": "c92c4fd6",
   "metadata": {},
   "outputs": [
    {
     "name": "stdout",
     "output_type": "stream",
     "text": [
      "[(2, 1), (1, 2), (2, 3), (4, 4), (2, 5)]\n"
     ]
    }
   ],
   "source": [
    "#9.Write a Python program to get a list, sorted in increasing order by the last element in each tuple from a given list of non-empty tuples\n",
    "#Sample List: [(2, 5), (1, 2), (4, 4), (2, 3)(2, 1)]\n",
    "\n",
    "sample_list = [(2, 5), (1, 2), (4, 4), (2, 3), (2, 1)]\n",
    "result = sorted(sample_list, key=lambda x: x[-1])\n",
    "print(result)\n",
    "\n"
   ]
  },
  {
   "cell_type": "code",
   "execution_count": null,
   "id": "54cb6610",
   "metadata": {},
   "outputs": [],
   "source": []
  },
  {
   "cell_type": "code",
   "execution_count": null,
   "id": "d6fd73ee",
   "metadata": {},
   "outputs": [],
   "source": []
  },
  {
   "cell_type": "code",
   "execution_count": null,
   "id": "60f83a85",
   "metadata": {},
   "outputs": [],
   "source": []
  },
  {
   "cell_type": "code",
   "execution_count": 13,
   "id": "a0a2aec7",
   "metadata": {},
   "outputs": [
    {
     "name": "stdout",
     "output_type": "stream",
     "text": [
      "Enter the String : Hello\n",
      "Helo\n"
     ]
    }
   ],
   "source": [
    "#10.Write a Python program to get a string made of the first 2 and the last 2 chars from a given a string .\n",
    "#If the string length is less than 2, return instead the empty string.\n",
    "\n",
    "\n",
    "def get_string(string):\n",
    " \n",
    "    if len(string) < 2:\n",
    "        return \"Empty String\"\n",
    "\n",
    "    first_two = string[:2]\n",
    "    last_two = string[-2:]\n",
    "\n",
    "    return first_two + last_two\n",
    "\n",
    "string = input('Enter the String : ')\n",
    "print(get_string(string))\n"
   ]
  },
  {
   "cell_type": "code",
   "execution_count": null,
   "id": "6d7768a5",
   "metadata": {},
   "outputs": [],
   "source": []
  },
  {
   "cell_type": "code",
   "execution_count": null,
   "id": "9f411d51",
   "metadata": {},
   "outputs": [],
   "source": []
  },
  {
   "cell_type": "code",
   "execution_count": null,
   "id": "1f4c5b1a",
   "metadata": {},
   "outputs": [],
   "source": []
  },
  {
   "cell_type": "code",
   "execution_count": 14,
   "id": "f1bf0b84",
   "metadata": {},
   "outputs": [
    {
     "name": "stdout",
     "output_type": "stream",
     "text": [
      "xye abz\n"
     ]
    }
   ],
   "source": [
    "#11. Write a Python program to get a single string from two given strings, separated by a space and swap the first two characters of each string.\n",
    "\n",
    "#Sample String: 'abe', 'xyz'\n",
    "\n",
    "\n",
    "string1 = 'abe'\n",
    "string2 = 'xyz'\n",
    "s1 = string2[:2] + string1[2:]\n",
    "s2 = string1[:2] + string2[2:]\n",
    "\n",
    "result = s1 + ' ' + s2\n",
    "\n",
    "print(result)\n"
   ]
  },
  {
   "cell_type": "code",
   "execution_count": null,
   "id": "7e6911d3",
   "metadata": {},
   "outputs": [],
   "source": []
  },
  {
   "cell_type": "code",
   "execution_count": null,
   "id": "49a54855",
   "metadata": {},
   "outputs": [],
   "source": []
  },
  {
   "cell_type": "code",
   "execution_count": null,
   "id": "c3de2c85",
   "metadata": {},
   "outputs": [],
   "source": []
  },
  {
   "cell_type": "code",
   "execution_count": 15,
   "id": "859cc604",
   "metadata": {},
   "outputs": [
    {
     "name": "stdout",
     "output_type": "stream",
     "text": [
      "Enter a stringabc\n",
      "abcing\n"
     ]
    }
   ],
   "source": [
    "#12.Write a Python program to add 'ing' at the end of a given string (length should be at least 3). \n",
    "#If the given string is already ends with 'ing' then add 'ly' instead. \n",
    "#If the string length of the given string is less than 3, leave it unchanged. Sample String: 'string'\n",
    "\n",
    "#Sample String: 'abc'\n",
    "\n",
    "\n",
    "string = input(\"Enter a string\")\n",
    "\n",
    "\n",
    "if len(string) >= 3:\n",
    "    \n",
    "    if string.endswith('ing'):\n",
    "        new_string = string + 'ly'\n",
    "    \n",
    "    else:\n",
    "        new_string = string + 'ing'\n",
    "else:\n",
    "    \n",
    "    new_string = string\n",
    "\n",
    "print(new_string)\n"
   ]
  },
  {
   "cell_type": "code",
   "execution_count": null,
   "id": "e39e1a21",
   "metadata": {},
   "outputs": [],
   "source": []
  },
  {
   "cell_type": "code",
   "execution_count": null,
   "id": "1010b4d3",
   "metadata": {},
   "outputs": [],
   "source": []
  },
  {
   "cell_type": "code",
   "execution_count": null,
   "id": "e21b96d7",
   "metadata": {},
   "outputs": [],
   "source": []
  },
  {
   "cell_type": "code",
   "execution_count": 16,
   "id": "a2d49298",
   "metadata": {},
   "outputs": [
    {
     "name": "stdout",
     "output_type": "stream",
     "text": [
      "Enter a value : hello\n",
      "The input is not an integer.\n"
     ]
    }
   ],
   "source": [
    "#13.Write a Python program to test whether an input is an integer.\n",
    "\n",
    "def is_int(input):\n",
    "    return input.isdigit()\n",
    "\n",
    "b = input(\"Enter a value : \")\n",
    "if is_int(b):\n",
    "    print(\"The input is an integer.\")\n",
    "else:\n",
    "    print(\"The input is not an integer.\")\n",
    "\n"
   ]
  },
  {
   "cell_type": "code",
   "execution_count": null,
   "id": "25288ccd",
   "metadata": {},
   "outputs": [],
   "source": []
  },
  {
   "cell_type": "code",
   "execution_count": null,
   "id": "fd0c23ba",
   "metadata": {},
   "outputs": [],
   "source": []
  },
  {
   "cell_type": "code",
   "execution_count": null,
   "id": "9b8f8dd5",
   "metadata": {},
   "outputs": [],
   "source": []
  },
  {
   "cell_type": "code",
   "execution_count": 17,
   "id": "dc3ff2c2",
   "metadata": {},
   "outputs": [
    {
     "name": "stdout",
     "output_type": "stream",
     "text": [
      "{'grape': 1, 'banana': 2, 'orange': 4, 'apple': 5}\n",
      "{'apple': 5, 'orange': 4, 'banana': 2, 'grape': 1}\n"
     ]
    }
   ],
   "source": [
    "#14.Write a Python program to sort (ascending and descending) a dictionary by value.\n",
    "\n",
    "my_dict = {'apple': 5, 'banana': 2, 'orange': 4, 'grape': 1}\n",
    "\n",
    "\n",
    "sorted_dict_asc = dict(sorted(my_dict.items(), key=lambda item: item[1]))\n",
    "\n",
    "\n",
    "sorted_dict_desc = dict(sorted(my_dict.items(), key=lambda item: item[1], reverse=True))\n",
    "\n",
    "print(sorted_dict_asc)\n",
    "print(sorted_dict_desc)\n"
   ]
  },
  {
   "cell_type": "code",
   "execution_count": null,
   "id": "a8d67403",
   "metadata": {},
   "outputs": [],
   "source": []
  },
  {
   "cell_type": "code",
   "execution_count": null,
   "id": "2b94359c",
   "metadata": {},
   "outputs": [],
   "source": []
  },
  {
   "cell_type": "code",
   "execution_count": null,
   "id": "1e783db8",
   "metadata": {},
   "outputs": [],
   "source": []
  },
  {
   "cell_type": "code",
   "execution_count": 18,
   "id": "be9561ce",
   "metadata": {},
   "outputs": [
    {
     "name": "stdout",
     "output_type": "stream",
     "text": [
      "{'Apple': 2, 'Oneplus': 1, 'Samsung': 5, 'Vivo': 4}\n",
      "{'Vivo': 4, 'Samsung': 5, 'Oneplus': 1, 'Apple': 2}\n"
     ]
    }
   ],
   "source": [
    "#15.Write a Python program to sort (ascending and descending) a dictionary by key value.\n",
    "\n",
    "\n",
    "my_dict = {'Samsung': 5, 'Apple': 2, 'Vivo': 4, 'Oneplus': 1}\n",
    "\n",
    "\n",
    "sorted_dict_asc = dict(sorted(my_dict.items(), key=lambda item: item[0]))\n",
    "\n",
    "\n",
    "sorted_dict_desc = dict(sorted(my_dict.items(), key=lambda item: item[0], reverse=True))\n",
    "\n",
    "print(sorted_dict_asc)\n",
    "print(sorted_dict_desc)\n"
   ]
  },
  {
   "cell_type": "code",
   "execution_count": null,
   "id": "e16899b4",
   "metadata": {},
   "outputs": [],
   "source": []
  },
  {
   "cell_type": "code",
   "execution_count": null,
   "id": "ce79d26b",
   "metadata": {},
   "outputs": [],
   "source": []
  },
  {
   "cell_type": "code",
   "execution_count": null,
   "id": "23eeae45",
   "metadata": {},
   "outputs": [],
   "source": []
  },
  {
   "cell_type": "code",
   "execution_count": 19,
   "id": "8bf9ce4e",
   "metadata": {},
   "outputs": [
    {
     "name": "stdout",
     "output_type": "stream",
     "text": [
      "{0: 10, 1: 20, 2: 30, 3: 40, 5: 50}\n"
     ]
    }
   ],
   "source": [
    "#16.Write a Python program to add key to a dictionary.\n",
    "\n",
    "#Sample Dictionary: (0: 10, 1: 20]\n",
    "\n",
    "dict = {0: 10, 1: 20}\n",
    "\n",
    "dict[2] = 30\n",
    "dict[3] = 40\n",
    "dict[5] = 50\n",
    "print(dict)\n",
    "\n",
    "\n"
   ]
  },
  {
   "cell_type": "code",
   "execution_count": null,
   "id": "fb231c1b",
   "metadata": {},
   "outputs": [],
   "source": []
  },
  {
   "cell_type": "code",
   "execution_count": null,
   "id": "892da9ab",
   "metadata": {},
   "outputs": [],
   "source": []
  },
  {
   "cell_type": "code",
   "execution_count": null,
   "id": "7becea9e",
   "metadata": {},
   "outputs": [],
   "source": []
  },
  {
   "cell_type": "code",
   "execution_count": 20,
   "id": "0e82b562",
   "metadata": {},
   "outputs": [
    {
     "name": "stdout",
     "output_type": "stream",
     "text": [
      "{1: 10, 2: 20, 3: 30, 4: 40, 5: 50, 6: 60}\n",
      "{'apple': 5, 'banana': 2, 'orange': 4, 'grape': 1}\n"
     ]
    }
   ],
   "source": [
    "#17.Write a Python program to concatenate following dictionaries to create a new one.\n",
    "\n",
    "#Sample Dictionary:\n",
    "\n",
    "#dic1={1:102:20}\n",
    "\n",
    "#dic2=(3:304:40)\n",
    "\n",
    "#dic3={5:50,6:60)\n",
    "\n",
    "dic1 = {1: 10, 2: 20}\n",
    "dic2 = {3: 30, 4: 40}\n",
    "dic3 = {5: 50, 6: 60}\n",
    "\n",
    "new_dict = {**dic1, **dic2, **dic3}\n",
    "\n",
    "print(new_dict)\n",
    "\n",
    "dict1 = {'apple': 5, 'banana': 2}\n",
    "dict2 = {'orange': 4, 'grape': 1}\n",
    "\n",
    "dict = dict1.copy()\n",
    "dict.update(dict2)\n",
    "\n",
    "print(dict)\n",
    "\n"
   ]
  },
  {
   "cell_type": "code",
   "execution_count": null,
   "id": "85fe85cb",
   "metadata": {},
   "outputs": [],
   "source": []
  },
  {
   "cell_type": "code",
   "execution_count": null,
   "id": "8213aa39",
   "metadata": {},
   "outputs": [],
   "source": []
  },
  {
   "cell_type": "code",
   "execution_count": null,
   "id": "0f6e9964",
   "metadata": {},
   "outputs": [],
   "source": []
  },
  {
   "cell_type": "code",
   "execution_count": 21,
   "id": "bc27c950",
   "metadata": {},
   "outputs": [
    {
     "name": "stdout",
     "output_type": "stream",
     "text": [
      "Enter the key to check: 3\n",
      "The key exists in the dictionary.\n"
     ]
    }
   ],
   "source": [
    "#18.Write a Python program to check if a given key already exists in a dictionary\n",
    "\n",
    "\n",
    "dict = {'1': 'New York', '2': 'London', '3': 'Tokyo'}\n",
    "\n",
    "key = input(\"Enter the key to check: \")\n",
    "if key in dict:\n",
    "    print(\"The key exists in the dictionary.\")\n",
    "else:\n",
    "    print(\"The key does not exist in the dictionary.\")\n"
   ]
  },
  {
   "cell_type": "code",
   "execution_count": null,
   "id": "d3556e90",
   "metadata": {},
   "outputs": [],
   "source": []
  },
  {
   "cell_type": "code",
   "execution_count": null,
   "id": "f1552f40",
   "metadata": {},
   "outputs": [],
   "source": []
  },
  {
   "cell_type": "code",
   "execution_count": null,
   "id": "bf55b424",
   "metadata": {},
   "outputs": [],
   "source": []
  },
  {
   "cell_type": "code",
   "execution_count": 22,
   "id": "a0675b41",
   "metadata": {},
   "outputs": [
    {
     "name": "stdout",
     "output_type": "stream",
     "text": [
      "Key: 1, City: New York\n",
      "Key: 2, City: London\n",
      "Key: 3, City: Tokyo\n"
     ]
    }
   ],
   "source": [
    "#19.Write a Python program to iterate over dictionaries using for loops\n",
    "\n",
    "dict = {1: 'New York', 2: 'London', 3: 'Tokyo'}\n",
    "\n",
    "for key, value in dict.items():\n",
    "    print(f\"Key: {key}, City: {value}\")\n",
    "\n"
   ]
  },
  {
   "cell_type": "code",
   "execution_count": null,
   "id": "a07d69ab",
   "metadata": {},
   "outputs": [],
   "source": []
  },
  {
   "cell_type": "code",
   "execution_count": null,
   "id": "437d40c8",
   "metadata": {},
   "outputs": [],
   "source": []
  },
  {
   "cell_type": "code",
   "execution_count": null,
   "id": "093c5310",
   "metadata": {},
   "outputs": [],
   "source": []
  },
  {
   "cell_type": "code",
   "execution_count": 23,
   "id": "c2754065",
   "metadata": {},
   "outputs": [
    {
     "name": "stdout",
     "output_type": "stream",
     "text": [
      "Original list: [1, 2, 2, 3, 4, 4, 5, 5, 5]\n",
      "List without duplicates: [1, 2, 3, 4, 5]\n",
      "[1, 2, 3, 4, 5, 6]\n"
     ]
    }
   ],
   "source": [
    "#20.Write a Python program to remove duplicates from a list\n",
    "\n",
    "\n",
    "sample_list = [1, 2, 2, 3, 4, 4, 5, 5, 5]\n",
    "\n",
    "unique_set = set(sample_list)\n",
    "\n",
    "unique_list = list(unique_set)\n",
    "\n",
    "print(\"Original list:\", sample_list)\n",
    "print(\"List without duplicates:\", unique_list)\n",
    "\n",
    "\n",
    "\n",
    "my_list = [1, 2, 3, 2, 4, 1, 5, 4, 6, 3]\n",
    "unique_list = []\n",
    "for element in my_list:\n",
    "    if element not in unique_list:\n",
    "        unique_list.append(element)\n",
    "print(unique_list)\n",
    "\n"
   ]
  },
  {
   "cell_type": "code",
   "execution_count": null,
   "id": "520bdc6d",
   "metadata": {},
   "outputs": [],
   "source": []
  },
  {
   "cell_type": "code",
   "execution_count": null,
   "id": "d81f6a5f",
   "metadata": {},
   "outputs": [],
   "source": []
  },
  {
   "cell_type": "code",
   "execution_count": null,
   "id": "e6e3a459",
   "metadata": {},
   "outputs": [],
   "source": []
  },
  {
   "cell_type": "code",
   "execution_count": 24,
   "id": "a7392087",
   "metadata": {},
   "outputs": [
    {
     "name": "stdout",
     "output_type": "stream",
     "text": [
      "The list is empty.\n"
     ]
    }
   ],
   "source": [
    "#21.Write a Python program to check a list is empty or not.\n",
    "\n",
    "\n",
    "my_list = []\n",
    "\n",
    "if len(my_list) == 0:\n",
    "    print(\"The list is empty.\")\n",
    "else:\n",
    "    print(\"The list is not empty.\")\n"
   ]
  },
  {
   "cell_type": "code",
   "execution_count": null,
   "id": "317e5575",
   "metadata": {},
   "outputs": [],
   "source": []
  },
  {
   "cell_type": "code",
   "execution_count": null,
   "id": "8a782995",
   "metadata": {},
   "outputs": [],
   "source": []
  },
  {
   "cell_type": "code",
   "execution_count": null,
   "id": "b35c6e44",
   "metadata": {},
   "outputs": [],
   "source": []
  },
  {
   "cell_type": "code",
   "execution_count": 25,
   "id": "0b04a996",
   "metadata": {},
   "outputs": [
    {
     "name": "stdout",
     "output_type": "stream",
     "text": [
      "The original list is :  [1, 2, 3, 4, 5]\n",
      "Cloned list is :  [1, 2, 3, 4, 5]\n"
     ]
    }
   ],
   "source": [
    "#22Write a Python program to clone or copy a list.\n",
    "\n",
    "original_list = [1, 2, 3, 4, 5] \n",
    "\n",
    "\n",
    "print(\"The original list is : \",original_list)\n",
    "\n",
    "cloned_list = original_list.copy()\n",
    "\n",
    "print(\"Cloned list is : \", cloned_list)\n"
   ]
  },
  {
   "cell_type": "code",
   "execution_count": null,
   "id": "c2486607",
   "metadata": {},
   "outputs": [],
   "source": []
  },
  {
   "cell_type": "code",
   "execution_count": null,
   "id": "a37b0a8a",
   "metadata": {},
   "outputs": [],
   "source": []
  },
  {
   "cell_type": "code",
   "execution_count": null,
   "id": "a2432acb",
   "metadata": {},
   "outputs": [],
   "source": []
  },
  {
   "cell_type": "code",
   "execution_count": 26,
   "id": "ac065a2c",
   "metadata": {},
   "outputs": [
    {
     "name": "stdout",
     "output_type": "stream",
     "text": [
      "Enter the String : Dhammadip\n",
      "Enter the nth value : 3\n",
      "Input string: Dhammadip\n",
      "Output string: Dhamadip\n"
     ]
    }
   ],
   "source": [
    "#write a Python program to remove the nth index character from a non-empty string.\n",
    "\n",
    "string = input(\"Enter the String : \")\n",
    "index_to_remove = int(input(\"Enter the nth value : \"))\n",
    "\n",
    "string_list = list(string)\n",
    "\n",
    "removed_char = string_list.pop(index_to_remove)\n",
    "\n",
    "output = \"\".join(string_list)\n",
    "\n",
    "print(\"Input string:\", string)\n",
    "print(\"Output string:\", output)\n"
   ]
  },
  {
   "cell_type": "code",
   "execution_count": null,
   "id": "e3671776",
   "metadata": {},
   "outputs": [],
   "source": []
  },
  {
   "cell_type": "code",
   "execution_count": null,
   "id": "9d6e4b2d",
   "metadata": {},
   "outputs": [],
   "source": []
  },
  {
   "cell_type": "code",
   "execution_count": null,
   "id": "4774ffce",
   "metadata": {},
   "outputs": [],
   "source": []
  },
  {
   "cell_type": "code",
   "execution_count": 27,
   "id": "dc056af0",
   "metadata": {},
   "outputs": [
    {
     "name": "stdout",
     "output_type": "stream",
     "text": [
      "Input string: Dhammadip\n",
      "Output string: phammadiD\n"
     ]
    }
   ],
   "source": [
    "#24Write a Python program to change a given string to a new string where the first and last chars\n",
    "#have been exchanged.\n",
    "\n",
    "string = \"Dhammadip\"\n",
    "\n",
    "first_char = string[0]\n",
    "last_char = string[-1]\n",
    "\n",
    "new_string = last_char + string[1:-1] + first_char\n",
    "\n",
    "print(\"Input string:\", string)\n",
    "print(\"Output string:\", new_string)\n"
   ]
  },
  {
   "cell_type": "code",
   "execution_count": null,
   "id": "dff30305",
   "metadata": {},
   "outputs": [],
   "source": []
  },
  {
   "cell_type": "code",
   "execution_count": null,
   "id": "5467c3f1",
   "metadata": {},
   "outputs": [],
   "source": []
  },
  {
   "cell_type": "code",
   "execution_count": null,
   "id": "492147ac",
   "metadata": {},
   "outputs": [],
   "source": []
  },
  {
   "cell_type": "code",
   "execution_count": 28,
   "id": "79fcfd81",
   "metadata": {},
   "outputs": [
    {
     "name": "stdout",
     "output_type": "stream",
     "text": [
      "Enter the String : hello\n",
      "Input string: hello\n",
      "Output string: hlo\n"
     ]
    }
   ],
   "source": [
    "#Write a Python program to remove the characters which have odd index values of a given string.\n",
    "\n",
    "string = input(\"Enter the String : \")\n",
    "output = \"\"\n",
    "a=len(string)\n",
    "\n",
    "for i in range(a):\n",
    "    if i % 2 == 0:\n",
    "        output = output + string[i]\n",
    "\n",
    "print(\"Input string:\", string)\n",
    "print(\"Output string:\", output)\n",
    "\n"
   ]
  },
  {
   "cell_type": "code",
   "execution_count": null,
   "id": "74a261e1",
   "metadata": {},
   "outputs": [],
   "source": []
  },
  {
   "cell_type": "code",
   "execution_count": null,
   "id": "135c712f",
   "metadata": {},
   "outputs": [],
   "source": []
  },
  {
   "cell_type": "code",
   "execution_count": null,
   "id": "25dabd7b",
   "metadata": {},
   "outputs": [],
   "source": []
  },
  {
   "cell_type": "code",
   "execution_count": 30,
   "id": "692488f8",
   "metadata": {},
   "outputs": [
    {
     "name": "stdout",
     "output_type": "stream",
     "text": [
      "Enter The Sentence : hello everyone hello\n",
      "hello 2\n",
      "everyone 1\n"
     ]
    }
   ],
   "source": [
    "#26Write a Python program to count the occurrences of each word in a given sentence\n",
    "\n",
    "input_sentence = input(\"Enter The Sentence : \")\n",
    "\n",
    "words = input_sentence.lower().split()\n",
    "\n",
    "word_counts = {}\n",
    "\n",
    "for word in words:\n",
    "    if word in word_counts:\n",
    "        word_counts[word] += 1\n",
    "    else:\n",
    "        word_counts[word] = 1\n",
    "\n",
    "for word, count in word_counts.items():\n",
    "    print(word, count)\n"
   ]
  },
  {
   "cell_type": "code",
   "execution_count": null,
   "id": "25f3966a",
   "metadata": {},
   "outputs": [],
   "source": []
  },
  {
   "cell_type": "code",
   "execution_count": null,
   "id": "d643eb09",
   "metadata": {},
   "outputs": [],
   "source": []
  },
  {
   "cell_type": "code",
   "execution_count": null,
   "id": "5cb27415",
   "metadata": {},
   "outputs": [],
   "source": []
  },
  {
   "cell_type": "code",
   "execution_count": 31,
   "id": "079cb446",
   "metadata": {},
   "outputs": [
    {
     "name": "stdout",
     "output_type": "stream",
     "text": [
      "The lists have at least one common member.\n"
     ]
    }
   ],
   "source": [
    "#Write a Python program that takes two lists and returns True if they have at least one common member.\n",
    "\n",
    "list1 = [1, 2, 3, 4, 5]\n",
    "list2 = [5, 6, 7, 8, 9]\n",
    "\n",
    "if set(list1) & set(list2):\n",
    "    print(\"The lists have at least one common member.\")\n",
    "else:\n",
    "    print(\"The lists do not have any common members.\")\n"
   ]
  },
  {
   "cell_type": "code",
   "execution_count": null,
   "id": "48035535",
   "metadata": {},
   "outputs": [],
   "source": []
  },
  {
   "cell_type": "code",
   "execution_count": null,
   "id": "63adf650",
   "metadata": {},
   "outputs": [],
   "source": []
  },
  {
   "cell_type": "code",
   "execution_count": null,
   "id": "f832cfec",
   "metadata": {},
   "outputs": [],
   "source": []
  },
  {
   "cell_type": "code",
   "execution_count": 32,
   "id": "9b426165",
   "metadata": {},
   "outputs": [
    {
     "name": "stdout",
     "output_type": "stream",
     "text": [
      "[1505, 1540, 1575, 1610, 1645, 1680, 1715, 1750, 1785, 1820, 1855, 1890, 1925, 1960, 1995, 2030, 2065, 2100, 2135, 2170, 2205, 2240, 2275, 2310, 2345, 2380, 2415, 2450, 2485, 2520, 2555, 2590, 2625, 2660, 2695]\n"
     ]
    }
   ],
   "source": [
    "#28. Write a Python program to find those numbers which are divisible by 7 and multiple of 5,between 1500 and 2700 (both included).\n",
    "\n",
    "result = []\n",
    "\n",
    "for num in range(1500, 2701):\n",
    "    if num % 7 == 0 and num % 5 == 0:\n",
    "        result.append(num)\n",
    "\n",
    "print(result)\n"
   ]
  },
  {
   "cell_type": "code",
   "execution_count": null,
   "id": "9479068c",
   "metadata": {},
   "outputs": [],
   "source": []
  },
  {
   "cell_type": "code",
   "execution_count": null,
   "id": "c1e49ebb",
   "metadata": {},
   "outputs": [],
   "source": []
  },
  {
   "cell_type": "code",
   "execution_count": null,
   "id": "84071976",
   "metadata": {},
   "outputs": [],
   "source": []
  },
  {
   "cell_type": "code",
   "execution_count": 33,
   "id": "8ba8bd88",
   "metadata": {},
   "outputs": [
    {
     "name": "stdout",
     "output_type": "stream",
     "text": [
      "60°C is 140.0 in Fahrenheit\n",
      "45°F is 7.222222222222222 in Celsius\n"
     ]
    }
   ],
   "source": [
    "#Write a Python program to convert temperatures to and from Celsius, Fahrenheit.\n",
    "#Formula: c / 5 = f - 32/9 [where c = temperature in Celsius and f = temperature in\n",
    "#Fahrenheit]\n",
    "#Expected Output:\n",
    "#60°C is 140 in Fahrenheit\n",
    "#45°F is 7 in Celsius\n",
    "\n",
    "def celsius_to_fahrenheit(celsius):\n",
    "    fahrenheit = (celsius * 9/5) + 32\n",
    "    return fahrenheit\n",
    "\n",
    "def fahrenheit_to_celsius(fahrenheit):\n",
    "    celsius = (fahrenheit - 32) * 5/9\n",
    "    return celsius\n",
    "\n",
    "celsius_temp = 60\n",
    "fahrenheit_temp = 45\n",
    "\n",
    "converted_temp = celsius_to_fahrenheit(celsius_temp)\n",
    "print(f\"{celsius_temp}°C is {converted_temp} in Fahrenheit\")\n",
    "\n",
    "converted_temp = fahrenheit_to_celsius(fahrenheit_temp)\n",
    "print(f\"{fahrenheit_temp}°F is {converted_temp} in Celsius\")\n"
   ]
  },
  {
   "cell_type": "code",
   "execution_count": null,
   "id": "2a6f742d",
   "metadata": {},
   "outputs": [],
   "source": []
  },
  {
   "cell_type": "code",
   "execution_count": null,
   "id": "69abee6e",
   "metadata": {},
   "outputs": [],
   "source": []
  },
  {
   "cell_type": "code",
   "execution_count": null,
   "id": "842d8f48",
   "metadata": {},
   "outputs": [],
   "source": []
  },
  {
   "cell_type": "code",
   "execution_count": 34,
   "id": "186ec0bb",
   "metadata": {},
   "outputs": [
    {
     "name": "stdout",
     "output_type": "stream",
     "text": [
      "* \n",
      "* * \n",
      "* * * \n",
      "* * * * \n",
      "* * * * * \n",
      "* * * * \n",
      "* * * \n",
      "* * \n",
      "* \n"
     ]
    }
   ],
   "source": [
    "#30. Write a Python program to construct the following pattern, using a nested for loop.\n",
    "#*\n",
    "#* *\n",
    "#* * *\n",
    "#* * * *\n",
    "#* * * * *\n",
    "#* * * *\n",
    "#* * *\n",
    "#* *\n",
    "#*\n",
    "\n",
    "num_rows = 5\n",
    "\n",
    "for i in range(num_rows):\n",
    "    for j in range(i+1):\n",
    "        print(\"*\", end=\" \")\n",
    "    print()\n",
    "\n",
    "for i in range(num_rows-1):\n",
    "    for j in range(num_rows-i-1):\n",
    "        print(\"*\", end=\" \")\n",
    "    print()\n"
   ]
  },
  {
   "cell_type": "code",
   "execution_count": null,
   "id": "10a7b778",
   "metadata": {},
   "outputs": [],
   "source": []
  },
  {
   "cell_type": "code",
   "execution_count": null,
   "id": "d979e171",
   "metadata": {},
   "outputs": [],
   "source": []
  },
  {
   "cell_type": "code",
   "execution_count": null,
   "id": "3d1a987c",
   "metadata": {},
   "outputs": [],
   "source": []
  },
  {
   "cell_type": "code",
   "execution_count": 35,
   "id": "1c92c820",
   "metadata": {},
   "outputs": [
    {
     "name": "stdout",
     "output_type": "stream",
     "text": [
      "Enter a word: hello\n",
      "Reversed word: olleh\n"
     ]
    }
   ],
   "source": [
    "#Write a Python program that accepts a word from the user and reverse it.\n",
    "\n",
    "word = input(\"Enter a word: \")\n",
    "\n",
    "reversed_word = word[::-1]\n",
    "\n",
    "print(\"Reversed word:\", reversed_word)\n"
   ]
  },
  {
   "cell_type": "code",
   "execution_count": null,
   "id": "29e42ddb",
   "metadata": {},
   "outputs": [],
   "source": []
  },
  {
   "cell_type": "code",
   "execution_count": null,
   "id": "e053cb98",
   "metadata": {},
   "outputs": [],
   "source": []
  },
  {
   "cell_type": "code",
   "execution_count": null,
   "id": "9323c1d0",
   "metadata": {},
   "outputs": [],
   "source": []
  },
  {
   "cell_type": "code",
   "execution_count": 36,
   "id": "adf2f96e",
   "metadata": {},
   "outputs": [
    {
     "name": "stdout",
     "output_type": "stream",
     "text": [
      "Number of even numbers: 4\n",
      "Number of odd numbers: 5\n"
     ]
    }
   ],
   "source": [
    "#32. Write a Python program to count the number of even and odd numbers from a series of numbers.\n",
    "\n",
    "\n",
    "numbers = (1, 2, 3, 4, 5, 6, 7, 8, 9)\n",
    "\n",
    "even_count = 0\n",
    "odd_count = 0\n",
    "\n",
    "for num in numbers:\n",
    "    if num % 2 == 0:\n",
    "        even_count += 1\n",
    "    else:\n",
    "        odd_count += 1\n",
    "\n",
    "print(\"Number of even numbers:\", even_count)\n",
    "print(\"Number of odd numbers:\", odd_count)\n"
   ]
  },
  {
   "cell_type": "code",
   "execution_count": null,
   "id": "312d99a3",
   "metadata": {},
   "outputs": [],
   "source": []
  },
  {
   "cell_type": "code",
   "execution_count": null,
   "id": "9386273b",
   "metadata": {},
   "outputs": [],
   "source": []
  },
  {
   "cell_type": "code",
   "execution_count": null,
   "id": "616d7b0e",
   "metadata": {},
   "outputs": [],
   "source": []
  },
  {
   "cell_type": "code",
   "execution_count": 37,
   "id": "ec1882b1",
   "metadata": {},
   "outputs": [
    {
     "name": "stdout",
     "output_type": "stream",
     "text": [
      "0 1 2 4 5 "
     ]
    }
   ],
   "source": [
    "#Write a Python program that prints all the numbers from 0 to 6 except 3 and 6.\n",
    "#Note: Use ‘continue’ statement.\n",
    "#Expected Output: 0 1 2 4 5\n",
    "# Loop through the numbers 0 to 6\n",
    "\n",
    "for num in range(7):\n",
    "    if num == 3 or num == 6:\n",
    "        continue\n",
    "    print(num, end=' ')\n"
   ]
  },
  {
   "cell_type": "code",
   "execution_count": null,
   "id": "039c25de",
   "metadata": {},
   "outputs": [],
   "source": []
  },
  {
   "cell_type": "code",
   "execution_count": null,
   "id": "540e289a",
   "metadata": {},
   "outputs": [],
   "source": []
  },
  {
   "cell_type": "code",
   "execution_count": null,
   "id": "1ab03569",
   "metadata": {},
   "outputs": [],
   "source": []
  },
  {
   "cell_type": "code",
   "execution_count": 15,
   "id": "286d4159",
   "metadata": {},
   "outputs": [
    {
     "name": "stdout",
     "output_type": "stream",
     "text": [
      "0 1 1 2 3 5 8 13 21 34 "
     ]
    }
   ],
   "source": [
    "#35. Write a Python program to get the Fibonacci series between 0 to 50.\n",
    "#Note: The Fibonacci Sequence is the series of numbers:\n",
    "#0, 1, 1, 2, 3, 5, 8, 13, 21, ....\n",
    "#Every next number is found by adding up the two numbers before it.\n",
    "#Expected Output: 1 1 2 3 5 8 13 21 34\n",
    "\n",
    "a = 0 \n",
    "b = 1\n",
    "print(a, end=' ')\n",
    "while b < 50:\n",
    "    print(b, end=' ')\n",
    "    a, b = b, a+b\n"
   ]
  },
  {
   "cell_type": "code",
   "execution_count": null,
   "id": "1acaabc8",
   "metadata": {},
   "outputs": [],
   "source": []
  },
  {
   "cell_type": "code",
   "execution_count": null,
   "id": "4ab69430",
   "metadata": {},
   "outputs": [],
   "source": []
  },
  {
   "cell_type": "code",
   "execution_count": null,
   "id": "49ed2e07",
   "metadata": {},
   "outputs": [],
   "source": []
  },
  {
   "cell_type": "code",
   "execution_count": 39,
   "id": "af4b0c72",
   "metadata": {},
   "outputs": [
    {
     "name": "stdout",
     "output_type": "stream",
     "text": [
      "1\n",
      "2\n",
      "Fizz\n",
      "4\n",
      "Buzz\n",
      "Fizz\n",
      "7\n",
      "8\n",
      "Fizz\n",
      "Buzz\n",
      "11\n",
      "Fizz\n",
      "13\n",
      "14\n",
      "FizzBuzz\n",
      "16\n",
      "17\n",
      "Fizz\n",
      "19\n",
      "Buzz\n",
      "Fizz\n",
      "22\n",
      "23\n",
      "Fizz\n",
      "Buzz\n",
      "26\n",
      "Fizz\n",
      "28\n",
      "29\n",
      "FizzBuzz\n",
      "31\n",
      "32\n",
      "Fizz\n",
      "34\n",
      "Buzz\n",
      "Fizz\n",
      "37\n",
      "38\n",
      "Fizz\n",
      "Buzz\n",
      "41\n",
      "Fizz\n",
      "43\n",
      "44\n",
      "FizzBuzz\n",
      "46\n",
      "47\n",
      "Fizz\n",
      "49\n",
      "Buzz\n"
     ]
    }
   ],
   "source": [
    "#Write a Python program which iterates the integers from 1 to 50. For multiples of three print\n",
    "#\"Fizz\" instead of the number and for the multiples of five print \"Buzz\". For numbers which\n",
    "#are multiples of both three and five print \"FizzBuzz\".\n",
    "#Sample Output:\n",
    "#1\n",
    "#2\n",
    "#Fizz\n",
    "#4\n",
    "#Buzz\n",
    "\n",
    "for i in range(1, 51):\n",
    "    if i % 3 == 0 and i % 5 == 0:\n",
    "        print(\"FizzBuzz\")\n",
    "    elif i % 3 == 0:\n",
    "        print(\"Fizz\")\n",
    "    elif i % 5 == 0:\n",
    "        print(\"Buzz\")\n",
    "    else:\n",
    "        print(i)\n"
   ]
  },
  {
   "cell_type": "code",
   "execution_count": null,
   "id": "c45b6033",
   "metadata": {},
   "outputs": [],
   "source": []
  },
  {
   "cell_type": "code",
   "execution_count": null,
   "id": "f3dd5746",
   "metadata": {},
   "outputs": [],
   "source": []
  },
  {
   "cell_type": "code",
   "execution_count": null,
   "id": "c23965f5",
   "metadata": {},
   "outputs": [],
   "source": []
  },
  {
   "cell_type": "code",
   "execution_count": 41,
   "id": "f679d9db",
   "metadata": {},
   "outputs": [
    {
     "name": "stdout",
     "output_type": "stream",
     "text": [
      "Enter the number of rows: 3\n",
      "Enter the number of columns: 4\n",
      "[[0, 0, 0, 0], [0, 1, 2, 3], [0, 2, 4, 6]]\n"
     ]
    }
   ],
   "source": [
    "#36. Write a Python program which takes two digits m (row) and n (column) as input and\n",
    "#generates a two-dimensional array. The element value in the i-th row and j-th column of\n",
    "#the array should be i*j.\n",
    "#Note:\n",
    "#i = 0,1.., m-1\n",
    "#j = 0,1, n-1.\n",
    "#Test Data: Rows = 3, Columns = 4\n",
    "#Expected Result: [[0, 0, 0, 0], [0, 1, 2, 3], [0, 2, 4, 6]]\n",
    "\n",
    "rows = int(input(\"Enter the number of rows: \"))\n",
    "cols = int(input(\"Enter the number of columns: \"))\n",
    "arr = []\n",
    "for i in range(rows):\n",
    "    row = []\n",
    "    for j in range(cols):\n",
    "        row.append(i*j)\n",
    "    arr.append(row)\n",
    "print(arr)"
   ]
  },
  {
   "cell_type": "code",
   "execution_count": null,
   "id": "188c7f46",
   "metadata": {},
   "outputs": [],
   "source": []
  },
  {
   "cell_type": "code",
   "execution_count": null,
   "id": "8733f216",
   "metadata": {},
   "outputs": [],
   "source": []
  },
  {
   "cell_type": "code",
   "execution_count": null,
   "id": "7496144b",
   "metadata": {},
   "outputs": [],
   "source": []
  },
  {
   "cell_type": "code",
   "execution_count": 42,
   "id": "7ff1e013",
   "metadata": {},
   "outputs": [
    {
     "name": "stdout",
     "output_type": "stream",
     "text": [
      "Enter a string : Python\n",
      "Letters :  6\n",
      "Digits :  0\n"
     ]
    }
   ],
   "source": [
    "#Write a Python program that accepts a string and calculate the number of digits and letters.\n",
    "#Sample Data: Python 3.2\n",
    "#expected Output:\n",
    "#Letters 6\n",
    "#Digits 2\n",
    "\n",
    "s = input(\"Enter a string : \")\n",
    "letters = 0\n",
    "digits = 0\n",
    "\n",
    "for char in s:\n",
    "    if char.isalpha():\n",
    "        letters += 1\n",
    "    elif char.isdigit():\n",
    "        digits += 1\n",
    "\n",
    "print(\"Letters : \", letters)\n",
    "print(\"Digits : \", digits)\n"
   ]
  },
  {
   "cell_type": "code",
   "execution_count": null,
   "id": "ebe39643",
   "metadata": {},
   "outputs": [],
   "source": []
  },
  {
   "cell_type": "code",
   "execution_count": null,
   "id": "2be82a76",
   "metadata": {},
   "outputs": [],
   "source": []
  },
  {
   "cell_type": "code",
   "execution_count": null,
   "id": "17dc4b56",
   "metadata": {},
   "outputs": [],
   "source": []
  },
  {
   "cell_type": "code",
   "execution_count": 44,
   "id": "49ad90b5",
   "metadata": {},
   "outputs": [
    {
     "name": "stdout",
     "output_type": "stream",
     "text": [
      "Enter password : Hello@122\n",
      "Valid password\n"
     ]
    }
   ],
   "source": [
    "#38. Write a Python program to check the validity of password input by users.\n",
    "#Validation:\n",
    "#• At least 1 letter between [a-z] and 1 letter between [A-Z].\n",
    "#• At least 1 number between [0-9].\n",
    "#• At least 1 character from [$#@].\n",
    "#• Minimum length 6 characters.\n",
    "#• Maximum length 16 characters.\n",
    "\n",
    "import re\n",
    "password = input(\"Enter password : \")\n",
    "\n",
    "pattern_lower = re.compile(r'[a-z]')\n",
    "pattern_upper = re.compile(r'[A-Z]')\n",
    "pattern_digit = re.compile(r'\\d')\n",
    "pattern_special = re.compile(r'[$#@]')\n",
    "pattern_length = re.compile(r'^.{6,16}$')\n",
    "\n",
    "if pattern_lower.search(password) and pattern_upper.search(password) \\\n",
    "        and pattern_digit.search(password) and pattern_special.search(password) \\\n",
    "        and pattern_length.search(password):\n",
    "    print(\"Valid password\")\n",
    "else:\n",
    "    print(\"Invalid password\")\n"
   ]
  },
  {
   "cell_type": "code",
   "execution_count": null,
   "id": "ed1a30d0",
   "metadata": {},
   "outputs": [],
   "source": []
  },
  {
   "cell_type": "code",
   "execution_count": null,
   "id": "6055b112",
   "metadata": {},
   "outputs": [],
   "source": []
  },
  {
   "cell_type": "code",
   "execution_count": null,
   "id": "fbed55af",
   "metadata": {},
   "outputs": [],
   "source": []
  },
  {
   "cell_type": "code",
   "execution_count": 45,
   "id": "9dda8a54",
   "metadata": {},
   "outputs": [
    {
     "name": "stdout",
     "output_type": "stream",
     "text": [
      "Enter the number for the multiplication table: 5\n",
      "5 x 1 = 5\n",
      "5 x 2 = 10\n",
      "5 x 3 = 15\n",
      "5 x 4 = 20\n",
      "5 x 5 = 25\n",
      "5 x 6 = 30\n",
      "5 x 7 = 35\n",
      "5 x 8 = 40\n",
      "5 x 9 = 45\n",
      "5 x 10 = 50\n"
     ]
    }
   ],
   "source": [
    "#Q40 Write a python program to create a multiplication table (from 1 to 10) of a number\n",
    "\n",
    "def table(number):\n",
    "    for i in range(1, 11):\n",
    "        result = number * i\n",
    "        print(f\"{number} x {i} = {result}\")\n",
    "number = int(input(\"Enter the number for the multiplication table: \"))\n",
    "table(number)\n"
   ]
  },
  {
   "cell_type": "code",
   "execution_count": null,
   "id": "fbb2d1c8",
   "metadata": {},
   "outputs": [],
   "source": []
  },
  {
   "cell_type": "code",
   "execution_count": null,
   "id": "8163d1ac",
   "metadata": {},
   "outputs": [],
   "source": []
  },
  {
   "cell_type": "code",
   "execution_count": null,
   "id": "4b39124e",
   "metadata": {},
   "outputs": [],
   "source": []
  },
  {
   "cell_type": "code",
   "execution_count": 46,
   "id": "b493f6c7",
   "metadata": {},
   "outputs": [
    {
     "name": "stdout",
     "output_type": "stream",
     "text": [
      "[4, 4, 4]\n"
     ]
    }
   ],
   "source": [
    "#41. Given an array A of N numbers(integers), you have to write a program which prints \n",
    "#the sum of the elements of array A with the corresponding elements of the reverse of array A. \n",
    "#If array A has elements [1,2,3], then reverse of the array A will be [3,2,1] and the resultant \n",
    "#array should be [4,4,4].\n",
    "\n",
    "def sum_with_reverse(arr):\n",
    "    n = len(arr)\n",
    "    result = []\n",
    "\n",
    "    for i in range(n):\n",
    "        reverse_index = n - i - 1\n",
    "        sum_val = arr[i] + arr[reverse_index]\n",
    "        result.append(sum_val)\n",
    "\n",
    "    return result\n",
    "\n",
    "# Example usage:\n",
    "array = [1, 2, 3]\n",
    "result_array = sum_with_reverse(array)\n",
    "print(result_array)"
   ]
  },
  {
   "cell_type": "code",
   "execution_count": null,
   "id": "5971b771",
   "metadata": {},
   "outputs": [],
   "source": []
  },
  {
   "cell_type": "code",
   "execution_count": null,
   "id": "a9e3de6c",
   "metadata": {},
   "outputs": [],
   "source": []
  },
  {
   "cell_type": "code",
   "execution_count": null,
   "id": "72656aa2",
   "metadata": {},
   "outputs": [],
   "source": []
  },
  {
   "cell_type": "code",
   "execution_count": 19,
   "id": "7a7bd6f7",
   "metadata": {},
   "outputs": [
    {
     "name": "stdout",
     "output_type": "stream",
     "text": [
      "Enter the numbers separated by a space: 1 2 3 \n",
      "Second Minimum: 2\n",
      "Second Maximum: 2\n"
     ]
    }
   ],
   "source": [
    "#42. Given a list of numbers(integers), find second maximum and second minimum in this list. \n",
    "#Input Format : The first line contains numbers separated by a space.\n",
    "#Output Format : Print second maximum and second minimum separated by a space\n",
    "#Example :\n",
    "#   Input : 1 2 3 4 5\n",
    "#   Output : 4 2\n",
    "\n",
    "def find_second_max_min(numbers):\n",
    "    \n",
    "    sorted_numbers = sorted(numbers)\n",
    "\n",
    "    \n",
    "    second_min = sorted_numbers[1]\n",
    "    second_max = sorted_numbers[-2]\n",
    "\n",
    "    return second_min, second_max\n",
    "\n",
    "\n",
    "number_list = input(\"Enter the numbers separated by a space: \").split()\n",
    "number_list = [int(num) for num in number_list]\n",
    "\n",
    "second_min, second_max = find_second_max_min(number_list)\n",
    "print(\"Second Minimum:\", second_min)\n",
    "print(\"Second Maximum:\", second_max)"
   ]
  },
  {
   "cell_type": "code",
   "execution_count": null,
   "id": "1cfc48c8",
   "metadata": {},
   "outputs": [],
   "source": []
  },
  {
   "cell_type": "code",
   "execution_count": null,
   "id": "54b548ee",
   "metadata": {},
   "outputs": [],
   "source": []
  },
  {
   "cell_type": "code",
   "execution_count": null,
   "id": "4e2f5651",
   "metadata": {},
   "outputs": [],
   "source": []
  },
  {
   "cell_type": "code",
   "execution_count": 49,
   "id": "193ab2fd",
   "metadata": {},
   "outputs": [
    {
     "name": "stdout",
     "output_type": "stream",
     "text": [
      "Enter a positive integer: 5\n",
      "{1: 1, 2: 8, 3: 27, 4: 64, 5: 125}\n"
     ]
    }
   ],
   "source": [
    "#43. Given a positive integer n, you have to write a program that generates a dictionary d which \n",
    "#contains (i, i*i*i) is its value, where i is from 1 to n(both included).\n",
    "#Then you have to just print this dictionary d.\n",
    "#Example:\n",
    "#Input : 4\n",
    "#will give output as {1:1, 2:8, 3:27, 4:64}\n",
    "\n",
    "def generate_cube_dictionary(n):\n",
    "    cube_dict = {}\n",
    "\n",
    "    for i in range(1, n + 1):\n",
    "        cube_dict[i] = i * i * i\n",
    "\n",
    "    return cube_dict\n",
    "\n",
    "number = int(input(\"Enter a positive integer: \"))\n",
    "\n",
    "cube_dictionary = generate_cube_dictionary(number)\n",
    "print(cube_dictionary)"
   ]
  },
  {
   "cell_type": "code",
   "execution_count": null,
   "id": "3602e08d",
   "metadata": {},
   "outputs": [],
   "source": []
  },
  {
   "cell_type": "code",
   "execution_count": null,
   "id": "66a47e04",
   "metadata": {},
   "outputs": [],
   "source": []
  },
  {
   "cell_type": "code",
   "execution_count": null,
   "id": "9b700e4c",
   "metadata": {},
   "outputs": [],
   "source": []
  },
  {
   "cell_type": "code",
   "execution_count": 1,
   "id": "331335ce",
   "metadata": {},
   "outputs": [
    {
     "name": "stdout",
     "output_type": "stream",
     "text": [
      "Enter an integer (enter 0 to finish): 1\n",
      "Enter an integer (enter 0 to finish): 2\n",
      "Enter an integer (enter 0 to finish): 3\n",
      "Enter an integer (enter 0 to finish): 0\n",
      "Sum: 6\n",
      "Average: 2.0\n"
     ]
    }
   ],
   "source": [
    "#44. Write a python program to calculate the sum and average of n integer numbers \n",
    "#(input from the user). Input 0 to finish.\n",
    "\n",
    "def calculate_sum_average():\n",
    "    \n",
    "    numbers = []\n",
    "    while True:\n",
    "        num = int(input(\"Enter an integer (enter 0 to finish): \"))\n",
    "        if num == 0:\n",
    "            break\n",
    "        numbers.append(num)\n",
    "\n",
    "    total = sum(numbers)\n",
    "    average = total / len(numbers)\n",
    "\n",
    "    return total, average\n",
    "\n",
    "sum_result, average_result = calculate_sum_average()\n",
    "print(\"Sum:\", sum_result)\n",
    "print(\"Average:\", average_result)\n",
    "\n"
   ]
  },
  {
   "cell_type": "code",
   "execution_count": null,
   "id": "6f3cdc50",
   "metadata": {},
   "outputs": [],
   "source": []
  },
  {
   "cell_type": "code",
   "execution_count": null,
   "id": "b0dcc8df",
   "metadata": {},
   "outputs": [],
   "source": []
  },
  {
   "cell_type": "code",
   "execution_count": null,
   "id": "4053da9b",
   "metadata": {},
   "outputs": [],
   "source": []
  },
  {
   "cell_type": "code",
   "execution_count": 53,
   "id": "d727284c",
   "metadata": {},
   "outputs": [
    {
     "name": "stdout",
     "output_type": "stream",
     "text": [
      "Enter a number : 5\n",
      "1\n",
      "22\n",
      "333\n",
      "4444\n",
      "55555\n"
     ]
    }
   ],
   "source": [
    "#45. Write a python program to construct the following pattern using nested loop number.\n",
    "#Expected output.\n",
    "#1\n",
    "#2 2\n",
    "#3 3 3\n",
    "#4 4 4 4\n",
    "#5 5 5 5 5\n",
    "\n",
    "def pattern(n):\n",
    "    for i in range(1, n + 1):\n",
    "        for j in range(i):\n",
    "            print(i, end=\"\")\n",
    "        print()\n",
    "\n",
    "number = int(input(\"Enter a number : \"))\n",
    "\n",
    "pattern(number)\n"
   ]
  },
  {
   "cell_type": "code",
   "execution_count": null,
   "id": "54221755",
   "metadata": {},
   "outputs": [],
   "source": []
  },
  {
   "cell_type": "code",
   "execution_count": null,
   "id": "ab4c383d",
   "metadata": {},
   "outputs": [],
   "source": []
  },
  {
   "cell_type": "code",
   "execution_count": null,
   "id": "91ffaa2c",
   "metadata": {},
   "outputs": [],
   "source": []
  },
  {
   "cell_type": "code",
   "execution_count": 54,
   "id": "8637fd72",
   "metadata": {},
   "outputs": [
    {
     "name": "stdout",
     "output_type": "stream",
     "text": [
      "[100, 0, 0]\n",
      "[450, 789, 0]\n",
      "[789, 123, 456]\n"
     ]
    }
   ],
   "source": [
    "#46. A lower triangular matrix is a square matrix (where the number of rows and columns are equal) \n",
    "# where all the elements above the diagonal are zero.\n",
    "# For exaxmple,the following is lower triangular matrix with the number of rows and columns equal to 3.\n",
    "\n",
    "def convert_to_lower_triangular(matrix):\n",
    "    n = len(matrix) \n",
    "\n",
    "    for i in range(n):\n",
    "        for j in range(i + 1, n):\n",
    "            matrix[i][j] = 0 \n",
    "    return matrix\n",
    "\n",
    "matrix = [\n",
    "    [100, 0, 0],\n",
    "    [450, 789, 0],\n",
    "    [789, 123, 456]\n",
    "]\n",
    "\n",
    "lower_triangular_matrix = convert_to_lower_triangular(matrix)\n",
    "for row in lower_triangular_matrix:\n",
    "    print(row)\n"
   ]
  },
  {
   "cell_type": "code",
   "execution_count": null,
   "id": "c7c15cdb",
   "metadata": {},
   "outputs": [],
   "source": []
  },
  {
   "cell_type": "code",
   "execution_count": null,
   "id": "51706701",
   "metadata": {},
   "outputs": [],
   "source": []
  },
  {
   "cell_type": "code",
   "execution_count": null,
   "id": "7d814f92",
   "metadata": {},
   "outputs": [],
   "source": []
  },
  {
   "cell_type": "code",
   "execution_count": 7,
   "id": "2de4fdcd",
   "metadata": {},
   "outputs": [
    {
     "name": "stdout",
     "output_type": "stream",
     "text": [
      "Enter the number of rows/columns: 3\n",
      "3 2 1\n",
      "1 2 3\n",
      "3 2 1\n",
      "3 2 1 \n",
      "0 2 3 \n",
      "0 0 1 \n"
     ]
    }
   ],
   "source": [
    "# 47. An Upper triangular matrix is a square matrix (where the number of rows and column are equal) \n",
    "# where all the elements below the diagonal are zero.\n",
    "# for example, the following is an upper triangular matrix with the number of rows and columns equal to 3.\n",
    "\n",
    "\n",
    "def convert_to_upper_triangular(matrix):\n",
    "    n = len(matrix)  \n",
    "    \n",
    "    for i in range(n):\n",
    "        for j in range(i):\n",
    "            matrix[i][j] = 0  \n",
    "    return matrix\n",
    "\n",
    "n = int(input(\"Enter the number of rows/columns: \"))\n",
    "matrix = []\n",
    "\n",
    "for _ in range(n):\n",
    "    row = list(map(int, input().split()))\n",
    "    matrix.append(row)\n",
    "\n",
    "upper_triangular_matrix = convert_to_upper_triangular(matrix)\n",
    "\n",
    "for row in upper_triangular_matrix:\n",
    "    for elem in row:\n",
    "        print(elem, end=\" \")\n",
    "    print()"
   ]
  },
  {
   "cell_type": "code",
   "execution_count": null,
   "id": "4a576440",
   "metadata": {},
   "outputs": [],
   "source": []
  },
  {
   "cell_type": "code",
   "execution_count": null,
   "id": "803214e5",
   "metadata": {},
   "outputs": [],
   "source": []
  },
  {
   "cell_type": "code",
   "execution_count": null,
   "id": "6d4f2ee9",
   "metadata": {},
   "outputs": [],
   "source": []
  },
  {
   "cell_type": "code",
   "execution_count": 2,
   "id": "0e93c9bb",
   "metadata": {},
   "outputs": [
    {
     "name": "stdout",
     "output_type": "stream",
     "text": [
      "Enter the number of rows and columns: 3 3\n",
      "1 2 3\n",
      "1 2 3\n",
      "1 2 3\n",
      "NO\n"
     ]
    }
   ],
   "source": [
    "#48. Given a matrix with N rows and M columns, the task is to check if the matrix is a Binary Matrix. \n",
    "# A binary matrix is a mamtrix in which all the elements are either 0 or 1.\n",
    "\n",
    "\n",
    "def is_binary_matrix(matrix):\n",
    "    for row in matrix:\n",
    "        for element in row:\n",
    "            if element != 0 and element != 1:\n",
    "                return False\n",
    "    return True\n",
    "\n",
    "n, m = map(int, input(\"Enter the number of rows and columns: \").split())\n",
    "\n",
    "matrix = []\n",
    "for i in range(n):\n",
    "    row = list(map(int, input().split()))\n",
    "    matrix.append(row)\n",
    "\n",
    "if is_binary_matrix(matrix):\n",
    "    print(\"YES\")\n",
    "else:\n",
    "    print(\"NO\")\n"
   ]
  },
  {
   "cell_type": "code",
   "execution_count": null,
   "id": "69678f70",
   "metadata": {},
   "outputs": [],
   "source": []
  },
  {
   "cell_type": "code",
   "execution_count": null,
   "id": "4b67735e",
   "metadata": {},
   "outputs": [],
   "source": []
  },
  {
   "cell_type": "code",
   "execution_count": null,
   "id": "cb6116ea",
   "metadata": {},
   "outputs": [],
   "source": []
  },
  {
   "cell_type": "code",
   "execution_count": 64,
   "id": "a0ac39ad",
   "metadata": {},
   "outputs": [
    {
     "name": "stdout",
     "output_type": "stream",
     "text": [
      "Enter the sentence : abcdefghijklmnopqrstuvwxyz\n",
      "The sentence is a pangram.\n"
     ]
    }
   ],
   "source": [
    "#49. A panagram is a sentence containing every 26 letters in the English laphabet.\n",
    "# Given a string s, Check if it is panagram or not.\n",
    "\n",
    "\n",
    "import string\n",
    "\n",
    "def is_pangram(sentence):\n",
    "    sentence = sentence.lower()\n",
    "\n",
    "    letters = set()\n",
    "\n",
    "    for char in sentence:\n",
    "        if char in string.ascii_lowercase:\n",
    "            letters.add(char)\n",
    "\n",
    "    return len(letters) == 26\n",
    "\n",
    "sentence = input(\"Enter the sentence : \")\n",
    "\n",
    "if is_pangram(sentence):\n",
    "    print(\"The sentence is a pangram.\")\n",
    "else:\n",
    "    print(\"The sentence is not a pangram.\")\n"
   ]
  },
  {
   "cell_type": "code",
   "execution_count": null,
   "id": "647d74ff",
   "metadata": {},
   "outputs": [],
   "source": []
  },
  {
   "cell_type": "code",
   "execution_count": null,
   "id": "3e05c30d",
   "metadata": {},
   "outputs": [],
   "source": []
  },
  {
   "cell_type": "code",
   "execution_count": null,
   "id": "115c7d0f",
   "metadata": {},
   "outputs": [],
   "source": []
  },
  {
   "cell_type": "code",
   "execution_count": 18,
   "id": "ab56915f",
   "metadata": {},
   "outputs": [
    {
     "name": "stdout",
     "output_type": "stream",
     "text": [
      "Enter the numbers: 1 2 3 4 56\n",
      "Missing number: -45\n"
     ]
    }
   ],
   "source": [
    "#50. Given a list of n-1 numbers ranging from 1 to n, your task is to find the missing number. There are no duplicates.\n",
    "\n",
    "def find_missing_number(numbers):\n",
    "    n = len(numbers) + 1\n",
    "\n",
    "    total_sum = (n * (n + 1)) // 2\n",
    "\n",
    "    list_sum = sum(numbers)\n",
    "\n",
    "    missing_number = total_sum - list_sum\n",
    "\n",
    "    return missing_number\n",
    "\n",
    "input_numbers = input(\"Enter the numbers: \")\n",
    "numbers = list(map(int, input_numbers.split()))\n",
    "\n",
    "missing_number = find_missing_number(numbers)\n",
    "print(\"Missing number:\", missing_number)\n"
   ]
  },
  {
   "cell_type": "code",
   "execution_count": null,
   "id": "15f235dd",
   "metadata": {},
   "outputs": [],
   "source": []
  }
 ],
 "metadata": {
  "kernelspec": {
   "display_name": "Python 3 (ipykernel)",
   "language": "python",
   "name": "python3"
  },
  "language_info": {
   "codemirror_mode": {
    "name": "ipython",
    "version": 3
   },
   "file_extension": ".py",
   "mimetype": "text/x-python",
   "name": "python",
   "nbconvert_exporter": "python",
   "pygments_lexer": "ipython3",
   "version": "3.10.9"
  }
 },
 "nbformat": 4,
 "nbformat_minor": 5
}
