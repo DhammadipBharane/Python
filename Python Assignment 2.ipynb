{
 "cells": [
  {
   "cell_type": "code",
   "execution_count": 1,
   "id": "6b12f7d3",
   "metadata": {},
   "outputs": [],
   "source": [
    "#1. Write a Python function to find the Max of three numbers.\n",
    "\n",
    "def max_num(a, b, c):\n",
    "    num = max(a, b, c)\n",
    "    print(f'The Max of three numbers is : {num}')"
   ]
  },
  {
   "cell_type": "code",
   "execution_count": 2,
   "id": "c364e2e9",
   "metadata": {},
   "outputs": [
    {
     "name": "stdout",
     "output_type": "stream",
     "text": [
      "The Max of three numbers is : 10\n"
     ]
    }
   ],
   "source": [
    "max_num(10, 5, 7)"
   ]
  },
  {
   "cell_type": "code",
   "execution_count": null,
   "id": "7ee6018e",
   "metadata": {},
   "outputs": [],
   "source": []
  },
  {
   "cell_type": "code",
   "execution_count": null,
   "id": "5d0c9ccf",
   "metadata": {},
   "outputs": [],
   "source": []
  },
  {
   "cell_type": "code",
   "execution_count": null,
   "id": "871a6cc3",
   "metadata": {},
   "outputs": [],
   "source": []
  },
  {
   "cell_type": "code",
   "execution_count": 1,
   "id": "fdb74a46",
   "metadata": {},
   "outputs": [],
   "source": [
    "#2. Write a Python function to sum all the numbers in a list.\n",
    "# Sample List: (8, 2, 3, 0, 7)\n",
    "\n",
    "def sum(list):\n",
    "    add = sum(list)\n",
    "    return add"
   ]
  },
  {
   "cell_type": "code",
   "execution_count": 16,
   "id": "81bea726",
   "metadata": {},
   "outputs": [
    {
     "name": "stdout",
     "output_type": "stream",
     "text": [
      "Enter the list of numbers, separated by commas: 8,2,3,0,7\n",
      "The sum of the given numbers in the list : 20\n"
     ]
    }
   ],
   "source": [
    "list = [int(num) for num in input(\"Enter the list of numbers, separated by commas: \").split(\",\")]\n",
    "\n",
    "result = sum(list)\n",
    "print(f'The sum of the given numbers in the list : {result}')"
   ]
  },
  {
   "cell_type": "code",
   "execution_count": null,
   "id": "697c14b2",
   "metadata": {},
   "outputs": [],
   "source": []
  },
  {
   "cell_type": "code",
   "execution_count": null,
   "id": "17232fd8",
   "metadata": {},
   "outputs": [],
   "source": []
  },
  {
   "cell_type": "code",
   "execution_count": null,
   "id": "928446a6",
   "metadata": {},
   "outputs": [],
   "source": []
  },
  {
   "cell_type": "code",
   "execution_count": null,
   "id": "aab96534",
   "metadata": {},
   "outputs": [],
   "source": []
  },
  {
   "cell_type": "code",
   "execution_count": 13,
   "id": "c8d3d97d",
   "metadata": {},
   "outputs": [],
   "source": [
    "#3. Write a Python function to multiply all the numbers in a list.\n",
    "# Sample List: (8, 2, 3, -1, 7)\n",
    "\n",
    "def multiply(list):\n",
    "    num = 1\n",
    "    for i in list:\n",
    "        num = num * i\n",
    "    return num"
   ]
  },
  {
   "cell_type": "code",
   "execution_count": 15,
   "id": "285a91df",
   "metadata": {},
   "outputs": [
    {
     "name": "stdout",
     "output_type": "stream",
     "text": [
      "Enter the list of numbers, separated by commas: 8,2,3,-1,7\n",
      "The multiplication is : -336\n"
     ]
    }
   ],
   "source": [
    "list = [int(num) for num in input(\"Enter the list of numbers, separated by commas: \").split(\",\")]\n",
    "\n",
    "result = multiply(list)\n",
    "print(f'The multiplication is : {result}')"
   ]
  },
  {
   "cell_type": "code",
   "execution_count": null,
   "id": "691ebc08",
   "metadata": {},
   "outputs": [],
   "source": []
  },
  {
   "cell_type": "code",
   "execution_count": null,
   "id": "290754c9",
   "metadata": {},
   "outputs": [],
   "source": []
  },
  {
   "cell_type": "code",
   "execution_count": null,
   "id": "7df47608",
   "metadata": {},
   "outputs": [],
   "source": []
  },
  {
   "cell_type": "code",
   "execution_count": 14,
   "id": "85febcef",
   "metadata": {},
   "outputs": [],
   "source": [
    "#4. Write a Python function to reverse a string.\n",
    "# Sample String: \"1234abcd\"\n",
    "\n",
    "def rev_string(string):\n",
    "    rev_string = string[::-1]\n",
    "    return rev_string\n"
   ]
  },
  {
   "cell_type": "code",
   "execution_count": 18,
   "id": "b9dab6f4",
   "metadata": {},
   "outputs": [
    {
     "name": "stdout",
     "output_type": "stream",
     "text": [
      "The original string is : 1234abcd\n",
      "The reversed string is : dcba4321\n"
     ]
    }
   ],
   "source": [
    "s = '1234abcd'\n",
    "result = rev_string(s)\n",
    "print(f'The original string is : {s}')\n",
    "print(f'The reversed string is : {result}')"
   ]
  },
  {
   "cell_type": "code",
   "execution_count": null,
   "id": "673a1510",
   "metadata": {},
   "outputs": [],
   "source": []
  },
  {
   "cell_type": "code",
   "execution_count": null,
   "id": "f5346199",
   "metadata": {},
   "outputs": [],
   "source": []
  },
  {
   "cell_type": "code",
   "execution_count": null,
   "id": "b18f36d7",
   "metadata": {},
   "outputs": [],
   "source": []
  },
  {
   "cell_type": "code",
   "execution_count": 26,
   "id": "ca3582c1",
   "metadata": {},
   "outputs": [],
   "source": [
    "#5. Write a Python function to check whether a number falls in a given range.\n",
    "\n",
    "def range(num, start, end):\n",
    "    if num >= start and num <= end:\n",
    "        print(f'The given num : {num} is in the range of {start} to {end}')\n",
    "    else:\n",
    "        print('The given num : {num} is not in the range of {start} to {end}')\n"
   ]
  },
  {
   "cell_type": "code",
   "execution_count": 28,
   "id": "4860a642",
   "metadata": {},
   "outputs": [
    {
     "name": "stdout",
     "output_type": "stream",
     "text": [
      "The given num : 10 is in the range of 2 to 11\n"
     ]
    }
   ],
   "source": [
    "range(10, 2, 11)"
   ]
  },
  {
   "cell_type": "code",
   "execution_count": null,
   "id": "427b5cc4",
   "metadata": {},
   "outputs": [],
   "source": []
  },
  {
   "cell_type": "code",
   "execution_count": null,
   "id": "9412007a",
   "metadata": {},
   "outputs": [],
   "source": []
  },
  {
   "cell_type": "code",
   "execution_count": null,
   "id": "10f46081",
   "metadata": {},
   "outputs": [],
   "source": []
  },
  {
   "cell_type": "code",
   "execution_count": 47,
   "id": "e7981598",
   "metadata": {},
   "outputs": [],
   "source": [
    "#6. Write a Python function that accepts a string and calculate the number of upper case letters\n",
    "# and lower case letters.\n",
    "# Sample String: 'The quick Brow Fox'\n",
    "\n",
    "def count(string):\n",
    "    upper_count = 0\n",
    "    lower_count = 0\n",
    "\n",
    "    for char in string:\n",
    "        if char.isupper():\n",
    "            upper_count = upper_count + 1\n",
    "        elif char.islower():\n",
    "            lower_count = lower_count + 1\n",
    "    print(f'The Upper Case Letters are : {upper_count} and The Lower Case Letters are : {lower_count}') \n",
    "\n"
   ]
  },
  {
   "cell_type": "code",
   "execution_count": 49,
   "id": "986702d2",
   "metadata": {},
   "outputs": [
    {
     "name": "stdout",
     "output_type": "stream",
     "text": [
      "The Upper Case Letters are : 3 and The Lower Case Letters are : 12\n"
     ]
    }
   ],
   "source": [
    "string = 'The quick Brow Fox'\n",
    "count(string)\n"
   ]
  },
  {
   "cell_type": "code",
   "execution_count": null,
   "id": "b31645b6",
   "metadata": {},
   "outputs": [],
   "source": []
  },
  {
   "cell_type": "code",
   "execution_count": null,
   "id": "2cb67b2c",
   "metadata": {},
   "outputs": [],
   "source": []
  },
  {
   "cell_type": "code",
   "execution_count": null,
   "id": "739cb444",
   "metadata": {},
   "outputs": [],
   "source": []
  },
  {
   "cell_type": "code",
   "execution_count": 6,
   "id": "0fbce0f0",
   "metadata": {},
   "outputs": [],
   "source": [
    "#7. Write a Python function that takes a list and returns a new list with unique elements of the\n",
    "# first list.\n",
    "# Sample List: [1,2,3,3,3,3,4,5]\n",
    "# Unique List: [1, 2, 3, 4, 5]\n",
    "\n",
    "def unique_list(lst):\n",
    "    unique = list(set(lst))\n",
    "    print(f'The unique list is : {unique}')\n"
   ]
  },
  {
   "cell_type": "code",
   "execution_count": 7,
   "id": "770c4575",
   "metadata": {},
   "outputs": [
    {
     "name": "stdout",
     "output_type": "stream",
     "text": [
      "Enter the list of numbers, separated by commas: 1,2,3,3,4,4,5\n",
      "The unique list is : ['4', '3', '5', '2', '1']\n"
     ]
    }
   ],
   "source": [
    "l = [int(num) for num in input(\"Enter the list of numbers, separated by commas: \").split(\",\")]\n",
    "\n",
    "unique_list(l)\n",
    "\n"
   ]
  },
  {
   "cell_type": "code",
   "execution_count": null,
   "id": "4e0d264f",
   "metadata": {},
   "outputs": [],
   "source": []
  },
  {
   "cell_type": "code",
   "execution_count": null,
   "id": "dc8c74e6",
   "metadata": {},
   "outputs": [],
   "source": []
  },
  {
   "cell_type": "code",
   "execution_count": null,
   "id": "e66b2517",
   "metadata": {},
   "outputs": [],
   "source": []
  },
  {
   "cell_type": "code",
   "execution_count": 2,
   "id": "11d0ddba",
   "metadata": {},
   "outputs": [],
   "source": [
    "#8. Write a Python function that checks whether a passed string is palindrome or not.\n",
    "\n",
    "def palindrome(string):\n",
    "    rev_string = string[::-1]\n",
    "    if string == rev_string:\n",
    "        print(f'The entered string {string} is palindrome')\n",
    "    else:\n",
    "        print(f'The entered string {string} is not palindrome')\n"
   ]
  },
  {
   "cell_type": "code",
   "execution_count": 4,
   "id": "40a229c5",
   "metadata": {},
   "outputs": [
    {
     "name": "stdout",
     "output_type": "stream",
     "text": [
      "Enter a string: eye1\n",
      "The entered string eye1 is not palindrome\n"
     ]
    }
   ],
   "source": [
    "string = input(\"Enter a string: \")\n",
    "palindrome(string)\n"
   ]
  },
  {
   "cell_type": "code",
   "execution_count": null,
   "id": "0ad63c07",
   "metadata": {},
   "outputs": [],
   "source": []
  },
  {
   "cell_type": "code",
   "execution_count": null,
   "id": "e9f9a439",
   "metadata": {},
   "outputs": [],
   "source": []
  },
  {
   "cell_type": "code",
   "execution_count": null,
   "id": "1ff4d46c",
   "metadata": {},
   "outputs": [],
   "source": []
  },
  {
   "cell_type": "code",
   "execution_count": 2,
   "id": "d2384745",
   "metadata": {},
   "outputs": [
    {
     "name": "stdout",
     "output_type": "stream",
     "text": [
      "1\n",
      "1 1\n",
      "1 2 1\n",
      "1 3 3 1\n",
      "1 4 6 4 1\n"
     ]
    }
   ],
   "source": [
    "#9. Write a Python function that prints out the first n rows of Pascal’s triangle.\n",
    "\n",
    "import math\n",
    "\n",
    "def print_pascals_triangle(n):\n",
    "    triangle = []\n",
    "    for i in range(n):\n",
    "        row = [1] * (i + 1)\n",
    "        if i >= 2:\n",
    "            for j in range(1, i):\n",
    "                row[j] = triangle[i - 1][j - 1] + triangle[i - 1][j]\n",
    "        triangle.append(row)\n",
    "    for row in triangle:\n",
    "        print(' '.join(map(str, row)))\n",
    "print_pascals_triangle(5)\n"
   ]
  },
  {
   "cell_type": "code",
   "execution_count": null,
   "id": "28389457",
   "metadata": {},
   "outputs": [],
   "source": []
  },
  {
   "cell_type": "code",
   "execution_count": null,
   "id": "0781ba0b",
   "metadata": {},
   "outputs": [],
   "source": []
  },
  {
   "cell_type": "code",
   "execution_count": null,
   "id": "0b3992d5",
   "metadata": {},
   "outputs": [],
   "source": []
  },
  {
   "cell_type": "code",
   "execution_count": 3,
   "id": "ced8fbf7",
   "metadata": {},
   "outputs": [
    {
     "name": "stdout",
     "output_type": "stream",
     "text": [
      "<b><i><u>Hello, world!</u></i></b>\n"
     ]
    }
   ],
   "source": [
    "#10. Write a Python program to make a chain of function decorators (bold, italic, underline etc.) in  Python. \n",
    "\n",
    "def bold_decorator(func):\n",
    "    def wrapper(text):\n",
    "        return \"<b>{}</b>\".format(func(text))\n",
    "    return wrapper\n",
    "\n",
    "def italic_decorator(func):\n",
    "    def wrapper(text):\n",
    "        return \"<i>{}</i>\".format(func(text))\n",
    "    return wrapper\n",
    "\n",
    "def underline_decorator(func):\n",
    "    def wrapper(text):\n",
    "        return \"<u>{}</u>\".format(func(text))\n",
    "    return wrapper\n",
    "\n",
    "@bold_decorator\n",
    "@italic_decorator\n",
    "@underline_decorator\n",
    "def format_text(text):\n",
    "    return text\n",
    "\n",
    "formatted_text = format_text(\"Hello, world!\")\n",
    "print(formatted_text)\n"
   ]
  },
  {
   "cell_type": "code",
   "execution_count": null,
   "id": "d4cabe62",
   "metadata": {},
   "outputs": [],
   "source": []
  },
  {
   "cell_type": "code",
   "execution_count": null,
   "id": "3b118cde",
   "metadata": {},
   "outputs": [],
   "source": []
  },
  {
   "cell_type": "code",
   "execution_count": null,
   "id": "b9992e5e",
   "metadata": {},
   "outputs": [],
   "source": []
  },
  {
   "cell_type": "code",
   "execution_count": 2,
   "id": "049d0887",
   "metadata": {},
   "outputs": [
    {
     "name": "stdout",
     "output_type": "stream",
     "text": [
      "Original list of integers:\n",
      "[1, 2, 3, 4, 5, 6, 7, 8, 9, 10]\n",
      "Even numbers from the list:\n",
      "[2, 4, 6, 8, 10]\n",
      "Odd numbers from the list:\n",
      "[1, 3, 5, 7, 9]\n"
     ]
    }
   ],
   "source": [
    "''' 11. Write a Python program to filter a list of integers using Lambda.  \n",
    "    Original list of integers:  \n",
    "    [1, 2, 3, 4, 5, 6, 7, 8, 9, 10]  \n",
    "    Even numbers from the said list:  \n",
    "    [2, 4, 6, 8, 10]  \n",
    "    Odd numbers from the said list:  \n",
    "    [1, 3, 5, 7, 9] '''\n",
    "\n",
    "\n",
    "l = [1, 2, 3, 4, 5, 6, 7, 8, 9, 10]\n",
    "\n",
    "even_numbers = list(filter(lambda x: x % 2 == 0, l))\n",
    "\n",
    "odd_numbers = list(filter(lambda x: x % 2 != 0, l))\n",
    "\n",
    "print(\"Original list of integers:\")\n",
    "print(l)\n",
    "\n",
    "print(\"Even numbers from the list:\")\n",
    "\n",
    "\n",
    "print(even_numbers)\n",
    "\n",
    "print(\"Odd numbers from the list:\")\n",
    "print(odd_numbers)\n"
   ]
  },
  {
   "cell_type": "code",
   "execution_count": null,
   "id": "5f0886dd",
   "metadata": {},
   "outputs": [],
   "source": []
  },
  {
   "cell_type": "code",
   "execution_count": null,
   "id": "a99d0007",
   "metadata": {},
   "outputs": [],
   "source": []
  },
  {
   "cell_type": "code",
   "execution_count": null,
   "id": "b82477f8",
   "metadata": {},
   "outputs": [],
   "source": []
  },
  {
   "cell_type": "code",
   "execution_count": 4,
   "id": "cb3ffe21",
   "metadata": {},
   "outputs": [
    {
     "name": "stdout",
     "output_type": "stream",
     "text": [
      "Original list of integers:\n",
      "[1, 2, 3, 4, 5, 6, 7, 8, 9, 10]\n",
      "Square every number of the list:\n",
      "[1, 4, 9, 16, 25, 36, 49, 64, 81, 100]\n",
      "Cube every number of the list:\n",
      "[1, 8, 27, 64, 125, 216, 343, 512, 729, 1000]\n"
     ]
    }
   ],
   "source": [
    "''' 12. Write a Python program to square and cube every number in a given list of integers using  Lambda.  \n",
    "    Original list of integers:  \n",
    "    [1, 2, 3, 4, 5, 6, 7, 8, 9, 10]  \n",
    "    Square every number of the said list:  \n",
    "    [1, 4, 9, 16, 25, 36, 49, 64, 81, 100]  \n",
    "    Cube every number of the said list:  \n",
    "    [1, 8, 27, 64, 125, 216, 343, 512, 729, 1000] '''\n",
    "\n",
    "\n",
    "l = [1, 2, 3, 4, 5, 6, 7, 8, 9, 10]\n",
    "\n",
    "square = list(map(lambda x: x ** 2, l))\n",
    "\n",
    "cube = list(map(lambda x: x ** 3, l))\n",
    "\n",
    "print(\"Original list of integers:\")\n",
    "print(l)\n",
    "\n",
    "print(\"Square every number of the list:\")\n",
    "print(square)\n",
    "\n",
    "print(\"Cube every number of the list:\")\n",
    "print(cube)\n"
   ]
  },
  {
   "cell_type": "code",
   "execution_count": null,
   "id": "ed111b22",
   "metadata": {},
   "outputs": [],
   "source": []
  },
  {
   "cell_type": "code",
   "execution_count": null,
   "id": "9987d4c9",
   "metadata": {},
   "outputs": [],
   "source": []
  },
  {
   "cell_type": "code",
   "execution_count": null,
   "id": "b3d3bfef",
   "metadata": {},
   "outputs": [],
   "source": []
  },
  {
   "cell_type": "code",
   "execution_count": 5,
   "id": "f9bd1611",
   "metadata": {},
   "outputs": [
    {
     "name": "stdout",
     "output_type": "stream",
     "text": [
      "Timestamp:\n",
      "2023-06-20 22:09:12.119390\n",
      "Year:\n",
      "2023\n",
      "Month:\n",
      "6\n",
      "Date:\n",
      "20\n",
      "Time:\n",
      "22:09:12.119390\n"
     ]
    }
   ],
   "source": [
    "''' 13. Write a Python program to extract year, month, date and time using Lambda. Sample Output:  \n",
    "    2020-01-15 09:03:32.744178  \n",
    "    2020  \n",
    "    1  \n",
    "    15  \n",
    "    09:03:32.744178 '''  \n",
    "\n",
    "\n",
    "import datetime\n",
    "\n",
    "timestamp = datetime.datetime.now()\n",
    "\n",
    "year = lambda x: x.year\n",
    "month = lambda x: x.month\n",
    "date = lambda x: x.day\n",
    "time = lambda x: x.strftime(\"%H:%M:%S.%f\")\n",
    "\n",
    "print(\"Timestamp:\")\n",
    "print(timestamp)\n",
    "\n",
    "print(\"Year:\")\n",
    "print(year(timestamp))\n",
    "\n",
    "print(\"Month:\")\n",
    "print(month(timestamp))\n",
    "\n",
    "print(\"Date:\")\n",
    "print(date(timestamp))\n",
    "\n",
    "print(\"Time:\")\n",
    "print(time(timestamp))\n"
   ]
  },
  {
   "cell_type": "code",
   "execution_count": null,
   "id": "1d0029e2",
   "metadata": {},
   "outputs": [],
   "source": []
  },
  {
   "cell_type": "code",
   "execution_count": null,
   "id": "7c154d3c",
   "metadata": {},
   "outputs": [],
   "source": []
  },
  {
   "cell_type": "code",
   "execution_count": null,
   "id": "8fd6fbec",
   "metadata": {},
   "outputs": [],
   "source": []
  },
  {
   "cell_type": "code",
   "execution_count": 8,
   "id": "e76792af",
   "metadata": {},
   "outputs": [
    {
     "name": "stdout",
     "output_type": "stream",
     "text": [
      "Original array:\n",
      "[-1, 2, -3, 5, 7, 8, 9, -10]\n",
      "Rearranged positive and negative numbers:\n",
      "[2, 5, 7, 8, 9, -1, -3, -10]\n"
     ]
    }
   ],
   "source": [
    "#14. Write a Python program to rearrange positive and negative numbers in a given array using  Lambda. \n",
    "# Original arrays:  \n",
    "# [-1, 2, -3, 5, 7, 8, 9, -10]  \n",
    "# Rearrange positive and negative numbers of the said array: \n",
    "# [2, 5, 7, 8, 9, -10, -3, -1] \n",
    "\n",
    "\n",
    "array = [-1, 2, -3, 5, 7, 8, 9, -10]\n",
    "\n",
    "rearrange = sorted(array, key=lambda x: (x <= 0, abs(x)))\n",
    "\n",
    "print(\"Original array:\")\n",
    "print(array)\n",
    "\n",
    "print(\"Rearranged positive and negative numbers:\")\n",
    "print(rearrange)\n"
   ]
  },
  {
   "cell_type": "code",
   "execution_count": null,
   "id": "ac6410bb",
   "metadata": {},
   "outputs": [],
   "source": []
  },
  {
   "cell_type": "code",
   "execution_count": null,
   "id": "396fe9a4",
   "metadata": {},
   "outputs": [],
   "source": []
  },
  {
   "cell_type": "code",
   "execution_count": null,
   "id": "303f1dc9",
   "metadata": {},
   "outputs": [],
   "source": []
  },
  {
   "cell_type": "code",
   "execution_count": 9,
   "id": "cbcfe651",
   "metadata": {},
   "outputs": [
    {
     "name": "stdout",
     "output_type": "stream",
     "text": [
      "Original list 1:\n",
      "[1, 2, 3]\n",
      "Original list 2:\n",
      "[4, 5, 6]\n",
      "Result after adding two lists:\n",
      "[5, 7, 9]\n"
     ]
    }
   ],
   "source": [
    "# Write a Python program to add two given lists using map and lambda. \n",
    "# Original list:  \n",
    "# [1, 2, 3]  \n",
    "# [4, 5, 6]  \n",
    "# Result: after adding two list  \n",
    "# [5, 7, 9]  \n",
    "\n",
    "l1 = [1, 2, 3]\n",
    "l2 = [4, 5, 6]\n",
    "\n",
    "sum = list(map(lambda x, y: x + y, l1, l2))\n",
    "\n",
    "print(\"Original list 1:\")\n",
    "print(l1)\n",
    "\n",
    "print(\"Original list 2:\")\n",
    "print(l2)\n",
    "\n",
    "print(\"Result after adding two lists:\")\n",
    "print(sum)\n"
   ]
  },
  {
   "cell_type": "code",
   "execution_count": null,
   "id": "a2e02e35",
   "metadata": {},
   "outputs": [],
   "source": []
  },
  {
   "cell_type": "code",
   "execution_count": null,
   "id": "a0a78a71",
   "metadata": {},
   "outputs": [],
   "source": []
  },
  {
   "cell_type": "code",
   "execution_count": null,
   "id": "0e2e8364",
   "metadata": {},
   "outputs": [],
   "source": []
  },
  {
   "cell_type": "code",
   "execution_count": 13,
   "id": "37bf6ac4",
   "metadata": {},
   "outputs": [
    {
     "name": "stdout",
     "output_type": "stream",
     "text": [
      "Original sequence:\n",
      "Hello, World!\n",
      "Uppercase sequence:\n",
      "HELLO, WORLD!\n",
      "Lowercase sequence:\n",
      "hello, world!\n",
      "Sequence with duplicate letters removed:\n",
      " ,dWH!relo\n"
     ]
    }
   ],
   "source": [
    "#16. Write a Python program to convert all the characters in uppercase and lowercase and  eliminate \n",
    "# duplicate letters from a given sequence. Use map() function.  \n",
    "  \n",
    "    \n",
    "s = \"Hello, World!\"\n",
    "uppercase = list(map(lambda x: x.upper(), s))\n",
    "\n",
    "lowercase = list(map(lambda x: x.lower(), s))\n",
    "\n",
    "unique = list(set(s))\n",
    "\n",
    "print(\"Original sequence:\")\n",
    "print(s)\n",
    "\n",
    "print(\"Uppercase sequence:\")\n",
    "print(''.join(uppercase))\n",
    "\n",
    "print(\"Lowercase sequence:\")\n",
    "print(''.join(lowercase))\n",
    "\n",
    "print(\"Sequence with duplicate letters removed:\")\n",
    "print(''.join(unique))\n",
    "    "
   ]
  },
  {
   "cell_type": "code",
   "execution_count": null,
   "id": "260f161f",
   "metadata": {},
   "outputs": [],
   "source": []
  },
  {
   "cell_type": "code",
   "execution_count": null,
   "id": "b60335ca",
   "metadata": {},
   "outputs": [],
   "source": []
  },
  {
   "cell_type": "code",
   "execution_count": null,
   "id": "0c0d43d3",
   "metadata": {},
   "outputs": [],
   "source": []
  },
  {
   "cell_type": "code",
   "execution_count": 1,
   "id": "67714565",
   "metadata": {},
   "outputs": [
    {
     "name": "stdout",
     "output_type": "stream",
     "text": [
      "List of strings from list: ['1', '2', '3', '4', '5']\n",
      "List of strings from tuple: ['6', '7', '8', '9', '10']\n"
     ]
    }
   ],
   "source": [
    "#17.Write a Python program to convert a given list of integers and a tuple of integers in a list of  strings. Use map() function.  \n",
    "\n",
    "l = [1, 2, 3, 4, 5]\n",
    "t = (6, 7, 8, 9, 10)\n",
    "list1 = list(map(str, l))\n",
    "list2 = list(map(str, t))\n",
    "print(\"List of strings from list:\", list1)\n",
    "print(\"List of strings from tuple:\", list2) \n"
   ]
  },
  {
   "cell_type": "code",
   "execution_count": null,
   "id": "5138e47a",
   "metadata": {},
   "outputs": [],
   "source": []
  },
  {
   "cell_type": "code",
   "execution_count": null,
   "id": "08504007",
   "metadata": {},
   "outputs": [],
   "source": []
  },
  {
   "cell_type": "code",
   "execution_count": null,
   "id": "49d829c0",
   "metadata": {},
   "outputs": [],
   "source": []
  },
  {
   "cell_type": "code",
   "execution_count": 2,
   "id": "4149c908",
   "metadata": {},
   "outputs": [
    {
     "name": "stdout",
     "output_type": "stream",
     "text": [
      "[1, 2, 8, 9]\n"
     ]
    }
   ],
   "source": [
    "#18. Write a Python program to find intersection of two given arrays using Lambda.\n",
    "# Original arrays:\n",
    "# [1, 2, 3, 5, 7, 8, 9, 10]\n",
    "# [1, 2, 4, 8, 9]\n",
    "\n",
    "array1 = [1, 2, 3, 5, 7, 8, 9, 10]\n",
    "array2 = [1, 2, 4, 8, 9]\n",
    "intersection = list(filter(lambda x: x in array1, array2))\n",
    "print(intersection)\n"
   ]
  },
  {
   "cell_type": "code",
   "execution_count": null,
   "id": "9a545bcc",
   "metadata": {},
   "outputs": [],
   "source": []
  },
  {
   "cell_type": "code",
   "execution_count": null,
   "id": "1e4b0d57",
   "metadata": {},
   "outputs": [],
   "source": []
  },
  {
   "cell_type": "code",
   "execution_count": null,
   "id": "20737d53",
   "metadata": {},
   "outputs": [],
   "source": []
  },
  {
   "cell_type": "code",
   "execution_count": 2,
   "id": "92e4a2bd",
   "metadata": {},
   "outputs": [
    {
     "name": "stdout",
     "output_type": "stream",
     "text": [
      "Number of even numbers: 3\n",
      "Number of odd numbers: 5\n"
     ]
    }
   ],
   "source": [
    "#19. Write a Python program to count the even, odd numbers in a given array of integers using\n",
    "# Lambda.\n",
    "# Original arrays:\n",
    "# [1, 2, 3, 5, 7, 8, 9, 10]\n",
    "\n",
    "array = [1, 2, 3, 5, 7, 8, 9, 10]\n",
    "even = list(filter(lambda x: x % 2 == 0, array))\n",
    "odd = list(filter(lambda x: x % 2 != 0, array))\n",
    "count1 = len(even)\n",
    "count2 = len(odd)\n",
    "print(\"Number of even numbers:\", count1)\n",
    "print(\"Number of odd numbers:\", count2)\n"
   ]
  },
  {
   "cell_type": "code",
   "execution_count": null,
   "id": "a268383f",
   "metadata": {},
   "outputs": [],
   "source": []
  },
  {
   "cell_type": "code",
   "execution_count": null,
   "id": "e8e2bdae",
   "metadata": {},
   "outputs": [],
   "source": []
  },
  {
   "cell_type": "code",
   "execution_count": null,
   "id": "228c00b5",
   "metadata": {},
   "outputs": [],
   "source": []
  },
  {
   "cell_type": "code",
   "execution_count": 21,
   "id": "019d778d",
   "metadata": {},
   "outputs": [
    {
     "name": "stdout",
     "output_type": "stream",
     "text": [
      "Palindromes in the list: ['php', 'aaa']\n"
     ]
    }
   ],
   "source": [
    "#20. Write a Python program to find palindromes in a given list of strings using Lambda.\n",
    "# Original list of strings:\n",
    "# ['php', 'w3r', 'Python', 'abcd', 'Java', 'aaa']\n",
    "\n",
    "s = ['php', 'w3r', 'Python', 'abcd', 'Java', 'aaa']\n",
    "is_palindrome = lambda s: s == s[::-1]\n",
    "p = list(filter(is_palindrome, s))\n",
    "print(\"Palindromes in the list:\", p)\n",
    "\n",
    "\n"
   ]
  }
 ],
 "metadata": {
  "kernelspec": {
   "display_name": "Python 3 (ipykernel)",
   "language": "python",
   "name": "python3"
  },
  "language_info": {
   "codemirror_mode": {
    "name": "ipython",
    "version": 3
   },
   "file_extension": ".py",
   "mimetype": "text/x-python",
   "name": "python",
   "nbconvert_exporter": "python",
   "pygments_lexer": "ipython3",
   "version": "3.10.9"
  }
 },
 "nbformat": 4,
 "nbformat_minor": 5
}
