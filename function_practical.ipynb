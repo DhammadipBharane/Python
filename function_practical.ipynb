{
 "cells": [
  {
   "cell_type": "code",
   "execution_count": 5,
   "id": "26429236",
   "metadata": {},
   "outputs": [
    {
     "name": "stdout",
     "output_type": "stream",
     "text": [
      "Hello...Dhammadip\n",
      "Good Morning\n"
     ]
    }
   ],
   "source": [
    "def SayHello(name):\n",
    "    \"\"\"function for Saying Hello\"\"\"\n",
    "    print(f'Hello...{name}')\n",
    "    print(\"Good Morning\")\n",
    "def main():\n",
    "    n1=\"Dhammadip\"\n",
    "    SayHello(n1)\n",
    "if __name__=='__main__':\n",
    "    main()\n",
    "    "
   ]
  },
  {
   "cell_type": "code",
   "execution_count": 6,
   "id": "e588c70f",
   "metadata": {},
   "outputs": [
    {
     "data": {
      "text/plain": [
       "function"
      ]
     },
     "execution_count": 6,
     "metadata": {},
     "output_type": "execute_result"
    }
   ],
   "source": [
    "type(SayHello)\n"
   ]
  },
  {
   "cell_type": "code",
   "execution_count": 7,
   "id": "d976c706",
   "metadata": {},
   "outputs": [
    {
     "name": "stdout",
     "output_type": "stream",
     "text": [
      "Hello...Sakshi\n",
      "Good Morning\n"
     ]
    }
   ],
   "source": [
    "SayHello(\"Sakshi\")"
   ]
  },
  {
   "cell_type": "code",
   "execution_count": 9,
   "id": "df1e1335",
   "metadata": {},
   "outputs": [
    {
     "name": "stdout",
     "output_type": "stream",
     "text": [
      "Help on function SayHello in module __main__:\n",
      "\n",
      "SayHello(name)\n",
      "    function for Saying Hello\n",
      "\n"
     ]
    }
   ],
   "source": [
    "help(SayHello)"
   ]
  },
  {
   "cell_type": "code",
   "execution_count": null,
   "id": "fbafb064",
   "metadata": {},
   "outputs": [],
   "source": []
  },
  {
   "cell_type": "code",
   "execution_count": 11,
   "id": "22a1d61c",
   "metadata": {},
   "outputs": [
    {
     "name": "stdout",
     "output_type": "stream",
     "text": [
      "Hello Dhammadip Bharane\n"
     ]
    }
   ],
   "source": [
    "def greet(fname, lname):\n",
    "    print(f'Hello {fname} {lname}')\n",
    "greet('Dhammadip','Bharane')"
   ]
  },
  {
   "cell_type": "code",
   "execution_count": 12,
   "id": "678dfcc1",
   "metadata": {},
   "outputs": [
    {
     "name": "stdout",
     "output_type": "stream",
     "text": [
      "9\n"
     ]
    }
   ],
   "source": [
    "def add(a,b):\n",
    "    print(a+b)\n",
    "add(5,4)\n",
    "    "
   ]
  },
  {
   "cell_type": "code",
   "execution_count": 15,
   "id": "5b9690c5",
   "metadata": {},
   "outputs": [
    {
     "name": "stdout",
     "output_type": "stream",
     "text": [
      "Addition = 60\n"
     ]
    }
   ],
   "source": [
    "def add(a,b,c):\n",
    "    print(f'Addition = {a+b+c}')\n",
    "add(10,20,30)"
   ]
  },
  {
   "cell_type": "code",
   "execution_count": 16,
   "id": "20769284",
   "metadata": {},
   "outputs": [
    {
     "name": "stdout",
     "output_type": "stream",
     "text": [
      "Addition = 60\n"
     ]
    }
   ],
   "source": [
    "def add(a:int,b:int,c:int):\n",
    "    print(f'Addition = {a+b+c}')\n",
    "add(10,20,30)"
   ]
  },
  {
   "cell_type": "code",
   "execution_count": 18,
   "id": "dacdcb9a",
   "metadata": {},
   "outputs": [
    {
     "name": "stdout",
     "output_type": "stream",
     "text": [
      "Addition = 60.5\n"
     ]
    }
   ],
   "source": [
    "def add(a:float,b:int,c:int):\n",
    "    print(f'Addition = {a+b+c}')\n",
    "add(10,20.5,30)"
   ]
  },
  {
   "cell_type": "code",
   "execution_count": 19,
   "id": "f9979b09",
   "metadata": {},
   "outputs": [],
   "source": [
    "def greet(*names):\n",
    "    for name in names:\n",
    "        print(f'Hello {name}')"
   ]
  },
  {
   "cell_type": "code",
   "execution_count": 20,
   "id": "32ed4abe",
   "metadata": {},
   "outputs": [
    {
     "name": "stdout",
     "output_type": "stream",
     "text": [
      "Hello Dhammadip\n",
      "Hello Ajay\n",
      "Hello Tushar\n",
      "Hello Pranav\n",
      "Hello Bhatu\n",
      "Hello Sahil\n",
      "Hello Vinay\n",
      "Hello Bhushan\n"
     ]
    }
   ],
   "source": [
    "greet(\"Dhammadip\",\"Ajay\",\"Tushar\",\"Pranav\",\"Bhatu\",\"Sahil\",\"Vinay\",\"Bhushan\",)"
   ]
  },
  {
   "cell_type": "code",
   "execution_count": 21,
   "id": "d8908437",
   "metadata": {},
   "outputs": [],
   "source": [
    "def add(*nums):\n",
    "    m = 0\n",
    "    for n in nums:\n",
    "        m = m+n\n",
    "    print(f'The addition of Numberes = {m}')"
   ]
  },
  {
   "cell_type": "code",
   "execution_count": 22,
   "id": "d41e62a3",
   "metadata": {},
   "outputs": [
    {
     "name": "stdout",
     "output_type": "stream",
     "text": [
      "The addition of Numberes = 55\n"
     ]
    }
   ],
   "source": [
    "add(1,2,3,4,5,6,7,8,9,10)"
   ]
  },
  {
   "cell_type": "code",
   "execution_count": 5,
   "id": "7279c53e",
   "metadata": {},
   "outputs": [],
   "source": [
    "def add():\n",
    "    a=print(int(input(\"Enter first Number\")))\n",
    "    b=print(int(input(\"Enter second Number\")))\n",
    "    print(f'The addition of Numbers = {a+b}')\n"
   ]
  },
  {
   "cell_type": "code",
   "execution_count": null,
   "id": "a6e48f1b",
   "metadata": {},
   "outputs": [
    {
     "name": "stdout",
     "output_type": "stream",
     "text": [
      "******MENU******\n",
      "1.Addition\n",
      "2.Subtraction\n",
      "3.Multiplication\n",
      "4.Division\n",
      "1.Square\n",
      "Enter value of n1 : 10\n",
      "Enter value of n2 : 20\n",
      "Please Enter the Choice for operation : 3\n",
      "Multiplication of two Numbers is : 200\n",
      "Do you want to continue (y/n)?y\n",
      "Enter value of n1 : 5\n",
      "Enter value of n2 : 2\n",
      "Please Enter the Choice for operation : 5\n",
      "Power of n1 is : 25\n",
      "Do you want to continue (y/n)?y\n",
      "Enter value of n1 : 3\n",
      "Enter value of n2 : 2\n",
      "Please Enter the Choice for operation : 8\n",
      "Select a valid choice\n",
      "Do you want to continue (y/n)?y\n",
      "Enter value of n1 : 5184\n",
      "Enter value of n2 : 1518\n",
      "Please Enter the Choice for operation : 2\n",
      "Subtraction of two Numbers is : 3666\n"
     ]
    }
   ],
   "source": [
    "def add(a,b):\n",
    "    c=a+b\n",
    "    return c\n",
    "def sub(a,b):\n",
    "    c=a-b\n",
    "    return c\n",
    "def mul(a,b):\n",
    "    c=a*b\n",
    "    return c\n",
    "def div(a,b):\n",
    "    c=a/b\n",
    "    return c\n",
    "def exp(a,b):\n",
    "    c=a**b\n",
    "    return c\n",
    "\n",
    "print(\"******MENU******\")\n",
    "print(\"1.Addition\")\n",
    "print(\"2.Subtraction\")\n",
    "print(\"3.Multiplication\")\n",
    "print(\"4.Division\")\n",
    "print(\"1.Square\")\n",
    "\n",
    "ch = 'y'\n",
    "while ch=='y' or ch=='Y':\n",
    "    n1 = int(input(\"Enter value of n1 : \"))\n",
    "    n2 = int(input(\"Enter value of n2 : \"))\n",
    "    choice = int(input(\"Please Enter the Choice for operation : \"))\n",
    "    if choice == 1:\n",
    "        print(f'Addition of two Numbers is : {add(n1,n2)}')\n",
    "    elif choice == 2:\n",
    "        print(f'Subtraction of two Numbers is : {sub(n1,n2)}')\n",
    "    elif choice == 3:\n",
    "        print(f'Multiplication of two Numbers is : {mul(n1,n2)}')\n",
    "    elif choice == 4:\n",
    "        print(f'Division of two Numbers is : {div(n1,n2)}')\n",
    "    elif choice == 5:\n",
    "        print(f'Power of n1 is : {exp(n1,n2)}')\n",
    "    else:\n",
    "        print(f'Select a valid choice')\n",
    "    ch = input(\"Do you want to continue (y/n)?\")\n",
    "    if ch=='y' or ch=='Y':\n",
    "        continue\n",
    "    else:\n",
    "        break\n",
    "        "
   ]
  },
  {
   "cell_type": "code",
   "execution_count": null,
   "id": "633466b4",
   "metadata": {},
   "outputs": [],
   "source": []
  },
  {
   "cell_type": "code",
   "execution_count": 2,
   "id": "3f24295e",
   "metadata": {},
   "outputs": [
    {
     "name": "stdout",
     "output_type": "stream",
     "text": [
      "Enter Your Name : Dhammadip\n",
      "Enter your Age : 22\n",
      "Hello Dhammadip your age is 22\n"
     ]
    }
   ],
   "source": [
    "def say(name,age):\n",
    "\n",
    "    print(f'Hello {name} your age is {age}')\n",
    "\n",
    "n=input('Enter Your Name : ')\n",
    "a=int(input('Enter your Age : '))\n",
    "say(n,a)\n",
    "    "
   ]
  },
  {
   "cell_type": "code",
   "execution_count": null,
   "id": "a24a0a08",
   "metadata": {},
   "outputs": [],
   "source": []
  },
  {
   "cell_type": "code",
   "execution_count": 8,
   "id": "30c25a68",
   "metadata": {},
   "outputs": [
    {
     "name": "stdout",
     "output_type": "stream",
     "text": [
      "Enter Your Name : Dhammadip\n",
      "Enter your Age : 22\n",
      "Hello Dhammadip your age is 22\n"
     ]
    }
   ],
   "source": [
    "def say(name,age):\n",
    "    n=input('Enter Your Name : ')\n",
    "    a=int(input('Enter your Age : '))\n",
    "    print(f'Hello {name} your age is {age}')\n",
    "    return\n",
    "say(n,a)\n",
    "    "
   ]
  },
  {
   "cell_type": "code",
   "execution_count": null,
   "id": "88fe44a4",
   "metadata": {},
   "outputs": [],
   "source": []
  },
  {
   "cell_type": "code",
   "execution_count": 11,
   "id": "993a4f90",
   "metadata": {},
   "outputs": [],
   "source": [
    "def greet(fname, lname):\n",
    "    print(f'Hello {lname} {fname}')"
   ]
  },
  {
   "cell_type": "code",
   "execution_count": 13,
   "id": "b071b3bf",
   "metadata": {},
   "outputs": [
    {
     "name": "stdout",
     "output_type": "stream",
     "text": [
      "Hello Bharane Dhammadip\n"
     ]
    }
   ],
   "source": [
    "greet('Dhammadip','Bharane')"
   ]
  },
  {
   "cell_type": "code",
   "execution_count": 14,
   "id": "85b6d6aa",
   "metadata": {},
   "outputs": [
    {
     "name": "stdout",
     "output_type": "stream",
     "text": [
      "Hello Bharane Ajay\n"
     ]
    }
   ],
   "source": [
    "greet(lname='Bharane',fname='Ajay',)"
   ]
  },
  {
   "cell_type": "code",
   "execution_count": null,
   "id": "462ce569",
   "metadata": {},
   "outputs": [],
   "source": []
  },
  {
   "cell_type": "code",
   "execution_count": 16,
   "id": "738dbe6f",
   "metadata": {},
   "outputs": [],
   "source": [
    "def person(**person):\n",
    "    print(f\"Hello {person['fname']} {person['lname']} your Age is {person['age']}\")"
   ]
  },
  {
   "cell_type": "code",
   "execution_count": 19,
   "id": "d6d9aaca",
   "metadata": {},
   "outputs": [
    {
     "name": "stdout",
     "output_type": "stream",
     "text": [
      "Hello Sahil Kondhare your Age is 22\n"
     ]
    }
   ],
   "source": [
    "person(fname='Sahil',lname='Kondhare',age=22)"
   ]
  },
  {
   "cell_type": "code",
   "execution_count": null,
   "id": "1509d403",
   "metadata": {},
   "outputs": [],
   "source": []
  },
  {
   "cell_type": "code",
   "execution_count": 2,
   "id": "6cd982f9",
   "metadata": {},
   "outputs": [],
   "source": [
    "def greet(name, msg='Good Morning'):\n",
    "    print(f'Hello {name} and message for you is : {msg}')"
   ]
  },
  {
   "cell_type": "code",
   "execution_count": 3,
   "id": "63260f0e",
   "metadata": {},
   "outputs": [
    {
     "name": "stdout",
     "output_type": "stream",
     "text": [
      "Hello Dhammadip and message for you is : Good Evening\n"
     ]
    }
   ],
   "source": [
    "greet('Dhammadip','Good Evening')"
   ]
  },
  {
   "cell_type": "code",
   "execution_count": 4,
   "id": "f366095d",
   "metadata": {},
   "outputs": [
    {
     "name": "stdout",
     "output_type": "stream",
     "text": [
      "Hello Dhammadip and message for you is : Good Morning\n"
     ]
    }
   ],
   "source": [
    "greet(\"Dhammadip\")"
   ]
  },
  {
   "cell_type": "code",
   "execution_count": null,
   "id": "35330b0f",
   "metadata": {},
   "outputs": [],
   "source": []
  },
  {
   "cell_type": "code",
   "execution_count": null,
   "id": "a94809ba",
   "metadata": {},
   "outputs": [],
   "source": []
  },
  {
   "cell_type": "code",
   "execution_count": null,
   "id": "14a0b4e2",
   "metadata": {},
   "outputs": [],
   "source": []
  },
  {
   "cell_type": "code",
   "execution_count": 10,
   "id": "5588d853",
   "metadata": {},
   "outputs": [
    {
     "name": "stdout",
     "output_type": "stream",
     "text": [
      "Enter value of a : 10\n",
      "Enter value of b : 10\n",
      "Addition = 20\n"
     ]
    }
   ],
   "source": [
    "def add(a,b):\n",
    "    c=a+b\n",
    "    return c\n",
    "n1=int(input(\"Enter value of a : \"))\n",
    "n2=int(input(\"Enter value of b : \"))\n",
    "\n",
    "result = add(n1,n2)\n",
    "print(f\"Addition = {result}\")\n"
   ]
  },
  {
   "cell_type": "code",
   "execution_count": null,
   "id": "dc62daa0",
   "metadata": {},
   "outputs": [],
   "source": []
  },
  {
   "cell_type": "code",
   "execution_count": null,
   "id": "692c39b2",
   "metadata": {},
   "outputs": [],
   "source": []
  },
  {
   "cell_type": "code",
   "execution_count": 17,
   "id": "24ac8af0",
   "metadata": {},
   "outputs": [],
   "source": [
    "def check(a):\n",
    "    n1=int(input(\"Enter value of a : \"))\n",
    "    for i in range(2,n1):\n",
    "        if n1%i==0:\n",
    "            print(\"Given number is Prime\")\n",
    "            break\n",
    "        else:\n",
    "            print(\"Given number is not Prime\")\n",
    "            break\n"
   ]
  },
  {
   "cell_type": "code",
   "execution_count": 18,
   "id": "f066e24b",
   "metadata": {},
   "outputs": [
    {
     "name": "stdout",
     "output_type": "stream",
     "text": [
      "Enter value of a : 53\n",
      "Given number is not Prime\n"
     ]
    }
   ],
   "source": [
    "check(8)"
   ]
  },
  {
   "cell_type": "code",
   "execution_count": null,
   "id": "59b4da30",
   "metadata": {},
   "outputs": [],
   "source": []
  },
  {
   "cell_type": "code",
   "execution_count": 5,
   "id": "e63d0e60",
   "metadata": {},
   "outputs": [
    {
     "name": "stdout",
     "output_type": "stream",
     "text": [
      "Enter a number : 53\n",
      "53 is a Prime Number\n"
     ]
    }
   ],
   "source": [
    "def isprime(n):\n",
    "    if n<=0:\n",
    "        return False\n",
    "    else:\n",
    "        for i in range(2,n):\n",
    "            if n%i==0:\n",
    "                return False\n",
    "        return True\n",
    "num = int(input(\"Enter a number : \"))\n",
    "if isprime(num):\n",
    "    print(f'{num} is a Prime Number')\n",
    "else:\n",
    "    print(f'{num} is not a Prime Number')\n",
    "    "
   ]
  },
  {
   "cell_type": "code",
   "execution_count": null,
   "id": "5ea7634c",
   "metadata": {},
   "outputs": [],
   "source": []
  },
  {
   "cell_type": "code",
   "execution_count": null,
   "id": "5b31ef8d",
   "metadata": {},
   "outputs": [],
   "source": []
  },
  {
   "cell_type": "code",
   "execution_count": 37,
   "id": "ecd97a8c",
   "metadata": {},
   "outputs": [],
   "source": [
    "name=\"Ajay\"\n",
    "def greet():\n",
    "    global name \n",
    "    name= \"Dhammadip\"\n",
    "    print(f'Hello, name')\n",
    "    "
   ]
  },
  {
   "cell_type": "code",
   "execution_count": 38,
   "id": "33005480",
   "metadata": {},
   "outputs": [
    {
     "name": "stdout",
     "output_type": "stream",
     "text": [
      "Ajay\n"
     ]
    }
   ],
   "source": [
    "print(name)\n"
   ]
  },
  {
   "cell_type": "code",
   "execution_count": 39,
   "id": "01031490",
   "metadata": {},
   "outputs": [
    {
     "name": "stdout",
     "output_type": "stream",
     "text": [
      "Ajay\n",
      "Hello, name\n"
     ]
    }
   ],
   "source": [
    "print(name)\n",
    "greet()\n"
   ]
  },
  {
   "cell_type": "code",
   "execution_count": null,
   "id": "376f94d9",
   "metadata": {},
   "outputs": [],
   "source": []
  },
  {
   "cell_type": "code",
   "execution_count": null,
   "id": "5536cc01",
   "metadata": {},
   "outputs": [],
   "source": []
  },
  {
   "cell_type": "code",
   "execution_count": 5,
   "id": "c866ce27",
   "metadata": {},
   "outputs": [
    {
     "name": "stdout",
     "output_type": "stream",
     "text": [
      "Bob\n",
      "Hello Bob\n",
      "Alica\n"
     ]
    }
   ],
   "source": [
    "name = 'Bob'\n",
    "def greet():\n",
    "    globals()['name']='Alica'\n",
    "    name = 'Bob'\n",
    "    print('Hello', name)\n",
    "    \n",
    "def main():\n",
    "    print(name)\n",
    "    greet()\n",
    "    print(name)\n",
    "    \n",
    "if __name__==\"__main__\":\n",
    "    main()"
   ]
  },
  {
   "cell_type": "code",
   "execution_count": null,
   "id": "1744acb6",
   "metadata": {},
   "outputs": [],
   "source": []
  },
  {
   "cell_type": "code",
   "execution_count": null,
   "id": "6b5c2ebd",
   "metadata": {},
   "outputs": [],
   "source": []
  },
  {
   "cell_type": "code",
   "execution_count": null,
   "id": "0d783264",
   "metadata": {},
   "outputs": [],
   "source": []
  },
  {
   "cell_type": "code",
   "execution_count": 1,
   "id": "ea30f273",
   "metadata": {},
   "outputs": [],
   "source": [
    "def talk(phrase):\n",
    "    def say(word):\n",
    "        print(word)\n",
    "    words = phrase.split(' ')\n",
    "    for word in words:\n",
    "        say (word)"
   ]
  },
  {
   "cell_type": "code",
   "execution_count": 2,
   "id": "aa08f852",
   "metadata": {},
   "outputs": [
    {
     "name": "stdout",
     "output_type": "stream",
     "text": [
      "I\n",
      "am\n",
      "going\n",
      "to\n",
      "buy\n",
      "a\n",
      "new\n",
      "car\n"
     ]
    }
   ],
   "source": [
    "talk(\"I am going to buy a new car\")"
   ]
  },
  {
   "cell_type": "code",
   "execution_count": null,
   "id": "d37b4ec1",
   "metadata": {},
   "outputs": [],
   "source": []
  },
  {
   "cell_type": "code",
   "execution_count": null,
   "id": "eec41e4b",
   "metadata": {},
   "outputs": [],
   "source": []
  },
  {
   "cell_type": "code",
   "execution_count": 21,
   "id": "d1d6a35a",
   "metadata": {},
   "outputs": [
    {
     "name": "stdout",
     "output_type": "stream",
     "text": [
      "Enter a positive Number : 3\n",
      "Factorial of 3 is 6\n"
     ]
    }
   ],
   "source": [
    "def r_fact(n):\n",
    "    if n<=1:\n",
    "        return n\n",
    "    else:\n",
    "        return (n*r_fact(n-1))\n",
    "num = int(input(\"Enter a positive Number : \"))\n",
    "if num<0:\n",
    "    print(\"For Negative numbers Factorial doesn't exists\")\n",
    "elif num==0:\n",
    "    print(f\"Factorial of {num} is 1\")\n",
    "else:\n",
    "    print(f\"Factorial of {num} is {r_fact(num)}\")\n",
    "    "
   ]
  },
  {
   "cell_type": "code",
   "execution_count": null,
   "id": "896220e6",
   "metadata": {},
   "outputs": [],
   "source": []
  },
  {
   "cell_type": "code",
   "execution_count": null,
   "id": "9fe8329e",
   "metadata": {},
   "outputs": [],
   "source": []
  },
  {
   "cell_type": "code",
   "execution_count": 2,
   "id": "0b0ccb3e",
   "metadata": {},
   "outputs": [
    {
     "data": {
      "text/plain": [
       "Type help() for interactive help, or help(object) for help about object."
      ]
     },
     "execution_count": 2,
     "metadata": {},
     "output_type": "execute_result"
    }
   ],
   "source": [
    "def fibo(a):\n",
    "    while a:\n",
    "        return a=a+(a-1)\n",
    "    print(a)"
   ]
  },
  {
   "cell_type": "code",
   "execution_count": 10,
   "id": "25d15a11",
   "metadata": {},
   "outputs": [
    {
     "name": "stdout",
     "output_type": "stream",
     "text": [
      "Enter number of terms : 2\n",
      "2 term Fibonacci Sequence is : ........\n",
      "0 1 "
     ]
    }
   ],
   "source": [
    "def fibo(n):\n",
    "    if n <= 1:\n",
    "        return n\n",
    "    else:\n",
    "        n=(fibo(n-1)+fibo(n-2))\n",
    "a = int(input(\"Enter number of terms : \"))\n",
    "if a<0:\n",
    "    print(\"Negative number of terms are not allowed......\")\n",
    "else:\n",
    "    print(f'{a} term Fibonacci Sequence is : ........')\n",
    "    for i in range (a):\n",
    "        print(fibo(i), end = ' ')"
   ]
  },
  {
   "cell_type": "code",
   "execution_count": null,
   "id": "d00e2700",
   "metadata": {},
   "outputs": [],
   "source": []
  },
  {
   "cell_type": "code",
   "execution_count": null,
   "id": "6a7e7d7e",
   "metadata": {},
   "outputs": [],
   "source": []
  },
  {
   "cell_type": "code",
   "execution_count": 2,
   "id": "562e4cf1",
   "metadata": {},
   "outputs": [],
   "source": [
    "def factorial(number):\n",
    "    #validate input\n",
    "    if number < 0:\n",
    "        print(\"Sorry.... 'number' nyst be zero or positive.\")\n",
    "    #calculate the factorial of number\n",
    "    def inner_factorial(number):\n",
    "        if number <= 1:\n",
    "            return 1\n",
    "        else:\n",
    "            return number * inner_factorial(number - 1)\n",
    "    return inner_factorial(number)"
   ]
  },
  {
   "cell_type": "code",
   "execution_count": null,
   "id": "cdb5ea45",
   "metadata": {},
   "outputs": [],
   "source": []
  },
  {
   "cell_type": "code",
   "execution_count": null,
   "id": "0e47c035",
   "metadata": {},
   "outputs": [],
   "source": []
  },
  {
   "cell_type": "code",
   "execution_count": 7,
   "id": "737f4ef9",
   "metadata": {},
   "outputs": [
    {
     "data": {
      "text/plain": [
       "225"
      ]
     },
     "execution_count": 7,
     "metadata": {},
     "output_type": "execute_result"
    }
   ],
   "source": [
    "square = lambda x : x*x\n",
    "square(15)"
   ]
  },
  {
   "cell_type": "code",
   "execution_count": 4,
   "id": "180a8316",
   "metadata": {},
   "outputs": [
    {
     "data": {
      "text/plain": [
       "function"
      ]
     },
     "execution_count": 4,
     "metadata": {},
     "output_type": "execute_result"
    }
   ],
   "source": [
    "type(square)"
   ]
  },
  {
   "cell_type": "code",
   "execution_count": null,
   "id": "b36c54cb",
   "metadata": {},
   "outputs": [],
   "source": []
  },
  {
   "cell_type": "code",
   "execution_count": 5,
   "id": "1fcf75cc",
   "metadata": {},
   "outputs": [
    {
     "data": {
      "text/plain": [
       "25"
      ]
     },
     "execution_count": 5,
     "metadata": {},
     "output_type": "execute_result"
    }
   ],
   "source": [
    "addition = lambda a,b : a+b\n",
    "addition(10,15)"
   ]
  },
  {
   "cell_type": "code",
   "execution_count": null,
   "id": "753372ba",
   "metadata": {},
   "outputs": [],
   "source": []
  },
  {
   "cell_type": "code",
   "execution_count": 8,
   "id": "b6a3245e",
   "metadata": {},
   "outputs": [
    {
     "data": {
      "text/plain": [
       "10"
      ]
     },
     "execution_count": 8,
     "metadata": {},
     "output_type": "execute_result"
    }
   ],
   "source": [
    "subtract = lambda a,b : a-b\n",
    "subtract(15,5)"
   ]
  },
  {
   "cell_type": "code",
   "execution_count": null,
   "id": "838ceae6",
   "metadata": {},
   "outputs": [],
   "source": []
  },
  {
   "cell_type": "code",
   "execution_count": 10,
   "id": "f51ba497",
   "metadata": {},
   "outputs": [
    {
     "data": {
      "text/plain": [
       "4.0"
      ]
     },
     "execution_count": 10,
     "metadata": {},
     "output_type": "execute_result"
    }
   ],
   "source": [
    "div = lambda a,b : a/b\n",
    "div(8,2)"
   ]
  },
  {
   "cell_type": "code",
   "execution_count": null,
   "id": "ac690053",
   "metadata": {},
   "outputs": [],
   "source": []
  },
  {
   "cell_type": "code",
   "execution_count": 12,
   "id": "47658543",
   "metadata": {},
   "outputs": [
    {
     "data": {
      "text/plain": [
       "25"
      ]
     },
     "execution_count": 12,
     "metadata": {},
     "output_type": "execute_result"
    }
   ],
   "source": [
    "power = lambda a,b : a**b\n",
    "power(5,2)"
   ]
  },
  {
   "cell_type": "code",
   "execution_count": null,
   "id": "5aff009a",
   "metadata": {},
   "outputs": [],
   "source": []
  },
  {
   "cell_type": "code",
   "execution_count": 19,
   "id": "9d6cf5d3",
   "metadata": {},
   "outputs": [
    {
     "ename": "TypeError",
     "evalue": "<lambda>() takes 0 positional arguments but 1 was given",
     "output_type": "error",
     "traceback": [
      "\u001b[1;31m---------------------------------------------------------------------------\u001b[0m",
      "\u001b[1;31mTypeError\u001b[0m                                 Traceback (most recent call last)",
      "Cell \u001b[1;32mIn[19], line 2\u001b[0m\n\u001b[0;32m      1\u001b[0m greet \u001b[38;5;241m=\u001b[39m \u001b[38;5;28;01mlambda\u001b[39;00m : \u001b[38;5;28mprint\u001b[39m(\u001b[38;5;124mf\u001b[39m\u001b[38;5;124m'\u001b[39m\u001b[38;5;124mHello...\u001b[39m\u001b[38;5;132;01m{\u001b[39;00mname\u001b[38;5;132;01m}\u001b[39;00m\u001b[38;5;124m'\u001b[39m)\n\u001b[1;32m----> 2\u001b[0m \u001b[43mgreet\u001b[49m\u001b[43m(\u001b[49m\u001b[38;5;124;43m\"\u001b[39;49m\u001b[38;5;124;43mDhammadip\u001b[39;49m\u001b[38;5;124;43m\"\u001b[39;49m\u001b[43m)\u001b[49m\n",
      "\u001b[1;31mTypeError\u001b[0m: <lambda>() takes 0 positional arguments but 1 was given"
     ]
    }
   ],
   "source": []
  },
  {
   "cell_type": "code",
   "execution_count": null,
   "id": "de13ab18",
   "metadata": {},
   "outputs": [],
   "source": []
  },
  {
   "cell_type": "code",
   "execution_count": 43,
   "id": "0a99f9ac",
   "metadata": {},
   "outputs": [
    {
     "ename": "IndentationError",
     "evalue": "unexpected indent (882025733.py, line 2)",
     "output_type": "error",
     "traceback": [
      "\u001b[1;36m  Cell \u001b[1;32mIn[43], line 2\u001b[1;36m\u001b[0m\n\u001b[1;33m    greet(\"Dhammadip\")\u001b[0m\n\u001b[1;37m    ^\u001b[0m\n\u001b[1;31mIndentationError\u001b[0m\u001b[1;31m:\u001b[0m unexpected indent\n"
     ]
    }
   ],
   "source": [
    "greet = lambda name : print(f'Hello... {name}')\n",
    "    greet(\"Dhammadip\")"
   ]
  },
  {
   "cell_type": "code",
   "execution_count": null,
   "id": "755108ea",
   "metadata": {},
   "outputs": [],
   "source": []
  },
  {
   "cell_type": "code",
   "execution_count": 44,
   "id": "4a9678ef",
   "metadata": {},
   "outputs": [
    {
     "data": {
      "text/plain": [
       "105"
      ]
     },
     "execution_count": 44,
     "metadata": {},
     "output_type": "execute_result"
    }
   ],
   "source": [
    "sum = lambda *x : x[0] + x[1] + x[2] + x[3]\n",
    "sum(15,20,30,40,50)"
   ]
  },
  {
   "cell_type": "code",
   "execution_count": null,
   "id": "e4b5f826",
   "metadata": {},
   "outputs": [],
   "source": []
  },
  {
   "cell_type": "code",
   "execution_count": 33,
   "id": "6c8b209d",
   "metadata": {},
   "outputs": [
    {
     "data": {
      "text/plain": [
       "25"
      ]
     },
     "execution_count": 33,
     "metadata": {},
     "output_type": "execute_result"
    }
   ],
   "source": [
    "(lambda x: x*x) (5)"
   ]
  },
  {
   "cell_type": "code",
   "execution_count": null,
   "id": "7a1ebdde",
   "metadata": {},
   "outputs": [],
   "source": []
  },
  {
   "cell_type": "code",
   "execution_count": 34,
   "id": "6c36809a",
   "metadata": {},
   "outputs": [
    {
     "data": {
      "text/plain": [
       "5"
      ]
     },
     "execution_count": 34,
     "metadata": {},
     "output_type": "execute_result"
    }
   ],
   "source": [
    "(lambda x: x*x) \n",
    "(5)"
   ]
  },
  {
   "cell_type": "code",
   "execution_count": null,
   "id": "3be40e81",
   "metadata": {},
   "outputs": [],
   "source": []
  },
  {
   "cell_type": "code",
   "execution_count": 40,
   "id": "d5819d3c",
   "metadata": {},
   "outputs": [
    {
     "data": {
      "text/plain": [
       "25"
      ]
     },
     "execution_count": 40,
     "metadata": {},
     "output_type": "execute_result"
    }
   ],
   "source": [
    "(lambda x, y : x + y) (10, 15)"
   ]
  },
  {
   "cell_type": "code",
   "execution_count": null,
   "id": "534646f9",
   "metadata": {},
   "outputs": [],
   "source": []
  },
  {
   "cell_type": "code",
   "execution_count": 41,
   "id": "a4eb9ec4",
   "metadata": {},
   "outputs": [
    {
     "name": "stdout",
     "output_type": "stream",
     "text": [
      "Calling function argument\n",
      "Hello.. how r you?\n"
     ]
    }
   ],
   "source": [
    "def dosomething(fn):\n",
    "    print('Calling function argument')\n",
    "    fn()\n",
    "dosomething(lambda:print(\"Hello.. how r you?\"))"
   ]
  },
  {
   "cell_type": "code",
   "execution_count": null,
   "id": "22c7b0bb",
   "metadata": {},
   "outputs": [],
   "source": []
  },
  {
   "cell_type": "code",
   "execution_count": 63,
   "id": "e7223cd9",
   "metadata": {},
   "outputs": [],
   "source": [
    "def greet(name, myfn):\n",
    "    print(f'Hello {name}')\n",
    "    myfn()"
   ]
  },
  {
   "cell_type": "code",
   "execution_count": 64,
   "id": "b47f3e57",
   "metadata": {},
   "outputs": [],
   "source": [
    "myfn = lambda : print(f'How are you?')"
   ]
  },
  {
   "cell_type": "code",
   "execution_count": 67,
   "id": "b2530ec7",
   "metadata": {},
   "outputs": [
    {
     "name": "stdout",
     "output_type": "stream",
     "text": [
      "Hello Dhammadip\n",
      "How are you?\n"
     ]
    }
   ],
   "source": [
    "greet(\"Dhammadip\",myfn)"
   ]
  },
  {
   "cell_type": "code",
   "execution_count": null,
   "id": "72495d35",
   "metadata": {},
   "outputs": [],
   "source": []
  },
  {
   "cell_type": "code",
   "execution_count": 69,
   "id": "180e6280",
   "metadata": {},
   "outputs": [],
   "source": [
    "def EvenOdd(num,fn):\n",
    "    fn(num)\n",
    "    if fn(num) == True:\n",
    "        print(f'{num} is Even')\n",
    "    else:\n",
    "        print(f'{num} is Odd')\n",
    "              "
   ]
  },
  {
   "cell_type": "code",
   "execution_count": 70,
   "id": "34f10605",
   "metadata": {},
   "outputs": [],
   "source": [
    "fn = lambda x : x%2==0"
   ]
  },
  {
   "cell_type": "code",
   "execution_count": 71,
   "id": "1f0374de",
   "metadata": {},
   "outputs": [
    {
     "name": "stdout",
     "output_type": "stream",
     "text": [
      "30 is Even\n"
     ]
    }
   ],
   "source": [
    "EvenOdd(30,fn)"
   ]
  },
  {
   "cell_type": "code",
   "execution_count": null,
   "id": "d0ea9932",
   "metadata": {},
   "outputs": [],
   "source": []
  },
  {
   "cell_type": "code",
   "execution_count": 72,
   "id": "e4caeb8d",
   "metadata": {},
   "outputs": [
    {
     "name": "stdout",
     "output_type": "stream",
     "text": [
      "Help on class map in module builtins:\n",
      "\n",
      "class map(object)\n",
      " |  map(func, *iterables) --> map object\n",
      " |  \n",
      " |  Make an iterator that computes the function using arguments from\n",
      " |  each of the iterables.  Stops when the shortest iterable is exhausted.\n",
      " |  \n",
      " |  Methods defined here:\n",
      " |  \n",
      " |  __getattribute__(self, name, /)\n",
      " |      Return getattr(self, name).\n",
      " |  \n",
      " |  __iter__(self, /)\n",
      " |      Implement iter(self).\n",
      " |  \n",
      " |  __next__(self, /)\n",
      " |      Implement next(self).\n",
      " |  \n",
      " |  __reduce__(...)\n",
      " |      Return state information for pickling.\n",
      " |  \n",
      " |  ----------------------------------------------------------------------\n",
      " |  Static methods defined here:\n",
      " |  \n",
      " |  __new__(*args, **kwargs) from builtins.type\n",
      " |      Create and return a new object.  See help(type) for accurate signature.\n",
      "\n"
     ]
    }
   ],
   "source": [
    "help(map)"
   ]
  },
  {
   "cell_type": "code",
   "execution_count": null,
   "id": "911a9c44",
   "metadata": {},
   "outputs": [],
   "source": []
  },
  {
   "cell_type": "code",
   "execution_count": 78,
   "id": "c0365c4c",
   "metadata": {},
   "outputs": [
    {
     "name": "stdout",
     "output_type": "stream",
     "text": [
      "1,2,3,4,5,6,7,8,9\n",
      "Square of 1 = 1\n",
      "Square of 2 = 4\n",
      "Square of 3 = 9\n",
      "Square of 4 = 16\n",
      "Square of 5 = 25\n",
      "Square of 6 = 36\n",
      "Square of 7 = 49\n",
      "Square of 8 = 64\n",
      "Square of 9 = 81\n"
     ]
    }
   ],
   "source": [
    "# map function\n",
    "# passing of lambda function as a parameter to map function\n",
    "\n",
    "a = [int(i) for i in input().split(\",\")]\n",
    "sqrlist = list(map(lambda x:x*x, a))\n",
    "for i in range(len(sqrlist)):\n",
    "    print(f'Square of {a[i]} = {sqrlist[i]}')"
   ]
  },
  {
   "cell_type": "code",
   "execution_count": null,
   "id": "08f2f55f",
   "metadata": {},
   "outputs": [],
   "source": []
  },
  {
   "cell_type": "code",
   "execution_count": null,
   "id": "888c1952",
   "metadata": {},
   "outputs": [],
   "source": []
  },
  {
   "cell_type": "code",
   "execution_count": 6,
   "id": "c536ca79",
   "metadata": {},
   "outputs": [
    {
     "name": "stdout",
     "output_type": "stream",
     "text": [
      "1,2,3,4,5\n",
      "Cube of 1 = 1\n",
      "Cube of 2 = 8\n",
      "Cube of 3 = 27\n",
      "Cube of 4 = 64\n",
      "Cube of 5 = 125\n"
     ]
    }
   ],
   "source": [
    "\n",
    "a = [int(i) for i in input().split(\",\")]\n",
    "cubelist = list(map(lambda x:x*x*x, a))\n",
    "for i in range(len(cubelist)):\n",
    "    print(f'Cube of {a[i]} = {cubelist[i]}')"
   ]
  },
  {
   "cell_type": "code",
   "execution_count": null,
   "id": "be0705e1",
   "metadata": {},
   "outputs": [],
   "source": []
  },
  {
   "cell_type": "code",
   "execution_count": null,
   "id": "524afb0a",
   "metadata": {},
   "outputs": [],
   "source": []
  },
  {
   "cell_type": "code",
   "execution_count": null,
   "id": "03a07c5b",
   "metadata": {},
   "outputs": [],
   "source": []
  },
  {
   "cell_type": "code",
   "execution_count": 8,
   "id": "3e4f9d0c",
   "metadata": {},
   "outputs": [
    {
     "name": "stdout",
     "output_type": "stream",
     "text": [
      "Help on class filter in module builtins:\n",
      "\n",
      "class filter(object)\n",
      " |  filter(function or None, iterable) --> filter object\n",
      " |  \n",
      " |  Return an iterator yielding those items of iterable for which function(item)\n",
      " |  is true. If function is None, return the items that are true.\n",
      " |  \n",
      " |  Methods defined here:\n",
      " |  \n",
      " |  __getattribute__(self, name, /)\n",
      " |      Return getattr(self, name).\n",
      " |  \n",
      " |  __iter__(self, /)\n",
      " |      Implement iter(self).\n",
      " |  \n",
      " |  __next__(self, /)\n",
      " |      Implement next(self).\n",
      " |  \n",
      " |  __reduce__(...)\n",
      " |      Return state information for pickling.\n",
      " |  \n",
      " |  ----------------------------------------------------------------------\n",
      " |  Static methods defined here:\n",
      " |  \n",
      " |  __new__(*args, **kwargs) from builtins.type\n",
      " |      Create and return a new object.  See help(type) for accurate signature.\n",
      "\n"
     ]
    }
   ],
   "source": [
    "help(filter)\n"
   ]
  },
  {
   "cell_type": "code",
   "execution_count": null,
   "id": "b1e8369e",
   "metadata": {},
   "outputs": [],
   "source": []
  },
  {
   "cell_type": "code",
   "execution_count": 1,
   "id": "cfc413ba",
   "metadata": {},
   "outputs": [
    {
     "name": "stdout",
     "output_type": "stream",
     "text": [
      "1,2,3,4,5,6,7,8\n",
      "Even numbers list =[2, 4, 6, 8]\n"
     ]
    }
   ],
   "source": [
    "A = [int(i) for i in input().split(\",\")]\n",
    "evenlist = list(filter(lambda x:x*x %2 ==0, A))\n",
    "print(f\"Even numbers list ={evenlist}\")"
   ]
  },
  {
   "cell_type": "code",
   "execution_count": null,
   "id": "748ee971",
   "metadata": {},
   "outputs": [],
   "source": []
  },
  {
   "cell_type": "code",
   "execution_count": 4,
   "id": "986d4b79",
   "metadata": {},
   "outputs": [
    {
     "name": "stdout",
     "output_type": "stream",
     "text": [
      "1,2,3,4,5,6,7,8,9\n",
      "Odd Numbers list = [1, 3, 5, 7, 9]\n"
     ]
    }
   ],
   "source": [
    "A = [int(i) for i in input().split(\",\")]\n",
    "oddlist = list(filter(lambda x:x % 2 != 0, A))\n",
    "print(f\"Odd Numbers list = {oddlist}\")a"
   ]
  },
  {
   "cell_type": "code",
   "execution_count": null,
   "id": "ad94791a",
   "metadata": {},
   "outputs": [],
   "source": []
  },
  {
   "cell_type": "code",
   "execution_count": null,
   "id": "4a761824",
   "metadata": {},
   "outputs": [],
   "source": [
    "A = [int(i) for i in input().split(\",\")]\n",
    "leapyearlist = list(filter(lambda x:x % 4 ==0 or x % 400 == 0 and x % 100 != 0, A))\n",
    "print(f\"Leap years list = {leapyearlist}\")"
   ]
  },
  {
   "cell_type": "code",
   "execution_count": null,
   "id": "84131625",
   "metadata": {},
   "outputs": [],
   "source": []
  },
  {
   "cell_type": "code",
   "execution_count": null,
   "id": "27c191de",
   "metadata": {},
   "outputs": [],
   "source": []
  },
  {
   "cell_type": "code",
   "execution_count": null,
   "id": "0f7272ce",
   "metadata": {},
   "outputs": [],
   "source": []
  },
  {
   "cell_type": "code",
   "execution_count": 2,
   "id": "aee38d09",
   "metadata": {},
   "outputs": [],
   "source": [
    "from functools import reduce"
   ]
  },
  {
   "cell_type": "code",
   "execution_count": 19,
   "id": "3eb161f3",
   "metadata": {},
   "outputs": [
    {
     "name": "stdout",
     "output_type": "stream",
     "text": [
      "1,2,3,4,5\n",
      "Reduced - Sum of the elements of lists A = 15\n"
     ]
    }
   ],
   "source": [
    "A = [int(i) for i in input().split(\",\")]\n",
    "sum = reduce(lambda x, y:x + y, A)\n",
    "print(f\"Reduced - Sum of the elements of lists A = {sum}\")"
   ]
  },
  {
   "cell_type": "code",
   "execution_count": null,
   "id": "230367bb",
   "metadata": {},
   "outputs": [],
   "source": []
  },
  {
   "cell_type": "code",
   "execution_count": 20,
   "id": "5101952b",
   "metadata": {},
   "outputs": [
    {
     "name": "stdout",
     "output_type": "stream",
     "text": [
      "1,2,3,4,5\n",
      "Reduced - Multiplication of the elements of lists A = 120\n"
     ]
    }
   ],
   "source": [
    "A = [int(i) for i in input().split(\",\")]\n",
    "mul = reduce(lambda x, y:x * y, A)\n",
    "print(f\"Reduced - Multiplication of the elements of lists A = {mul}\")"
   ]
  },
  {
   "cell_type": "code",
   "execution_count": null,
   "id": "1e1a73b1",
   "metadata": {},
   "outputs": [],
   "source": []
  },
  {
   "cell_type": "code",
   "execution_count": 27,
   "id": "ba095a6f",
   "metadata": {},
   "outputs": [
    {
     "name": "stdout",
     "output_type": "stream",
     "text": [
      "2,3\n",
      "Reduced - Sum of Square of the elements of lists A = 13\n"
     ]
    }
   ],
   "source": [
    "A = [int(i) for i in input().split(\",\")]\n",
    "sumofsquare = reduce(lambda x,y:x +(y*y), A)\n",
    "print(f\"Reduced - Sum of Square of the elements of lists A = {sumofsquare}\")"
   ]
  },
  {
   "cell_type": "code",
   "execution_count": null,
   "id": "44276377",
   "metadata": {},
   "outputs": [],
   "source": []
  },
  {
   "cell_type": "code",
   "execution_count": 29,
   "id": "e061c71f",
   "metadata": {},
   "outputs": [
    {
     "name": "stdout",
     "output_type": "stream",
     "text": [
      "1,2,3,4,5\n",
      "Reduced - Maximum of the elements of lists A = 5\n"
     ]
    }
   ],
   "source": [
    "A = [int(i) for i in input().split(\",\")]\n",
    "max = reduce(lambda x,y:max(x,y), A)\n",
    "print(f\"Reduced - Maximum of the elements of lists A = {max}\")"
   ]
  },
  {
   "cell_type": "code",
   "execution_count": 3,
   "id": "31ccc357",
   "metadata": {},
   "outputs": [
    {
     "name": "stdout",
     "output_type": "stream",
     "text": [
      "1,2,3,4,5\n",
      "Reduced - Maximum of the elements of lists A = 5\n"
     ]
    }
   ],
   "source": [
    "A = [int(i) for i in input().split(\",\")]\n",
    "max = reduce(lambda x,y:x if x>y else y, A)\n",
    "print(f\"Reduced - Maximum of the elements of lists A = {max}\")"
   ]
  },
  {
   "cell_type": "code",
   "execution_count": null,
   "id": "11e09145",
   "metadata": {},
   "outputs": [],
   "source": []
  },
  {
   "cell_type": "code",
   "execution_count": 4,
   "id": "097d042e",
   "metadata": {},
   "outputs": [
    {
     "name": "stdout",
     "output_type": "stream",
     "text": [
      "1,2,7,8,3\n",
      "Reduced - Maximum of the elements of lists A = 1\n"
     ]
    }
   ],
   "source": [
    "A = [int(i) for i in input().split(\",\")]\n",
    "min = reduce(lambda x,y:x if x<y else y, A)\n",
    "print(f\"Reduced - Maximum of the elements of lists A = {min}\")"
   ]
  },
  {
   "cell_type": "code",
   "execution_count": null,
   "id": "b31fd555",
   "metadata": {},
   "outputs": [],
   "source": []
  },
  {
   "cell_type": "code",
   "execution_count": null,
   "id": "50a864b5",
   "metadata": {},
   "outputs": [],
   "source": [
    "A = [int(i) for i in input().split(\",\")]\n",
    "sumofsquare = reduce(lambda x,y:x +(y*y), A)\n",
    "print(f\"Reduced - Sum of Square of the elements of lists A = {sumofsquare}\")"
   ]
  },
  {
   "cell_type": "code",
   "execution_count": null,
   "id": "9945066a",
   "metadata": {},
   "outputs": [],
   "source": []
  },
  {
   "cell_type": "code",
   "execution_count": null,
   "id": "ef3769be",
   "metadata": {},
   "outputs": [],
   "source": []
  },
  {
   "cell_type": "code",
   "execution_count": 7,
   "id": "08cfafd4",
   "metadata": {},
   "outputs": [],
   "source": [
    "def mygenerator():\n",
    "    print(\"first item\")\n",
    "    yield 10\n",
    "    print(\"second item\")\n",
    "    yield 20\n",
    "    print(\"third item\")\n",
    "    yield 30\n",
    "    print(\"fourth item\")\n",
    "    yield 40\n",
    "gen = mygenerator()"
   ]
  },
  {
   "cell_type": "code",
   "execution_count": 2,
   "id": "0c666cfb",
   "metadata": {},
   "outputs": [
    {
     "name": "stdout",
     "output_type": "stream",
     "text": [
      "first item\n",
      "10\n",
      "second item\n",
      "20\n",
      "third item\n",
      "30\n",
      "fourth item\n",
      "40\n"
     ]
    }
   ],
   "source": [
    "for i in gen:\n",
    "    print(i)"
   ]
  },
  {
   "cell_type": "code",
   "execution_count": 4,
   "id": "c7ac3d53",
   "metadata": {},
   "outputs": [
    {
     "ename": "TypeError",
     "evalue": "object of type 'generator' has no len()",
     "output_type": "error",
     "traceback": [
      "\u001b[1;31m---------------------------------------------------------------------------\u001b[0m",
      "\u001b[1;31mTypeError\u001b[0m                                 Traceback (most recent call last)",
      "Cell \u001b[1;32mIn[4], line 1\u001b[0m\n\u001b[1;32m----> 1\u001b[0m \u001b[38;5;28;01mfor\u001b[39;00m i \u001b[38;5;129;01min\u001b[39;00m \u001b[38;5;28;43mlen\u001b[39;49m\u001b[43m(\u001b[49m\u001b[43mgen\u001b[49m\u001b[43m)\u001b[49m:\n\u001b[0;32m      2\u001b[0m     \u001b[38;5;28mprint\u001b[39m(i)\n",
      "\u001b[1;31mTypeError\u001b[0m: object of type 'generator' has no len()"
     ]
    }
   ],
   "source": [
    "for i in len(gen):\n",
    "    print(i)"
   ]
  },
  {
   "cell_type": "code",
   "execution_count": null,
   "id": "5ef13cd0",
   "metadata": {},
   "outputs": [],
   "source": []
  },
  {
   "cell_type": "code",
   "execution_count": 1,
   "id": "57dd7f15",
   "metadata": {},
   "outputs": [],
   "source": [
    "def mygenerator():\n",
    "    print(\"first item\")\n",
    "    yield 10\n",
    "    print(\"second item\")\n",
    "    yield 20\n",
    "    print(\"third item\")\n",
    "    yield 30\n",
    "    print(\"fourth item\")\n",
    "    yield 40\n",
    "gen = mygenerator()"
   ]
  },
  {
   "cell_type": "code",
   "execution_count": 2,
   "id": "083e0463",
   "metadata": {},
   "outputs": [
    {
     "name": "stdout",
     "output_type": "stream",
     "text": [
      "first item\n",
      "second item\n",
      "third item\n",
      "fourth item\n"
     ]
    }
   ],
   "source": [
    "while True:\n",
    "    try:\n",
    "        next(gen)\n",
    "    except StopIteration:\n",
    "        break"
   ]
  },
  {
   "cell_type": "code",
   "execution_count": null,
   "id": "6e2a0e49",
   "metadata": {},
   "outputs": [],
   "source": []
  },
  {
   "cell_type": "code",
   "execution_count": 8,
   "id": "cb601a4d",
   "metadata": {},
   "outputs": [
    {
     "ename": "SyntaxError",
     "evalue": "invalid syntax (110921686.py, line 3)",
     "output_type": "error",
     "traceback": [
      "\u001b[1;36m  Cell \u001b[1;32mIn[8], line 3\u001b[1;36m\u001b[0m\n\u001b[1;33m    yeild i\u001b[0m\n\u001b[1;37m          ^\u001b[0m\n\u001b[1;31mSyntaxError\u001b[0m\u001b[1;31m:\u001b[0m invalid syntax\n"
     ]
    }
   ],
   "source": [
    "def get_sequence_upto(x):\n",
    "    for i in range(1,x):\n",
    "        yield i"
   ]
  },
  {
   "cell_type": "code",
   "execution_count": null,
   "id": "747ebb12",
   "metadata": {},
   "outputs": [],
   "source": []
  },
  {
   "cell_type": "code",
   "execution_count": 20,
   "id": "c536ddfb",
   "metadata": {},
   "outputs": [
    {
     "name": "stdout",
     "output_type": "stream",
     "text": [
      "Please Enter Number for Table Generation5\n",
      "\n",
      "5,10,15,20,25,30,35,40,45,50,"
     ]
    }
   ],
   "source": [
    "def square(num):\n",
    "    for i in range (1,11):\n",
    "            yield num*i\n",
    "n=int(input(\"Please Enter Number for Table Generation\"))\n",
    "print()\n",
    "for i in square(n):\n",
    "    print(i, end=\",\")"
   ]
  },
  {
   "cell_type": "code",
   "execution_count": null,
   "id": "91f7175f",
   "metadata": {},
   "outputs": [],
   "source": []
  },
  {
   "cell_type": "code",
   "execution_count": 22,
   "id": "05e920e4",
   "metadata": {},
   "outputs": [
    {
     "name": "stdout",
     "output_type": "stream",
     "text": [
      "1,4,9,16,25,36,49,64,81,100,"
     ]
    }
   ],
   "source": [
    "def square_of_sequence(x):\n",
    "    for i in range(1,x):\n",
    "        yield i*i\n",
    "gen = square_of_sequence(11)\n",
    "while True:\n",
    "    try:\n",
    "        print(next(gen), end=\",\")\n",
    "    except StopIteration:\n",
    "        break"
   ]
  },
  {
   "cell_type": "code",
   "execution_count": null,
   "id": "15c722cf",
   "metadata": {},
   "outputs": [],
   "source": []
  },
  {
   "cell_type": "code",
   "execution_count": null,
   "id": "1e526c3d",
   "metadata": {},
   "outputs": [],
   "source": []
  },
  {
   "cell_type": "code",
   "execution_count": 4,
   "id": "c41f4ea0",
   "metadata": {},
   "outputs": [
    {
     "name": "stdout",
     "output_type": "stream",
     "text": [
      "1\n",
      "4\n",
      "9\n",
      "16\n",
      "25\n"
     ]
    }
   ],
   "source": [
    "squares = (x*x for x in range(1,6))\n",
    "\n",
    "for i in squares:\n",
    "    print(i)"
   ]
  },
  {
   "cell_type": "code",
   "execution_count": null,
   "id": "83b7a488",
   "metadata": {},
   "outputs": [],
   "source": []
  },
  {
   "cell_type": "code",
   "execution_count": 2,
   "id": "621fd49e",
   "metadata": {},
   "outputs": [
    {
     "name": "stdout",
     "output_type": "stream",
     "text": [
      "1\n",
      "8\n",
      "27\n",
      "64\n",
      "125\n"
     ]
    }
   ],
   "source": [
    "cubes = (x*x*x for x in range(1,6))\n",
    "\n",
    "for i in cubes:\n",
    "    print(i)"
   ]
  },
  {
   "cell_type": "code",
   "execution_count": null,
   "id": "75a04b7c",
   "metadata": {},
   "outputs": [],
   "source": []
  },
  {
   "cell_type": "code",
   "execution_count": 7,
   "id": "818b9f84",
   "metadata": {},
   "outputs": [
    {
     "name": "stdout",
     "output_type": "stream",
     "text": [
      "False\n",
      "True\n",
      "False\n",
      "True\n",
      "False\n",
      "True\n",
      "False\n",
      "True\n",
      "False\n",
      "True\n"
     ]
    }
   ],
   "source": [
    "even_list =(x % 2 == 0 for x in range(1,11))\n",
    "for i in even_list:\n",
    "    print(i)"
   ]
  },
  {
   "cell_type": "code",
   "execution_count": null,
   "id": "0ee235a1",
   "metadata": {},
   "outputs": [],
   "source": []
  },
  {
   "cell_type": "code",
   "execution_count": null,
   "id": "375da5ed",
   "metadata": {},
   "outputs": [],
   "source": []
  },
  {
   "cell_type": "code",
   "execution_count": 9,
   "id": "4b12018b",
   "metadata": {},
   "outputs": [
    {
     "name": "stdout",
     "output_type": "stream",
     "text": [
      "Odd\n",
      "Even\n",
      "Odd\n",
      "Even\n",
      "Odd\n"
     ]
    }
   ],
   "source": [
    "def my_gen(x):\n",
    "    while x>0:\n",
    "        if x % 2 == 0:\n",
    "            yield \"Even\"\n",
    "        else:\n",
    "            yield \"Odd\"\n",
    "        x -= 1\n",
    "for i in my_gen(5):\n",
    "    print(i)"
   ]
  },
  {
   "cell_type": "code",
   "execution_count": null,
   "id": "1c690e44",
   "metadata": {},
   "outputs": [],
   "source": []
  },
  {
   "cell_type": "code",
   "execution_count": 10,
   "id": "c2a38e11",
   "metadata": {},
   "outputs": [
    {
     "name": "stdout",
     "output_type": "stream",
     "text": [
      "Even\n",
      "Odd\n",
      "Even\n",
      "Odd\n",
      "Even\n"
     ]
    }
   ],
   "source": [
    "def my_gen(x):\n",
    "    while x>0:\n",
    "        if x % 2 != 0:\n",
    "            yield \"Even\"\n",
    "        else:\n",
    "            yield \"Odd\"\n",
    "        x -= 1\n",
    "for i in my_gen(5):\n",
    "    print(i)"
   ]
  },
  {
   "cell_type": "code",
   "execution_count": null,
   "id": "6d8c7160",
   "metadata": {},
   "outputs": [],
   "source": []
  },
  {
   "cell_type": "code",
   "execution_count": null,
   "id": "f7e9bda1",
   "metadata": {},
   "outputs": [],
   "source": []
  },
  {
   "cell_type": "code",
   "execution_count": 8,
   "id": "dbd6a4df",
   "metadata": {},
   "outputs": [],
   "source": [
    "# Decorator function\n",
    "\n",
    "def mydecorator(fn):\n",
    "    def inner_function():\n",
    "        print(\"Good Morning\")\n",
    "        fn()\n",
    "        print(\"How are You\")\n",
    "    return inner_function"
   ]
  },
  {
   "cell_type": "code",
   "execution_count": 9,
   "id": "d7244d59",
   "metadata": {},
   "outputs": [],
   "source": [
    "# Applying Decorator\n",
    "\n",
    "@mydecorator\n",
    "def greet():\n",
    "    name = input(\"Enter your name : \")\n",
    "    print(f'Hello! {name}....')"
   ]
  },
  {
   "cell_type": "code",
   "execution_count": 10,
   "id": "fd302a55",
   "metadata": {},
   "outputs": [
    {
     "name": "stdout",
     "output_type": "stream",
     "text": [
      "Good Morning\n",
      "Enter your name : Dhammadip\n",
      "Hello! Dhammadip....\n",
      "How are You\n"
     ]
    }
   ],
   "source": [
    "greet()"
   ]
  },
  {
   "cell_type": "code",
   "execution_count": null,
   "id": "f04d2042",
   "metadata": {},
   "outputs": [],
   "source": []
  },
  {
   "cell_type": "code",
   "execution_count": 11,
   "id": "a7b9b9de",
   "metadata": {},
   "outputs": [],
   "source": [
    "def divide(a,b):\n",
    "    return a/b\n"
   ]
  },
  {
   "cell_type": "code",
   "execution_count": 12,
   "id": "aab93686",
   "metadata": {},
   "outputs": [
    {
     "data": {
      "text/plain": [
       "3.0"
      ]
     },
     "execution_count": 12,
     "metadata": {},
     "output_type": "execute_result"
    }
   ],
   "source": [
    "divide(6,2)"
   ]
  },
  {
   "cell_type": "code",
   "execution_count": null,
   "id": "9635012c",
   "metadata": {},
   "outputs": [],
   "source": []
  },
  {
   "cell_type": "code",
   "execution_count": null,
   "id": "3397a353",
   "metadata": {},
   "outputs": [],
   "source": []
  },
  {
   "cell_type": "code",
   "execution_count": null,
   "id": "57c351b3",
   "metadata": {},
   "outputs": [],
   "source": []
  },
  {
   "cell_type": "code",
   "execution_count": 1,
   "id": "53123549",
   "metadata": {},
   "outputs": [
    {
     "name": "stdout",
     "output_type": "stream",
     "text": [
      "Enter a Number : 5\n",
      "5 is an Odd number\n"
     ]
    }
   ],
   "source": [
    "class odd_even:\n",
    "    def check(self,num):\n",
    "        if num %2 == 0:\n",
    "            print(f'{num} is an Even number')\n",
    "        else:\n",
    "            print(f'{num} is an Odd number')\n",
    "n = odd_even()\n",
    "x = int(input(\"Enter a Number : \"))\n",
    "n.check(x)"
   ]
  },
  {
   "cell_type": "code",
   "execution_count": null,
   "id": "2b32abb0",
   "metadata": {},
   "outputs": [],
   "source": []
  },
  {
   "cell_type": "code",
   "execution_count": 8,
   "id": "e7389855",
   "metadata": {},
   "outputs": [
    {
     "name": "stdout",
     "output_type": "stream",
     "text": [
      "Enter the radius of the circle : 5\n",
      "The Area of Circle = 25\n",
      "The circumference of the circle = 250\n"
     ]
    }
   ],
   "source": [
    "class circle:\n",
    "    pi = 3.14\n",
    "    \n",
    "    def __init__(self, radius):\n",
    "        self.radius=radius\n",
    "    \n",
    "    def area(self):\n",
    "        a = circle.pi = (self.radius**2)\n",
    "        print(f'The Area of Circle = {a}')\n",
    "        \n",
    "    def circumference(self):\n",
    "        c = round((2 * circle.pi * self.radius),2)\n",
    "        print(f'The circumference of the circle = {c}')\n",
    "              \n",
    "r = int(input(\"Enter the radius of the circle : \"))\n",
    "c = circle(r)\n",
    "c.area()\n",
    "c.circumference()"
   ]
  },
  {
   "cell_type": "code",
   "execution_count": null,
   "id": "17e13cc1",
   "metadata": {},
   "outputs": [],
   "source": []
  },
  {
   "cell_type": "code",
   "execution_count": 32,
   "id": "e24052f8",
   "metadata": {},
   "outputs": [],
   "source": [
    "class quadrilateral:\n",
    "    def __init__(self, a, b, c, d):\n",
    "        self.side1 = a\n",
    "        self.side2 = b\n",
    "        self.side3 = c\n",
    "        self.side4 = d\n",
    "    \n",
    "    def perimeter(self):\n",
    "        p = self.side1 + self.side2 + self.side3 + self.side4\n",
    "        print(f'Perimeter is = {p}')\n",
    "        \n",
    "#Inheritance\n",
    "class rectangle(quadrilateral): #child class\n",
    "    def __init__(self, a, b):\n",
    "        super().__init__(a, b, a, b)\n",
    "            \n",
    "    def area(self):\n",
    "        a = self.side1 * self.side2\n",
    "        print(f'The Area of the Rectangle = {a}')\n",
    "            \n",
    "#Inheritance and overriding\n",
    "class square(rectangle):\n",
    "    def __init__(self, a):\n",
    "        super().__init__(a,a)\n",
    "            \n",
    "    def area(self):\n",
    "        a = pow(self.side1, 2)\n",
    "        print(f'The Area of the Square = {a}')\n",
    "\n",
    "\n",
    "            \n",
    "        \n",
    "        \n",
    "    "
   ]
  },
  {
   "cell_type": "code",
   "execution_count": 34,
   "id": "d148fd74",
   "metadata": {},
   "outputs": [],
   "source": [
    "r = rectangle(4,5)"
   ]
  },
  {
   "cell_type": "raw",
   "id": "f7a9f572",
   "metadata": {},
   "source": [
    "r.area()"
   ]
  },
  {
   "cell_type": "raw",
   "id": "8eb57ded",
   "metadata": {},
   "source": [
    "r.perimeter()"
   ]
  },
  {
   "cell_type": "code",
   "execution_count": 35,
   "id": "4d7b7a20",
   "metadata": {},
   "outputs": [],
   "source": [
    "s = square(7)"
   ]
  },
  {
   "cell_type": "code",
   "execution_count": 36,
   "id": "586aa4af",
   "metadata": {},
   "outputs": [
    {
     "name": "stdout",
     "output_type": "stream",
     "text": [
      "The Area of the Square = 49\n"
     ]
    }
   ],
   "source": [
    "s.area()"
   ]
  },
  {
   "cell_type": "code",
   "execution_count": 37,
   "id": "f209b2d4",
   "metadata": {},
   "outputs": [
    {
     "name": "stdout",
     "output_type": "stream",
     "text": [
      "Perimeter is = 28\n"
     ]
    }
   ],
   "source": [
    "s.perimeter()"
   ]
  },
  {
   "cell_type": "code",
   "execution_count": null,
   "id": "8bcf06ed",
   "metadata": {},
   "outputs": [],
   "source": []
  },
  {
   "cell_type": "code",
   "execution_count": 34,
   "id": "dd95bedb",
   "metadata": {},
   "outputs": [],
   "source": [
    "class Companymember:\n",
    "    '''represent company member'''\n",
    "    def __init__(self,name,designation,age):\n",
    "        self.name = name\n",
    "        self.designation = designation\n",
    "        self.age = age\n",
    "        \n",
    "    def tell(self):\n",
    "        '''Detail of an employee'''\n",
    "        print(f'Name : {self.name}, designation : {self.designation},Age : {self.age}')\n",
    "        \n",
    "class FactoryStaff(Companymember):\n",
    "    '''represent a factory staff'''\n",
    "    def __init__(self,name,designation,age,overtime_allow):\n",
    "        Companymember.__init__(self,name,designation,age)\n",
    "        self.overtime_allow = overtime_allow\n",
    "        Companymember.tell(self)\n",
    "        print('Overtime Allowance : ', self,overtime_allow)\n",
    "        \n",
    "class OfficeStaff(Companymember):\n",
    "    def __init__(self,name,designation,age,travelling_allow):\n",
    "        Companymember.__init__(self,name,designation,age)\n",
    "        self.travelling_allow = travelling_allow\n",
    "        Companymember.tell(self)\n",
    "        print(f'Travelling Allowance : ',self.travelling_allow)\n"
   ]
  },
  {
   "cell_type": "code",
   "execution_count": 36,
   "id": "9fe431e5",
   "metadata": {},
   "outputs": [
    {
     "name": "stdout",
     "output_type": "stream",
     "text": [
      "Name : amisha, designation : Manager,Age : 22\n",
      "Travelling Allowance :  500\n"
     ]
    }
   ],
   "source": [
    "o = OfficeStaff('amisha', 'Manager', 22, 500)"
   ]
  },
  {
   "cell_type": "code",
   "execution_count": null,
   "id": "9c740fe1",
   "metadata": {},
   "outputs": [],
   "source": []
  },
  {
   "cell_type": "code",
   "execution_count": null,
   "id": "98f805ba",
   "metadata": {},
   "outputs": [],
   "source": []
  },
  {
   "cell_type": "code",
   "execution_count": null,
   "id": "e0884814",
   "metadata": {},
   "outputs": [],
   "source": []
  },
  {
   "cell_type": "code",
   "execution_count": 21,
   "id": "58b86c73",
   "metadata": {},
   "outputs": [],
   "source": [
    "class sample:\n",
    "    def __init__(self, a):\n",
    "        self.a = a\n",
    "    def __add__(self, other):\n",
    "        return self.a + other.a"
   ]
  },
  {
   "cell_type": "code",
   "execution_count": 22,
   "id": "4fb870cf",
   "metadata": {},
   "outputs": [
    {
     "data": {
      "text/plain": [
       "30"
      ]
     },
     "execution_count": 22,
     "metadata": {},
     "output_type": "execute_result"
    }
   ],
   "source": [
    "obj1 = sample(10)\n",
    "obj2 = sample(20)\n",
    "obj1 + obj2"
   ]
  },
  {
   "cell_type": "code",
   "execution_count": null,
   "id": "ad59c8a9",
   "metadata": {},
   "outputs": [],
   "source": []
  },
  {
   "cell_type": "code",
   "execution_count": 23,
   "id": "9a1da3a1",
   "metadata": {},
   "outputs": [],
   "source": [
    "class cmp:\n",
    "    def __init__(self, real, img):\n",
    "        self.real = real\n",
    "        self.img = img\n",
    "    def __add__(self, other):\n",
    "        r = self.real + other.real\n",
    "        i = self.img + other.img\n",
    "        return f\"({r} + {i}j)\"\n",
    "        "
   ]
  },
  {
   "cell_type": "code",
   "execution_count": 24,
   "id": "6751c72d",
   "metadata": {},
   "outputs": [
    {
     "data": {
      "text/plain": [
       "'(7 + 9j)'"
      ]
     },
     "execution_count": 24,
     "metadata": {},
     "output_type": "execute_result"
    }
   ],
   "source": [
    "c1 = cmp(3, 4)\n",
    "c2 = cmp(4, 5)\n",
    "c1 + c2"
   ]
  },
  {
   "cell_type": "code",
   "execution_count": null,
   "id": "8a8969a8",
   "metadata": {},
   "outputs": [],
   "source": []
  },
  {
   "cell_type": "code",
   "execution_count": 27,
   "id": "223a8cbf",
   "metadata": {},
   "outputs": [],
   "source": [
    "class cmp:\n",
    "    def __init__(self, real, img):\n",
    "        self.real = real\n",
    "        self.img = img\n",
    "        \n",
    "    def __str__(self):\n",
    "        return f\"({self.real} + {self.img}j)\"\n",
    "    \n",
    "    def __add__(self, other):\n",
    "        r = self.real + other.real\n",
    "        i = self.img + other.img\n",
    "        return cmp(r, i)\n",
    "        "
   ]
  },
  {
   "cell_type": "code",
   "execution_count": 28,
   "id": "b1bbe607",
   "metadata": {},
   "outputs": [
    {
     "name": "stdout",
     "output_type": "stream",
     "text": [
      "(7 + 9j)\n"
     ]
    }
   ],
   "source": [
    "c1 = cmp(3, 4)\n",
    "c2 = cmp(4, 5)\n",
    "print(c1 + c2)"
   ]
  },
  {
   "cell_type": "code",
   "execution_count": null,
   "id": "0d75ae99",
   "metadata": {},
   "outputs": [],
   "source": []
  },
  {
   "cell_type": "code",
   "execution_count": 55,
   "id": "f292eb69",
   "metadata": {},
   "outputs": [
    {
     "name": "stdout",
     "output_type": "stream",
     "text": [
      "Is c1 Less Than c2: True\n"
     ]
    }
   ],
   "source": [
    "class Complex1:\n",
    "    def __init__(self, i, r):\n",
    "        self.i = i\n",
    "        self.r = r\n",
    "        \n",
    "    def __lt__(self, other):\n",
    "        if self.r < other.r and self.i < other.i:\n",
    "            return True\n",
    "        elif self.r == other.r and self.i < other.i:\n",
    "            return True\n",
    "        elif self.r < other.r and self.i == other.i:\n",
    "            return True\n",
    "        else:\n",
    "            return False\n",
    "        \n",
    "c1 = Complex1(2, 2)\n",
    "c2 = Complex1(3, 3)\n",
    "print(\"Is c1 Less Than c2:\", c1 < c2)"
   ]
  },
  {
   "cell_type": "code",
   "execution_count": null,
   "id": "ae9478df",
   "metadata": {},
   "outputs": [],
   "source": []
  },
  {
   "cell_type": "code",
   "execution_count": 52,
   "id": "bd63a0de",
   "metadata": {},
   "outputs": [
    {
     "name": "stdout",
     "output_type": "stream",
     "text": [
      "(11, 11)\n"
     ]
    }
   ],
   "source": [
    "class Point:\n",
    "    def __init__(self, x=0, y=0):\n",
    "        self.x = x\n",
    "        self.y = y\n",
    "    def __str__(self):\n",
    "        return f\"({self.x}, {self.y})\"\n",
    "    def __add__(self, other):\n",
    "        x = self.x + other.y\n",
    "        y = self.y + other.x\n",
    "        return Point(x, y)\n",
    "    \n",
    "p1 = Point(5, 5)\n",
    "p2 = Point(6, 6)\n",
    "print(p1 + p2)"
   ]
  },
  {
   "cell_type": "code",
   "execution_count": null,
   "id": "43fd810c",
   "metadata": {},
   "outputs": [],
   "source": []
  },
  {
   "cell_type": "code",
   "execution_count": 56,
   "id": "80ba4e7a",
   "metadata": {},
   "outputs": [],
   "source": [
    "#Python - Public, Protected, Private Members"
   ]
  },
  {
   "cell_type": "code",
   "execution_count": null,
   "id": "28ff45af",
   "metadata": {},
   "outputs": [],
   "source": []
  },
  {
   "cell_type": "code",
   "execution_count": 8,
   "id": "ba7f8dd1",
   "metadata": {},
   "outputs": [],
   "source": [
    "class Student:\n",
    "    setName = \"Muktangan\"\n",
    "    def __init__(self, name, age):\n",
    "        self.name = name\n",
    "        self.age = age\n",
    "    def displayInfo(self):\n",
    "        print(f' Name = {self.name} and Age = {self.age}')"
   ]
  },
  {
   "cell_type": "code",
   "execution_count": 9,
   "id": "b097d436",
   "metadata": {},
   "outputs": [],
   "source": [
    "s = Student('Dhammadip', 22)"
   ]
  },
  {
   "cell_type": "code",
   "execution_count": 10,
   "id": "b66ad0cb",
   "metadata": {},
   "outputs": [
    {
     "name": "stdout",
     "output_type": "stream",
     "text": [
      " Name = Dhammadip and Age = 22\n"
     ]
    }
   ],
   "source": [
    "s.displayInfo()"
   ]
  },
  {
   "cell_type": "code",
   "execution_count": null,
   "id": "d16bf0d7",
   "metadata": {},
   "outputs": [],
   "source": []
  },
  {
   "cell_type": "code",
   "execution_count": null,
   "id": "d3bf44bc",
   "metadata": {},
   "outputs": [],
   "source": []
  },
  {
   "cell_type": "code",
   "execution_count": null,
   "id": "52aba3ea",
   "metadata": {},
   "outputs": [],
   "source": []
  },
  {
   "cell_type": "code",
   "execution_count": null,
   "id": "fafed16d",
   "metadata": {},
   "outputs": [],
   "source": []
  },
  {
   "cell_type": "code",
   "execution_count": null,
   "id": "f64f2f6c",
   "metadata": {},
   "outputs": [],
   "source": []
  },
  {
   "cell_type": "code",
   "execution_count": 1,
   "id": "37f7ef42",
   "metadata": {},
   "outputs": [
    {
     "name": "stdout",
     "output_type": "stream",
     "text": [
      "Student Name : Abhijit\n",
      "marks : 93\n",
      "Enter name to modify :Dhammadip\n",
      "Enter marks to modify : 99\n",
      "Student Name : Dhammadip\n",
      "Marks : 99\n"
     ]
    }
   ],
   "source": [
    "class Student:\n",
    "    student_name = 'Abhijit'\n",
    "    marks = 93\n",
    "print(f\"Student Name : {getattr(Student, 'student_name')}\")\n",
    "print(f\"marks : {getattr(Student, 'marks')}\")\n",
    "\n",
    "setattr(Student, 'student_name', input('Enter name to modify :'))\n",
    "setattr(Student, 'marks', int(input('Enter marks to modify : ')))\n",
    "\n",
    "print(f\"Student Name : {getattr(Student, 'student_name')}\")\n",
    "print(f\"Marks : {getattr(Student, 'marks')}\")"
   ]
  },
  {
   "cell_type": "code",
   "execution_count": null,
   "id": "1caadbdb",
   "metadata": {},
   "outputs": [],
   "source": []
  },
  {
   "cell_type": "code",
   "execution_count": 1,
   "id": "1603e6ea",
   "metadata": {},
   "outputs": [
    {
     "name": "stdout",
     "output_type": "stream",
     "text": [
      "Original attributes and their values of the student class\n",
      "std_id -> 101\n",
      "std_name -> Deep\n",
      "\n",
      " After adding the std_class, attributes as their new attribute\n",
      "Enter class of the studentmca\n",
      "std_id -> 101\n",
      "std_name -> Deep\n",
      "std_class -> mca\n",
      "std_id -> 101\n",
      "std_class -> mca\n"
     ]
    }
   ],
   "source": [
    "class student:\n",
    "    std_id = '101'\n",
    "    std_name = 'Deep'\n",
    "\n",
    "print(\"Original attributes and their values of the student class\")\n",
    "for attr, value in student.__dict__.items():\n",
    "    if not attr.startswith('_'):\n",
    "        print(f\"{attr} -> {value}\")\n",
    "print(\"\\n After adding the std_class, attributes as their new attribute\")\n",
    "\n",
    "setattr(student, 'std_class', input('Enter class of the student'))\n",
    "\n",
    "for attr, value in student.__dict__.items():\n",
    "    if not attr.startswith('_'):\n",
    "        print(f\"{attr} -> {value}\")\n",
    "\n",
    "\n",
    "#del student.std_name\n",
    "\n",
    "delattr(student, 'std_name')\n",
    "for attr, value in student.__dict__.items():\n",
    "    if not attr.startswith('_'):\n",
    "        print(f\"{attr} -> {value}\")\n"
   ]
  },
  {
   "cell_type": "code",
   "execution_count": null,
   "id": "9e2e90cd",
   "metadata": {},
   "outputs": [],
   "source": []
  },
  {
   "cell_type": "code",
   "execution_count": 2,
   "id": "89b22401",
   "metadata": {},
   "outputs": [],
   "source": [
    "# Delegation and Container"
   ]
  },
  {
   "cell_type": "code",
   "execution_count": null,
   "id": "8f8cccef",
   "metadata": {},
   "outputs": [],
   "source": []
  },
  {
   "cell_type": "code",
   "execution_count": 3,
   "id": "5f01660b",
   "metadata": {},
   "outputs": [],
   "source": [
    "#mid term ,end term, SGA, attendance, assignment"
   ]
  },
  {
   "cell_type": "code",
   "execution_count": 4,
   "id": "9ca5217c",
   "metadata": {},
   "outputs": [],
   "source": [
    "class faculty:\n",
    "    def __init__(self, midterm, endterm, sga, attend, assign):\n",
    "        self.midterm = midterm\n",
    "        self.endterm = endterm\n",
    "        self.sga = sga\n",
    "        self.attend = attend\n",
    "        self.assign = assign\n",
    "    def calc_marks(self):\n",
    "        total = self.midterm + self.endterm + self.sga + self.attend + self.assign\n",
    "        fin_marks = round((total/250)*25, 0)\n",
    "        return fin_marks\n",
    "    \n",
    "class student:\n",
    "    def __init__(self, rno, name, year, midterm, endterm, sga, attend, assign):\n",
    "        self.rno = rno\n",
    "        self.name = name\n",
    "        self.year = year\n",
    "        self.fac_obj = faculty(midterm, endterm, sga, attend, assign)\n",
    "    \n",
    "    def display(self):\n",
    "        print(f\"Roll No : {self.rno}\")\n",
    "        print(f\"Name : {self.name}\")\n",
    "        print(f\"Year : {self.year}\")\n",
    "        print(f\"Marks out of 25 : {self.fac_obj.calc_marks()}\")"
   ]
  },
  {
   "cell_type": "code",
   "execution_count": 5,
   "id": "e8926a65",
   "metadata": {},
   "outputs": [],
   "source": [
    "s = student(101, 'Deep', 'MCA-I', 35, 35, 35, 35, 35)"
   ]
  },
  {
   "cell_type": "code",
   "execution_count": 6,
   "id": "d5414b1b",
   "metadata": {},
   "outputs": [
    {
     "name": "stdout",
     "output_type": "stream",
     "text": [
      "Roll No : 101\n",
      "Name : Deep\n",
      "Year : MCA-I\n",
      "Marks out of 25 : 18.0\n"
     ]
    }
   ],
   "source": [
    "s.display()"
   ]
  },
  {
   "cell_type": "code",
   "execution_count": null,
   "id": "4fe5919d",
   "metadata": {},
   "outputs": [],
   "source": []
  },
  {
   "cell_type": "code",
   "execution_count": null,
   "id": "20facec6",
   "metadata": {},
   "outputs": [],
   "source": [
    "class Salary:\n",
    "    def __init__(self, tpay):\n",
    "        self.tpay = tpay\n",
    "    \n",
    "    def get_total(self):\n",
    "        return self.tpay * 12\n",
    "\n",
    "class Employee:\n",
    "    def __init__(self, eno, ename, bpay, bonus):\n",
    "        self.eno = eno\n",
    "        self.ename = ename\n",
    "        self.bpay = bpay\n",
    "        self.bonus = bonus\n",
    "        self.obj_salary = Salary(self.bpay)\n",
    "        \n",
    "    def annual_salary(self):\n",
    "        tot_salary = self.obj_salary.get_total() + self.bonus\n",
    "        print(f\"Emp_no: {self.eno}, Emp_name: {self.ename}, Annual Salary: {tot_salary}\")\n",
    "        \n",
    "emp_no = int(input(\"Enter Employee Number: \"))\n",
    "emp_name = input(\"Enter Employee Name: \")\n",
    "basic_pay = float(input(\"Enter Basic Pay: \"))\n",
    "bonus = float(input(\"Enter Bonus: \"))\n",
    "\n",
    "e1 = Employee(emp_no, emp_name, basic_pay, bonus)\n",
    "e1.annual_salary()"
   ]
  },
  {
   "cell_type": "code",
   "execution_count": null,
   "id": "394e90c7",
   "metadata": {},
   "outputs": [],
   "source": []
  },
  {
   "cell_type": "code",
   "execution_count": 1,
   "id": "901d1c4f",
   "metadata": {},
   "outputs": [
    {
     "name": "stdout",
     "output_type": "stream",
     "text": [
      "Total : 8900\n"
     ]
    }
   ],
   "source": [
    "class Salary:\n",
    "    def __init__(self, tpay):\n",
    "        self.tpay = tpay\n",
    "    \n",
    "    def get_total(self):\n",
    "        return self.tpay * 12\n",
    "    \n",
    "class Employee:\n",
    "    def __init__(self, pay, bonus):\n",
    "        self.pay = pay\n",
    "        self.bonus = bonus\n",
    "    \n",
    "    def annual_salary(self):\n",
    "        return f\"Total : {self.pay.get_total() + self.bonus}\"\n",
    "\n",
    "obj_sal = Salary(700)\n",
    "obj_emp = Employee(obj_sal, 500)\n",
    "print(obj_emp.annual_salary())\n",
    "\n"
   ]
  },
  {
   "cell_type": "code",
   "execution_count": null,
   "id": "7e2c495d",
   "metadata": {},
   "outputs": [],
   "source": []
  },
  {
   "cell_type": "code",
   "execution_count": null,
   "id": "5561e689",
   "metadata": {},
   "outputs": [],
   "source": []
  }
 ],
 "metadata": {
  "kernelspec": {
   "display_name": "Python 3 (ipykernel)",
   "language": "python",
   "name": "python3"
  },
  "language_info": {
   "codemirror_mode": {
    "name": "ipython",
    "version": 3
   },
   "file_extension": ".py",
   "mimetype": "text/x-python",
   "name": "python",
   "nbconvert_exporter": "python",
   "pygments_lexer": "ipython3",
   "version": "3.10.9"
  }
 },
 "nbformat": 4,
 "nbformat_minor": 5
}
