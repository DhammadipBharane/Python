{
 "cells": [
  {
   "cell_type": "code",
   "execution_count": 1,
   "id": "c33418c7",
   "metadata": {},
   "outputs": [
    {
     "name": "stdout",
     "output_type": "stream",
     "text": [
      "Enter the number of subjects: 3\n",
      "Enter marks for subject 1: 80\n",
      "Enter marks for subject 2: 75\n",
      "Enter marks for subject 3: 85\n",
      "Total Marks: 240\n",
      "Average: 80.0\n",
      "Exam conducted successfully!\n"
     ]
    }
   ],
   "source": [
    "from university.result import calculate_result\n",
    "from university.college.exam import conduct_exam\n",
    "\n",
    "def getdata():\n",
    "    marks = []\n",
    "    num_subjects = int(input(\"Enter the number of subjects: \"))\n",
    "    for i in range(num_subjects):\n",
    "        marks.append(int(input(f\"Enter marks for subject {i+1}: \")))\n",
    "    return marks\n",
    "\n",
    "def display(total_marks, average):\n",
    "    print(\"Total Marks:\", total_marks)\n",
    "    print(\"Average:\", average)\n",
    "\n",
    "def main():\n",
    "    marks = getdata()\n",
    "    total_marks, average = calculate_result(marks)\n",
    "    display(total_marks, average)\n",
    "    conduct_exam()\n",
    "\n",
    "if __name__ == \"__main__\":\n",
    "    main()\n"
   ]
  }
 ],
 "metadata": {
  "kernelspec": {
   "display_name": "Python 3 (ipykernel)",
   "language": "python",
   "name": "python3"
  },
  "language_info": {
   "codemirror_mode": {
    "name": "ipython",
    "version": 3
   },
   "file_extension": ".py",
   "mimetype": "text/x-python",
   "name": "python",
   "nbconvert_exporter": "python",
   "pygments_lexer": "ipython3",
   "version": "3.10.9"
  }
 },
 "nbformat": 4,
 "nbformat_minor": 5
}
