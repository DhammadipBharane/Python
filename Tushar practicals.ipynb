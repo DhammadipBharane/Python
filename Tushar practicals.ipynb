{
 "cells": [
  {
   "cell_type": "code",
   "execution_count": 1,
   "id": "b1238e56",
   "metadata": {},
   "outputs": [],
   "source": [
    "class Student:\n",
    "    schname = \"SIOM\""
   ]
  },
  {
   "cell_type": "code",
   "execution_count": 7,
   "id": "4977c1ed",
   "metadata": {},
   "outputs": [],
   "source": [
    "s1 = Student()\n",
    "s2 = Student()"
   ]
  },
  {
   "cell_type": "code",
   "execution_count": 5,
   "id": "1333a3c7",
   "metadata": {},
   "outputs": [
    {
     "data": {
      "text/plain": [
       "'SIOM'"
      ]
     },
     "execution_count": 5,
     "metadata": {},
     "output_type": "execute_result"
    }
   ],
   "source": [
    "s1.schname"
   ]
  },
  {
   "cell_type": "code",
   "execution_count": 8,
   "id": "a2baf17b",
   "metadata": {},
   "outputs": [
    {
     "data": {
      "text/plain": [
       "'SIOM'"
      ]
     },
     "execution_count": 8,
     "metadata": {},
     "output_type": "execute_result"
    }
   ],
   "source": [
    "s2.schname"
   ]
  },
  {
   "cell_type": "code",
   "execution_count": 10,
   "id": "ce75aa0f",
   "metadata": {},
   "outputs": [],
   "source": [
    "s1.schname = \"Rajendra\""
   ]
  },
  {
   "cell_type": "code",
   "execution_count": 11,
   "id": "1f4654cc",
   "metadata": {},
   "outputs": [],
   "source": [
    "s2.schname = \"gayatri\""
   ]
  },
  {
   "cell_type": "code",
   "execution_count": 12,
   "id": "33f0a054",
   "metadata": {},
   "outputs": [
    {
     "data": {
      "text/plain": [
       "'Rajendra'"
      ]
     },
     "execution_count": 12,
     "metadata": {},
     "output_type": "execute_result"
    }
   ],
   "source": [
    "s1.schname"
   ]
  },
  {
   "cell_type": "code",
   "execution_count": 13,
   "id": "dcec31ed",
   "metadata": {},
   "outputs": [
    {
     "data": {
      "text/plain": [
       "'gayatri'"
      ]
     },
     "execution_count": 13,
     "metadata": {},
     "output_type": "execute_result"
    }
   ],
   "source": [
    "s2.schname"
   ]
  },
  {
   "cell_type": "code",
   "execution_count": 14,
   "id": "778c77bc",
   "metadata": {},
   "outputs": [
    {
     "data": {
      "text/plain": [
       "'SIOM'"
      ]
     },
     "execution_count": 14,
     "metadata": {},
     "output_type": "execute_result"
    }
   ],
   "source": [
    "Student.schname"
   ]
  },
  {
   "cell_type": "markdown",
   "id": "7687b357",
   "metadata": {},
   "source": [
    "#### -changing the value of class attribute using class name would change it across all instances.\n",
    "#### -However, changing class attribute value using instance will notreflect to other instances or class"
   ]
  },
  {
   "cell_type": "code",
   "execution_count": 15,
   "id": "4cc38fce",
   "metadata": {},
   "outputs": [],
   "source": [
    "Student.schname = \"xyz\""
   ]
  },
  {
   "cell_type": "code",
   "execution_count": 16,
   "id": "f2acadda",
   "metadata": {},
   "outputs": [
    {
     "data": {
      "text/plain": [
       "'Rajendra'"
      ]
     },
     "execution_count": 16,
     "metadata": {},
     "output_type": "execute_result"
    }
   ],
   "source": [
    "s1.schname"
   ]
  },
  {
   "cell_type": "markdown",
   "id": "6b556a9d",
   "metadata": {},
   "source": [
    "### Note:-\n",
    "    \n",
    "    --> : operator after class name allows you to define class members.\n",
    "    \n",
    "    --> the following are class members\n",
    "    \n",
    "    1. class attribute\n",
    "    2. constructor\n",
    "    3. instance attribute\n",
    "    4. properties\n",
    "    5. class methods"
   ]
  },
  {
   "cell_type": "code",
   "execution_count": 1,
   "id": "7af1159e",
   "metadata": {},
   "outputs": [],
   "source": [
    "class Emp:\n",
    "    count = 0\n",
    "    def __init__(self, id, name, sal):\n",
    "        self.id = id\n",
    "        self.name = name\n",
    "        self.sal = sal\n",
    "        Emp.count += 1\n",
    "        print(\"Constructor method called...\")\n",
    "        print(id, name, sal)"
   ]
  },
  {
   "cell_type": "code",
   "execution_count": 2,
   "id": "3a2e14ba",
   "metadata": {},
   "outputs": [
    {
     "name": "stdout",
     "output_type": "stream",
     "text": [
      "Constructor method called...\n",
      "101 Geet 10\n"
     ]
    }
   ],
   "source": [
    "E = Emp(101,\"Geet\",10)\n"
   ]
  },
  {
   "cell_type": "code",
   "execution_count": 8,
   "id": "65dc88ce",
   "metadata": {},
   "outputs": [
    {
     "data": {
      "text/plain": [
       "101"
      ]
     },
     "execution_count": 8,
     "metadata": {},
     "output_type": "execute_result"
    }
   ],
   "source": [
    "E.id"
   ]
  },
  {
   "cell_type": "code",
   "execution_count": 9,
   "id": "2e0d8a83",
   "metadata": {},
   "outputs": [
    {
     "data": {
      "text/plain": [
       "'Geet'"
      ]
     },
     "execution_count": 9,
     "metadata": {},
     "output_type": "execute_result"
    }
   ],
   "source": [
    "E.name"
   ]
  },
  {
   "cell_type": "code",
   "execution_count": 10,
   "id": "3e8d23ac",
   "metadata": {},
   "outputs": [
    {
     "data": {
      "text/plain": [
       "10"
      ]
     },
     "execution_count": 10,
     "metadata": {},
     "output_type": "execute_result"
    }
   ],
   "source": [
    "E.sal"
   ]
  },
  {
   "cell_type": "code",
   "execution_count": 11,
   "id": "81833194",
   "metadata": {},
   "outputs": [
    {
     "data": {
      "text/plain": [
       "1"
      ]
     },
     "execution_count": 11,
     "metadata": {},
     "output_type": "execute_result"
    }
   ],
   "source": [
    "E.count"
   ]
  },
  {
   "cell_type": "code",
   "execution_count": 12,
   "id": "ec44804d",
   "metadata": {},
   "outputs": [
    {
     "name": "stdout",
     "output_type": "stream",
     "text": [
      "Constructor method called...\n"
     ]
    }
   ],
   "source": [
    "e1 = Emp(102,'sanjay',1000)"
   ]
  },
  {
   "cell_type": "code",
   "execution_count": 13,
   "id": "f15bb4ba",
   "metadata": {},
   "outputs": [
    {
     "data": {
      "text/plain": [
       "102"
      ]
     },
     "execution_count": 13,
     "metadata": {},
     "output_type": "execute_result"
    }
   ],
   "source": [
    "e1.id"
   ]
  },
  {
   "cell_type": "code",
   "execution_count": 14,
   "id": "b0d349f2",
   "metadata": {},
   "outputs": [
    {
     "data": {
      "text/plain": [
       "1000"
      ]
     },
     "execution_count": 14,
     "metadata": {},
     "output_type": "execute_result"
    }
   ],
   "source": [
    "e1.sal"
   ]
  },
  {
   "cell_type": "code",
   "execution_count": 15,
   "id": "368b142d",
   "metadata": {},
   "outputs": [
    {
     "data": {
      "text/plain": [
       "'sanjay'"
      ]
     },
     "execution_count": 15,
     "metadata": {},
     "output_type": "execute_result"
    }
   ],
   "source": [
    "e1.name"
   ]
  },
  {
   "cell_type": "code",
   "execution_count": 16,
   "id": "8aebb20c",
   "metadata": {},
   "outputs": [
    {
     "data": {
      "text/plain": [
       "2"
      ]
     },
     "execution_count": 16,
     "metadata": {},
     "output_type": "execute_result"
    }
   ],
   "source": [
    "e1.count"
   ]
  },
  {
   "cell_type": "raw",
   "id": "1ccedbbf",
   "metadata": {},
   "source": [
    "## constructor\n",
    "\n",
    "-the constructor must have special name __init__() and a special parameter called self.\n",
    "-the constructor is used to define the attributes of an instance and assign values to them."
   ]
  },
  {
   "cell_type": "code",
   "execution_count": 31,
   "id": "4251775c",
   "metadata": {},
   "outputs": [],
   "source": [
    "class Student:\n",
    "    count = 0\n",
    "    def __init__(self,name=\"guest\",rollno=69,age=22):\n",
    "        print(\"constructor method invoked\")\n",
    "        self.count += 1\n",
    "        self.name = name\n",
    "        self.rollno = rollno\n",
    "        self.age = age\n",
    "        "
   ]
  },
  {
   "cell_type": "code",
   "execution_count": 32,
   "id": "6c0d7e01",
   "metadata": {},
   "outputs": [
    {
     "name": "stdout",
     "output_type": "stream",
     "text": [
      "constructor method invoked\n"
     ]
    }
   ],
   "source": [
    "s1 = Student()\n",
    "#s1 = Student('bhavik',221,19)"
   ]
  },
  {
   "cell_type": "code",
   "execution_count": 33,
   "id": "6339d256",
   "metadata": {},
   "outputs": [
    {
     "data": {
      "text/plain": [
       "'guest'"
      ]
     },
     "execution_count": 33,
     "metadata": {},
     "output_type": "execute_result"
    }
   ],
   "source": [
    "s1.name"
   ]
  },
  {
   "cell_type": "code",
   "execution_count": 34,
   "id": "ac049b11",
   "metadata": {},
   "outputs": [
    {
     "data": {
      "text/plain": [
       "22"
      ]
     },
     "execution_count": 34,
     "metadata": {},
     "output_type": "execute_result"
    }
   ],
   "source": [
    "s1.age"
   ]
  },
  {
   "cell_type": "raw",
   "id": "375e572c",
   "metadata": {},
   "source": [
    "## Destructor\n",
    "-Destructor is also a method gets executed automatically when an object exit from the scope.\n",
    " \"__del__()\""
   ]
  },
  {
   "cell_type": "code",
   "execution_count": 28,
   "id": "e98dce7c",
   "metadata": {},
   "outputs": [],
   "source": [
    "class Sample:\n",
    "    count = 0\n",
    "    def __init__(self,var):\n",
    "        self.var = var\n",
    "        Sample.count += 1\n",
    "        print(f\"value of object: {self.var}\")\n",
    "        print(f\"value of count = {Sample.count}\")\n",
    "        \n",
    "    def __del__(self):\n",
    "        Sample.count -= 1\n",
    "        print(f\"value of object: {self.var}... Exiting from the scope\")\n",
    "        print(f\"value of count: {Sample.count}\")"
   ]
  },
  {
   "cell_type": "code",
   "execution_count": 29,
   "id": "d5aa55e7",
   "metadata": {},
   "outputs": [
    {
     "name": "stdout",
     "output_type": "stream",
     "text": [
      "value of object: 20\n",
      "value of count = 1\n",
      "value of object: 20... Exiting from the scope\n",
      "value of count: 0\n"
     ]
    }
   ],
   "source": [
    "s = Sample(20)"
   ]
  },
  {
   "cell_type": "raw",
   "id": "ba598fb0",
   "metadata": {},
   "source": [
    "## Class properties:\n",
    "\n",
    "\n",
    "-the property() method in a python provides an interface to instance attributes.\n",
    "-it Encapsulates instance attributes and provides a property ,same a as java and c#.\n",
    "-the property() methods takes the get , set , delete."
   ]
  },
  {
   "cell_type": "code",
   "execution_count": 35,
   "id": "a4496e9d",
   "metadata": {},
   "outputs": [],
   "source": [
    "class Student:\n",
    "    def __init__(self):\n",
    "        self.__name = ' '\n",
    "        \n",
    "    def setname(self,name):\n",
    "        print(\"setname() called \")\n",
    "        self.__name = name\n",
    "        \n",
    "    def getname(self,name):\n",
    "        print(\"getname() called \")\n",
    "        return self.__name\n",
    "    \n",
    "    name = property(getname, setname)"
   ]
  },
  {
   "cell_type": "code",
   "execution_count": 36,
   "id": "ba9ff629",
   "metadata": {},
   "outputs": [],
   "source": [
    "sn = Student()"
   ]
  },
  {
   "cell_type": "code",
   "execution_count": 37,
   "id": "ca919b1c",
   "metadata": {},
   "outputs": [
    {
     "name": "stdout",
     "output_type": "stream",
     "text": [
      "setname() called \n"
     ]
    }
   ],
   "source": [
    "sn.name = \"tushar\""
   ]
  },
  {
   "cell_type": "code",
   "execution_count": 2,
   "id": "cf5ce16a",
   "metadata": {},
   "outputs": [],
   "source": [
    "class Emp:\n",
    "    def __init__(self,name):\n",
    "        self.__name = name\n",
    "        \n",
    "    @property\n",
    "    def name(self):\n",
    "        return self.__name\n",
    "    \n",
    "    @name.setter\n",
    "    def name(self,value):\n",
    "        self.__name = value\n",
    "        print(\"setter().. called\")\n",
    "    @name.getter\n",
    "    def name(self):\n",
    "        print(\"getter().. called\")\n",
    "        return self.__name\n",
    "    @name.deleter\n",
    "    def name(self):\n",
    "        print(\"deleter().. called\")\n",
    "        del self.__name\n",
    "    "
   ]
  },
  {
   "cell_type": "code",
   "execution_count": 3,
   "id": "ae185f1c",
   "metadata": {},
   "outputs": [],
   "source": [
    "e3 = Emp('bahadur')"
   ]
  },
  {
   "cell_type": "code",
   "execution_count": 4,
   "id": "95a5b88f",
   "metadata": {},
   "outputs": [
    {
     "name": "stdout",
     "output_type": "stream",
     "text": [
      "setter().. called\n"
     ]
    }
   ],
   "source": [
    "e3.name= 'laal hai'"
   ]
  },
  {
   "cell_type": "code",
   "execution_count": 5,
   "id": "6729b1dc",
   "metadata": {},
   "outputs": [
    {
     "name": "stdout",
     "output_type": "stream",
     "text": [
      "getter().. called\n"
     ]
    },
    {
     "data": {
      "text/plain": [
       "'laal hai'"
      ]
     },
     "execution_count": 5,
     "metadata": {},
     "output_type": "execute_result"
    }
   ],
   "source": [
    "e3.name"
   ]
  },
  {
   "cell_type": "code",
   "execution_count": 57,
   "id": "53261ad7",
   "metadata": {},
   "outputs": [
    {
     "name": "stdout",
     "output_type": "stream",
     "text": [
      "deleter().. called\n"
     ]
    }
   ],
   "source": [
    "del e3.name"
   ]
  },
  {
   "cell_type": "code",
   "execution_count": 6,
   "id": "f4167593",
   "metadata": {},
   "outputs": [],
   "source": [
    "class Emp:\n",
    "    def __init__(self,name):\n",
    "        self.__name = name\n",
    "        \n",
    "    @property\n",
    "    def name(self):\n",
    "        return self.__name\n",
    "    \n",
    "    @name.setter\n",
    "    def name(self,value):\n",
    "        if value.isalpha():\n",
    "            self.__name = value\n",
    "        else:\n",
    "            print(\"pleasee enter valid name...\")\n",
    "    @name.getter\n",
    "    def name(self):\n",
    "        print(\"getter().. called\")\n",
    "        return self.__name\n",
    "    @name.deleter\n",
    "    def name(self):\n",
    "        print(\"deleter().. called\")\n",
    "        del self.__name\n",
    "    "
   ]
  },
  {
   "cell_type": "code",
   "execution_count": 7,
   "id": "b4b44707",
   "metadata": {},
   "outputs": [
    {
     "name": "stdout",
     "output_type": "stream",
     "text": [
      "getter().. called\n"
     ]
    },
    {
     "data": {
      "text/plain": [
       "'dweiwed'"
      ]
     },
     "execution_count": 7,
     "metadata": {},
     "output_type": "execute_result"
    }
   ],
   "source": [
    "e = Emp('chunky')\n",
    "e.name = 'dweiwed'\n",
    "e.name"
   ]
  },
  {
   "cell_type": "code",
   "execution_count": 35,
   "id": "655d3e28",
   "metadata": {},
   "outputs": [],
   "source": [
    "class Product:\n",
    "    def __init__(self,price):\n",
    "        self.__price = price\n",
    "        \n",
    "    @property\n",
    "    def price(self):\n",
    "        return self.__price\n",
    "    \n",
    "    @price.setter\n",
    "    def price(self,amount):\n",
    "        if amount > 0 and type(amount) == float:\n",
    "            self.__price = amount\n",
    "        else:\n",
    "            print(\"Enter valid price\")\n",
    "        "
   ]
  },
  {
   "cell_type": "code",
   "execution_count": 29,
   "id": "4bf79e65",
   "metadata": {},
   "outputs": [],
   "source": [
    "p = Product(-233)"
   ]
  },
  {
   "cell_type": "code",
   "execution_count": 31,
   "id": "efb7d0b3",
   "metadata": {},
   "outputs": [
    {
     "name": "stdout",
     "output_type": "stream",
     "text": [
      "Enter valid price\n"
     ]
    }
   ],
   "source": [
    "p.price = 1000"
   ]
  },
  {
   "cell_type": "code",
   "execution_count": 36,
   "id": "6b713f9b",
   "metadata": {},
   "outputs": [
    {
     "name": "stdout",
     "output_type": "stream",
     "text": [
      "Enter valid price\n"
     ]
    }
   ],
   "source": [
    "p.price = 190.54"
   ]
  },
  {
   "cell_type": "code",
   "execution_count": 38,
   "id": "6e7be422",
   "metadata": {},
   "outputs": [
    {
     "name": "stdout",
     "output_type": "stream",
     "text": [
      "Enter valid price\n"
     ]
    }
   ],
   "source": [
    "p1 = Product(100.76)\n",
    "p1.price = 1000"
   ]
  },
  {
   "cell_type": "code",
   "execution_count": 39,
   "id": "a3c84f18",
   "metadata": {},
   "outputs": [],
   "source": [
    "p1.price = 100.43"
   ]
  },
  {
   "cell_type": "code",
   "execution_count": null,
   "id": "23b22c2a",
   "metadata": {},
   "outputs": [],
   "source": [
    "#class methods"
   ]
  },
  {
   "cell_type": "code",
   "execution_count": 40,
   "id": "3555c65c",
   "metadata": {},
   "outputs": [],
   "source": [
    "class Student:\n",
    "    def __init__(self, roll,name,age):\n",
    "        self.roll = roll\n",
    "        self.name = name\n",
    "        self.age =  age\n",
    "    def stud_info(self):\n",
    "        print(f\"Student rollno. = {self.roll}\")\n",
    "        print(f\"Student Name = {self.name}\")\n",
    "        print(f\"Student age = {self.age}\")\n",
    "        \n",
    "        \n",
    "        "
   ]
  },
  {
   "cell_type": "code",
   "execution_count": 41,
   "id": "b2d1d773",
   "metadata": {},
   "outputs": [],
   "source": [
    "s= Student(101,\"Tushar\",21)"
   ]
  },
  {
   "cell_type": "code",
   "execution_count": 42,
   "id": "11faf55d",
   "metadata": {},
   "outputs": [
    {
     "ename": "AttributeError",
     "evalue": "'Student' object has no attribute 'Student'",
     "output_type": "error",
     "traceback": [
      "\u001b[1;31m---------------------------------------------------------------------------\u001b[0m",
      "\u001b[1;31mAttributeError\u001b[0m                            Traceback (most recent call last)",
      "Cell \u001b[1;32mIn[42], line 1\u001b[0m\n\u001b[1;32m----> 1\u001b[0m \u001b[43ms\u001b[49m\u001b[38;5;241;43m.\u001b[39;49m\u001b[43mStudent\u001b[49m\n",
      "\u001b[1;31mAttributeError\u001b[0m: 'Student' object has no attribute 'Student'"
     ]
    }
   ],
   "source": [
    "s.Student"
   ]
  },
  {
   "cell_type": "code",
   "execution_count": 43,
   "id": "164085b7",
   "metadata": {},
   "outputs": [
    {
     "name": "stdout",
     "output_type": "stream",
     "text": [
      "Student rollno. = 101\n",
      "Student Name = Tushar\n",
      "Student age = 21\n"
     ]
    }
   ],
   "source": [
    "s.stud_info()"
   ]
  },
  {
   "cell_type": "code",
   "execution_count": 44,
   "id": "083b4c7b",
   "metadata": {},
   "outputs": [],
   "source": [
    "class Emp:\n",
    "    def __init__(self, name,sal,id):\n",
    "        self.name = name\n",
    "        self.sal= sal\n",
    "        self.id =  id\n",
    "    def emp_info(self):\n",
    "        print(f\"Emp name = {self.name}\")\n",
    "        print(f\"Emp sal = {self.sal}\")\n",
    "        print(f\"Emp id = {self.id}\")\n",
    "        "
   ]
  },
  {
   "cell_type": "code",
   "execution_count": 46,
   "id": "eb566e6c",
   "metadata": {},
   "outputs": [],
   "source": [
    "e=Emp(\"kanchi\",1000000,1011)"
   ]
  },
  {
   "cell_type": "code",
   "execution_count": 47,
   "id": "1a4f56c7",
   "metadata": {},
   "outputs": [
    {
     "name": "stdout",
     "output_type": "stream",
     "text": [
      "Emp name = kanchi\n",
      "Emp sal = 1000000\n",
      "Emp id = 1011\n"
     ]
    }
   ],
   "source": [
    "e.emp_info()"
   ]
  },
  {
   "cell_type": "code",
   "execution_count": 51,
   "id": "02133b74",
   "metadata": {},
   "outputs": [
    {
     "ename": "AttributeError",
     "evalue": "name",
     "output_type": "error",
     "traceback": [
      "\u001b[1;31m---------------------------------------------------------------------------\u001b[0m",
      "\u001b[1;31mAttributeError\u001b[0m                            Traceback (most recent call last)",
      "Cell \u001b[1;32mIn[51], line 1\u001b[0m\n\u001b[1;32m----> 1\u001b[0m \u001b[38;5;28;01mdel\u001b[39;00m e\u001b[38;5;241m.\u001b[39mname\n",
      "\u001b[1;31mAttributeError\u001b[0m: name"
     ]
    }
   ],
   "source": [
    "del e.name"
   ]
  },
  {
   "cell_type": "code",
   "execution_count": 52,
   "id": "db5c340c",
   "metadata": {},
   "outputs": [
    {
     "ename": "NameError",
     "evalue": "name 's' is not defined",
     "output_type": "error",
     "traceback": [
      "\u001b[1;31m---------------------------------------------------------------------------\u001b[0m",
      "\u001b[1;31mNameError\u001b[0m                                 Traceback (most recent call last)",
      "Cell \u001b[1;32mIn[52], line 1\u001b[0m\n\u001b[1;32m----> 1\u001b[0m \u001b[38;5;28;01mdel\u001b[39;00m s\n",
      "\u001b[1;31mNameError\u001b[0m: name 's' is not defined"
     ]
    }
   ],
   "source": [
    "del s"
   ]
  },
  {
   "cell_type": "code",
   "execution_count": 53,
   "id": "feab3fe9",
   "metadata": {},
   "outputs": [
    {
     "ename": "NameError",
     "evalue": "name 's' is not defined",
     "output_type": "error",
     "traceback": [
      "\u001b[1;31m---------------------------------------------------------------------------\u001b[0m",
      "\u001b[1;31mNameError\u001b[0m                                 Traceback (most recent call last)",
      "Cell \u001b[1;32mIn[53], line 1\u001b[0m\n\u001b[1;32m----> 1\u001b[0m \u001b[38;5;28;01mdel\u001b[39;00m s\n",
      "\u001b[1;31mNameError\u001b[0m: name 's' is not defined"
     ]
    }
   ],
   "source": [
    "del s"
   ]
  },
  {
   "cell_type": "code",
   "execution_count": null,
   "id": "ee42e68d",
   "metadata": {},
   "outputs": [],
   "source": [
    "#find toral and avg of students"
   ]
  },
  {
   "cell_type": "code",
   "execution_count": 77,
   "id": "bb7aa3b1",
   "metadata": {},
   "outputs": [],
   "source": [
    "class students:\n",
    "    sum=0\n",
    "    avg=0\n",
    "    \n",
    "    def __init__(self, name, roll, m1, m2, m3, m4):\n",
    "        self.name = name\n",
    "        self.roll = roll\n",
    "        self.m1 = m1\n",
    "        self.m2 = m2\n",
    "        self.m3 = m3\n",
    "        self.m4 = m4\n",
    "    def total(self):\n",
    "        sum = self.m1+self.m2+self.m3+self.m4\n",
    "        return sum\n",
    "    def avg(self):\n",
    "        avg = sum/4\n",
    "        return avg"
   ]
  },
  {
   "cell_type": "code",
   "execution_count": 78,
   "id": "3491aa16",
   "metadata": {},
   "outputs": [],
   "source": [
    "sn = students(\"Ajay\", 101, 10, 10, 10, 10)"
   ]
  },
  {
   "cell_type": "code",
   "execution_count": 79,
   "id": "e5669e71",
   "metadata": {},
   "outputs": [
    {
     "data": {
      "text/plain": [
       "40"
      ]
     },
     "execution_count": 79,
     "metadata": {},
     "output_type": "execute_result"
    }
   ],
   "source": [
    "sn.total()"
   ]
  },
  {
   "cell_type": "code",
   "execution_count": 80,
   "id": "d438f1bb",
   "metadata": {},
   "outputs": [
    {
     "ename": "TypeError",
     "evalue": "unsupported operand type(s) for /: 'builtin_function_or_method' and 'int'",
     "output_type": "error",
     "traceback": [
      "\u001b[1;31m---------------------------------------------------------------------------\u001b[0m",
      "\u001b[1;31mTypeError\u001b[0m                                 Traceback (most recent call last)",
      "Cell \u001b[1;32mIn[80], line 1\u001b[0m\n\u001b[1;32m----> 1\u001b[0m \u001b[43msn\u001b[49m\u001b[38;5;241;43m.\u001b[39;49m\u001b[43mavg\u001b[49m\u001b[43m(\u001b[49m\u001b[43m)\u001b[49m\n",
      "Cell \u001b[1;32mIn[77], line 16\u001b[0m, in \u001b[0;36mstudents.avg\u001b[1;34m(self)\u001b[0m\n\u001b[0;32m     15\u001b[0m \u001b[38;5;28;01mdef\u001b[39;00m \u001b[38;5;21mavg\u001b[39m(\u001b[38;5;28mself\u001b[39m):\n\u001b[1;32m---> 16\u001b[0m     avg \u001b[38;5;241m=\u001b[39m \u001b[38;5;28;43msum\u001b[39;49m\u001b[38;5;241;43m/\u001b[39;49m\u001b[38;5;241;43m4\u001b[39;49m\n\u001b[0;32m     17\u001b[0m     \u001b[38;5;28;01mreturn\u001b[39;00m avg\n",
      "\u001b[1;31mTypeError\u001b[0m: unsupported operand type(s) for /: 'builtin_function_or_method' and 'int'"
     ]
    }
   ],
   "source": [
    "sn.avg()"
   ]
  },
  {
   "cell_type": "code",
   "execution_count": 82,
   "id": "a866c569",
   "metadata": {},
   "outputs": [],
   "source": [
    "class Odd_even:\n",
    "    \n",
    "    def check(self,num):\n",
    "        if num % 2 ==0:\n",
    "            print(f'{num} is an even number')\n",
    "        else:\n",
    "            print(f'{num} is an odd number')\n",
    "\n",
    "            "
   ]
  },
  {
   "cell_type": "code",
   "execution_count": 84,
   "id": "192ed464",
   "metadata": {},
   "outputs": [],
   "source": [
    "o = Odd_even()"
   ]
  },
  {
   "cell_type": "code",
   "execution_count": 85,
   "id": "6cd4bfd9",
   "metadata": {},
   "outputs": [
    {
     "name": "stdout",
     "output_type": "stream",
     "text": [
      "5 is an odd number\n"
     ]
    }
   ],
   "source": [
    "o.check(5)"
   ]
  },
  {
   "cell_type": "code",
   "execution_count": null,
   "id": "496d87d1",
   "metadata": {},
   "outputs": [],
   "source": []
  }
 ],
 "metadata": {
  "kernelspec": {
   "display_name": "Python 3 (ipykernel)",
   "language": "python",
   "name": "python3"
  },
  "language_info": {
   "codemirror_mode": {
    "name": "ipython",
    "version": 3
   },
   "file_extension": ".py",
   "mimetype": "text/x-python",
   "name": "python",
   "nbconvert_exporter": "python",
   "pygments_lexer": "ipython3",
   "version": "3.10.9"
  }
 },
 "nbformat": 4,
 "nbformat_minor": 5
}
