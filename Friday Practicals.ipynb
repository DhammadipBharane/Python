{
 "cells": [
  {
   "cell_type": "code",
   "execution_count": 18,
   "id": "6a44f614",
   "metadata": {},
   "outputs": [],
   "source": [
    "class student:\n",
    "    _schoolname = 'xyz school'\n",
    "    \n",
    "    \n",
    "    def __init__(self,name,age):\n",
    "        self.name = name\n",
    "        self.age = age\n",
    "        \n",
    "    def _display(self):\n",
    "        self._rno = 100\n",
    "        print(f\"Roll No = {self._rno}\")\n",
    "        print(f\"Name = {self.name}\")\n",
    "        print(f\"Age = {self.age}\")\n"
   ]
  },
  {
   "cell_type": "code",
   "execution_count": 10,
   "id": "48e08333",
   "metadata": {},
   "outputs": [
    {
     "data": {
      "text/plain": [
       "'xyz school'"
      ]
     },
     "execution_count": 10,
     "metadata": {},
     "output_type": "execute_result"
    }
   ],
   "source": [
    "s._schoolname"
   ]
  },
  {
   "cell_type": "code",
   "execution_count": 20,
   "id": "45fd9b06",
   "metadata": {},
   "outputs": [
    {
     "ename": "AttributeError",
     "evalue": "'Student' object has no attribute '_name'",
     "output_type": "error",
     "traceback": [
      "\u001b[1;31m---------------------------------------------------------------------------\u001b[0m",
      "\u001b[1;31mAttributeError\u001b[0m                            Traceback (most recent call last)",
      "Cell \u001b[1;32mIn[20], line 1\u001b[0m\n\u001b[1;32m----> 1\u001b[0m \u001b[43ms\u001b[49m\u001b[38;5;241;43m.\u001b[39;49m\u001b[43m_name\u001b[49m\n",
      "\u001b[1;31mAttributeError\u001b[0m: 'Student' object has no attribute '_name'"
     ]
    }
   ],
   "source": [
    "s._name"
   ]
  },
  {
   "cell_type": "code",
   "execution_count": 14,
   "id": "3092bb1c",
   "metadata": {},
   "outputs": [],
   "source": [
    "class Student:\n",
    "    __schoolName = 'XYZ School'\n",
    "    def __init__(self,name, salary):\n",
    "        \n",
    "        self.__name = name\n",
    "        self.__salary = salary\n",
    "    def display(self):\n",
    "        \n",
    "        print('This is private method.')\n",
    "        print(f\"Name = {self._name} and Salary = {self._salary}\")"
   ]
  },
  {
   "cell_type": "code",
   "execution_count": 15,
   "id": "fa825149",
   "metadata": {},
   "outputs": [],
   "source": [
    "s = Student(\"Kavita\",10000)"
   ]
  },
  {
   "cell_type": "code",
   "execution_count": 16,
   "id": "e3c40bac",
   "metadata": {},
   "outputs": [
    {
     "data": {
      "text/plain": [
       "10000"
      ]
     },
     "execution_count": 16,
     "metadata": {},
     "output_type": "execute_result"
    }
   ],
   "source": [
    "s._Student__salary"
   ]
  },
  {
   "cell_type": "code",
   "execution_count": null,
   "id": "00f8f7e5",
   "metadata": {},
   "outputs": [],
   "source": []
  },
  {
   "cell_type": "code",
   "execution_count": 34,
   "id": "77598342",
   "metadata": {},
   "outputs": [],
   "source": [
    "class Sample:\n",
    "    def __init__(self,n1,n2,n3):\n",
    "        self.n1 = n1\n",
    "        self._n2 = n2\n",
    "        self.__n3 = n3\n",
    "        \n",
    "        \n",
    "    def display(self):\n",
    "        print(\"Class - Public Variable=\",self.n1)\n",
    "        print(\"Class - Protected Variable=\",self._n2)\n",
    "        print(\"Class - Private Variable=\",self.__n3)"
   ]
  },
  {
   "cell_type": "code",
   "execution_count": 35,
   "id": "06222798",
   "metadata": {},
   "outputs": [],
   "source": [
    "s = Sample(10,20,30)"
   ]
  },
  {
   "cell_type": "code",
   "execution_count": 36,
   "id": "09080e30",
   "metadata": {},
   "outputs": [
    {
     "data": {
      "text/plain": [
       "10"
      ]
     },
     "execution_count": 36,
     "metadata": {},
     "output_type": "execute_result"
    }
   ],
   "source": [
    "s.n1"
   ]
  },
  {
   "cell_type": "code",
   "execution_count": 37,
   "id": "de6468ba",
   "metadata": {},
   "outputs": [
    {
     "data": {
      "text/plain": [
       "20"
      ]
     },
     "execution_count": 37,
     "metadata": {},
     "output_type": "execute_result"
    }
   ],
   "source": [
    "s._n2"
   ]
  },
  {
   "cell_type": "code",
   "execution_count": 24,
   "id": "86595736",
   "metadata": {},
   "outputs": [
    {
     "ename": "AttributeError",
     "evalue": "'Sample' object has no attribute '__n3'",
     "output_type": "error",
     "traceback": [
      "\u001b[1;31m---------------------------------------------------------------------------\u001b[0m",
      "\u001b[1;31mAttributeError\u001b[0m                            Traceback (most recent call last)",
      "Cell \u001b[1;32mIn[24], line 1\u001b[0m\n\u001b[1;32m----> 1\u001b[0m \u001b[43ms\u001b[49m\u001b[38;5;241;43m.\u001b[39;49m\u001b[43m__n3\u001b[49m\n",
      "\u001b[1;31mAttributeError\u001b[0m: 'Sample' object has no attribute '__n3'"
     ]
    }
   ],
   "source": [
    "s.__n3"
   ]
  },
  {
   "cell_type": "code",
   "execution_count": 38,
   "id": "c177f81c",
   "metadata": {},
   "outputs": [
    {
     "name": "stdout",
     "output_type": "stream",
     "text": [
      "Class - Public Variable= 10\n",
      "Class - Protected Variable= 20\n",
      "Class - Private Variable= 30\n"
     ]
    }
   ],
   "source": [
    "s.display()"
   ]
  },
  {
   "cell_type": "code",
   "execution_count": null,
   "id": "c0bb67e6",
   "metadata": {},
   "outputs": [],
   "source": [
    "# STATIC METHODS VS CLASS METHODS "
   ]
  },
  {
   "cell_type": "code",
   "execution_count": 39,
   "id": "4971738c",
   "metadata": {},
   "outputs": [],
   "source": [
    "class myClass:\n",
    "    def __init__(self,x):\n",
    "        self.x = x\n",
    "        \n",
    "    @staticmethod\n",
    "    def staticMethod():\n",
    "        return \"I am in static method\"\n",
    "    @classmethod\n",
    "    def classMethod(cls):\n",
    "        return \"I am in class method\""
   ]
  },
  {
   "cell_type": "code",
   "execution_count": 40,
   "id": "1bbaef28",
   "metadata": {},
   "outputs": [
    {
     "name": "stdout",
     "output_type": "stream",
     "text": [
      "95\n",
      "I am in static method\n",
      "I am in class method\n"
     ]
    }
   ],
   "source": [
    "m1 = myClass(95)\n",
    "print(m1.x)\n",
    "print(m1.staticMethod())\n",
    "print(m1.classMethod())"
   ]
  },
  {
   "cell_type": "code",
   "execution_count": 45,
   "id": "550bbb29",
   "metadata": {},
   "outputs": [],
   "source": [
    "class myClass:\n",
    "    count = 0\n",
    "    \n",
    "    def __init__(self,x):\n",
    "        self.x = x\n",
    "        \n",
    "    @classmethod   \n",
    "    def classMethod(cls):\n",
    "        cls.count += 2\n",
    "        return cls.count"
   ]
  },
  {
   "cell_type": "code",
   "execution_count": 46,
   "id": "d52c4935",
   "metadata": {},
   "outputs": [
    {
     "name": "stdout",
     "output_type": "stream",
     "text": [
      "90\n",
      "2\n",
      "2\n"
     ]
    }
   ],
   "source": [
    "m2 = myClass(90)\n",
    "m3 = myClass.classMethod()\n",
    "print(m2.x)\n",
    "print(m2.count)\n",
    "print(m3)"
   ]
  },
  {
   "cell_type": "code",
   "execution_count": 52,
   "id": "17b6cb9a",
   "metadata": {},
   "outputs": [],
   "source": [
    "from datetime import date \n",
    "\n",
    "class Person:\n",
    "    \n",
    "    def __init__(self,name,age):\n",
    "        self.name = name\n",
    "        self.age = age\n",
    "        \n",
    "    @classmethod\n",
    "    def details(cls,name,year):\n",
    "        return cls(name,date.today().year - year)\n",
    "    \n",
    "    @staticmethod\n",
    "    def check_age(age):\n",
    "        if age > 18:\n",
    "            return f\"Age is above 18 years\"\n",
    "        else:\n",
    "            return f\"Age is below 18 years\""
   ]
  },
  {
   "cell_type": "code",
   "execution_count": 53,
   "id": "5d403ccf",
   "metadata": {},
   "outputs": [
    {
     "name": "stdout",
     "output_type": "stream",
     "text": [
      "Kavita 21\n",
      "Sahil 2002\n",
      "Age is above 18 years\n"
     ]
    }
   ],
   "source": [
    "p1 = Person('Kavita', 21)\n",
    "p2 = Person.details('Sahil',21)\n",
    "print(p1.name, p1.age)\n",
    "print(p2.name, p2.age)\n",
    "print(Person.check_age(20))"
   ]
  },
  {
   "cell_type": "code",
   "execution_count": 54,
   "id": "b5c8957d",
   "metadata": {},
   "outputs": [],
   "source": [
    "# CREATE CLASS METHOD USING CLASSMETHOD()"
   ]
  },
  {
   "cell_type": "code",
   "execution_count": 55,
   "id": "39d9e717",
   "metadata": {},
   "outputs": [
    {
     "name": "stdout",
     "output_type": "stream",
     "text": [
      "The age is :  21\n"
     ]
    }
   ],
   "source": [
    "class Person:\n",
    "    age = 21\n",
    "    \n",
    "    \n",
    "    def printage(cls):\n",
    "        print('The age is : ' , cls.age)\n",
    "\n",
    "# CREATE printAge CLASS METHOD \n",
    "Person.printage = classmethod(Person.printage)\n",
    "Person.printage()"
   ]
  },
  {
   "cell_type": "code",
   "execution_count": 56,
   "id": "a3bffaf2",
   "metadata": {},
   "outputs": [],
   "source": [
    "# ADDING AND RETRIVING DYNAMIC ATTRIBUTES OF CLASSES"
   ]
  },
  {
   "cell_type": "code",
   "execution_count": 57,
   "id": "2ac7c9f0",
   "metadata": {},
   "outputs": [
    {
     "name": "stdout",
     "output_type": "stream",
     "text": [
      "Help on built-in function setattr in module builtins:\n",
      "\n",
      "setattr(obj, name, value, /)\n",
      "    Sets the named attribute on the given object to the specified value.\n",
      "    \n",
      "    setattr(x, 'y', v) is equivalent to ``x.y = v''\n",
      "\n"
     ]
    }
   ],
   "source": [
    "help(setattr)"
   ]
  },
  {
   "cell_type": "code",
   "execution_count": 59,
   "id": "6cf284ae",
   "metadata": {},
   "outputs": [],
   "source": [
    "class employee:\n",
    "    pass"
   ]
  },
  {
   "cell_type": "code",
   "execution_count": 60,
   "id": "e9976f80",
   "metadata": {},
   "outputs": [],
   "source": [
    "emp1 = employee()"
   ]
  },
  {
   "cell_type": "code",
   "execution_count": 63,
   "id": "1eeb41b2",
   "metadata": {},
   "outputs": [],
   "source": [
    "setattr(emp1,'emp_id',100)"
   ]
  },
  {
   "cell_type": "code",
   "execution_count": 64,
   "id": "455546d9",
   "metadata": {},
   "outputs": [],
   "source": [
    "setattr(emp1,'emp_name','Kavita')"
   ]
  },
  {
   "cell_type": "code",
   "execution_count": 65,
   "id": "328c8039",
   "metadata": {},
   "outputs": [],
   "source": [
    "setattr(emp1,'emp_salary','70000')"
   ]
  },
  {
   "cell_type": "code",
   "execution_count": 67,
   "id": "ed369568",
   "metadata": {},
   "outputs": [
    {
     "data": {
      "text/plain": [
       "100"
      ]
     },
     "execution_count": 67,
     "metadata": {},
     "output_type": "execute_result"
    }
   ],
   "source": [
    "emp1.emp_id"
   ]
  },
  {
   "cell_type": "code",
   "execution_count": 68,
   "id": "3c07604d",
   "metadata": {},
   "outputs": [
    {
     "data": {
      "text/plain": [
       "'Kavita'"
      ]
     },
     "execution_count": 68,
     "metadata": {},
     "output_type": "execute_result"
    }
   ],
   "source": [
    "emp1.emp_name"
   ]
  },
  {
   "cell_type": "code",
   "execution_count": 69,
   "id": "2d62fb61",
   "metadata": {},
   "outputs": [
    {
     "data": {
      "text/plain": [
       "'70000'"
      ]
     },
     "execution_count": 69,
     "metadata": {},
     "output_type": "execute_result"
    }
   ],
   "source": [
    "emp1.emp_salary"
   ]
  },
  {
   "cell_type": "code",
   "execution_count": 3,
   "id": "18735829",
   "metadata": {},
   "outputs": [
    {
     "name": "stdout",
     "output_type": "stream",
     "text": [
      "Student name: Kavita\n",
      "Marks: 95\n",
      "Enter name to modify:Kunal\n",
      "Enter marks to modify:90\n",
      "Student Name: Kunal\n",
      "Student Marks: 90\n"
     ]
    }
   ],
   "source": [
    "class Student:\n",
    "    student_name=\"Kavita\"\n",
    "    marks=95\n",
    "    \n",
    "print(f\"Student name: {getattr(Student,'student_name')}\")\n",
    "print(f\"Marks: {getattr(Student,'marks')}\")\n",
    "\n",
    "\n",
    "setattr(Student, 'student_name',input('Enter name to modify:'))\n",
    "setattr(Student, 'marks',input('Enter marks to modify:'))\n",
    "\n",
    "print(f\"Student Name: {getattr(Student,'student_name')}\")\n",
    "print(f\"Student Marks: {getattr(Student,'marks')}\")"
   ]
  },
  {
   "cell_type": "code",
   "execution_count": null,
   "id": "b43e2936",
   "metadata": {},
   "outputs": [],
   "source": [
    "class student:\n",
    "    student_id=101\n",
    "    student_name=\"Kavita\"\n",
    "    \n",
    "print(\"original attributes and their values in student.__dict__items\")\n",
    "for attr, value in student"
   ]
  },
  {
   "cell_type": "code",
   "execution_count": null,
   "id": "1152bcf4",
   "metadata": {},
   "outputs": [],
   "source": []
  },
  {
   "cell_type": "code",
   "execution_count": null,
   "id": "98ae4cfd",
   "metadata": {},
   "outputs": [],
   "source": []
  },
  {
   "cell_type": "code",
   "execution_count": null,
   "id": "b375a061",
   "metadata": {},
   "outputs": [],
   "source": []
  },
  {
   "cell_type": "code",
   "execution_count": null,
   "id": "0e3cdcf7",
   "metadata": {},
   "outputs": [],
   "source": []
  },
  {
   "cell_type": "code",
   "execution_count": null,
   "id": "f574c3d5",
   "metadata": {},
   "outputs": [],
   "source": []
  },
  {
   "cell_type": "code",
   "execution_count": null,
   "id": "b2c9fa36",
   "metadata": {},
   "outputs": [],
   "source": []
  }
 ],
 "metadata": {
  "kernelspec": {
   "display_name": "Python 3 (ipykernel)",
   "language": "python",
   "name": "python3"
  },
  "language_info": {
   "codemirror_mode": {
    "name": "ipython",
    "version": 3
   },
   "file_extension": ".py",
   "mimetype": "text/x-python",
   "name": "python",
   "nbconvert_exporter": "python",
   "pygments_lexer": "ipython3",
   "version": "3.10.9"
  }
 },
 "nbformat": 4,
 "nbformat_minor": 5
}
