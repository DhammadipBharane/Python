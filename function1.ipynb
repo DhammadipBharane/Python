{
 "cells": [
  {
   "cell_type": "code",
   "execution_count": 5,
   "id": "883ccd96",
   "metadata": {},
   "outputs": [
    {
     "name": "stdout",
     "output_type": "stream",
     "text": [
      "Hello...Dhammadip\n",
      "Good Morning\n"
     ]
    }
   ],
   "source": [
    "def SayHello(name):\n",
    "    \"\"\"function for Saying Hello\"\"\"\n",
    "    print(f'Hello...{name}')\n",
    "    print(\"Good Morning\")\n",
    "def main():\n",
    "    n1=\"Dhammadip\"\n",
    "    SayHello(n1)\n",
    "if __name__=='__main__':\n",
    "    main()\n",
    "    "
   ]
  },
  {
   "cell_type": "code",
   "execution_count": null,
   "id": "5f66035c",
   "metadata": {},
   "outputs": [],
   "source": [
    "type(SayHello)"
   ]
  },
  {
   "cell_type": "code",
   "execution_count": null,
   "id": "d3e18d3e",
   "metadata": {},
   "outputs": [],
   "source": []
  },
  {
   "cell_type": "code",
   "execution_count": null,
   "id": "c8eab0a6",
   "metadata": {},
   "outputs": [],
   "source": []
  },
  {
   "cell_type": "code",
   "execution_count": null,
   "id": "4da64310",
   "metadata": {},
   "outputs": [],
   "source": []
  },
  {
   "cell_type": "code",
   "execution_count": null,
   "id": "3b29ce2e",
   "metadata": {},
   "outputs": [],
   "source": [
    "\n"
   ]
  },
  {
   "cell_type": "code",
   "execution_count": null,
   "id": "d77453bc",
   "metadata": {},
   "outputs": [],
   "source": []
  }
 ],
 "metadata": {
  "kernelspec": {
   "display_name": "Python 3 (ipykernel)",
   "language": "python",
   "name": "python3"
  },
  "language_info": {
   "codemirror_mode": {
    "name": "ipython",
    "version": 3
   },
   "file_extension": ".py",
   "mimetype": "text/x-python",
   "name": "python",
   "nbconvert_exporter": "python",
   "pygments_lexer": "ipython3",
   "version": "3.10.9"
  }
 },
 "nbformat": 4,
 "nbformat_minor": 5
}
