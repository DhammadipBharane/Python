{
 "cells": [
  {
   "cell_type": "code",
   "execution_count": 1,
   "id": "b8a463fe",
   "metadata": {},
   "outputs": [
    {
     "name": "stdout",
     "output_type": "stream",
     "text": [
      "Enter a String : hello\n",
      "Valid\n",
      "Do you want to continue? (y/n) : y\n",
      "Enter a String : +-7\n",
      "Invalid\n",
      "Do you want to continue? (y/n) : n\n"
     ]
    }
   ],
   "source": [
    "#1. Write a Python program to check that a string contains only a certain set of characters (in this\n",
    "# case a-z, A-Z and 0-9).\n",
    "\n",
    "import re\n",
    "\n",
    "ch = 'y'\n",
    "while ch == 'y':\n",
    "    \n",
    "    p = r'^[a-zA-Z0-9]+$'\n",
    "    str = input(\"Enter a String : \")\n",
    "    #result = re.match(p, str)\n",
    "    result = re.findall(p, str)\n",
    "\n",
    "    if result:\n",
    "        print(\"Valid\")\n",
    "    else:\n",
    "        print(\"Invalid\")\n",
    "        \n",
    "    ch = input('Do you want to continue? (y/n) : ')\n",
    "    if ch == 'y' or ch == 'Y':\n",
    "        continue\n",
    "    else:\n",
    "        break"
   ]
  },
  {
   "cell_type": "code",
   "execution_count": null,
   "id": "b362ba38",
   "metadata": {},
   "outputs": [],
   "source": []
  },
  {
   "cell_type": "code",
   "execution_count": null,
   "id": "ab976368",
   "metadata": {},
   "outputs": [],
   "source": []
  },
  {
   "cell_type": "code",
   "execution_count": null,
   "id": "e1bc6492",
   "metadata": {},
   "outputs": [],
   "source": []
  },
  {
   "cell_type": "code",
   "execution_count": null,
   "id": "426ee788",
   "metadata": {},
   "outputs": [
    {
     "name": "stdout",
     "output_type": "stream",
     "text": [
      "Enter a String : abb\n",
      "String is Matching\n",
      "Do you want to continue? (y/n) : y\n",
      "Enter a String : an\n",
      "String is not Matching\n"
     ]
    }
   ],
   "source": [
    "#2. Write a Python program that matches a string that has an ‘a’ followed by \n",
    "# zero or more b’s.\n",
    "\n",
    "\n",
    "import re\n",
    "\n",
    "ch = 'y'\n",
    "while ch == 'y':\n",
    "    \n",
    "    p = r'^ab*$'\n",
    "    str = input(\"Enter a String : \")\n",
    "    #result = re.match(p, str)\n",
    "    result = re.findall(p, str)\n",
    "\n",
    "    if result:\n",
    "        print(\"String is Matching\")\n",
    "    else:\n",
    "        print(\"String is not Matching\")\n",
    "        \n",
    "    ch = input('Do you want to continue? (y/n) : ')\n",
    "    if ch == 'y' or ch == 'Y':\n",
    "        continue\n",
    "    else:\n",
    "        break"
   ]
  },
  {
   "cell_type": "code",
   "execution_count": null,
   "id": "333c8dfc",
   "metadata": {},
   "outputs": [],
   "source": []
  },
  {
   "cell_type": "code",
   "execution_count": null,
   "id": "7f036ee7",
   "metadata": {},
   "outputs": [],
   "source": []
  },
  {
   "cell_type": "code",
   "execution_count": null,
   "id": "964cd1c8",
   "metadata": {},
   "outputs": [],
   "source": []
  },
  {
   "cell_type": "code",
   "execution_count": 2,
   "id": "bcaeffd8",
   "metadata": {},
   "outputs": [
    {
     "name": "stdout",
     "output_type": "stream",
     "text": [
      "Enter a String : a0\n",
      "String is not Matching\n",
      "Do you want to continue? (y/n) : y\n",
      "Enter a String : ab\n",
      "String is Matching\n",
      "Do you want to continue? (y/n) : n\n"
     ]
    }
   ],
   "source": [
    "#3. Write a Python program that matches a string that has an ‘a’ followed by \n",
    "# one or more b’s.\n",
    "\n",
    "\n",
    "import re\n",
    "\n",
    "ch = 'y'\n",
    "while ch == 'y':\n",
    "    \n",
    "    p = r'^ab+$'\n",
    "    str = input(\"Enter a String : \")\n",
    "    #result = re.match(p, str)\n",
    "    result = re.findall(p, str)\n",
    "\n",
    "    if result:\n",
    "        print(\"String is Matching\")\n",
    "    else:\n",
    "        print(\"String is not Matching\")\n",
    "        \n",
    "    ch = input('Do you want to continue? (y/n) : ')\n",
    "    if ch == 'y' or ch == 'Y':\n",
    "        continue\n",
    "    else:\n",
    "        break"
   ]
  },
  {
   "cell_type": "code",
   "execution_count": null,
   "id": "c0afab90",
   "metadata": {},
   "outputs": [],
   "source": []
  },
  {
   "cell_type": "code",
   "execution_count": null,
   "id": "3810c0bd",
   "metadata": {},
   "outputs": [],
   "source": []
  },
  {
   "cell_type": "code",
   "execution_count": null,
   "id": "f730803b",
   "metadata": {},
   "outputs": [],
   "source": []
  },
  {
   "cell_type": "code",
   "execution_count": 4,
   "id": "439eb27a",
   "metadata": {},
   "outputs": [
    {
     "name": "stdout",
     "output_type": "stream",
     "text": [
      "Enter a String : abc\n",
      "String is not Matching\n",
      "Do you want to continue? (y/n) : y\n",
      "Enter a String : abc_\n",
      "String is not Matching\n",
      "Do you want to continue? (y/n) : y\n",
      "Enter a String : ab_ab\n",
      "String is Matching\n",
      "Do you want to continue? (y/n) : y\n",
      "Enter a String : adfjl_adkfj\n",
      "String is Matching\n",
      "Do you want to continue? (y/n) : n\n"
     ]
    }
   ],
   "source": [
    "#4. Write a Python program to find sequences of lowercase letters joined with a underscore.\n",
    "\n",
    "\n",
    "\n",
    "import re\n",
    "\n",
    "ch = 'y'\n",
    "while ch == 'y':\n",
    "    \n",
    "    p = r'[a-z]+_[a-z]+'\n",
    "    str = input(\"Enter a String : \")\n",
    "    #result = re.match(p, str)\n",
    "    result = re.findall(p, str)\n",
    "\n",
    "    if result:\n",
    "        print(\"String is Matching\")\n",
    "    else:\n",
    "        print(\"String is not Matching\")\n",
    "        \n",
    "    ch = input('Do you want to continue? (y/n) : ')\n",
    "    if ch == 'y' or ch == 'Y':\n",
    "        continue\n",
    "    else:\n",
    "        break"
   ]
  },
  {
   "cell_type": "code",
   "execution_count": null,
   "id": "b3ac916f",
   "metadata": {},
   "outputs": [],
   "source": []
  },
  {
   "cell_type": "code",
   "execution_count": null,
   "id": "148cbc14",
   "metadata": {},
   "outputs": [],
   "source": []
  },
  {
   "cell_type": "code",
   "execution_count": null,
   "id": "7e834309",
   "metadata": {},
   "outputs": [],
   "source": []
  },
  {
   "cell_type": "code",
   "execution_count": 1,
   "id": "1c63a850",
   "metadata": {},
   "outputs": [
    {
     "name": "stdout",
     "output_type": "stream",
     "text": [
      "Enter a String : Ajay\n",
      "String is Matching\n",
      "Do you want to continue? (y/n) : y\n",
      "Enter a String : ajay\n",
      "String is not Matching\n",
      "Do you want to continue? (y/n) : n\n"
     ]
    }
   ],
   "source": [
    "#5. Write a Python program to find the sequences of one upper case letter followed by lower case letters.\n",
    "\n",
    "\n",
    "\n",
    "import re\n",
    "\n",
    "ch = 'y'\n",
    "while ch == 'y':\n",
    "    \n",
    "    p = r'[A-Z][a-z]+'\n",
    "    str = input(\"Enter a String : \")\n",
    "    #result = re.match(p, str)\n",
    "    result = re.findall(p, str)\n",
    "\n",
    "    if result:\n",
    "        print(\"String is Matching\")\n",
    "    else:\n",
    "        print(\"String is not Matching\")\n",
    "        \n",
    "    ch = input('Do you want to continue? (y/n) : ')\n",
    "    if ch == 'y' or ch == 'Y':\n",
    "        continue\n",
    "    else:\n",
    "        break"
   ]
  },
  {
   "cell_type": "code",
   "execution_count": null,
   "id": "55c225fe",
   "metadata": {},
   "outputs": [],
   "source": []
  },
  {
   "cell_type": "code",
   "execution_count": null,
   "id": "0bf01dc2",
   "metadata": {},
   "outputs": [],
   "source": []
  },
  {
   "cell_type": "code",
   "execution_count": null,
   "id": "93454261",
   "metadata": {},
   "outputs": [],
   "source": []
  },
  {
   "cell_type": "code",
   "execution_count": 2,
   "id": "c18a8c26",
   "metadata": {},
   "outputs": [
    {
     "name": "stdout",
     "output_type": "stream",
     "text": [
      "Enter a String : abz\n",
      "String is Matching\n",
      "Do you want to continue? (y/n) : y\n",
      "Enter a String : abc\n",
      "String is not Matching\n",
      "Do you want to continue? (y/n) : n\n"
     ]
    }
   ],
   "source": [
    "#6. Write a Python program that matches a word containing ‘z’.\n",
    "\n",
    "\n",
    "\n",
    "import re\n",
    "\n",
    "ch = 'y'\n",
    "while ch == 'y':\n",
    "    \n",
    "    p = r'z'\n",
    "    str = input(\"Enter a String : \")\n",
    "    result = re.search(p, str)\n",
    "    #result = re.findall(p, str)\n",
    "\n",
    "    if result:\n",
    "        print(\"String is Matching\")\n",
    "    else:\n",
    "        print(\"String is not Matching\")\n",
    "        \n",
    "    ch = input('Do you want to continue? (y/n) : ')\n",
    "    if ch == 'y' or ch == 'Y':\n",
    "        continue\n",
    "    else:\n",
    "        break"
   ]
  },
  {
   "cell_type": "code",
   "execution_count": null,
   "id": "c5b69a15",
   "metadata": {},
   "outputs": [],
   "source": []
  },
  {
   "cell_type": "code",
   "execution_count": null,
   "id": "982f5163",
   "metadata": {},
   "outputs": [],
   "source": []
  },
  {
   "cell_type": "code",
   "execution_count": null,
   "id": "a8257d2f",
   "metadata": {},
   "outputs": [],
   "source": []
  },
  {
   "cell_type": "code",
   "execution_count": 1,
   "id": "d772c8b9",
   "metadata": {},
   "outputs": [
    {
     "name": "stdout",
     "output_type": "stream",
     "text": [
      "Enter a String : azb\n",
      "String is Matching\n",
      "Do you want to continue? (y/n) : y\n",
      "Enter a String : abz\n",
      "String is not Matching\n",
      "Do you want to continue? (y/n) : n\n"
     ]
    }
   ],
   "source": [
    "#7. Write a Python program that matches a word containing ‘z’, not at the start or end of the word.\n",
    "\n",
    "\n",
    "import re\n",
    "\n",
    "ch = 'y'\n",
    "while ch == 'y':\n",
    "    \n",
    "    p = r'\\Bz\\B'\n",
    "    str = input(\"Enter a String : \")\n",
    "    result = re.search(p, str)\n",
    "    #result = re.findall(p, str)\n",
    "\n",
    "    if result:\n",
    "        print(\"String is Matching\")\n",
    "    else:\n",
    "        print(\"String is not Matching\")\n",
    "        \n",
    "    ch = input('Do you want to continue? (y/n) : ')\n",
    "    if ch == 'y' or ch == 'Y':\n",
    "        continue\n",
    "    else:\n",
    "        break"
   ]
  },
  {
   "cell_type": "code",
   "execution_count": null,
   "id": "3b83b10e",
   "metadata": {},
   "outputs": [],
   "source": []
  },
  {
   "cell_type": "code",
   "execution_count": null,
   "id": "a1799b6d",
   "metadata": {},
   "outputs": [],
   "source": []
  },
  {
   "cell_type": "code",
   "execution_count": null,
   "id": "346dcf1b",
   "metadata": {},
   "outputs": [],
   "source": []
  },
  {
   "cell_type": "code",
   "execution_count": 2,
   "id": "1429508a",
   "metadata": {},
   "outputs": [
    {
     "name": "stdout",
     "output_type": "stream",
     "text": [
      "Enter a String : abc\n",
      "String is Matching\n",
      "Do you want to continue? (y/n) : y\n",
      "Enter a String : +*/\n",
      "String is not Matching\n",
      "Do you want to continue? (y/n) : n\n"
     ]
    }
   ],
   "source": [
    "#8. Write a Python program to match a string that contains only upper and lowercase letters, numbers, and underscores.\n",
    "\n",
    "\n",
    "\n",
    "import re\n",
    "\n",
    "ch = 'y'\n",
    "while ch == 'y':\n",
    "    \n",
    "    p = r'[a-zA-Z0-9]'\n",
    "    str = input(\"Enter a String : \")\n",
    "    result = re.search(p, str)\n",
    "    #result = re.findall(p, str)\n",
    "\n",
    "    if result:\n",
    "        print(\"String is Matching\")\n",
    "    else:\n",
    "        print(\"String is not Matching\")\n",
    "        \n",
    "    ch = input('Do you want to continue? (y/n) : ')\n",
    "    if ch == 'y' or ch == 'Y':\n",
    "        continue\n",
    "    else:\n",
    "        break"
   ]
  },
  {
   "cell_type": "code",
   "execution_count": null,
   "id": "1cfb142d",
   "metadata": {},
   "outputs": [],
   "source": []
  },
  {
   "cell_type": "code",
   "execution_count": null,
   "id": "964e149f",
   "metadata": {},
   "outputs": [],
   "source": []
  },
  {
   "cell_type": "code",
   "execution_count": null,
   "id": "82db4206",
   "metadata": {},
   "outputs": [],
   "source": []
  },
  {
   "cell_type": "code",
   "execution_count": 1,
   "id": "9740bf3d",
   "metadata": {},
   "outputs": [
    {
     "name": "stdout",
     "output_type": "stream",
     "text": [
      "Enter a Valid Password : Pass@1234\n",
      "Entered Password is Valid one !!!\n",
      "Do you want to continue? (y or n) : y\n",
      "Enter a Valid Password : abc@12\n",
      "Entered Password is Invalid one !!!\n",
      "Do you want to continue? (y or n) : n\n"
     ]
    }
   ],
   "source": [
    "''' \n",
    "9. Write a python program to validate the password by using regular expression.\n",
    "    a. Complexity requirement is we need at least one capital letter, one number and one\n",
    "    special character.\n",
    "    b. We also need the length of the password to be between 8 and 18.\n",
    "'''\n",
    "\n",
    "\n",
    "import re\n",
    "\n",
    "ch = 'y'\n",
    "while ch == 'y':\n",
    "    pswd = input(\"Enter a Valid Password : \")\n",
    "    reg = \"^(?=.*[a-z])(?=.*[A-Z])(?=.*\\d)(?=.*[@$!%*#?&])[A-Za-z\\d@$!%*#?&]{8,18}$\"\n",
    "            \n",
    "    result = re.search(reg, pswd)\n",
    "        \n",
    "    if result:\n",
    "        print(\"Entered Password is Valid one !!!\")\n",
    "    else:\n",
    "        print(\"Entered Password is Invalid one !!!\")\n",
    "    \n",
    "    ch = input(\"Do you want to continue? (y or n) : \")\n",
    "    \n",
    "    if ch == 'y' or ch == 'Y':\n",
    "        continue\n",
    "    else:\n",
    "        break"
   ]
  },
  {
   "cell_type": "code",
   "execution_count": null,
   "id": "1e4e1f8d",
   "metadata": {},
   "outputs": [],
   "source": []
  },
  {
   "cell_type": "code",
   "execution_count": null,
   "id": "b70497c5",
   "metadata": {},
   "outputs": [],
   "source": []
  },
  {
   "cell_type": "code",
   "execution_count": null,
   "id": "685ede5d",
   "metadata": {},
   "outputs": [],
   "source": []
  },
  {
   "cell_type": "code",
   "execution_count": 2,
   "id": "e41df03c",
   "metadata": {},
   "outputs": [
    {
     "name": "stdout",
     "output_type": "stream",
     "text": [
      "Enter the URl string: ftp://google.com\n",
      "Input URL is Valid !!!\n",
      "Do you want to continue?(y/n): n\n"
     ]
    }
   ],
   "source": [
    "#10. Write a python program to validate the URL by using regular expression.\n",
    "\n",
    "import re\n",
    "\n",
    "def check_url(ip_url):\n",
    "    \n",
    "    reg = (\"((http|http|ftp)://)(www.)?\" +\n",
    "             \"[a-zA-Z0-9@:%._\\\\+~#?&//=]\" +\n",
    "             \"{2,256}\\\\.[a-z]\" +\n",
    "             \"{2,6}\\\\b([-a-zA-Z0-9@:%\" + \n",
    "             \" ._\\\\+~#?&//=]*)\")\n",
    "    \n",
    "    if (ip_url == None):\n",
    "        print(\"Input string is empty !!!\")\n",
    "        \n",
    "    if (re.search(reg, ip_url)):\n",
    "        print(\"Input URL is Valid !!!\")\n",
    "    \n",
    "    else:\n",
    "        print(\"Input URL is Invalid !!!\")\n",
    "\n",
    "ch = 'y'\n",
    "while ch == 'y' or ch == 'Y':\n",
    "    ip_url = input(\"Enter the URl string: \")\n",
    "    check_url(ip_url)\n",
    "    ch = input(\"Do you want to continue?(y/n): \")\n",
    "    if ch == 'y' or ch == 'Y':\n",
    "        continue\n",
    "    else:\n",
    "        break"
   ]
  },
  {
   "cell_type": "code",
   "execution_count": null,
   "id": "2267394a",
   "metadata": {},
   "outputs": [],
   "source": []
  },
  {
   "cell_type": "code",
   "execution_count": null,
   "id": "b07e5bf5",
   "metadata": {},
   "outputs": [],
   "source": []
  },
  {
   "cell_type": "code",
   "execution_count": null,
   "id": "dcdc8280",
   "metadata": {},
   "outputs": [],
   "source": []
  },
  {
   "cell_type": "code",
   "execution_count": 1,
   "id": "afe169dc",
   "metadata": {},
   "outputs": [
    {
     "name": "stdout",
     "output_type": "stream",
     "text": [
      "Enter a valid Email : dhammadipbharane77@gmail.com\n",
      "Entered Email is Valid Email...\n",
      "Do you want to continue? (y or n) : n\n"
     ]
    }
   ],
   "source": [
    "import re\n",
    "\n",
    "regex = r\"(^[a-zA-Z0-9_.+-]+@[a-zA-z0-9-]+\\.[a-zA-Z0-9-.]+$)\"\n",
    "\n",
    "def check(email):\n",
    "    if(re.search(regex, email)):\n",
    "        print(\"Entered Email is Valid Email...\")\n",
    "    else:\n",
    "        print(\"Entered Email is not Valid...\")\n",
    "\n",
    "ch = 'y'\n",
    "while ch == 'y':\n",
    "    email = input(\"Enter a valid Email : \")\n",
    "    check(email)\n",
    "    \n",
    "    ch = input(\"Do you want to continue? (y or n) : \")\n",
    "    \n",
    "    if ch == 'y' or ch == 'Y':\n",
    "        continue\n",
    "    else:\n",
    "        break"
   ]
  },
  {
   "cell_type": "code",
   "execution_count": null,
   "id": "d1ea4348",
   "metadata": {},
   "outputs": [],
   "source": []
  },
  {
   "cell_type": "code",
   "execution_count": null,
   "id": "636bff98",
   "metadata": {},
   "outputs": [],
   "source": []
  },
  {
   "cell_type": "code",
   "execution_count": null,
   "id": "52b9755d",
   "metadata": {},
   "outputs": [],
   "source": []
  },
  {
   "cell_type": "code",
   "execution_count": 7,
   "id": "a1a0145c",
   "metadata": {},
   "outputs": [
    {
     "name": "stdout",
     "output_type": "stream",
     "text": [
      "Enter a String : hello 1 2585 156\n",
      "Numbers found in the string:\n",
      "1\n",
      "156\n"
     ]
    }
   ],
   "source": [
    "#12. Write a Python program to search the numbers (0-9) of length between \n",
    "# 1 to 3 in a given string. Example input String is: “Exercises number 1, 12, 13, and 345 are important”\n",
    "\n",
    "\n",
    "\n",
    "import re\n",
    "\n",
    "str = input(\"Enter a String : \")\n",
    "pattern = r\"\\b\\d{1,3}\\b\"\n",
    "\n",
    "string = re.findall(pattern, str)\n",
    "\n",
    "print(\"Numbers found in the string:\")\n",
    "for number in string:\n",
    "    print(number)\n",
    "\n"
   ]
  },
  {
   "cell_type": "code",
   "execution_count": null,
   "id": "a53a8540",
   "metadata": {},
   "outputs": [],
   "source": []
  },
  {
   "cell_type": "code",
   "execution_count": null,
   "id": "7218ec39",
   "metadata": {},
   "outputs": [],
   "source": []
  },
  {
   "cell_type": "code",
   "execution_count": null,
   "id": "d7cf6724",
   "metadata": {},
   "outputs": [],
   "source": []
  },
  {
   "cell_type": "code",
   "execution_count": 1,
   "id": "fe2cfe10",
   "metadata": {},
   "outputs": [
    {
     "name": "stdout",
     "output_type": "stream",
     "text": [
      "Enter a String : hello how hello\n",
      "Enter substring to find : hello\n",
      "The substring 'hello' occurs 2 times.\n",
      "Positions:\n",
      "0\n",
      "10\n"
     ]
    }
   ],
   "source": [
    "#13. Write a Python program to find the occurrence and position of the substrings within a string.\n",
    "\n",
    "import re\n",
    "\n",
    "str = input(\"Enter a String : \")\n",
    "substr = input(\"Enter substring to find : \")\n",
    "\n",
    "pattern = re.compile(substr)\n",
    "matches = pattern.finditer(str)\n",
    "\n",
    "occurrences = 0\n",
    "positions = []\n",
    "\n",
    "for match in matches:\n",
    "    occurrences += 1\n",
    "    positions.append(match.start())\n",
    "\n",
    "print(f\"The substring '{substr}' occurs {occurrences} times.\")\n",
    "print(\"Positions:\")\n",
    "for position in positions:\n",
    "    print(position)\n"
   ]
  },
  {
   "cell_type": "code",
   "execution_count": null,
   "id": "6fb575ce",
   "metadata": {},
   "outputs": [],
   "source": []
  },
  {
   "cell_type": "code",
   "execution_count": null,
   "id": "bab48d84",
   "metadata": {},
   "outputs": [],
   "source": []
  },
  {
   "cell_type": "code",
   "execution_count": null,
   "id": "d84157ab",
   "metadata": {},
   "outputs": [],
   "source": []
  },
  {
   "cell_type": "code",
   "execution_count": 2,
   "id": "84bf36b7",
   "metadata": {},
   "outputs": [
    {
     "name": "stdout",
     "output_type": "stream",
     "text": [
      "Enter a String :hello everyone\n",
      "Original string :  hello everyone\n",
      "Replaced string :  ('hello_everyone', 'hello everyone')\n"
     ]
    }
   ],
   "source": [
    "#14. Write a Python program to replace whitespaces with an underscore and vice versa.\n",
    "\n",
    "\n",
    "def replace(string):\n",
    "    str1 = string.replace(\" \", \"_\")\n",
    "    str2 = str1.replace(\"_\", \" \")\n",
    "    return str1, str2\n",
    "\n",
    "s = input(\"Enter a String :\")\n",
    "\n",
    "a = replace(s)\n",
    "\n",
    "print(\"Original string : \", s)\n",
    "print(\"Replaced string : \", a)\n"
   ]
  },
  {
   "cell_type": "code",
   "execution_count": null,
   "id": "9f3d3138",
   "metadata": {},
   "outputs": [],
   "source": []
  },
  {
   "cell_type": "code",
   "execution_count": null,
   "id": "8c3a45c3",
   "metadata": {},
   "outputs": [],
   "source": []
  },
  {
   "cell_type": "code",
   "execution_count": null,
   "id": "c5b3271c",
   "metadata": {},
   "outputs": [],
   "source": []
  },
  {
   "cell_type": "code",
   "execution_count": 4,
   "id": "6fe90498",
   "metadata": {},
   "outputs": [
    {
     "name": "stdout",
     "output_type": "stream",
     "text": [
      "Enter a String : hello everyone how are you\n",
      "Words with three, four, or five characters:\n",
      "hello\n",
      "how\n",
      "are\n",
      "you\n"
     ]
    }
   ],
   "source": [
    "#15. Write a Python program to find all three, four, five characters long words in a string.\n",
    "\n",
    "import re\n",
    "\n",
    "def find(string):\n",
    "    pattern = r\"\\b\\w{3,5}\\b\"\n",
    "    words = re.findall(pattern, string)\n",
    "    return words\n",
    "\n",
    "a = input(\"Enter a String : \")\n",
    "\n",
    "f = find(a)\n",
    "\n",
    "print(\"Words with three, four, or five characters:\")\n",
    "for word in f:\n",
    "    print(word)\n"
   ]
  },
  {
   "cell_type": "code",
   "execution_count": null,
   "id": "8bb1f1e9",
   "metadata": {},
   "outputs": [],
   "source": []
  },
  {
   "cell_type": "code",
   "execution_count": null,
   "id": "99ffbb15",
   "metadata": {},
   "outputs": [],
   "source": []
  },
  {
   "cell_type": "code",
   "execution_count": null,
   "id": "4177bc61",
   "metadata": {},
   "outputs": [],
   "source": []
  },
  {
   "cell_type": "code",
   "execution_count": 6,
   "id": "9e405e62",
   "metadata": {},
   "outputs": [
    {
     "name": "stdout",
     "output_type": "stream",
     "text": [
      "Camel Case string :  ThisIsCamelCaseString\n",
      "Snake case string :  this_is_camel_case_string\n"
     ]
    }
   ],
   "source": [
    "#16. Write a python program to convert camel case string to snake case string.\n",
    "\n",
    "import re\n",
    "\n",
    "def convert(str):\n",
    "    string = re.sub(r'(?<=[a-z])([A-Z])', r'_\\1', str)\n",
    "    string = string.lower()\n",
    "    return string\n",
    "\n",
    "c = input(\"Enter a String : \")\n",
    "\n",
    "s = convert(c)\n",
    "\n",
    "print(\"Camel Case string : \", c)\n",
    "print(\"Snake case string : \", s)\n"
   ]
  },
  {
   "cell_type": "code",
   "execution_count": null,
   "id": "4013a8f3",
   "metadata": {},
   "outputs": [],
   "source": []
  },
  {
   "cell_type": "code",
   "execution_count": null,
   "id": "843817eb",
   "metadata": {},
   "outputs": [],
   "source": []
  },
  {
   "cell_type": "code",
   "execution_count": null,
   "id": "954326cd",
   "metadata": {},
   "outputs": [],
   "source": []
  },
  {
   "cell_type": "code",
   "execution_count": 8,
   "id": "9e20faf2",
   "metadata": {},
   "outputs": [
    {
     "name": "stdout",
     "output_type": "stream",
     "text": [
      "Enter a String : hello everyone @123\n",
      "Original string :  hello everyone @123\n",
      "Cleaned string :  helloeveryone123\n"
     ]
    }
   ],
   "source": [
    "#17. Write a Python program to remove everything except alphanumeric characters from a string.\n",
    "\n",
    "import re\n",
    "\n",
    "def remove(string):\n",
    "    pattern = r'[^a-zA-Z0-9]'\n",
    "    string = re.sub(pattern, '', string)\n",
    "    return string\n",
    "\n",
    "str = input(\"Enter a String : \")\n",
    "\n",
    "a = remove(str)\n",
    "\n",
    "print(\"Original string : \", str)\n",
    "print(\"Cleaned string : \", a)\n"
   ]
  },
  {
   "cell_type": "code",
   "execution_count": null,
   "id": "1aa043a5",
   "metadata": {},
   "outputs": [],
   "source": []
  },
  {
   "cell_type": "code",
   "execution_count": null,
   "id": "bf18bdfb",
   "metadata": {},
   "outputs": [],
   "source": []
  },
  {
   "cell_type": "code",
   "execution_count": null,
   "id": "739540c4",
   "metadata": {},
   "outputs": [],
   "source": []
  },
  {
   "cell_type": "code",
   "execution_count": 11,
   "id": "b1a9f66c",
   "metadata": {},
   "outputs": [
    {
     "name": "stdout",
     "output_type": "stream",
     "text": [
      "Enter a String : Hello Everyone... How are you!\n",
      "Original string :  Hello Everyone... How are you!\n",
      "Splitted list :  ['', 'Hello ', 'Everyone... ', 'How are you!']\n"
     ]
    }
   ],
   "source": [
    "#18. Write a Python program to split a string at uppercase letters.\n",
    "\n",
    "\n",
    "import re\n",
    "\n",
    "def split(string):\n",
    "    pattern = r'(?=[A-Z])'\n",
    "    splitted = re.split(pattern, string)\n",
    "    return splitted\n",
    "\n",
    "str = input(\"Enter a String : \")\n",
    "\n",
    "s = split(str)\n",
    "\n",
    "print(\"Original string : \", str)\n",
    "print(\"Splitted list : \", s)\n"
   ]
  },
  {
   "cell_type": "code",
   "execution_count": null,
   "id": "f9c3f5ac",
   "metadata": {},
   "outputs": [],
   "source": []
  },
  {
   "cell_type": "code",
   "execution_count": null,
   "id": "72bc85d9",
   "metadata": {},
   "outputs": [],
   "source": []
  },
  {
   "cell_type": "code",
   "execution_count": null,
   "id": "06a970e1",
   "metadata": {},
   "outputs": [],
   "source": []
  },
  {
   "cell_type": "code",
   "execution_count": 3,
   "id": "58fb4bf2",
   "metadata": {},
   "outputs": [
    {
     "name": "stdout",
     "output_type": "stream",
     "text": [
      "Ente a String : HelloEveryoneHowAreYou\n",
      "Original string :  HelloEveryoneHowAreYou\n",
      "Spaced string :  Hello Everyone How Are You\n"
     ]
    }
   ],
   "source": [
    "#19. Write a Python program to insert spaces between words starting with capital letters.\n",
    "\n",
    "import re\n",
    "\n",
    "def spaces(string):\n",
    "    pattern = r'(?<!^)(?=[A-Z])'\n",
    "    str = re.sub(pattern, ' ', string)\n",
    "    return str\n",
    "\n",
    "s = input(\"Ente a String : \")\n",
    "\n",
    "sp = spaces(s)\n",
    "\n",
    "print(\"Original string : \", s)\n",
    "print(\"Spaced string : \", sp)\n"
   ]
  },
  {
   "cell_type": "code",
   "execution_count": null,
   "id": "f5a772aa",
   "metadata": {},
   "outputs": [],
   "source": []
  },
  {
   "cell_type": "code",
   "execution_count": null,
   "id": "91c9ae3b",
   "metadata": {},
   "outputs": [],
   "source": []
  },
  {
   "cell_type": "code",
   "execution_count": null,
   "id": "4f738eaf",
   "metadata": {},
   "outputs": [],
   "source": []
  },
  {
   "cell_type": "code",
   "execution_count": 5,
   "id": "98a207d3",
   "metadata": {},
   "outputs": [
    {
     "name": "stdout",
     "output_type": "stream",
     "text": [
      "Enter a String : hello everyone How Are You\n",
      "Original string :  hello everyone How Are You\n",
      "Cleaned string :    How Are You\n"
     ]
    }
   ],
   "source": [
    "#20. Write a Python program to remove lowercase substrings from a given string.\n",
    "\n",
    "import re\n",
    "\n",
    "def remove_lowercase(string):\n",
    "    pattern = r'\\b[a-z]+\\b'\n",
    "    cleaned = re.sub(pattern, '', string)\n",
    "    return cleaned\n",
    "\n",
    "str = input(\"Enter a String : \")\n",
    "\n",
    "s = remove_lowercase(str)\n",
    "\n",
    "print(\"Original string : \", str)\n",
    "print(\"Cleaned string : \", s)\n"
   ]
  }
 ],
 "metadata": {
  "kernelspec": {
   "display_name": "Python 3 (ipykernel)",
   "language": "python",
   "name": "python3"
  },
  "language_info": {
   "codemirror_mode": {
    "name": "ipython",
    "version": 3
   },
   "file_extension": ".py",
   "mimetype": "text/x-python",
   "name": "python",
   "nbconvert_exporter": "python",
   "pygments_lexer": "ipython3",
   "version": "3.10.9"
  }
 },
 "nbformat": 4,
 "nbformat_minor": 5
}
