{
 "cells": [
  {
   "cell_type": "code",
   "execution_count": 1,
   "id": "0b2dfb35",
   "metadata": {},
   "outputs": [],
   "source": [
    "import pymongo"
   ]
  },
  {
   "cell_type": "code",
   "execution_count": 2,
   "id": "3c76a235",
   "metadata": {},
   "outputs": [
    {
     "name": "stdout",
     "output_type": "stream",
     "text": [
      "MongoClient(host=['localhost:22017'], document_class=dict, tz_aware=False, connect=True)\n"
     ]
    }
   ],
   "source": [
    "client = pymongo.MongoClient('mongodb://localhost:22017')\n",
    "print(client)"
   ]
  },
  {
   "cell_type": "code",
   "execution_count": null,
   "id": "b70fce0f",
   "metadata": {},
   "outputs": [],
   "source": []
  },
  {
   "cell_type": "markdown",
   "id": "55299e59",
   "metadata": {},
   "source": [
    "What is NOSQL?\n",
    "As per the official wiki definition:\n",
    "    A NoSQL database provides a mechanism for storage and retrieval of data that is \n",
    "    modeled in means other than the tabular relation used in relation database.\n",
    "    \n",
    "    It encompasses a wide variety of different database technologies that were developed \n",
    "    in response to a rise in the volume of data stored about\n",
    "    "
   ]
  },
  {
   "cell_type": "markdown",
   "id": "bc8aa679",
   "metadata": {},
   "source": []
  },
  {
   "cell_type": "code",
   "execution_count": null,
   "id": "1f80c16b",
   "metadata": {},
   "outputs": [],
   "source": []
  },
  {
   "cell_type": "code",
   "execution_count": 3,
   "id": "3ab1ca61",
   "metadata": {},
   "outputs": [],
   "source": [
    "from pymongo import *\n",
    "myclient=MongoClient(port=27017)"
   ]
  },
  {
   "cell_type": "code",
   "execution_count": 4,
   "id": "cc79d33e",
   "metadata": {},
   "outputs": [
    {
     "data": {
      "text/plain": [
       "['admin',\n",
       " 'bookdb',\n",
       " 'business',\n",
       " 'college',\n",
       " 'config',\n",
       " 'hotels',\n",
       " 'local',\n",
       " 'mydatabase',\n",
       " 'student_db']"
      ]
     },
     "execution_count": 4,
     "metadata": {},
     "output_type": "execute_result"
    }
   ],
   "source": [
    "myclient.list_database_names()"
   ]
  },
  {
   "cell_type": "code",
   "execution_count": null,
   "id": "bdf0c7f2",
   "metadata": {},
   "outputs": [],
   "source": []
  },
  {
   "cell_type": "markdown",
   "id": "511a42c4",
   "metadata": {},
   "source": [
    "Important : MongoDB  waits until you have created a collection(table), \n",
    "with at least one document before it actually creates the database."
   ]
  },
  {
   "cell_type": "code",
   "execution_count": null,
   "id": "5e64fa78",
   "metadata": {},
   "outputs": [],
   "source": []
  },
  {
   "cell_type": "code",
   "execution_count": 5,
   "id": "ba695872",
   "metadata": {},
   "outputs": [
    {
     "name": "stdout",
     "output_type": "stream",
     "text": [
      "['admin', 'bookdb', 'business', 'college', 'config', 'hotels', 'local', 'mydatabase', 'stud_db', 'student_db']\n",
      "['student']\n",
      "The collection student exists\n"
     ]
    }
   ],
   "source": [
    "mydb = myclient[\"stud_db\"]\n",
    "mycol = mydb[\"student\"]\n",
    "\n",
    "s1 = {'name':'Dhammadip Bharane', 'address':'Vadgaon(bk)'}\n",
    "mycol.insert_one(s1)\n",
    "\n",
    "print(myclient.list_database_names())\n",
    "print(mydb.list_collection_names())\n",
    "\n",
    "#check if collection is exists\n",
    "collist = mydb.list_collection_names()\n",
    "for col in collist:\n",
    "    if \"student\" in collist:\n",
    "        print(\"The collection student exists\")"
   ]
  },
  {
   "cell_type": "code",
   "execution_count": 6,
   "id": "35606237",
   "metadata": {},
   "outputs": [
    {
     "data": {
      "text/plain": [
       "['student']"
      ]
     },
     "execution_count": 6,
     "metadata": {},
     "output_type": "execute_result"
    }
   ],
   "source": [
    "mydb.list_collection_names()"
   ]
  },
  {
   "cell_type": "code",
   "execution_count": 7,
   "id": "13203d43",
   "metadata": {},
   "outputs": [
    {
     "data": {
      "text/plain": [
       "{'_id': ObjectId('64bd07d223bfe23d766ae18e'),\n",
       " 'name': 'Dhammadip Bharane',\n",
       " 'address': 'Vadgaon(bk)'}"
      ]
     },
     "execution_count": 7,
     "metadata": {},
     "output_type": "execute_result"
    }
   ],
   "source": [
    "mycol.find_one()"
   ]
  },
  {
   "cell_type": "code",
   "execution_count": 8,
   "id": "635d545b",
   "metadata": {},
   "outputs": [
    {
     "name": "stdout",
     "output_type": "stream",
     "text": [
      "{'_id': ObjectId('64bd07d223bfe23d766ae18e'), 'name': 'Dhammadip Bharane', 'address': 'Vadgaon(bk)'}\n"
     ]
    }
   ],
   "source": [
    "mycol.find()\n",
    "for doc in mycol.find():\n",
    "    print(doc)"
   ]
  },
  {
   "cell_type": "code",
   "execution_count": 9,
   "id": "7e379cc1",
   "metadata": {},
   "outputs": [
    {
     "data": {
      "text/plain": [
       "<pymongo.results.InsertManyResult at 0x24dabd56aa0>"
      ]
     },
     "execution_count": 9,
     "metadata": {},
     "output_type": "execute_result"
    }
   ],
   "source": [
    "my_list = [{'name':'Milid','address':'Vadgaon, Pune'},\n",
    "          {'name':'Ankush','address':'Parner, Pune'},\n",
    "          {'name':'Prachi','address':'Katraj, Pune'},\n",
    "          {'name':'Abhijit','address':'Vadgaon, Pune'},\n",
    "          {'name':'Ashish','address':'Kothrud, Pune'}]\n",
    "mycol.insert_many(my_list)"
   ]
  },
  {
   "cell_type": "code",
   "execution_count": 10,
   "id": "25ff09ca",
   "metadata": {},
   "outputs": [
    {
     "data": {
      "text/plain": [
       "{'nIndexesWas': 1, 'ns': 'stud_db.student', 'ok': 1.0}"
      ]
     },
     "execution_count": 10,
     "metadata": {},
     "output_type": "execute_result"
    }
   ],
   "source": [
    "mydb.drop_collection('student')"
   ]
  },
  {
   "cell_type": "code",
   "execution_count": 37,
   "id": "c48dc062",
   "metadata": {},
   "outputs": [
    {
     "name": "stdout",
     "output_type": "stream",
     "text": [
      "{'_id': ObjectId('64bd07fd23bfe23d766ae19b'), 'name': 'Milid', 'address': 'Vadgaon, Pune'}\n",
      "{'_id': ObjectId('64bd07fd23bfe23d766ae19c'), 'name': 'Ankush', 'address': 'Parner, Pune'}\n",
      "{'_id': ObjectId('64bd07fd23bfe23d766ae19d'), 'name': 'Prachi', 'address': 'Katraj, Pune'}\n",
      "{'_id': ObjectId('64bd07fd23bfe23d766ae19e'), 'name': 'Abhijit', 'address': 'Vadgaon, Pune'}\n",
      "{'_id': ObjectId('64bd07fd23bfe23d766ae19f'), 'name': 'Ashish', 'address': 'Kothrud, Pune'}\n"
     ]
    }
   ],
   "source": [
    "mydb = myclient[\"stud_db\"]\n",
    "mycol = mydb[\"student\"]\n",
    "mylist = [{'name':'Milid','address':'Vadgaon, Pune'},\n",
    "          {'name':'Ankush','address':'Parner, Pune'},\n",
    "          {'name':'Prachi','address':'Katraj, Pune'},\n",
    "          {'name':'Abhijit','address':'Vadgaon, Pune'},\n",
    "          {'name':'Ashish','address':'Kothrud, Pune'}]\n",
    "mycol.insert_many(mylist)\n",
    "for doc in mycol.find():\n",
    "    print(doc)"
   ]
  },
  {
   "cell_type": "code",
   "execution_count": null,
   "id": "195d6e7b",
   "metadata": {},
   "outputs": [],
   "source": []
  },
  {
   "cell_type": "code",
   "execution_count": 12,
   "id": "8bb99b0b",
   "metadata": {},
   "outputs": [
    {
     "name": "stdout",
     "output_type": "stream",
     "text": [
      "Help on method find in module pymongo.collection:\n",
      "\n",
      "find(*args: Any, **kwargs: Any) -> pymongo.cursor.Cursor[~_DocumentType] method of pymongo.collection.Collection instance\n",
      "    Query the database.\n",
      "    \n",
      "    The `filter` argument is a query document that all results\n",
      "    must match. For example:\n",
      "    \n",
      "    >>> db.test.find({\"hello\": \"world\"})\n",
      "    \n",
      "    only matches documents that have a key \"hello\" with value\n",
      "    \"world\".  Matches can have other keys *in addition* to\n",
      "    \"hello\". The `projection` argument is used to specify a subset\n",
      "    of fields that should be included in the result documents. By\n",
      "    limiting results to a certain subset of fields you can cut\n",
      "    down on network traffic and decoding time.\n",
      "    \n",
      "    Raises :class:`TypeError` if any of the arguments are of\n",
      "    improper type. Returns an instance of\n",
      "    :class:`~pymongo.cursor.Cursor` corresponding to this query.\n",
      "    \n",
      "    The :meth:`find` method obeys the :attr:`read_preference` of\n",
      "    this :class:`Collection`.\n",
      "    \n",
      "    :Parameters:\n",
      "      - `filter` (optional): A query document that selects which documents\n",
      "        to include in the result set. Can be an empty document to include\n",
      "        all documents.\n",
      "      - `projection` (optional): a list of field names that should be\n",
      "        returned in the result set or a dict specifying the fields\n",
      "        to include or exclude. If `projection` is a list \"_id\" will\n",
      "        always be returned. Use a dict to exclude fields from\n",
      "        the result (e.g. projection={'_id': False}).\n",
      "      - `session` (optional): a\n",
      "        :class:`~pymongo.client_session.ClientSession`.\n",
      "      - `skip` (optional): the number of documents to omit (from\n",
      "        the start of the result set) when returning the results\n",
      "      - `limit` (optional): the maximum number of results to\n",
      "        return. A limit of 0 (the default) is equivalent to setting no\n",
      "        limit.\n",
      "      - `no_cursor_timeout` (optional): if False (the default), any\n",
      "        returned cursor is closed by the server after 10 minutes of\n",
      "        inactivity. If set to True, the returned cursor will never\n",
      "        time out on the server. Care should be taken to ensure that\n",
      "        cursors with no_cursor_timeout turned on are properly closed.\n",
      "      - `cursor_type` (optional): the type of cursor to return. The valid\n",
      "        options are defined by :class:`~pymongo.cursor.CursorType`:\n",
      "    \n",
      "        - :attr:`~pymongo.cursor.CursorType.NON_TAILABLE` - the result of\n",
      "          this find call will return a standard cursor over the result set.\n",
      "        - :attr:`~pymongo.cursor.CursorType.TAILABLE` - the result of this\n",
      "          find call will be a tailable cursor - tailable cursors are only\n",
      "          for use with capped collections. They are not closed when the\n",
      "          last data is retrieved but are kept open and the cursor location\n",
      "          marks the final document position. If more data is received\n",
      "          iteration of the cursor will continue from the last document\n",
      "          received. For details, see the `tailable cursor documentation\n",
      "          <https://www.mongodb.com/docs/manual/core/tailable-cursors/>`_.\n",
      "        - :attr:`~pymongo.cursor.CursorType.TAILABLE_AWAIT` - the result\n",
      "          of this find call will be a tailable cursor with the await flag\n",
      "          set. The server will wait for a few seconds after returning the\n",
      "          full result set so that it can capture and return additional data\n",
      "          added during the query.\n",
      "        - :attr:`~pymongo.cursor.CursorType.EXHAUST` - the result of this\n",
      "          find call will be an exhaust cursor. MongoDB will stream batched\n",
      "          results to the client without waiting for the client to request\n",
      "          each batch, reducing latency. See notes on compatibility below.\n",
      "    \n",
      "      - `sort` (optional): a list of (key, direction) pairs\n",
      "        specifying the sort order for this query. See\n",
      "        :meth:`~pymongo.cursor.Cursor.sort` for details.\n",
      "      - `allow_partial_results` (optional): if True, mongos will return\n",
      "        partial results if some shards are down instead of returning an\n",
      "        error.\n",
      "      - `oplog_replay` (optional): **DEPRECATED** - if True, set the\n",
      "        oplogReplay query flag. Default: False.\n",
      "      - `batch_size` (optional): Limits the number of documents returned in\n",
      "        a single batch.\n",
      "      - `collation` (optional): An instance of\n",
      "        :class:`~pymongo.collation.Collation`.\n",
      "      - `return_key` (optional): If True, return only the index keys in\n",
      "        each document.\n",
      "      - `show_record_id` (optional): If True, adds a field ``$recordId`` in\n",
      "        each document with the storage engine's internal record identifier.\n",
      "      - `snapshot` (optional): **DEPRECATED** - If True, prevents the\n",
      "        cursor from returning a document more than once because of an\n",
      "        intervening write operation.\n",
      "      - `hint` (optional): An index, in the same format as passed to\n",
      "        :meth:`~pymongo.collection.Collection.create_index` (e.g.\n",
      "        ``[('field', ASCENDING)]``). Pass this as an alternative to calling\n",
      "        :meth:`~pymongo.cursor.Cursor.hint` on the cursor to tell Mongo the\n",
      "        proper index to use for the query.\n",
      "      - `max_time_ms` (optional): Specifies a time limit for a query\n",
      "        operation. If the specified time is exceeded, the operation will be\n",
      "        aborted and :exc:`~pymongo.errors.ExecutionTimeout` is raised. Pass\n",
      "        this as an alternative to calling\n",
      "        :meth:`~pymongo.cursor.Cursor.max_time_ms` on the cursor.\n",
      "      - `max_scan` (optional): **DEPRECATED** - The maximum number of\n",
      "        documents to scan. Pass this as an alternative to calling\n",
      "        :meth:`~pymongo.cursor.Cursor.max_scan` on the cursor.\n",
      "      - `min` (optional): A list of field, limit pairs specifying the\n",
      "        inclusive lower bound for all keys of a specific index in order.\n",
      "        Pass this as an alternative to calling\n",
      "        :meth:`~pymongo.cursor.Cursor.min` on the cursor. ``hint`` must\n",
      "        also be passed to ensure the query utilizes the correct index.\n",
      "      - `max` (optional): A list of field, limit pairs specifying the\n",
      "        exclusive upper bound for all keys of a specific index in order.\n",
      "        Pass this as an alternative to calling\n",
      "        :meth:`~pymongo.cursor.Cursor.max` on the cursor. ``hint`` must\n",
      "        also be passed to ensure the query utilizes the correct index.\n",
      "      - `comment` (optional): A string to attach to the query to help\n",
      "        interpret and trace the operation in the server logs and in profile\n",
      "        data. Pass this as an alternative to calling\n",
      "        :meth:`~pymongo.cursor.Cursor.comment` on the cursor.\n",
      "      - `allow_disk_use` (optional): if True, MongoDB may use temporary\n",
      "        disk files to store data exceeding the system memory limit while\n",
      "        processing a blocking sort operation. The option has no effect if\n",
      "        MongoDB can satisfy the specified sort using an index, or if the\n",
      "        blocking sort requires less memory than the 100 MiB limit. This\n",
      "        option is only supported on MongoDB 4.4 and above.\n",
      "    \n",
      "    .. note:: There are a number of caveats to using\n",
      "      :attr:`~pymongo.cursor.CursorType.EXHAUST` as cursor_type:\n",
      "    \n",
      "      - The `limit` option can not be used with an exhaust cursor.\n",
      "    \n",
      "      - Exhaust cursors are not supported by mongos and can not be\n",
      "        used with a sharded cluster.\n",
      "    \n",
      "      - A :class:`~pymongo.cursor.Cursor` instance created with the\n",
      "        :attr:`~pymongo.cursor.CursorType.EXHAUST` cursor_type requires an\n",
      "        exclusive :class:`~socket.socket` connection to MongoDB. If the\n",
      "        :class:`~pymongo.cursor.Cursor` is discarded without being\n",
      "        completely iterated the underlying :class:`~socket.socket`\n",
      "        connection will be closed and discarded without being returned to\n",
      "        the connection pool.\n",
      "    \n",
      "    .. versionchanged:: 4.0\n",
      "       Removed the ``modifiers`` option.\n",
      "       Empty projections (eg {} or []) are passed to the server as-is,\n",
      "       rather than the previous behavior which substituted in a\n",
      "       projection of ``{\"_id\": 1}``. This means that an empty projection\n",
      "       will now return the entire document, not just the ``\"_id\"`` field.\n",
      "    \n",
      "    .. versionchanged:: 3.11\n",
      "       Added the ``allow_disk_use`` option.\n",
      "       Deprecated the ``oplog_replay`` option. Support for this option is\n",
      "       deprecated in MongoDB 4.4. The query engine now automatically\n",
      "       optimizes queries against the oplog without requiring this\n",
      "       option to be set.\n",
      "    \n",
      "    .. versionchanged:: 3.7\n",
      "       Deprecated the ``snapshot`` option, which is deprecated in MongoDB\n",
      "       3.6 and removed in MongoDB 4.0.\n",
      "       Deprecated the ``max_scan`` option. Support for this option is\n",
      "       deprecated in MongoDB 4.0. Use ``max_time_ms`` instead to limit\n",
      "       server-side execution time.\n",
      "    \n",
      "    .. versionchanged:: 3.6\n",
      "       Added ``session`` parameter.\n",
      "    \n",
      "    .. versionchanged:: 3.5\n",
      "       Added the options ``return_key``, ``show_record_id``, ``snapshot``,\n",
      "       ``hint``, ``max_time_ms``, ``max_scan``, ``min``, ``max``, and\n",
      "       ``comment``.\n",
      "       Deprecated the ``modifiers`` option.\n",
      "    \n",
      "    .. versionchanged:: 3.4\n",
      "       Added support for the ``collation`` option.\n",
      "    \n",
      "    .. versionchanged:: 3.0\n",
      "       Changed the parameter names ``spec``, ``fields``, ``timeout``, and\n",
      "       ``partial`` to ``filter``, ``projection``, ``no_cursor_timeout``,\n",
      "       and ``allow_partial_results`` respectively.\n",
      "       Added the ``cursor_type``, ``oplog_replay``, and ``modifiers``\n",
      "       options.\n",
      "       Removed the ``network_timeout``, ``read_preference``, ``tag_sets``,\n",
      "       ``secondary_acceptable_latency_ms``, ``max_scan``, ``snapshot``,\n",
      "       ``tailable``, ``await_data``, ``exhaust``, ``as_class``, and\n",
      "       slave_okay parameters.\n",
      "       Removed ``compile_re`` option: PyMongo now always\n",
      "       represents BSON regular expressions as :class:`~bson.regex.Regex`\n",
      "       objects. Use :meth:`~bson.regex.Regex.try_compile` to attempt to\n",
      "       convert from a BSON regular expression to a Python regular\n",
      "       expression object.\n",
      "       Soft deprecated the ``manipulate`` option.\n",
      "    \n",
      "    .. seealso:: The MongoDB documentation on `find <https://dochub.mongodb.org/core/find>`_.\n",
      "\n"
     ]
    }
   ],
   "source": [
    "help(mycol.find)"
   ]
  },
  {
   "cell_type": "code",
   "execution_count": 40,
   "id": "db41273d",
   "metadata": {},
   "outputs": [
    {
     "name": "stdout",
     "output_type": "stream",
     "text": [
      "{'name': 'Milid', 'address': 'Vadgaon, Pune'}\n",
      "{'name': 'Ankush', 'address': 'Parner, Pune'}\n",
      "{'name': 'Prachi', 'address': 'Katraj, Pune'}\n",
      "{'name': 'Abhijit', 'address': 'Vadgaon, Pune'}\n",
      "{'name': 'Ashish', 'address': 'Kothrud, Pune'}\n"
     ]
    }
   ],
   "source": [
    "from pymongo import *\n",
    "for doc in mycol.find({},{\"_id\":0, 'name':1, 'address':1}):\n",
    "    print(doc)"
   ]
  },
  {
   "cell_type": "code",
   "execution_count": 36,
   "id": "6bacb9ba",
   "metadata": {},
   "outputs": [
    {
     "name": "stdout",
     "output_type": "stream",
     "text": [
      "{'name': 'Tastey Company', 'rating': 2, 'cuisine': 'Fast Food'}\n",
      "{'name': 'Goat Company', 'rating': 1, 'cuisine': 'Bar Food'}\n",
      "{'name': 'Animal Company', 'rating': 3, 'cuisine': 'Mexican'}\n",
      "{'name': 'Fish LLC', 'rating': 3, 'cuisine': 'Sushi Bar'}\n",
      "{'name': 'Big Inc', 'rating': 4, 'cuisine': 'Pizza'}\n",
      "{'name': 'Salty LLC', 'rating': 5, 'cuisine': 'Italian'}\n",
      "{'name': 'State Corporation', 'rating': 4, 'cuisine': 'Italian'}\n",
      "{'name': 'Fish Company', 'rating': 2, 'cuisine': 'Vegetarian'}\n",
      "{'name': 'Lazy Corporation', 'rating': 3, 'cuisine': 'American'}\n",
      "{'name': 'Lazy LLC', 'rating': 3, 'cuisine': 'American'}\n",
      "{'name': 'Fish Corporation', 'rating': 1, 'cuisine': 'Italian'}\n",
      "{'name': 'Lazy Corporation', 'rating': 3, 'cuisine': 'Vegetarian'}\n",
      "{'name': 'Sandwich Company', 'rating': 2, 'cuisine': 'Pizza'}\n",
      "{'name': 'Lazy Inc', 'rating': 2, 'cuisine': 'Italian'}\n",
      "{'name': 'Fish LLC', 'rating': 4, 'cuisine': 'American'}\n",
      "{'name': 'Salty Corporation', 'rating': 3, 'cuisine': 'Sushi Bar'}\n",
      "{'name': 'Fun Corporation', 'rating': 3, 'cuisine': 'Vegetarian'}\n",
      "{'name': 'Tastey Inc', 'rating': 2, 'cuisine': 'Mexican'}\n",
      "{'name': 'State Inc', 'rating': 4, 'cuisine': 'Pizza'}\n",
      "{'name': 'Fun Inc', 'rating': 4, 'cuisine': 'Vegetarian'}\n",
      "{'name': 'Big Inc', 'rating': 3, 'cuisine': 'Pizza'}\n",
      "{'name': 'Big Company', 'rating': 4, 'cuisine': 'Sushi Bar'}\n",
      "{'name': 'Kitchen LLC', 'rating': 1, 'cuisine': 'Italian'}\n",
      "{'name': 'State Company', 'rating': 2, 'cuisine': 'American'}\n",
      "{'name': 'Lazy Company', 'rating': 2, 'cuisine': 'Italian'}\n",
      "{'name': 'Animal Inc', 'rating': 5, 'cuisine': 'Fast Food'}\n",
      "{'name': 'Big LLC', 'rating': 3, 'cuisine': 'Mexican'}\n",
      "{'name': 'Animal Inc', 'rating': 1, 'cuisine': 'Pizza'}\n",
      "{'name': 'City LLC', 'rating': 1, 'cuisine': 'Bar Food'}\n",
      "{'name': 'Goat Company', 'rating': 2, 'cuisine': 'American'}\n",
      "{'name': 'Animal Company', 'rating': 2, 'cuisine': 'Italian'}\n",
      "{'name': 'Tastey LLC', 'rating': 4, 'cuisine': 'American'}\n",
      "{'name': 'Goat Inc', 'rating': 1, 'cuisine': 'Mexican'}\n",
      "{'name': 'Tastey LLC', 'rating': 5, 'cuisine': 'American'}\n",
      "{'name': 'Fish Corporation', 'rating': 2, 'cuisine': 'Pizza'}\n",
      "{'name': 'Animal Corporation', 'rating': 2, 'cuisine': 'Italian'}\n",
      "{'name': 'Lazy LLC', 'rating': 4, 'cuisine': 'Vegetarian'}\n",
      "{'name': 'Animal Company', 'rating': 1, 'cuisine': 'Pizza'}\n",
      "{'name': 'City LLC', 'rating': 1, 'cuisine': 'American'}\n",
      "{'name': 'State Company', 'rating': 2, 'cuisine': 'Vegetarian'}\n",
      "{'name': 'Lazy Company', 'rating': 5, 'cuisine': 'American'}\n",
      "{'name': 'Tastey Company', 'rating': 4, 'cuisine': 'Vegetarian'}\n",
      "{'name': 'State Company', 'rating': 1, 'cuisine': 'American'}\n",
      "{'name': 'Big Company', 'rating': 4, 'cuisine': 'Pizza'}\n",
      "{'name': 'Pizza Inc', 'rating': 3, 'cuisine': 'Bar Food'}\n",
      "{'name': 'Salty Company', 'rating': 3, 'cuisine': 'American'}\n",
      "{'name': 'Lazy Company', 'rating': 4, 'cuisine': 'American'}\n",
      "{'name': 'Big Corporation', 'rating': 3, 'cuisine': 'American'}\n",
      "{'name': 'Big LLC', 'rating': 4, 'cuisine': 'Mexican'}\n",
      "{'name': 'City Inc', 'rating': 2, 'cuisine': 'American'}\n",
      "{'name': 'State LLC', 'rating': 4, 'cuisine': 'Bar Food'}\n",
      "{'name': 'Fish Company', 'rating': 1, 'cuisine': 'Mexican'}\n",
      "{'name': 'Sandwich Corporation', 'rating': 5, 'cuisine': 'Vegetarian'}\n",
      "{'name': 'Salty LLC', 'rating': 4, 'cuisine': 'American'}\n",
      "{'name': 'Sandwich LLC', 'rating': 2, 'cuisine': 'Bar Food'}\n",
      "{'name': 'Pizza Company', 'rating': 4, 'cuisine': 'Vegetarian'}\n",
      "{'name': 'Animal Company', 'rating': 5, 'cuisine': 'American'}\n",
      "{'name': 'Sandwich Corporation', 'rating': 4, 'cuisine': 'Bar Food'}\n",
      "{'name': 'Fish Corporation', 'rating': 2, 'cuisine': 'Mexican'}\n",
      "{'name': 'Sandwich LLC', 'rating': 2, 'cuisine': 'Vegetarian'}\n",
      "{'name': 'Fun Company', 'rating': 3, 'cuisine': 'Sushi Bar'}\n",
      "{'name': 'Sandwich Company', 'rating': 5, 'cuisine': 'Mexican'}\n",
      "{'name': 'Kitchen Corporation', 'rating': 1, 'cuisine': 'Mexican'}\n",
      "{'name': 'Kitchen Company', 'rating': 2, 'cuisine': 'Sushi Bar'}\n",
      "{'name': 'Kitchen LLC', 'rating': 3, 'cuisine': 'Bar Food'}\n",
      "{'name': 'Animal LLC', 'rating': 2, 'cuisine': 'Vegetarian'}\n",
      "{'name': 'State Company', 'rating': 1, 'cuisine': 'Fast Food'}\n",
      "{'name': 'Goat Company', 'rating': 3, 'cuisine': 'Sushi Bar'}\n",
      "{'name': 'Salty Corporation', 'rating': 5, 'cuisine': 'Italian'}\n",
      "{'name': 'State Company', 'rating': 3, 'cuisine': 'Sushi Bar'}\n",
      "{'name': 'Tastey LLC', 'rating': 1, 'cuisine': 'Bar Food'}\n",
      "{'name': 'Kitchen Corporation', 'rating': 2, 'cuisine': 'American'}\n",
      "{'name': 'City Corporation', 'rating': 1, 'cuisine': 'Fast Food'}\n",
      "{'name': 'Animal Inc', 'rating': 5, 'cuisine': 'Fast Food'}\n",
      "{'name': 'Pizza Inc', 'rating': 3, 'cuisine': 'Vegetarian'}\n",
      "{'name': 'Fun Company', 'rating': 3, 'cuisine': 'Fast Food'}\n",
      "{'name': 'Lazy Inc', 'rating': 1, 'cuisine': 'Mexican'}\n",
      "{'name': 'Sandwich LLC', 'rating': 5, 'cuisine': 'Bar Food'}\n",
      "{'name': 'Fish LLC', 'rating': 1, 'cuisine': 'Bar Food'}\n",
      "{'name': 'Big Corporation', 'rating': 2, 'cuisine': 'Sushi Bar'}\n",
      "{'name': 'Pizza LLC', 'rating': 2, 'cuisine': 'American'}\n",
      "{'name': 'Sandwich Inc', 'rating': 4, 'cuisine': 'Vegetarian'}\n",
      "{'name': 'Big LLC', 'rating': 3, 'cuisine': 'Italian'}\n",
      "{'name': 'Salty Company', 'rating': 1, 'cuisine': 'Sushi Bar'}\n",
      "{'name': 'Goat Corporation', 'rating': 1, 'cuisine': 'Bar Food'}\n",
      "{'name': 'State LLC', 'rating': 1, 'cuisine': 'Vegetarian'}\n",
      "{'name': 'Tastey LLC', 'rating': 4, 'cuisine': 'Sushi Bar'}\n",
      "{'name': 'Animal LLC', 'rating': 4, 'cuisine': 'American'}\n",
      "{'name': 'Salty Corporation', 'rating': 1, 'cuisine': 'Pizza'}\n",
      "{'name': 'City LLC', 'rating': 2, 'cuisine': 'Bar Food'}\n",
      "{'name': 'Fun Inc', 'rating': 4, 'cuisine': 'Italian'}\n",
      "{'name': 'Pizza Corporation', 'rating': 3, 'cuisine': 'Italian'}\n",
      "{'name': 'Tastey Company', 'rating': 1, 'cuisine': 'Italian'}\n",
      "{'name': 'Fish LLC', 'rating': 5, 'cuisine': 'Mexican'}\n",
      "{'name': 'Goat Company', 'rating': 2, 'cuisine': 'American'}\n",
      "{'name': 'Salty Inc', 'rating': 3, 'cuisine': 'Bar Food'}\n",
      "{'name': 'Fun Inc', 'rating': 2, 'cuisine': 'American'}\n",
      "{'name': 'Tastey Inc', 'rating': 4, 'cuisine': 'Sushi Bar'}\n",
      "{'name': 'Kitchen Inc', 'rating': 2, 'cuisine': 'American'}\n",
      "{'name': 'Goat Corporation', 'rating': 3, 'cuisine': 'Fast Food'}\n",
      "{'name': 'Fun Inc', 'rating': 2, 'cuisine': 'Italian'}\n",
      "{'name': 'Salty LLC', 'rating': 3, 'cuisine': 'Italian'}\n",
      "{'name': 'Fish LLC', 'rating': 2, 'cuisine': 'Mexican'}\n",
      "{'name': 'Lazy LLC', 'rating': 3, 'cuisine': 'Pizza'}\n",
      "{'name': 'Big Company', 'rating': 3, 'cuisine': 'Italian'}\n",
      "{'name': 'Kitchen Corporation', 'rating': 5, 'cuisine': 'American'}\n",
      "{'name': 'Sandwich Company', 'rating': 1, 'cuisine': 'Bar Food'}\n",
      "{'name': 'Goat LLC', 'rating': 2, 'cuisine': 'Italian'}\n",
      "{'name': 'Pizza Company', 'rating': 2, 'cuisine': 'Vegetarian'}\n",
      "{'name': 'Fish Inc', 'rating': 4, 'cuisine': 'Sushi Bar'}\n",
      "{'name': 'Salty Company', 'rating': 1, 'cuisine': 'American'}\n",
      "{'name': 'Pizza LLC', 'rating': 2, 'cuisine': 'Vegetarian'}\n",
      "{'name': 'Big Corporation', 'rating': 1, 'cuisine': 'Sushi Bar'}\n",
      "{'name': 'Fish Company', 'rating': 5, 'cuisine': 'Bar Food'}\n",
      "{'name': 'Fish Corporation', 'rating': 1, 'cuisine': 'American'}\n",
      "{'name': 'Sandwich LLC', 'rating': 1, 'cuisine': 'Mexican'}\n",
      "{'name': 'Lazy Corporation', 'rating': 5, 'cuisine': 'Italian'}\n",
      "{'name': 'Big Company', 'rating': 4, 'cuisine': 'Bar Food'}\n",
      "{'name': 'Fun Inc', 'rating': 1, 'cuisine': 'Mexican'}\n",
      "{'name': 'Big Inc', 'rating': 2, 'cuisine': 'Pizza'}\n",
      "{'name': 'Salty Corporation', 'rating': 2, 'cuisine': 'Bar Food'}\n",
      "{'name': 'Big Company', 'rating': 4, 'cuisine': 'Sushi Bar'}\n",
      "{'name': 'Fun LLC', 'rating': 2, 'cuisine': 'Vegetarian'}\n",
      "{'name': 'Sandwich LLC', 'rating': 1, 'cuisine': 'Italian'}\n",
      "{'name': 'Fish Company', 'rating': 1, 'cuisine': 'Mexican'}\n",
      "{'name': 'State LLC', 'rating': 2, 'cuisine': 'Sushi Bar'}\n",
      "{'name': 'Sandwich Corporation', 'rating': 2, 'cuisine': 'Mexican'}\n",
      "{'name': 'Pizza Inc', 'rating': 3, 'cuisine': 'Mexican'}\n",
      "{'name': 'State LLC', 'rating': 4, 'cuisine': 'Mexican'}\n",
      "{'name': 'State Inc', 'rating': 1, 'cuisine': 'Vegetarian'}\n",
      "{'name': 'Big Inc', 'rating': 4, 'cuisine': 'Sushi Bar'}\n",
      "{'name': 'Pizza Corporation', 'rating': 1, 'cuisine': 'Fast Food'}\n",
      "{'name': 'Fun LLC', 'rating': 4, 'cuisine': 'Italian'}\n",
      "{'name': 'Goat Corporation', 'rating': 3, 'cuisine': 'Italian'}\n",
      "{'name': 'State Inc', 'rating': 2, 'cuisine': 'Italian'}\n",
      "{'name': 'Lazy LLC', 'rating': 1, 'cuisine': 'American'}\n",
      "{'name': 'Big Company', 'rating': 3, 'cuisine': 'Pizza'}\n",
      "{'name': 'Tastey Inc', 'rating': 2, 'cuisine': 'Fast Food'}\n",
      "{'name': 'Fish LLC', 'rating': 2, 'cuisine': 'Mexican'}\n",
      "{'name': 'Salty Corporation', 'rating': 3, 'cuisine': 'Bar Food'}\n",
      "{'name': 'Fun LLC', 'rating': 1, 'cuisine': 'Sushi Bar'}\n",
      "{'name': 'Tastey Inc', 'rating': 4, 'cuisine': 'Italian'}\n",
      "{'name': 'City LLC', 'rating': 4, 'cuisine': 'Italian'}\n",
      "{'name': 'Animal Inc', 'rating': 2, 'cuisine': 'Fast Food'}\n",
      "{'name': 'Lazy Corporation', 'rating': 5, 'cuisine': 'Mexican'}\n",
      "{'name': 'Goat Company', 'rating': 2, 'cuisine': 'Pizza'}\n",
      "{'name': 'Pizza LLC', 'rating': 4, 'cuisine': 'Vegetarian'}\n",
      "{'name': 'Goat Corporation', 'rating': 3, 'cuisine': 'Sushi Bar'}\n",
      "{'name': 'Sandwich LLC', 'rating': 3, 'cuisine': 'Vegetarian'}\n",
      "{'name': 'Kitchen Company', 'rating': 2, 'cuisine': 'Vegetarian'}\n",
      "{'name': 'Animal Inc', 'rating': 1, 'cuisine': 'Mexican'}\n",
      "{'name': 'Sandwich Company', 'rating': 4, 'cuisine': 'Italian'}\n",
      "{'name': 'Goat Inc', 'rating': 5, 'cuisine': 'Vegetarian'}\n",
      "{'name': 'Pizza LLC', 'rating': 5, 'cuisine': 'Mexican'}\n",
      "{'name': 'Kitchen Corporation', 'rating': 1, 'cuisine': 'Vegetarian'}\n",
      "{'name': 'Sandwich LLC', 'rating': 5, 'cuisine': 'American'}\n",
      "{'name': 'Kitchen LLC', 'rating': 4, 'cuisine': 'Bar Food'}\n",
      "{'name': 'Lazy Inc', 'rating': 2, 'cuisine': 'Sushi Bar'}\n",
      "{'name': 'Kitchen Company', 'rating': 1, 'cuisine': 'American'}\n",
      "{'name': 'Animal Company', 'rating': 1, 'cuisine': 'Mexican'}\n",
      "{'name': 'Kitchen Corporation', 'rating': 5, 'cuisine': 'American'}\n",
      "{'name': 'State LLC', 'rating': 2, 'cuisine': 'Vegetarian'}\n",
      "{'name': 'Big LLC', 'rating': 2, 'cuisine': 'Mexican'}\n",
      "{'name': 'Kitchen Corporation', 'rating': 1, 'cuisine': 'Italian'}\n",
      "{'name': 'Sandwich Inc', 'rating': 3, 'cuisine': 'Pizza'}\n",
      "{'name': 'State Corporation', 'rating': 2, 'cuisine': 'Bar Food'}\n",
      "{'name': 'Pizza LLC', 'rating': 2, 'cuisine': 'Bar Food'}\n",
      "{'name': 'Lazy Inc', 'rating': 3, 'cuisine': 'Fast Food'}\n",
      "{'name': 'State Corporation', 'rating': 2, 'cuisine': 'Italian'}\n",
      "{'name': 'Kitchen Corporation', 'rating': 1, 'cuisine': 'Vegetarian'}\n",
      "{'name': 'Pizza LLC', 'rating': 1, 'cuisine': 'Bar Food'}\n",
      "{'name': 'Fun Corporation', 'rating': 2, 'cuisine': 'Vegetarian'}\n",
      "{'name': 'City Inc', 'rating': 4, 'cuisine': 'Pizza'}\n",
      "{'name': 'City LLC', 'rating': 2, 'cuisine': 'Bar Food'}\n",
      "{'name': 'Fun Corporation', 'rating': 5, 'cuisine': 'Italian'}\n",
      "{'name': 'State LLC', 'rating': 4, 'cuisine': 'Sushi Bar'}\n",
      "{'name': 'City Inc', 'rating': 4, 'cuisine': 'Pizza'}\n",
      "{'name': 'Pizza Inc', 'rating': 3, 'cuisine': 'Bar Food'}\n",
      "{'name': 'Tastey Inc', 'rating': 1, 'cuisine': 'Vegetarian'}\n",
      "{'name': 'State Inc', 'rating': 3, 'cuisine': 'Mexican'}\n",
      "{'name': 'City Company', 'rating': 3, 'cuisine': 'Fast Food'}\n",
      "{'name': 'Goat Inc', 'rating': 4, 'cuisine': 'Italian'}\n",
      "{'name': 'Fun Inc', 'rating': 4, 'cuisine': 'Fast Food'}\n",
      "{'name': 'Big LLC', 'rating': 3, 'cuisine': 'Bar Food'}\n",
      "{'name': 'Sandwich Inc', 'rating': 5, 'cuisine': 'Fast Food'}\n",
      "{'name': 'Sandwich Corporation', 'rating': 1, 'cuisine': 'American'}\n",
      "{'name': 'Big Inc', 'rating': 2, 'cuisine': 'Vegetarian'}\n",
      "{'name': 'Goat Company', 'rating': 1, 'cuisine': 'Pizza'}\n",
      "{'name': 'Fish Company', 'rating': 4, 'cuisine': 'Fast Food'}\n",
      "{'name': 'Animal Corporation', 'rating': 2, 'cuisine': 'Pizza'}\n",
      "{'name': 'City Corporation', 'rating': 2, 'cuisine': 'Mexican'}\n",
      "{'name': 'Animal Company', 'rating': 5, 'cuisine': 'Bar Food'}\n",
      "{'name': 'City Company', 'rating': 2, 'cuisine': 'Italian'}\n",
      "{'name': 'Lazy Inc', 'rating': 1, 'cuisine': 'Italian'}\n",
      "{'name': 'State LLC', 'rating': 2, 'cuisine': 'Fast Food'}\n",
      "{'name': 'Kitchen LLC', 'rating': 2, 'cuisine': 'Bar Food'}\n",
      "{'name': 'Sandwich Inc', 'rating': 2, 'cuisine': 'Vegetarian'}\n",
      "{'name': 'Pizza LLC', 'rating': 3, 'cuisine': 'Vegetarian'}\n",
      "{'name': 'Fish LLC', 'rating': 3, 'cuisine': 'American'}\n",
      "{'name': 'Pizza LLC', 'rating': 2, 'cuisine': 'Fast Food'}\n"
     ]
    }
   ],
   "source": [
    "for doc in mycol.find({},{\"_id\":0, 'address':0}):\n",
    "    print(doc)"
   ]
  },
  {
   "cell_type": "code",
   "execution_count": 15,
   "id": "b45676ff",
   "metadata": {},
   "outputs": [
    {
     "name": "stdout",
     "output_type": "stream",
     "text": [
      "{'_id': ObjectId('64bd07d223bfe23d766ae194'), 'name': 'Milid', 'address': 'Vadgaon, Pune'}\n",
      "{'_id': ObjectId('64bd07d223bfe23d766ae197'), 'name': 'Abhijit', 'address': 'Vadgaon, Pune'}\n"
     ]
    }
   ],
   "source": [
    "myquery = {'address':'Vadgaon, Pune'}\n",
    "for doc in mycol.find(myquery):\n",
    "    print(doc)"
   ]
  },
  {
   "cell_type": "code",
   "execution_count": 16,
   "id": "54f9da84",
   "metadata": {},
   "outputs": [
    {
     "name": "stdout",
     "output_type": "stream",
     "text": [
      "{'_id': ObjectId('64bd07d223bfe23d766ae196'), 'name': 'Prachi', 'address': 'Katraj, Pune'}\n"
     ]
    }
   ],
   "source": [
    "myquery = {'address':'Katraj, Pune'}\n",
    "for doc in mycol.find(myquery):\n",
    "    print(doc)"
   ]
  },
  {
   "cell_type": "code",
   "execution_count": null,
   "id": "0c8e7040",
   "metadata": {},
   "outputs": [],
   "source": []
  },
  {
   "cell_type": "code",
   "execution_count": 17,
   "id": "fc907728",
   "metadata": {},
   "outputs": [
    {
     "name": "stdout",
     "output_type": "stream",
     "text": [
      "{'_id': ObjectId('64bd07d223bfe23d766ae194'), 'name': 'Milid', 'address': 'Vadgaon, Pune'}\n",
      "{'_id': ObjectId('64bd07d223bfe23d766ae197'), 'name': 'Abhijit', 'address': 'Vadgaon, Pune'}\n"
     ]
    }
   ],
   "source": [
    "\n",
    "adquery = {\"address\":{\"$gt\":\"V\"}}\n",
    "for doc in mycol.find(adquery):\n",
    "    print(doc)"
   ]
  },
  {
   "cell_type": "code",
   "execution_count": 18,
   "id": "724536fa",
   "metadata": {},
   "outputs": [
    {
     "name": "stdout",
     "output_type": "stream",
     "text": [
      "{'_id': ObjectId('64bd07d223bfe23d766ae194'), 'name': 'Milid', 'address': 'Vadgaon, Pune'}\n",
      "{'_id': ObjectId('64bd07d223bfe23d766ae195'), 'name': 'Ankush', 'address': 'Parner, Pune'}\n",
      "{'_id': ObjectId('64bd07d223bfe23d766ae197'), 'name': 'Abhijit', 'address': 'Vadgaon, Pune'}\n"
     ]
    }
   ],
   "source": [
    "adquery = {\"address\":{\"$gt\":\"M\"}} #this will fetch all records cause greater than A\n",
    "for doc in mycol.find(adquery):\n",
    "    print(doc)"
   ]
  },
  {
   "cell_type": "code",
   "execution_count": null,
   "id": "a0a7bab0",
   "metadata": {},
   "outputs": [],
   "source": []
  },
  {
   "cell_type": "code",
   "execution_count": 19,
   "id": "7b4a7462",
   "metadata": {},
   "outputs": [],
   "source": [
    "# Filtering with the help of regex\n",
    "from pymongo import *\n",
    "\n",
    "mydb = myclient[\"stud_db\"]\n",
    "mycol = mydb[\"student\"]\n",
    "mylist = [{'name':'Milid','address':'Vadgaon, Pune'},\n",
    "          {'name':'Ankush','address':'Parner, Pune'},\n",
    "          {'name':'Prachi','address':'Katraj, Pune'},\n",
    "          {'name':'Abhijit','address':'Vadgaon, Pune'},\n",
    "          {'name':'Ashish','address':'Kothrud, Pune'}]\n",
    "adquery = {\"address\":{\"$regex\":\"^v\"}}\n",
    "for doc in mycol.find(adquery):\n",
    "    print(doc)"
   ]
  },
  {
   "cell_type": "code",
   "execution_count": null,
   "id": "c0d92616",
   "metadata": {},
   "outputs": [],
   "source": []
  },
  {
   "cell_type": "code",
   "execution_count": 20,
   "id": "641ffa6e",
   "metadata": {},
   "outputs": [
    {
     "name": "stdout",
     "output_type": "stream",
     "text": [
      "{'_id': ObjectId('64bd07d223bfe23d766ae194'), 'name': 'Milid', 'address': 'Vadgaon, Pune'}\n",
      "{'_id': ObjectId('64bd07d223bfe23d766ae195'), 'name': 'Ankush', 'address': 'Parner, Pune'}\n",
      "{'_id': ObjectId('64bd07d223bfe23d766ae196'), 'name': 'Prachi', 'address': 'Katraj, Pune'}\n",
      "{'_id': ObjectId('64bd07d223bfe23d766ae197'), 'name': 'Abhijit', 'address': 'Vadgaon, Pune'}\n",
      "{'_id': ObjectId('64bd07d223bfe23d766ae198'), 'name': 'Ashish', 'address': 'Kothrud, Pune'}\n"
     ]
    }
   ],
   "source": [
    "for doc in mycol.find():\n",
    "    print(doc)"
   ]
  },
  {
   "cell_type": "code",
   "execution_count": null,
   "id": "b3f43eb5",
   "metadata": {},
   "outputs": [],
   "source": []
  },
  {
   "cell_type": "code",
   "execution_count": 21,
   "id": "c7934c60",
   "metadata": {},
   "outputs": [
    {
     "name": "stdout",
     "output_type": "stream",
     "text": [
      "{'_id': ObjectId('64bd07d223bfe23d766ae194'), 'name': 'Milid', 'address': 'Vadgaon, Pune'}\n",
      "{'_id': ObjectId('64bd07d223bfe23d766ae195'), 'name': 'Ankush', 'address': 'Parner, Pune'}\n",
      "{'_id': ObjectId('64bd07d223bfe23d766ae196'), 'name': 'Prachi', 'address': 'Katraj, Pune'}\n",
      "{'_id': ObjectId('64bd07d223bfe23d766ae197'), 'name': 'Abhijit', 'address': 'Vadgaon, Pune'}\n",
      "{'_id': ObjectId('64bd07d223bfe23d766ae198'), 'name': 'Ashish', 'address': 'Kothrud, Pune'}\n"
     ]
    }
   ],
   "source": [
    "for doc in mycol.find():#(\"_id\",-1)\n",
    "    print(doc)"
   ]
  },
  {
   "cell_type": "code",
   "execution_count": null,
   "id": "efec0f78",
   "metadata": {},
   "outputs": [],
   "source": []
  },
  {
   "cell_type": "code",
   "execution_count": 22,
   "id": "60d1cb80",
   "metadata": {},
   "outputs": [],
   "source": [
    "import pymongo\n",
    "from pymongo import *"
   ]
  },
  {
   "cell_type": "code",
   "execution_count": null,
   "id": "f0b261cf",
   "metadata": {},
   "outputs": [],
   "source": []
  },
  {
   "cell_type": "code",
   "execution_count": 23,
   "id": "769efd86",
   "metadata": {},
   "outputs": [
    {
     "name": "stdout",
     "output_type": "stream",
     "text": [
      "{'_id': ObjectId('64bd07d223bfe23d766ae194'), 'name': 'Milid', 'address': 'Nanded, Kinwat'}\n",
      "{'_id': ObjectId('64bd07d223bfe23d766ae195'), 'name': 'Ankush', 'address': 'Parner, Pune'}\n",
      "{'_id': ObjectId('64bd07d223bfe23d766ae196'), 'name': 'Prachi', 'address': 'Katraj, Pune'}\n",
      "{'_id': ObjectId('64bd07d223bfe23d766ae197'), 'name': 'Abhijit', 'address': 'Vadgaon, Pune'}\n",
      "{'_id': ObjectId('64bd07d223bfe23d766ae198'), 'name': 'Ashish', 'address': 'Kothrud, Pune'}\n"
     ]
    }
   ],
   "source": [
    "myquery = {'address':'Vadgaon, Pune'}\n",
    "new_val = {'$set':{'address':'Nanded, Kinwat'}}\n",
    "mycol.update_one(myquery,new_val)\n",
    "for doc in mycol.find():\n",
    "    print(doc)"
   ]
  },
  {
   "cell_type": "code",
   "execution_count": 24,
   "id": "1b5c854a",
   "metadata": {},
   "outputs": [
    {
     "name": "stdout",
     "output_type": "stream",
     "text": [
      "MongoClient(host=['localhost:22017'], document_class=dict, tz_aware=False, connect=True)\n"
     ]
    }
   ],
   "source": [
    "client = pymongo.MongoClient('mongodb://localhost:22017')\n",
    "print(client)"
   ]
  },
  {
   "cell_type": "code",
   "execution_count": 25,
   "id": "0a0d93f1",
   "metadata": {},
   "outputs": [
    {
     "name": "stdout",
     "output_type": "stream",
     "text": [
      "{'_id': ObjectId('64bd07d223bfe23d766ae194'), 'name': 'Milid', 'address': 'Nanded, Kinwat'}\n",
      "{'_id': ObjectId('64bd07d223bfe23d766ae195'), 'name': 'Ankush', 'address': 'Parner, Pune'}\n",
      "{'_id': ObjectId('64bd07d223bfe23d766ae196'), 'name': 'Prachi', 'address': 'Katraj, Pune'}\n",
      "{'_id': ObjectId('64bd07d223bfe23d766ae197'), 'name': 'Abhijit', 'address': 'Nanded, Kinwat'}\n",
      "{'_id': ObjectId('64bd07d223bfe23d766ae198'), 'name': 'Ashish', 'address': 'Kothrud, Pune'}\n"
     ]
    }
   ],
   "source": [
    "myquery = {'address':{'$regex':'^V'}}\n",
    "new_val = {'$set':{'address':'Nanded, Kinwat'}}\n",
    "mycol.update_many(myquery,new_val)\n",
    "for doc in mycol.find():\n",
    "    print(doc)\n"
   ]
  },
  {
   "cell_type": "code",
   "execution_count": null,
   "id": "1e3f5098",
   "metadata": {},
   "outputs": [],
   "source": []
  },
  {
   "cell_type": "code",
   "execution_count": 26,
   "id": "fdc8ace7",
   "metadata": {},
   "outputs": [
    {
     "name": "stdout",
     "output_type": "stream",
     "text": [
      "{'_id': ObjectId('64bd07d223bfe23d766ae194'), 'name': 'Milid', 'address': 'Nanded, Kinwat'}\n",
      "{'_id': ObjectId('64bd07d223bfe23d766ae195'), 'name': 'Ankush', 'address': 'Parner, Pune'}\n",
      "{'_id': ObjectId('64bd07d223bfe23d766ae196'), 'name': 'Prachi', 'address': 'Katraj, Pune'}\n"
     ]
    }
   ],
   "source": [
    "myresult = mycol.find().limit(3)\n",
    "for doc in myresult:\n",
    "    print(doc)"
   ]
  },
  {
   "cell_type": "code",
   "execution_count": null,
   "id": "ed0e2a92",
   "metadata": {},
   "outputs": [],
   "source": []
  },
  {
   "cell_type": "code",
   "execution_count": 27,
   "id": "c77b03e6",
   "metadata": {},
   "outputs": [
    {
     "name": "stdout",
     "output_type": "stream",
     "text": [
      "{'_id': ObjectId('64bd07d223bfe23d766ae195'), 'name': 'Ankush', 'address': 'Parner, Pune'}\n",
      "{'_id': ObjectId('64bd07d223bfe23d766ae196'), 'name': 'Prachi', 'address': 'Katraj, Pune'}\n",
      "{'_id': ObjectId('64bd07d223bfe23d766ae197'), 'name': 'Abhijit', 'address': 'Nanded, Kinwat'}\n",
      "{'_id': ObjectId('64bd07d223bfe23d766ae198'), 'name': 'Ashish', 'address': 'Kothrud, Pune'}\n"
     ]
    }
   ],
   "source": [
    "myquery = {'address':'Nanded, Kinwat'}\n",
    "mycol.delete_one(myquery)\n",
    "for doc in mycol.find():\n",
    "    print(doc)"
   ]
  },
  {
   "cell_type": "code",
   "execution_count": null,
   "id": "0747c5c1",
   "metadata": {},
   "outputs": [],
   "source": []
  },
  {
   "cell_type": "code",
   "execution_count": 28,
   "id": "fd53bca4",
   "metadata": {},
   "outputs": [
    {
     "name": "stdout",
     "output_type": "stream",
     "text": [
      "{'_id': ObjectId('64bd07d223bfe23d766ae195'), 'name': 'Ankush', 'address': 'Parner, Pune'}\n",
      "{'_id': ObjectId('64bd07d223bfe23d766ae196'), 'name': 'Prachi', 'address': 'Katraj, Pune'}\n",
      "{'_id': ObjectId('64bd07d223bfe23d766ae198'), 'name': 'Ashish', 'address': 'Kothrud, Pune'}\n",
      "1  documents deleted.\n"
     ]
    }
   ],
   "source": [
    "myquery = {'address':{'$regex':'^N'}}\n",
    "\n",
    "x = mycol.delete_many(myquery)\n",
    "for doc in mycol.find():\n",
    "    print(doc)\n",
    "print(x.deleted_count, \" documents deleted.\")"
   ]
  },
  {
   "cell_type": "code",
   "execution_count": null,
   "id": "4da51349",
   "metadata": {},
   "outputs": [],
   "source": []
  },
  {
   "cell_type": "code",
   "execution_count": null,
   "id": "9afca055",
   "metadata": {},
   "outputs": [],
   "source": []
  },
  {
   "cell_type": "code",
   "execution_count": 29,
   "id": "4d8ea066",
   "metadata": {},
   "outputs": [
    {
     "name": "stdout",
     "output_type": "stream",
     "text": [
      "3 Documents Deleted\n"
     ]
    }
   ],
   "source": [
    "x = mycol.delete_many({})\n",
    "print(x.deleted_count, \"Documents Deleted\")"
   ]
  },
  {
   "cell_type": "code",
   "execution_count": null,
   "id": "346dcc7d",
   "metadata": {},
   "outputs": [],
   "source": []
  },
  {
   "cell_type": "code",
   "execution_count": 30,
   "id": "43a0a6f1",
   "metadata": {},
   "outputs": [
    {
     "name": "stdout",
     "output_type": "stream",
     "text": [
      "[]\n"
     ]
    }
   ],
   "source": [
    "mycol.drop()\n",
    "print(mydb.list_collection_names())"
   ]
  },
  {
   "cell_type": "code",
   "execution_count": 31,
   "id": "c0a3a7e3",
   "metadata": {},
   "outputs": [
    {
     "name": "stdout",
     "output_type": "stream",
     "text": [
      "['admin', 'bookdb', 'business', 'college', 'config', 'hotels', 'local', 'mydatabase', 'student_db']\n"
     ]
    }
   ],
   "source": [
    "print(myclient.list_database_names())"
   ]
  },
  {
   "cell_type": "code",
   "execution_count": null,
   "id": "84b435dc",
   "metadata": {},
   "outputs": [],
   "source": []
  },
  {
   "cell_type": "code",
   "execution_count": 32,
   "id": "f991314b",
   "metadata": {},
   "outputs": [
    {
     "name": "stdout",
     "output_type": "stream",
     "text": [
      "{'_id': 1, 'name': 'Tastey Company', 'rating': 2, 'cuisine': 'Fast Food'}\n",
      "{'_id': 2, 'name': 'Goat Company', 'rating': 1, 'cuisine': 'Bar Food'}\n",
      "{'_id': 3, 'name': 'Animal Company', 'rating': 3, 'cuisine': 'Mexican'}\n",
      "{'_id': 4, 'name': 'Fish LLC', 'rating': 3, 'cuisine': 'Sushi Bar'}\n",
      "{'_id': 5, 'name': 'Big Inc', 'rating': 4, 'cuisine': 'Pizza'}\n",
      "{'_id': 6, 'name': 'Salty LLC', 'rating': 5, 'cuisine': 'Italian'}\n",
      "{'_id': 7, 'name': 'State Corporation', 'rating': 4, 'cuisine': 'Italian'}\n",
      "{'_id': 8, 'name': 'Fish Company', 'rating': 2, 'cuisine': 'Vegetarian'}\n",
      "{'_id': 9, 'name': 'Lazy Corporation', 'rating': 3, 'cuisine': 'American'}\n",
      "{'_id': 10, 'name': 'Lazy LLC', 'rating': 3, 'cuisine': 'American'}\n",
      "{'_id': 11, 'name': 'Fish Corporation', 'rating': 1, 'cuisine': 'Italian'}\n",
      "{'_id': 12, 'name': 'Lazy Corporation', 'rating': 3, 'cuisine': 'Vegetarian'}\n",
      "{'_id': 13, 'name': 'Sandwich Company', 'rating': 2, 'cuisine': 'Pizza'}\n",
      "{'_id': 14, 'name': 'Lazy Inc', 'rating': 2, 'cuisine': 'Italian'}\n",
      "{'_id': 15, 'name': 'Fish LLC', 'rating': 4, 'cuisine': 'American'}\n",
      "{'_id': 16, 'name': 'Salty Corporation', 'rating': 3, 'cuisine': 'Sushi Bar'}\n",
      "{'_id': 17, 'name': 'Fun Corporation', 'rating': 3, 'cuisine': 'Vegetarian'}\n",
      "{'_id': 18, 'name': 'Tastey Inc', 'rating': 2, 'cuisine': 'Mexican'}\n",
      "{'_id': 19, 'name': 'State Inc', 'rating': 4, 'cuisine': 'Pizza'}\n",
      "{'_id': 20, 'name': 'Fun Inc', 'rating': 4, 'cuisine': 'Vegetarian'}\n",
      "{'_id': 21, 'name': 'Big Inc', 'rating': 3, 'cuisine': 'Pizza'}\n",
      "{'_id': 22, 'name': 'Big Company', 'rating': 4, 'cuisine': 'Sushi Bar'}\n",
      "{'_id': 23, 'name': 'Kitchen LLC', 'rating': 1, 'cuisine': 'Italian'}\n",
      "{'_id': 24, 'name': 'State Company', 'rating': 2, 'cuisine': 'American'}\n",
      "{'_id': 25, 'name': 'Lazy Company', 'rating': 2, 'cuisine': 'Italian'}\n",
      "{'_id': 26, 'name': 'Animal Inc', 'rating': 5, 'cuisine': 'Fast Food'}\n",
      "{'_id': 27, 'name': 'Big LLC', 'rating': 3, 'cuisine': 'Mexican'}\n",
      "{'_id': 28, 'name': 'Animal Inc', 'rating': 1, 'cuisine': 'Pizza'}\n",
      "{'_id': 29, 'name': 'City LLC', 'rating': 1, 'cuisine': 'Bar Food'}\n",
      "{'_id': 30, 'name': 'Goat Company', 'rating': 2, 'cuisine': 'American'}\n",
      "{'_id': 31, 'name': 'Animal Company', 'rating': 2, 'cuisine': 'Italian'}\n",
      "{'_id': 32, 'name': 'Tastey LLC', 'rating': 4, 'cuisine': 'American'}\n",
      "{'_id': 33, 'name': 'Goat Inc', 'rating': 1, 'cuisine': 'Mexican'}\n",
      "{'_id': 34, 'name': 'Tastey LLC', 'rating': 5, 'cuisine': 'American'}\n",
      "{'_id': 35, 'name': 'Fish Corporation', 'rating': 2, 'cuisine': 'Pizza'}\n",
      "{'_id': 36, 'name': 'Animal Corporation', 'rating': 2, 'cuisine': 'Italian'}\n",
      "{'_id': 37, 'name': 'Lazy LLC', 'rating': 4, 'cuisine': 'Vegetarian'}\n",
      "{'_id': 38, 'name': 'Animal Company', 'rating': 1, 'cuisine': 'Pizza'}\n",
      "{'_id': 39, 'name': 'City LLC', 'rating': 1, 'cuisine': 'American'}\n",
      "{'_id': 40, 'name': 'State Company', 'rating': 2, 'cuisine': 'Vegetarian'}\n",
      "{'_id': 41, 'name': 'Lazy Company', 'rating': 5, 'cuisine': 'American'}\n",
      "{'_id': 42, 'name': 'Tastey Company', 'rating': 4, 'cuisine': 'Vegetarian'}\n",
      "{'_id': 43, 'name': 'State Company', 'rating': 1, 'cuisine': 'American'}\n",
      "{'_id': 44, 'name': 'Big Company', 'rating': 4, 'cuisine': 'Pizza'}\n",
      "{'_id': 45, 'name': 'Pizza Inc', 'rating': 3, 'cuisine': 'Bar Food'}\n",
      "{'_id': 46, 'name': 'Salty Company', 'rating': 3, 'cuisine': 'American'}\n",
      "{'_id': 47, 'name': 'Lazy Company', 'rating': 4, 'cuisine': 'American'}\n",
      "{'_id': 48, 'name': 'Big Corporation', 'rating': 3, 'cuisine': 'American'}\n",
      "{'_id': 49, 'name': 'Big LLC', 'rating': 4, 'cuisine': 'Mexican'}\n",
      "{'_id': 50, 'name': 'City Inc', 'rating': 2, 'cuisine': 'American'}\n",
      "{'_id': 51, 'name': 'State LLC', 'rating': 4, 'cuisine': 'Bar Food'}\n",
      "{'_id': 52, 'name': 'Fish Company', 'rating': 1, 'cuisine': 'Mexican'}\n",
      "{'_id': 53, 'name': 'Sandwich Corporation', 'rating': 5, 'cuisine': 'Vegetarian'}\n",
      "{'_id': 54, 'name': 'Salty LLC', 'rating': 4, 'cuisine': 'American'}\n",
      "{'_id': 55, 'name': 'Sandwich LLC', 'rating': 2, 'cuisine': 'Bar Food'}\n",
      "{'_id': 56, 'name': 'Pizza Company', 'rating': 4, 'cuisine': 'Vegetarian'}\n",
      "{'_id': 57, 'name': 'Animal Company', 'rating': 5, 'cuisine': 'American'}\n",
      "{'_id': 58, 'name': 'Sandwich Corporation', 'rating': 4, 'cuisine': 'Bar Food'}\n",
      "{'_id': 59, 'name': 'Fish Corporation', 'rating': 2, 'cuisine': 'Mexican'}\n",
      "{'_id': 60, 'name': 'Sandwich LLC', 'rating': 2, 'cuisine': 'Vegetarian'}\n",
      "{'_id': 61, 'name': 'Fun Company', 'rating': 3, 'cuisine': 'Sushi Bar'}\n",
      "{'_id': 62, 'name': 'Sandwich Company', 'rating': 5, 'cuisine': 'Mexican'}\n",
      "{'_id': 63, 'name': 'Kitchen Corporation', 'rating': 1, 'cuisine': 'Mexican'}\n",
      "{'_id': 64, 'name': 'Kitchen Company', 'rating': 2, 'cuisine': 'Sushi Bar'}\n",
      "{'_id': 65, 'name': 'Kitchen LLC', 'rating': 3, 'cuisine': 'Bar Food'}\n",
      "{'_id': 66, 'name': 'Animal LLC', 'rating': 2, 'cuisine': 'Vegetarian'}\n",
      "{'_id': 67, 'name': 'State Company', 'rating': 1, 'cuisine': 'Fast Food'}\n",
      "{'_id': 68, 'name': 'Goat Company', 'rating': 3, 'cuisine': 'Sushi Bar'}\n",
      "{'_id': 69, 'name': 'Salty Corporation', 'rating': 5, 'cuisine': 'Italian'}\n",
      "{'_id': 70, 'name': 'State Company', 'rating': 3, 'cuisine': 'Sushi Bar'}\n",
      "{'_id': 71, 'name': 'Tastey LLC', 'rating': 1, 'cuisine': 'Bar Food'}\n",
      "{'_id': 72, 'name': 'Kitchen Corporation', 'rating': 2, 'cuisine': 'American'}\n",
      "{'_id': 73, 'name': 'City Corporation', 'rating': 1, 'cuisine': 'Fast Food'}\n",
      "{'_id': 74, 'name': 'Animal Inc', 'rating': 5, 'cuisine': 'Fast Food'}\n",
      "{'_id': 75, 'name': 'Pizza Inc', 'rating': 3, 'cuisine': 'Vegetarian'}\n",
      "{'_id': 76, 'name': 'Fun Company', 'rating': 3, 'cuisine': 'Fast Food'}\n",
      "{'_id': 77, 'name': 'Lazy Inc', 'rating': 1, 'cuisine': 'Mexican'}\n",
      "{'_id': 78, 'name': 'Sandwich LLC', 'rating': 5, 'cuisine': 'Bar Food'}\n",
      "{'_id': 79, 'name': 'Fish LLC', 'rating': 1, 'cuisine': 'Bar Food'}\n",
      "{'_id': 80, 'name': 'Big Corporation', 'rating': 2, 'cuisine': 'Sushi Bar'}\n",
      "{'_id': 81, 'name': 'Pizza LLC', 'rating': 2, 'cuisine': 'American'}\n",
      "{'_id': 82, 'name': 'Sandwich Inc', 'rating': 4, 'cuisine': 'Vegetarian'}\n",
      "{'_id': 83, 'name': 'Big LLC', 'rating': 3, 'cuisine': 'Italian'}\n",
      "{'_id': 84, 'name': 'Salty Company', 'rating': 1, 'cuisine': 'Sushi Bar'}\n",
      "{'_id': 85, 'name': 'Goat Corporation', 'rating': 1, 'cuisine': 'Bar Food'}\n",
      "{'_id': 86, 'name': 'State LLC', 'rating': 1, 'cuisine': 'Vegetarian'}\n",
      "{'_id': 87, 'name': 'Tastey LLC', 'rating': 4, 'cuisine': 'Sushi Bar'}\n",
      "{'_id': 88, 'name': 'Animal LLC', 'rating': 4, 'cuisine': 'American'}\n",
      "{'_id': 89, 'name': 'Salty Corporation', 'rating': 1, 'cuisine': 'Pizza'}\n",
      "{'_id': 90, 'name': 'City LLC', 'rating': 2, 'cuisine': 'Bar Food'}\n",
      "{'_id': 91, 'name': 'Fun Inc', 'rating': 4, 'cuisine': 'Italian'}\n",
      "{'_id': 92, 'name': 'Pizza Corporation', 'rating': 3, 'cuisine': 'Italian'}\n",
      "{'_id': 93, 'name': 'Tastey Company', 'rating': 1, 'cuisine': 'Italian'}\n",
      "{'_id': 94, 'name': 'Fish LLC', 'rating': 5, 'cuisine': 'Mexican'}\n",
      "{'_id': 95, 'name': 'Goat Company', 'rating': 2, 'cuisine': 'American'}\n",
      "{'_id': 96, 'name': 'Salty Inc', 'rating': 3, 'cuisine': 'Bar Food'}\n",
      "{'_id': 97, 'name': 'Fun Inc', 'rating': 2, 'cuisine': 'American'}\n",
      "{'_id': 98, 'name': 'Tastey Inc', 'rating': 4, 'cuisine': 'Sushi Bar'}\n",
      "{'_id': 99, 'name': 'Kitchen Inc', 'rating': 2, 'cuisine': 'American'}\n",
      "{'_id': 100, 'name': 'Goat Corporation', 'rating': 3, 'cuisine': 'Fast Food'}\n",
      "{'_id': 101, 'name': 'Fun Inc', 'rating': 2, 'cuisine': 'Italian'}\n",
      "{'_id': 102, 'name': 'Salty LLC', 'rating': 3, 'cuisine': 'Italian'}\n",
      "{'_id': 103, 'name': 'Fish LLC', 'rating': 2, 'cuisine': 'Mexican'}\n",
      "{'_id': 104, 'name': 'Lazy LLC', 'rating': 3, 'cuisine': 'Pizza'}\n",
      "{'_id': 105, 'name': 'Big Company', 'rating': 3, 'cuisine': 'Italian'}\n",
      "{'_id': 106, 'name': 'Kitchen Corporation', 'rating': 5, 'cuisine': 'American'}\n",
      "{'_id': 107, 'name': 'Sandwich Company', 'rating': 1, 'cuisine': 'Bar Food'}\n",
      "{'_id': 108, 'name': 'Goat LLC', 'rating': 2, 'cuisine': 'Italian'}\n",
      "{'_id': 109, 'name': 'Pizza Company', 'rating': 2, 'cuisine': 'Vegetarian'}\n",
      "{'_id': 110, 'name': 'Fish Inc', 'rating': 4, 'cuisine': 'Sushi Bar'}\n",
      "{'_id': 111, 'name': 'Salty Company', 'rating': 1, 'cuisine': 'American'}\n",
      "{'_id': 112, 'name': 'Pizza LLC', 'rating': 2, 'cuisine': 'Vegetarian'}\n",
      "{'_id': 113, 'name': 'Big Corporation', 'rating': 1, 'cuisine': 'Sushi Bar'}\n",
      "{'_id': 114, 'name': 'Fish Company', 'rating': 5, 'cuisine': 'Bar Food'}\n",
      "{'_id': 115, 'name': 'Fish Corporation', 'rating': 1, 'cuisine': 'American'}\n",
      "{'_id': 116, 'name': 'Sandwich LLC', 'rating': 1, 'cuisine': 'Mexican'}\n",
      "{'_id': 117, 'name': 'Lazy Corporation', 'rating': 5, 'cuisine': 'Italian'}\n",
      "{'_id': 118, 'name': 'Big Company', 'rating': 4, 'cuisine': 'Bar Food'}\n",
      "{'_id': 119, 'name': 'Fun Inc', 'rating': 1, 'cuisine': 'Mexican'}\n",
      "{'_id': 120, 'name': 'Big Inc', 'rating': 2, 'cuisine': 'Pizza'}\n",
      "{'_id': 121, 'name': 'Salty Corporation', 'rating': 2, 'cuisine': 'Bar Food'}\n",
      "{'_id': 122, 'name': 'Big Company', 'rating': 4, 'cuisine': 'Sushi Bar'}\n",
      "{'_id': 123, 'name': 'Fun LLC', 'rating': 2, 'cuisine': 'Vegetarian'}\n",
      "{'_id': 124, 'name': 'Sandwich LLC', 'rating': 1, 'cuisine': 'Italian'}\n",
      "{'_id': 125, 'name': 'Fish Company', 'rating': 1, 'cuisine': 'Mexican'}\n",
      "{'_id': 126, 'name': 'State LLC', 'rating': 2, 'cuisine': 'Sushi Bar'}\n",
      "{'_id': 127, 'name': 'Sandwich Corporation', 'rating': 2, 'cuisine': 'Mexican'}\n",
      "{'_id': 128, 'name': 'Pizza Inc', 'rating': 3, 'cuisine': 'Mexican'}\n",
      "{'_id': 129, 'name': 'State LLC', 'rating': 4, 'cuisine': 'Mexican'}\n",
      "{'_id': 130, 'name': 'State Inc', 'rating': 1, 'cuisine': 'Vegetarian'}\n",
      "{'_id': 131, 'name': 'Big Inc', 'rating': 4, 'cuisine': 'Sushi Bar'}\n",
      "{'_id': 132, 'name': 'Pizza Corporation', 'rating': 1, 'cuisine': 'Fast Food'}\n",
      "{'_id': 133, 'name': 'Fun LLC', 'rating': 4, 'cuisine': 'Italian'}\n",
      "{'_id': 134, 'name': 'Goat Corporation', 'rating': 3, 'cuisine': 'Italian'}\n",
      "{'_id': 135, 'name': 'State Inc', 'rating': 2, 'cuisine': 'Italian'}\n",
      "{'_id': 136, 'name': 'Lazy LLC', 'rating': 1, 'cuisine': 'American'}\n",
      "{'_id': 137, 'name': 'Big Company', 'rating': 3, 'cuisine': 'Pizza'}\n",
      "{'_id': 138, 'name': 'Tastey Inc', 'rating': 2, 'cuisine': 'Fast Food'}\n",
      "{'_id': 139, 'name': 'Fish LLC', 'rating': 2, 'cuisine': 'Mexican'}\n",
      "{'_id': 140, 'name': 'Salty Corporation', 'rating': 3, 'cuisine': 'Bar Food'}\n",
      "{'_id': 141, 'name': 'Fun LLC', 'rating': 1, 'cuisine': 'Sushi Bar'}\n",
      "{'_id': 142, 'name': 'Tastey Inc', 'rating': 4, 'cuisine': 'Italian'}\n",
      "{'_id': 143, 'name': 'City LLC', 'rating': 4, 'cuisine': 'Italian'}\n",
      "{'_id': 144, 'name': 'Animal Inc', 'rating': 2, 'cuisine': 'Fast Food'}\n",
      "{'_id': 145, 'name': 'Lazy Corporation', 'rating': 5, 'cuisine': 'Mexican'}\n",
      "{'_id': 146, 'name': 'Goat Company', 'rating': 2, 'cuisine': 'Pizza'}\n",
      "{'_id': 147, 'name': 'Pizza LLC', 'rating': 4, 'cuisine': 'Vegetarian'}\n",
      "{'_id': 148, 'name': 'Goat Corporation', 'rating': 3, 'cuisine': 'Sushi Bar'}\n",
      "{'_id': 149, 'name': 'Sandwich LLC', 'rating': 3, 'cuisine': 'Vegetarian'}\n",
      "{'_id': 150, 'name': 'Kitchen Company', 'rating': 2, 'cuisine': 'Vegetarian'}\n",
      "{'_id': 151, 'name': 'Animal Inc', 'rating': 1, 'cuisine': 'Mexican'}\n",
      "{'_id': 152, 'name': 'Sandwich Company', 'rating': 4, 'cuisine': 'Italian'}\n",
      "{'_id': 153, 'name': 'Goat Inc', 'rating': 5, 'cuisine': 'Vegetarian'}\n",
      "{'_id': 154, 'name': 'Pizza LLC', 'rating': 5, 'cuisine': 'Mexican'}\n",
      "{'_id': 155, 'name': 'Kitchen Corporation', 'rating': 1, 'cuisine': 'Vegetarian'}\n",
      "{'_id': 156, 'name': 'Sandwich LLC', 'rating': 5, 'cuisine': 'American'}\n",
      "{'_id': 157, 'name': 'Kitchen LLC', 'rating': 4, 'cuisine': 'Bar Food'}\n",
      "{'_id': 158, 'name': 'Lazy Inc', 'rating': 2, 'cuisine': 'Sushi Bar'}\n",
      "{'_id': 159, 'name': 'Kitchen Company', 'rating': 1, 'cuisine': 'American'}\n",
      "{'_id': 160, 'name': 'Animal Company', 'rating': 1, 'cuisine': 'Mexican'}\n",
      "{'_id': 161, 'name': 'Kitchen Corporation', 'rating': 5, 'cuisine': 'American'}\n",
      "{'_id': 162, 'name': 'State LLC', 'rating': 2, 'cuisine': 'Vegetarian'}\n",
      "{'_id': 163, 'name': 'Big LLC', 'rating': 2, 'cuisine': 'Mexican'}\n",
      "{'_id': 164, 'name': 'Kitchen Corporation', 'rating': 1, 'cuisine': 'Italian'}\n",
      "{'_id': 165, 'name': 'Sandwich Inc', 'rating': 3, 'cuisine': 'Pizza'}\n",
      "{'_id': 166, 'name': 'State Corporation', 'rating': 2, 'cuisine': 'Bar Food'}\n",
      "{'_id': 167, 'name': 'Pizza LLC', 'rating': 2, 'cuisine': 'Bar Food'}\n",
      "{'_id': 168, 'name': 'Lazy Inc', 'rating': 3, 'cuisine': 'Fast Food'}\n",
      "{'_id': 169, 'name': 'State Corporation', 'rating': 2, 'cuisine': 'Italian'}\n",
      "{'_id': 170, 'name': 'Kitchen Corporation', 'rating': 1, 'cuisine': 'Vegetarian'}\n",
      "{'_id': 171, 'name': 'Pizza LLC', 'rating': 1, 'cuisine': 'Bar Food'}\n",
      "{'_id': 172, 'name': 'Fun Corporation', 'rating': 2, 'cuisine': 'Vegetarian'}\n",
      "{'_id': 173, 'name': 'City Inc', 'rating': 4, 'cuisine': 'Pizza'}\n",
      "{'_id': 174, 'name': 'City LLC', 'rating': 2, 'cuisine': 'Bar Food'}\n",
      "{'_id': 175, 'name': 'Fun Corporation', 'rating': 5, 'cuisine': 'Italian'}\n",
      "{'_id': 176, 'name': 'State LLC', 'rating': 4, 'cuisine': 'Sushi Bar'}\n",
      "{'_id': 177, 'name': 'City Inc', 'rating': 4, 'cuisine': 'Pizza'}\n",
      "{'_id': 178, 'name': 'Pizza Inc', 'rating': 3, 'cuisine': 'Bar Food'}\n",
      "{'_id': 179, 'name': 'Tastey Inc', 'rating': 1, 'cuisine': 'Vegetarian'}\n",
      "{'_id': 180, 'name': 'State Inc', 'rating': 3, 'cuisine': 'Mexican'}\n",
      "{'_id': 181, 'name': 'City Company', 'rating': 3, 'cuisine': 'Fast Food'}\n",
      "{'_id': 182, 'name': 'Goat Inc', 'rating': 4, 'cuisine': 'Italian'}\n",
      "{'_id': 183, 'name': 'Fun Inc', 'rating': 4, 'cuisine': 'Fast Food'}\n",
      "{'_id': 184, 'name': 'Big LLC', 'rating': 3, 'cuisine': 'Bar Food'}\n",
      "{'_id': 185, 'name': 'Sandwich Inc', 'rating': 5, 'cuisine': 'Fast Food'}\n",
      "{'_id': 186, 'name': 'Sandwich Corporation', 'rating': 1, 'cuisine': 'American'}\n",
      "{'_id': 187, 'name': 'Big Inc', 'rating': 2, 'cuisine': 'Vegetarian'}\n",
      "{'_id': 188, 'name': 'Goat Company', 'rating': 1, 'cuisine': 'Pizza'}\n",
      "{'_id': 189, 'name': 'Fish Company', 'rating': 4, 'cuisine': 'Fast Food'}\n",
      "{'_id': 190, 'name': 'Animal Corporation', 'rating': 2, 'cuisine': 'Pizza'}\n",
      "{'_id': 191, 'name': 'City Corporation', 'rating': 2, 'cuisine': 'Mexican'}\n",
      "{'_id': 192, 'name': 'Animal Company', 'rating': 5, 'cuisine': 'Bar Food'}\n",
      "{'_id': 193, 'name': 'City Company', 'rating': 2, 'cuisine': 'Italian'}\n",
      "{'_id': 194, 'name': 'Lazy Inc', 'rating': 1, 'cuisine': 'Italian'}\n",
      "{'_id': 195, 'name': 'State LLC', 'rating': 2, 'cuisine': 'Fast Food'}\n",
      "{'_id': 196, 'name': 'Kitchen LLC', 'rating': 2, 'cuisine': 'Bar Food'}\n",
      "{'_id': 197, 'name': 'Sandwich Inc', 'rating': 2, 'cuisine': 'Vegetarian'}\n",
      "{'_id': 198, 'name': 'Pizza LLC', 'rating': 3, 'cuisine': 'Vegetarian'}\n",
      "{'_id': 199, 'name': 'Fish LLC', 'rating': 3, 'cuisine': 'American'}\n",
      "{'_id': 200, 'name': 'Pizza LLC', 'rating': 2, 'cuisine': 'Fast Food'}\n"
     ]
    }
   ],
   "source": [
    "mydb = myclient['hotels']\n",
    "mydb.list_collection_names()\n",
    "mycol = mydb['rests']\n",
    "for doc in mycol.find():\n",
    "    print(doc)"
   ]
  },
  {
   "cell_type": "code",
   "execution_count": null,
   "id": "5d678504",
   "metadata": {},
   "outputs": [],
   "source": []
  },
  {
   "cell_type": "code",
   "execution_count": 33,
   "id": "a8a2d69b",
   "metadata": {},
   "outputs": [
    {
     "name": "stdout",
     "output_type": "stream",
     "text": [
      "No. of documents having cuisine = Vegetarian : 30\n",
      "{'_id': 8, 'name': 'Fish Company', 'rating': 2, 'cuisine': 'Vegetarian'}\n",
      "{'_id': 12, 'name': 'Lazy Corporation', 'rating': 3, 'cuisine': 'Vegetarian'}\n",
      "{'_id': 17, 'name': 'Fun Corporation', 'rating': 3, 'cuisine': 'Vegetarian'}\n",
      "{'_id': 20, 'name': 'Fun Inc', 'rating': 4, 'cuisine': 'Vegetarian'}\n",
      "{'_id': 37, 'name': 'Lazy LLC', 'rating': 4, 'cuisine': 'Vegetarian'}\n",
      "{'_id': 40, 'name': 'State Company', 'rating': 2, 'cuisine': 'Vegetarian'}\n",
      "{'_id': 42, 'name': 'Tastey Company', 'rating': 4, 'cuisine': 'Vegetarian'}\n",
      "{'_id': 53, 'name': 'Sandwich Corporation', 'rating': 5, 'cuisine': 'Vegetarian'}\n",
      "{'_id': 56, 'name': 'Pizza Company', 'rating': 4, 'cuisine': 'Vegetarian'}\n",
      "{'_id': 60, 'name': 'Sandwich LLC', 'rating': 2, 'cuisine': 'Vegetarian'}\n",
      "{'_id': 66, 'name': 'Animal LLC', 'rating': 2, 'cuisine': 'Vegetarian'}\n",
      "{'_id': 75, 'name': 'Pizza Inc', 'rating': 3, 'cuisine': 'Vegetarian'}\n",
      "{'_id': 82, 'name': 'Sandwich Inc', 'rating': 4, 'cuisine': 'Vegetarian'}\n",
      "{'_id': 86, 'name': 'State LLC', 'rating': 1, 'cuisine': 'Vegetarian'}\n",
      "{'_id': 109, 'name': 'Pizza Company', 'rating': 2, 'cuisine': 'Vegetarian'}\n",
      "{'_id': 112, 'name': 'Pizza LLC', 'rating': 2, 'cuisine': 'Vegetarian'}\n",
      "{'_id': 123, 'name': 'Fun LLC', 'rating': 2, 'cuisine': 'Vegetarian'}\n",
      "{'_id': 130, 'name': 'State Inc', 'rating': 1, 'cuisine': 'Vegetarian'}\n",
      "{'_id': 147, 'name': 'Pizza LLC', 'rating': 4, 'cuisine': 'Vegetarian'}\n",
      "{'_id': 149, 'name': 'Sandwich LLC', 'rating': 3, 'cuisine': 'Vegetarian'}\n",
      "{'_id': 150, 'name': 'Kitchen Company', 'rating': 2, 'cuisine': 'Vegetarian'}\n",
      "{'_id': 153, 'name': 'Goat Inc', 'rating': 5, 'cuisine': 'Vegetarian'}\n",
      "{'_id': 155, 'name': 'Kitchen Corporation', 'rating': 1, 'cuisine': 'Vegetarian'}\n",
      "{'_id': 162, 'name': 'State LLC', 'rating': 2, 'cuisine': 'Vegetarian'}\n",
      "{'_id': 170, 'name': 'Kitchen Corporation', 'rating': 1, 'cuisine': 'Vegetarian'}\n",
      "{'_id': 172, 'name': 'Fun Corporation', 'rating': 2, 'cuisine': 'Vegetarian'}\n",
      "{'_id': 179, 'name': 'Tastey Inc', 'rating': 1, 'cuisine': 'Vegetarian'}\n",
      "{'_id': 187, 'name': 'Big Inc', 'rating': 2, 'cuisine': 'Vegetarian'}\n",
      "{'_id': 197, 'name': 'Sandwich Inc', 'rating': 2, 'cuisine': 'Vegetarian'}\n",
      "{'_id': 198, 'name': 'Pizza LLC', 'rating': 3, 'cuisine': 'Vegetarian'}\n"
     ]
    }
   ],
   "source": [
    "from pymongo import MongoClient\n",
    "myclient = MongoClient(port=27017)\n",
    "myclient.list_database_names()\n",
    "mydb = myclient['hotels']\n",
    "mydb.list_collection_names()\n",
    "mycol = mydb['rests']\n",
    "\n",
    "\n",
    "myquery = {'cuisine':'Vegetarian'}\n",
    "count = mycol.count_documents(myquery)\n",
    "print(\"No. of documents having cuisine = Vegetarian :\", count)\n",
    "for doc in mycol.find(myquery):\n",
    "    print(doc)"
   ]
  }
 ],
 "metadata": {
  "kernelspec": {
   "display_name": "Python 3 (ipykernel)",
   "language": "python",
   "name": "python3"
  },
  "language_info": {
   "codemirror_mode": {
    "name": "ipython",
    "version": 3
   },
   "file_extension": ".py",
   "mimetype": "text/x-python",
   "name": "python",
   "nbconvert_exporter": "python",
   "pygments_lexer": "ipython3",
   "version": "3.10.9"
  }
 },
 "nbformat": 4,
 "nbformat_minor": 5
}
